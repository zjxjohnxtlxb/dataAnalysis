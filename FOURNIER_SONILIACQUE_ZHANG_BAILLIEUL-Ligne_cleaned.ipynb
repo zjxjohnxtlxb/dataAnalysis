{
 "cells": [
  {
   "cell_type": "markdown",
   "metadata": {
    "collapsed": true,
    "pycharm": {
     "name": "#%% md\n"
    }
   },
   "source": [
    "# Imports"
   ]
  },
  {
   "cell_type": "code",
   "execution_count": 1,
   "metadata": {
    "pycharm": {
     "name": "#%%\n"
    }
   },
   "outputs": [],
   "source": [
    "import os\n",
    "import pandas as pd\n",
    "import matplotlib\n",
    "import matplotlib.pyplot as plt\n",
    "from sklearn.cluster import KMeans"
   ]
  },
  {
   "cell_type": "markdown",
   "metadata": {
    "pycharm": {
     "name": "#%% md\n"
    }
   },
   "source": [
    "# Definition du chemin des datas"
   ]
  },
  {
   "cell_type": "code",
   "execution_count": 2,
   "metadata": {
    "pycharm": {
     "name": "#%%\n"
    }
   },
   "outputs": [],
   "source": [
    "path_data = '.'"
   ]
  },
  {
   "cell_type": "code",
   "execution_count": 3,
   "metadata": {
    "pycharm": {
     "name": "#%%\n"
    }
   },
   "outputs": [
    {
     "data": {
      "text/plain": "'./Ligne.csv'"
     },
     "execution_count": 3,
     "metadata": {},
     "output_type": "execute_result"
    }
   ],
   "source": [
    "filename_lignes = 'Ligne.csv'\n",
    "path_data_lignes = os.path.join(path_data, filename_lignes)\n",
    "path_data_lignes"
   ]
  },
  {
   "cell_type": "markdown",
   "source": [
    "# variable"
   ],
   "metadata": {
    "collapsed": false,
    "pycharm": {
     "name": "#%% md\n"
    }
   }
  },
  {
   "cell_type": "code",
   "execution_count": 4,
   "outputs": [],
   "source": [
    "indice = 0.2"
   ],
   "metadata": {
    "collapsed": false,
    "pycharm": {
     "name": "#%%\n"
    }
   }
  },
  {
   "cell_type": "markdown",
   "metadata": {
    "pycharm": {
     "name": "#%% md\n"
    }
   },
   "source": [
    "# Creation du dataframe panda"
   ]
  },
  {
   "cell_type": "code",
   "execution_count": 5,
   "metadata": {
    "pycharm": {
     "name": "#%%\n"
    }
   },
   "outputs": [
    {
     "name": "stderr",
     "output_type": "stream",
     "text": [
      "<ipython-input-5-345dcfc8ddc5>:1: DtypeWarning: Columns (12) have mixed types. Specify dtype option on import or set low_memory=False.\n",
      "  df_lignes = pd.read_csv(path_data_lignes, sep=\";\", encoding= 'unicode_escape')\n"
     ]
    }
   ],
   "source": [
    "df_lignes = pd.read_csv(path_data_lignes, sep=\";\", encoding= 'unicode_escape')"
   ]
  },
  {
   "cell_type": "code",
   "execution_count": 6,
   "metadata": {
    "pycharm": {
     "name": "#%%\n"
    }
   },
   "outputs": [
    {
     "data": {
      "text/plain": "              N¡ CDE    L  Qte Type  CodeClient DateCreation Gestionnaire  \\\n0          140500651  1.0  1.0    C      2625.0   10/04/2018          ALU   \n1          140500651  2.0  1.0    C      2625.0   10/04/2018          ALU   \n2          140600145  1.0  8.0    C      5505.0   18/04/2018          ALU   \n3          140600145  2.0  1.0    C      5505.0   18/04/2018          ALU   \n4          140600145  3.0  1.0    C      5505.0   18/04/2018          ALU   \n...              ...  ...  ...  ...         ...          ...          ...   \n133753  220400553-00  1.0  1.0    D      7702.0   13/04/2022         BOIS   \n133754  220400560-00  1.0  1.0    D      5959.0   13/04/2022          ALU   \n133755  220400560-00  2.0  0.0    D      5959.0   13/04/2022          ALU   \n133756  220400561-00  1.0  1.0    D     12560.0   13/04/2022          ALU   \n133757  220400561-01  1.0  1.0    D     12560.0   14/04/2022          ALU   \n\n       Type Menuiserie Ouverture Nb Zone     CA HT Transformation Unnamed: 12  \n0                   HO        OF       1    1032,9   140500651-02         NaN  \n1                   HO        OF       1    1032,9   140500651-02         NaN  \n2                   FE        OF       1  13566,08   140600145-03         NaN  \n3                   PF        OF       1   2126,06   140600145-03         NaN  \n4                   FE        OF       1   1268,37   140600145-03         NaN  \n...                ...       ...     ...       ...            ...         ...  \n133753             ODB       BAS       1       608            NaN         NaN  \n133754             ODB        FX       1   1138,45            NaN         NaN  \n133755             ODB        FX       2         0            NaN         NaN  \n133756              FE        OF       1   1374,98            NaN         NaN  \n133757              FE        OF       1   1374,98            NaN         NaN  \n\n[133758 rows x 13 columns]",
      "text/html": "<div>\n<style scoped>\n    .dataframe tbody tr th:only-of-type {\n        vertical-align: middle;\n    }\n\n    .dataframe tbody tr th {\n        vertical-align: top;\n    }\n\n    .dataframe thead th {\n        text-align: right;\n    }\n</style>\n<table border=\"1\" class=\"dataframe\">\n  <thead>\n    <tr style=\"text-align: right;\">\n      <th></th>\n      <th>N¡ CDE</th>\n      <th>L</th>\n      <th>Qte</th>\n      <th>Type</th>\n      <th>CodeClient</th>\n      <th>DateCreation</th>\n      <th>Gestionnaire</th>\n      <th>Type Menuiserie</th>\n      <th>Ouverture</th>\n      <th>Nb Zone</th>\n      <th>CA HT</th>\n      <th>Transformation</th>\n      <th>Unnamed: 12</th>\n    </tr>\n  </thead>\n  <tbody>\n    <tr>\n      <th>0</th>\n      <td>140500651</td>\n      <td>1.0</td>\n      <td>1.0</td>\n      <td>C</td>\n      <td>2625.0</td>\n      <td>10/04/2018</td>\n      <td>ALU</td>\n      <td>HO</td>\n      <td>OF</td>\n      <td>1</td>\n      <td>1032,9</td>\n      <td>140500651-02</td>\n      <td>NaN</td>\n    </tr>\n    <tr>\n      <th>1</th>\n      <td>140500651</td>\n      <td>2.0</td>\n      <td>1.0</td>\n      <td>C</td>\n      <td>2625.0</td>\n      <td>10/04/2018</td>\n      <td>ALU</td>\n      <td>HO</td>\n      <td>OF</td>\n      <td>1</td>\n      <td>1032,9</td>\n      <td>140500651-02</td>\n      <td>NaN</td>\n    </tr>\n    <tr>\n      <th>2</th>\n      <td>140600145</td>\n      <td>1.0</td>\n      <td>8.0</td>\n      <td>C</td>\n      <td>5505.0</td>\n      <td>18/04/2018</td>\n      <td>ALU</td>\n      <td>FE</td>\n      <td>OF</td>\n      <td>1</td>\n      <td>13566,08</td>\n      <td>140600145-03</td>\n      <td>NaN</td>\n    </tr>\n    <tr>\n      <th>3</th>\n      <td>140600145</td>\n      <td>2.0</td>\n      <td>1.0</td>\n      <td>C</td>\n      <td>5505.0</td>\n      <td>18/04/2018</td>\n      <td>ALU</td>\n      <td>PF</td>\n      <td>OF</td>\n      <td>1</td>\n      <td>2126,06</td>\n      <td>140600145-03</td>\n      <td>NaN</td>\n    </tr>\n    <tr>\n      <th>4</th>\n      <td>140600145</td>\n      <td>3.0</td>\n      <td>1.0</td>\n      <td>C</td>\n      <td>5505.0</td>\n      <td>18/04/2018</td>\n      <td>ALU</td>\n      <td>FE</td>\n      <td>OF</td>\n      <td>1</td>\n      <td>1268,37</td>\n      <td>140600145-03</td>\n      <td>NaN</td>\n    </tr>\n    <tr>\n      <th>...</th>\n      <td>...</td>\n      <td>...</td>\n      <td>...</td>\n      <td>...</td>\n      <td>...</td>\n      <td>...</td>\n      <td>...</td>\n      <td>...</td>\n      <td>...</td>\n      <td>...</td>\n      <td>...</td>\n      <td>...</td>\n      <td>...</td>\n    </tr>\n    <tr>\n      <th>133753</th>\n      <td>220400553-00</td>\n      <td>1.0</td>\n      <td>1.0</td>\n      <td>D</td>\n      <td>7702.0</td>\n      <td>13/04/2022</td>\n      <td>BOIS</td>\n      <td>ODB</td>\n      <td>BAS</td>\n      <td>1</td>\n      <td>608</td>\n      <td>NaN</td>\n      <td>NaN</td>\n    </tr>\n    <tr>\n      <th>133754</th>\n      <td>220400560-00</td>\n      <td>1.0</td>\n      <td>1.0</td>\n      <td>D</td>\n      <td>5959.0</td>\n      <td>13/04/2022</td>\n      <td>ALU</td>\n      <td>ODB</td>\n      <td>FX</td>\n      <td>1</td>\n      <td>1138,45</td>\n      <td>NaN</td>\n      <td>NaN</td>\n    </tr>\n    <tr>\n      <th>133755</th>\n      <td>220400560-00</td>\n      <td>2.0</td>\n      <td>0.0</td>\n      <td>D</td>\n      <td>5959.0</td>\n      <td>13/04/2022</td>\n      <td>ALU</td>\n      <td>ODB</td>\n      <td>FX</td>\n      <td>2</td>\n      <td>0</td>\n      <td>NaN</td>\n      <td>NaN</td>\n    </tr>\n    <tr>\n      <th>133756</th>\n      <td>220400561-00</td>\n      <td>1.0</td>\n      <td>1.0</td>\n      <td>D</td>\n      <td>12560.0</td>\n      <td>13/04/2022</td>\n      <td>ALU</td>\n      <td>FE</td>\n      <td>OF</td>\n      <td>1</td>\n      <td>1374,98</td>\n      <td>NaN</td>\n      <td>NaN</td>\n    </tr>\n    <tr>\n      <th>133757</th>\n      <td>220400561-01</td>\n      <td>1.0</td>\n      <td>1.0</td>\n      <td>D</td>\n      <td>12560.0</td>\n      <td>14/04/2022</td>\n      <td>ALU</td>\n      <td>FE</td>\n      <td>OF</td>\n      <td>1</td>\n      <td>1374,98</td>\n      <td>NaN</td>\n      <td>NaN</td>\n    </tr>\n  </tbody>\n</table>\n<p>133758 rows × 13 columns</p>\n</div>"
     },
     "execution_count": 6,
     "metadata": {},
     "output_type": "execute_result"
    }
   ],
   "source": [
    "df_lignes"
   ]
  },
  {
   "cell_type": "code",
   "execution_count": 7,
   "metadata": {
    "pycharm": {
     "name": "#%%\n"
    }
   },
   "outputs": [
    {
     "data": {
      "text/plain": "N¡ CDE              object\nL                  float64\nQte                float64\nType                object\nCodeClient         float64\nDateCreation        object\nGestionnaire        object\nType Menuiserie     object\nOuverture           object\nNb Zone             object\nCA HT               object\nTransformation      object\nUnnamed: 12         object\ndtype: object"
     },
     "execution_count": 7,
     "metadata": {},
     "output_type": "execute_result"
    }
   ],
   "source": [
    "df_lignes.dtypes"
   ]
  },
  {
   "cell_type": "markdown",
   "metadata": {
    "pycharm": {
     "name": "#%% md\n"
    }
   },
   "source": [
    "# Formattage des donnees"
   ]
  },
  {
   "cell_type": "markdown",
   "metadata": {
    "pycharm": {
     "name": "#%% md\n"
    }
   },
   "source": [
    "## Fichier Ligne"
   ]
  },
  {
   "cell_type": "markdown",
   "metadata": {
    "pycharm": {
     "name": "#%% md\n"
    }
   },
   "source": [
    "### Suppression des lignes sans N° Client"
   ]
  },
  {
   "cell_type": "code",
   "execution_count": 8,
   "metadata": {
    "pycharm": {
     "name": "#%%\n"
    }
   },
   "outputs": [
    {
     "name": "stdout",
     "output_type": "stream",
     "text": [
      "100 lignes supprimée(s)\n"
     ]
    }
   ],
   "source": [
    "NbLigneAvant = df_lignes.shape[0]\n",
    "df_lignes = df_lignes.drop(df_lignes[df_lignes.CodeClient.isnull()].index) \n",
    "NbLigneApres = df_lignes.shape[0]\n",
    "print(str(NbLigneAvant - NbLigneApres) + ' lignes supprimée(s)')"
   ]
  },
  {
   "cell_type": "markdown",
   "source": [
    "# range les donnéés"
   ],
   "metadata": {
    "collapsed": false,
    "pycharm": {
     "name": "#%% md\n"
    }
   }
  },
  {
   "cell_type": "code",
   "execution_count": 9,
   "metadata": {
    "pycharm": {
     "name": "#%%\n"
    }
   },
   "outputs": [
    {
     "name": "stderr",
     "output_type": "stream",
     "text": [
      "/Library/Frameworks/Python.framework/Versions/3.9/lib/python3.9/site-packages/pandas/core/tools/datetimes.py:1063: UserWarning: Parsing '18/04/2018' in DD/MM/YYYY format. Provide format or specify infer_datetime_format=True for consistent parsing.\n",
      "  cache_array = _maybe_cache(arg, format, cache, convert_listlike)\n",
      "/Library/Frameworks/Python.framework/Versions/3.9/lib/python3.9/site-packages/pandas/core/tools/datetimes.py:1063: UserWarning: Parsing '17/04/2018' in DD/MM/YYYY format. Provide format or specify infer_datetime_format=True for consistent parsing.\n",
      "  cache_array = _maybe_cache(arg, format, cache, convert_listlike)\n",
      "/Library/Frameworks/Python.framework/Versions/3.9/lib/python3.9/site-packages/pandas/core/tools/datetimes.py:1063: UserWarning: Parsing '30/07/2018' in DD/MM/YYYY format. Provide format or specify infer_datetime_format=True for consistent parsing.\n",
      "  cache_array = _maybe_cache(arg, format, cache, convert_listlike)\n",
      "/Library/Frameworks/Python.framework/Versions/3.9/lib/python3.9/site-packages/pandas/core/tools/datetimes.py:1063: UserWarning: Parsing '18/05/2018' in DD/MM/YYYY format. Provide format or specify infer_datetime_format=True for consistent parsing.\n",
      "  cache_array = _maybe_cache(arg, format, cache, convert_listlike)\n",
      "/Library/Frameworks/Python.framework/Versions/3.9/lib/python3.9/site-packages/pandas/core/tools/datetimes.py:1063: UserWarning: Parsing '31/03/2021' in DD/MM/YYYY format. Provide format or specify infer_datetime_format=True for consistent parsing.\n",
      "  cache_array = _maybe_cache(arg, format, cache, convert_listlike)\n",
      "/Library/Frameworks/Python.framework/Versions/3.9/lib/python3.9/site-packages/pandas/core/tools/datetimes.py:1063: UserWarning: Parsing '28/05/2021' in DD/MM/YYYY format. Provide format or specify infer_datetime_format=True for consistent parsing.\n",
      "  cache_array = _maybe_cache(arg, format, cache, convert_listlike)\n",
      "/Library/Frameworks/Python.framework/Versions/3.9/lib/python3.9/site-packages/pandas/core/tools/datetimes.py:1063: UserWarning: Parsing '26/09/2018' in DD/MM/YYYY format. Provide format or specify infer_datetime_format=True for consistent parsing.\n",
      "  cache_array = _maybe_cache(arg, format, cache, convert_listlike)\n",
      "/Library/Frameworks/Python.framework/Versions/3.9/lib/python3.9/site-packages/pandas/core/tools/datetimes.py:1063: UserWarning: Parsing '19/09/2018' in DD/MM/YYYY format. Provide format or specify infer_datetime_format=True for consistent parsing.\n",
      "  cache_array = _maybe_cache(arg, format, cache, convert_listlike)\n",
      "/Library/Frameworks/Python.framework/Versions/3.9/lib/python3.9/site-packages/pandas/core/tools/datetimes.py:1063: UserWarning: Parsing '25/06/2018' in DD/MM/YYYY format. Provide format or specify infer_datetime_format=True for consistent parsing.\n",
      "  cache_array = _maybe_cache(arg, format, cache, convert_listlike)\n",
      "/Library/Frameworks/Python.framework/Versions/3.9/lib/python3.9/site-packages/pandas/core/tools/datetimes.py:1063: UserWarning: Parsing '15/02/2022' in DD/MM/YYYY format. Provide format or specify infer_datetime_format=True for consistent parsing.\n",
      "  cache_array = _maybe_cache(arg, format, cache, convert_listlike)\n",
      "/Library/Frameworks/Python.framework/Versions/3.9/lib/python3.9/site-packages/pandas/core/tools/datetimes.py:1063: UserWarning: Parsing '19/04/2018' in DD/MM/YYYY format. Provide format or specify infer_datetime_format=True for consistent parsing.\n",
      "  cache_array = _maybe_cache(arg, format, cache, convert_listlike)\n",
      "/Library/Frameworks/Python.framework/Versions/3.9/lib/python3.9/site-packages/pandas/core/tools/datetimes.py:1063: UserWarning: Parsing '16/11/2018' in DD/MM/YYYY format. Provide format or specify infer_datetime_format=True for consistent parsing.\n",
      "  cache_array = _maybe_cache(arg, format, cache, convert_listlike)\n",
      "/Library/Frameworks/Python.framework/Versions/3.9/lib/python3.9/site-packages/pandas/core/tools/datetimes.py:1063: UserWarning: Parsing '30/10/2018' in DD/MM/YYYY format. Provide format or specify infer_datetime_format=True for consistent parsing.\n",
      "  cache_array = _maybe_cache(arg, format, cache, convert_listlike)\n",
      "/Library/Frameworks/Python.framework/Versions/3.9/lib/python3.9/site-packages/pandas/core/tools/datetimes.py:1063: UserWarning: Parsing '17/05/2018' in DD/MM/YYYY format. Provide format or specify infer_datetime_format=True for consistent parsing.\n",
      "  cache_array = _maybe_cache(arg, format, cache, convert_listlike)\n",
      "/Library/Frameworks/Python.framework/Versions/3.9/lib/python3.9/site-packages/pandas/core/tools/datetimes.py:1063: UserWarning: Parsing '30/04/2018' in DD/MM/YYYY format. Provide format or specify infer_datetime_format=True for consistent parsing.\n",
      "  cache_array = _maybe_cache(arg, format, cache, convert_listlike)\n",
      "/Library/Frameworks/Python.framework/Versions/3.9/lib/python3.9/site-packages/pandas/core/tools/datetimes.py:1063: UserWarning: Parsing '16/05/2018' in DD/MM/YYYY format. Provide format or specify infer_datetime_format=True for consistent parsing.\n",
      "  cache_array = _maybe_cache(arg, format, cache, convert_listlike)\n",
      "/Library/Frameworks/Python.framework/Versions/3.9/lib/python3.9/site-packages/pandas/core/tools/datetimes.py:1063: UserWarning: Parsing '23/07/2018' in DD/MM/YYYY format. Provide format or specify infer_datetime_format=True for consistent parsing.\n",
      "  cache_array = _maybe_cache(arg, format, cache, convert_listlike)\n",
      "/Library/Frameworks/Python.framework/Versions/3.9/lib/python3.9/site-packages/pandas/core/tools/datetimes.py:1063: UserWarning: Parsing '28/06/2018' in DD/MM/YYYY format. Provide format or specify infer_datetime_format=True for consistent parsing.\n",
      "  cache_array = _maybe_cache(arg, format, cache, convert_listlike)\n",
      "/Library/Frameworks/Python.framework/Versions/3.9/lib/python3.9/site-packages/pandas/core/tools/datetimes.py:1063: UserWarning: Parsing '24/05/2018' in DD/MM/YYYY format. Provide format or specify infer_datetime_format=True for consistent parsing.\n",
      "  cache_array = _maybe_cache(arg, format, cache, convert_listlike)\n",
      "/Library/Frameworks/Python.framework/Versions/3.9/lib/python3.9/site-packages/pandas/core/tools/datetimes.py:1063: UserWarning: Parsing '31/05/2018' in DD/MM/YYYY format. Provide format or specify infer_datetime_format=True for consistent parsing.\n",
      "  cache_array = _maybe_cache(arg, format, cache, convert_listlike)\n",
      "/Library/Frameworks/Python.framework/Versions/3.9/lib/python3.9/site-packages/pandas/core/tools/datetimes.py:1063: UserWarning: Parsing '27/08/2018' in DD/MM/YYYY format. Provide format or specify infer_datetime_format=True for consistent parsing.\n",
      "  cache_array = _maybe_cache(arg, format, cache, convert_listlike)\n",
      "/Library/Frameworks/Python.framework/Versions/3.9/lib/python3.9/site-packages/pandas/core/tools/datetimes.py:1063: UserWarning: Parsing '17/04/2019' in DD/MM/YYYY format. Provide format or specify infer_datetime_format=True for consistent parsing.\n",
      "  cache_array = _maybe_cache(arg, format, cache, convert_listlike)\n",
      "/Library/Frameworks/Python.framework/Versions/3.9/lib/python3.9/site-packages/pandas/core/tools/datetimes.py:1063: UserWarning: Parsing '15/06/2018' in DD/MM/YYYY format. Provide format or specify infer_datetime_format=True for consistent parsing.\n",
      "  cache_array = _maybe_cache(arg, format, cache, convert_listlike)\n",
      "/Library/Frameworks/Python.framework/Versions/3.9/lib/python3.9/site-packages/pandas/core/tools/datetimes.py:1063: UserWarning: Parsing '19/06/2018' in DD/MM/YYYY format. Provide format or specify infer_datetime_format=True for consistent parsing.\n",
      "  cache_array = _maybe_cache(arg, format, cache, convert_listlike)\n",
      "/Library/Frameworks/Python.framework/Versions/3.9/lib/python3.9/site-packages/pandas/core/tools/datetimes.py:1063: UserWarning: Parsing '22/06/2018' in DD/MM/YYYY format. Provide format or specify infer_datetime_format=True for consistent parsing.\n",
      "  cache_array = _maybe_cache(arg, format, cache, convert_listlike)\n",
      "/Library/Frameworks/Python.framework/Versions/3.9/lib/python3.9/site-packages/pandas/core/tools/datetimes.py:1063: UserWarning: Parsing '24/04/2018' in DD/MM/YYYY format. Provide format or specify infer_datetime_format=True for consistent parsing.\n",
      "  cache_array = _maybe_cache(arg, format, cache, convert_listlike)\n",
      "/Library/Frameworks/Python.framework/Versions/3.9/lib/python3.9/site-packages/pandas/core/tools/datetimes.py:1063: UserWarning: Parsing '27/04/2018' in DD/MM/YYYY format. Provide format or specify infer_datetime_format=True for consistent parsing.\n",
      "  cache_array = _maybe_cache(arg, format, cache, convert_listlike)\n",
      "/Library/Frameworks/Python.framework/Versions/3.9/lib/python3.9/site-packages/pandas/core/tools/datetimes.py:1063: UserWarning: Parsing '28/05/2018' in DD/MM/YYYY format. Provide format or specify infer_datetime_format=True for consistent parsing.\n",
      "  cache_array = _maybe_cache(arg, format, cache, convert_listlike)\n",
      "/Library/Frameworks/Python.framework/Versions/3.9/lib/python3.9/site-packages/pandas/core/tools/datetimes.py:1063: UserWarning: Parsing '28/08/2018' in DD/MM/YYYY format. Provide format or specify infer_datetime_format=True for consistent parsing.\n",
      "  cache_array = _maybe_cache(arg, format, cache, convert_listlike)\n",
      "/Library/Frameworks/Python.framework/Versions/3.9/lib/python3.9/site-packages/pandas/core/tools/datetimes.py:1063: UserWarning: Parsing '18/03/2019' in DD/MM/YYYY format. Provide format or specify infer_datetime_format=True for consistent parsing.\n",
      "  cache_array = _maybe_cache(arg, format, cache, convert_listlike)\n",
      "/Library/Frameworks/Python.framework/Versions/3.9/lib/python3.9/site-packages/pandas/core/tools/datetimes.py:1063: UserWarning: Parsing '14/11/2018' in DD/MM/YYYY format. Provide format or specify infer_datetime_format=True for consistent parsing.\n",
      "  cache_array = _maybe_cache(arg, format, cache, convert_listlike)\n",
      "/Library/Frameworks/Python.framework/Versions/3.9/lib/python3.9/site-packages/pandas/core/tools/datetimes.py:1063: UserWarning: Parsing '19/07/2018' in DD/MM/YYYY format. Provide format or specify infer_datetime_format=True for consistent parsing.\n",
      "  cache_array = _maybe_cache(arg, format, cache, convert_listlike)\n",
      "/Library/Frameworks/Python.framework/Versions/3.9/lib/python3.9/site-packages/pandas/core/tools/datetimes.py:1063: UserWarning: Parsing '26/07/2018' in DD/MM/YYYY format. Provide format or specify infer_datetime_format=True for consistent parsing.\n",
      "  cache_array = _maybe_cache(arg, format, cache, convert_listlike)\n",
      "/Library/Frameworks/Python.framework/Versions/3.9/lib/python3.9/site-packages/pandas/core/tools/datetimes.py:1063: UserWarning: Parsing '27/06/2018' in DD/MM/YYYY format. Provide format or specify infer_datetime_format=True for consistent parsing.\n",
      "  cache_array = _maybe_cache(arg, format, cache, convert_listlike)\n",
      "/Library/Frameworks/Python.framework/Versions/3.9/lib/python3.9/site-packages/pandas/core/tools/datetimes.py:1063: UserWarning: Parsing '21/05/2019' in DD/MM/YYYY format. Provide format or specify infer_datetime_format=True for consistent parsing.\n",
      "  cache_array = _maybe_cache(arg, format, cache, convert_listlike)\n",
      "/Library/Frameworks/Python.framework/Versions/3.9/lib/python3.9/site-packages/pandas/core/tools/datetimes.py:1063: UserWarning: Parsing '16/04/2018' in DD/MM/YYYY format. Provide format or specify infer_datetime_format=True for consistent parsing.\n",
      "  cache_array = _maybe_cache(arg, format, cache, convert_listlike)\n",
      "/Library/Frameworks/Python.framework/Versions/3.9/lib/python3.9/site-packages/pandas/core/tools/datetimes.py:1063: UserWarning: Parsing '17/09/2018' in DD/MM/YYYY format. Provide format or specify infer_datetime_format=True for consistent parsing.\n",
      "  cache_array = _maybe_cache(arg, format, cache, convert_listlike)\n",
      "/Library/Frameworks/Python.framework/Versions/3.9/lib/python3.9/site-packages/pandas/core/tools/datetimes.py:1063: UserWarning: Parsing '30/07/2019' in DD/MM/YYYY format. Provide format or specify infer_datetime_format=True for consistent parsing.\n",
      "  cache_array = _maybe_cache(arg, format, cache, convert_listlike)\n",
      "/Library/Frameworks/Python.framework/Versions/3.9/lib/python3.9/site-packages/pandas/core/tools/datetimes.py:1063: UserWarning: Parsing '30/03/2018' in DD/MM/YYYY format. Provide format or specify infer_datetime_format=True for consistent parsing.\n",
      "  cache_array = _maybe_cache(arg, format, cache, convert_listlike)\n",
      "/Library/Frameworks/Python.framework/Versions/3.9/lib/python3.9/site-packages/pandas/core/tools/datetimes.py:1063: UserWarning: Parsing '29/03/2018' in DD/MM/YYYY format. Provide format or specify infer_datetime_format=True for consistent parsing.\n",
      "  cache_array = _maybe_cache(arg, format, cache, convert_listlike)\n",
      "/Library/Frameworks/Python.framework/Versions/3.9/lib/python3.9/site-packages/pandas/core/tools/datetimes.py:1063: UserWarning: Parsing '14/03/2019' in DD/MM/YYYY format. Provide format or specify infer_datetime_format=True for consistent parsing.\n",
      "  cache_array = _maybe_cache(arg, format, cache, convert_listlike)\n",
      "/Library/Frameworks/Python.framework/Versions/3.9/lib/python3.9/site-packages/pandas/core/tools/datetimes.py:1063: UserWarning: Parsing '27/09/2018' in DD/MM/YYYY format. Provide format or specify infer_datetime_format=True for consistent parsing.\n",
      "  cache_array = _maybe_cache(arg, format, cache, convert_listlike)\n",
      "/Library/Frameworks/Python.framework/Versions/3.9/lib/python3.9/site-packages/pandas/core/tools/datetimes.py:1063: UserWarning: Parsing '20/11/2018' in DD/MM/YYYY format. Provide format or specify infer_datetime_format=True for consistent parsing.\n",
      "  cache_array = _maybe_cache(arg, format, cache, convert_listlike)\n",
      "/Library/Frameworks/Python.framework/Versions/3.9/lib/python3.9/site-packages/pandas/core/tools/datetimes.py:1063: UserWarning: Parsing '13/12/2018' in DD/MM/YYYY format. Provide format or specify infer_datetime_format=True for consistent parsing.\n",
      "  cache_array = _maybe_cache(arg, format, cache, convert_listlike)\n",
      "/Library/Frameworks/Python.framework/Versions/3.9/lib/python3.9/site-packages/pandas/core/tools/datetimes.py:1063: UserWarning: Parsing '28/03/2018' in DD/MM/YYYY format. Provide format or specify infer_datetime_format=True for consistent parsing.\n",
      "  cache_array = _maybe_cache(arg, format, cache, convert_listlike)\n",
      "/Library/Frameworks/Python.framework/Versions/3.9/lib/python3.9/site-packages/pandas/core/tools/datetimes.py:1063: UserWarning: Parsing '23/05/2018' in DD/MM/YYYY format. Provide format or specify infer_datetime_format=True for consistent parsing.\n",
      "  cache_array = _maybe_cache(arg, format, cache, convert_listlike)\n",
      "/Library/Frameworks/Python.framework/Versions/3.9/lib/python3.9/site-packages/pandas/core/tools/datetimes.py:1063: UserWarning: Parsing '27/09/2019' in DD/MM/YYYY format. Provide format or specify infer_datetime_format=True for consistent parsing.\n",
      "  cache_array = _maybe_cache(arg, format, cache, convert_listlike)\n",
      "/Library/Frameworks/Python.framework/Versions/3.9/lib/python3.9/site-packages/pandas/core/tools/datetimes.py:1063: UserWarning: Parsing '25/05/2018' in DD/MM/YYYY format. Provide format or specify infer_datetime_format=True for consistent parsing.\n",
      "  cache_array = _maybe_cache(arg, format, cache, convert_listlike)\n",
      "/Library/Frameworks/Python.framework/Versions/3.9/lib/python3.9/site-packages/pandas/core/tools/datetimes.py:1063: UserWarning: Parsing '31/01/2019' in DD/MM/YYYY format. Provide format or specify infer_datetime_format=True for consistent parsing.\n",
      "  cache_array = _maybe_cache(arg, format, cache, convert_listlike)\n",
      "/Library/Frameworks/Python.framework/Versions/3.9/lib/python3.9/site-packages/pandas/core/tools/datetimes.py:1063: UserWarning: Parsing '26/08/2019' in DD/MM/YYYY format. Provide format or specify infer_datetime_format=True for consistent parsing.\n",
      "  cache_array = _maybe_cache(arg, format, cache, convert_listlike)\n",
      "/Library/Frameworks/Python.framework/Versions/3.9/lib/python3.9/site-packages/pandas/core/tools/datetimes.py:1063: UserWarning: Parsing '20/09/2019' in DD/MM/YYYY format. Provide format or specify infer_datetime_format=True for consistent parsing.\n",
      "  cache_array = _maybe_cache(arg, format, cache, convert_listlike)\n",
      "/Library/Frameworks/Python.framework/Versions/3.9/lib/python3.9/site-packages/pandas/core/tools/datetimes.py:1063: UserWarning: Parsing '15/05/2018' in DD/MM/YYYY format. Provide format or specify infer_datetime_format=True for consistent parsing.\n",
      "  cache_array = _maybe_cache(arg, format, cache, convert_listlike)\n",
      "/Library/Frameworks/Python.framework/Versions/3.9/lib/python3.9/site-packages/pandas/core/tools/datetimes.py:1063: UserWarning: Parsing '18/06/2018' in DD/MM/YYYY format. Provide format or specify infer_datetime_format=True for consistent parsing.\n",
      "  cache_array = _maybe_cache(arg, format, cache, convert_listlike)\n",
      "/Library/Frameworks/Python.framework/Versions/3.9/lib/python3.9/site-packages/pandas/core/tools/datetimes.py:1063: UserWarning: Parsing '16/12/2021' in DD/MM/YYYY format. Provide format or specify infer_datetime_format=True for consistent parsing.\n",
      "  cache_array = _maybe_cache(arg, format, cache, convert_listlike)\n",
      "/Library/Frameworks/Python.framework/Versions/3.9/lib/python3.9/site-packages/pandas/core/tools/datetimes.py:1063: UserWarning: Parsing '13/06/2018' in DD/MM/YYYY format. Provide format or specify infer_datetime_format=True for consistent parsing.\n",
      "  cache_array = _maybe_cache(arg, format, cache, convert_listlike)\n",
      "/Library/Frameworks/Python.framework/Versions/3.9/lib/python3.9/site-packages/pandas/core/tools/datetimes.py:1063: UserWarning: Parsing '18/07/2018' in DD/MM/YYYY format. Provide format or specify infer_datetime_format=True for consistent parsing.\n",
      "  cache_array = _maybe_cache(arg, format, cache, convert_listlike)\n",
      "/Library/Frameworks/Python.framework/Versions/3.9/lib/python3.9/site-packages/pandas/core/tools/datetimes.py:1063: UserWarning: Parsing '17/07/2018' in DD/MM/YYYY format. Provide format or specify infer_datetime_format=True for consistent parsing.\n",
      "  cache_array = _maybe_cache(arg, format, cache, convert_listlike)\n",
      "/Library/Frameworks/Python.framework/Versions/3.9/lib/python3.9/site-packages/pandas/core/tools/datetimes.py:1063: UserWarning: Parsing '15/02/2019' in DD/MM/YYYY format. Provide format or specify infer_datetime_format=True for consistent parsing.\n",
      "  cache_array = _maybe_cache(arg, format, cache, convert_listlike)\n",
      "/Library/Frameworks/Python.framework/Versions/3.9/lib/python3.9/site-packages/pandas/core/tools/datetimes.py:1063: UserWarning: Parsing '20/02/2019' in DD/MM/YYYY format. Provide format or specify infer_datetime_format=True for consistent parsing.\n",
      "  cache_array = _maybe_cache(arg, format, cache, convert_listlike)\n",
      "/Library/Frameworks/Python.framework/Versions/3.9/lib/python3.9/site-packages/pandas/core/tools/datetimes.py:1063: UserWarning: Parsing '15/10/2018' in DD/MM/YYYY format. Provide format or specify infer_datetime_format=True for consistent parsing.\n",
      "  cache_array = _maybe_cache(arg, format, cache, convert_listlike)\n",
      "/Library/Frameworks/Python.framework/Versions/3.9/lib/python3.9/site-packages/pandas/core/tools/datetimes.py:1063: UserWarning: Parsing '29/01/2019' in DD/MM/YYYY format. Provide format or specify infer_datetime_format=True for consistent parsing.\n",
      "  cache_array = _maybe_cache(arg, format, cache, convert_listlike)\n",
      "/Library/Frameworks/Python.framework/Versions/3.9/lib/python3.9/site-packages/pandas/core/tools/datetimes.py:1063: UserWarning: Parsing '20/06/2018' in DD/MM/YYYY format. Provide format or specify infer_datetime_format=True for consistent parsing.\n",
      "  cache_array = _maybe_cache(arg, format, cache, convert_listlike)\n",
      "/Library/Frameworks/Python.framework/Versions/3.9/lib/python3.9/site-packages/pandas/core/tools/datetimes.py:1063: UserWarning: Parsing '28/11/2018' in DD/MM/YYYY format. Provide format or specify infer_datetime_format=True for consistent parsing.\n",
      "  cache_array = _maybe_cache(arg, format, cache, convert_listlike)\n",
      "/Library/Frameworks/Python.framework/Versions/3.9/lib/python3.9/site-packages/pandas/core/tools/datetimes.py:1063: UserWarning: Parsing '15/09/2020' in DD/MM/YYYY format. Provide format or specify infer_datetime_format=True for consistent parsing.\n",
      "  cache_array = _maybe_cache(arg, format, cache, convert_listlike)\n",
      "/Library/Frameworks/Python.framework/Versions/3.9/lib/python3.9/site-packages/pandas/core/tools/datetimes.py:1063: UserWarning: Parsing '25/09/2020' in DD/MM/YYYY format. Provide format or specify infer_datetime_format=True for consistent parsing.\n",
      "  cache_array = _maybe_cache(arg, format, cache, convert_listlike)\n",
      "/Library/Frameworks/Python.framework/Versions/3.9/lib/python3.9/site-packages/pandas/core/tools/datetimes.py:1063: UserWarning: Parsing '29/04/2019' in DD/MM/YYYY format. Provide format or specify infer_datetime_format=True for consistent parsing.\n",
      "  cache_array = _maybe_cache(arg, format, cache, convert_listlike)\n",
      "/Library/Frameworks/Python.framework/Versions/3.9/lib/python3.9/site-packages/pandas/core/tools/datetimes.py:1063: UserWarning: Parsing '26/03/2018' in DD/MM/YYYY format. Provide format or specify infer_datetime_format=True for consistent parsing.\n",
      "  cache_array = _maybe_cache(arg, format, cache, convert_listlike)\n",
      "/Library/Frameworks/Python.framework/Versions/3.9/lib/python3.9/site-packages/pandas/core/tools/datetimes.py:1063: UserWarning: Parsing '14/06/2018' in DD/MM/YYYY format. Provide format or specify infer_datetime_format=True for consistent parsing.\n",
      "  cache_array = _maybe_cache(arg, format, cache, convert_listlike)\n",
      "/Library/Frameworks/Python.framework/Versions/3.9/lib/python3.9/site-packages/pandas/core/tools/datetimes.py:1063: UserWarning: Parsing '23/04/2018' in DD/MM/YYYY format. Provide format or specify infer_datetime_format=True for consistent parsing.\n",
      "  cache_array = _maybe_cache(arg, format, cache, convert_listlike)\n",
      "/Library/Frameworks/Python.framework/Versions/3.9/lib/python3.9/site-packages/pandas/core/tools/datetimes.py:1063: UserWarning: Parsing '29/08/2018' in DD/MM/YYYY format. Provide format or specify infer_datetime_format=True for consistent parsing.\n",
      "  cache_array = _maybe_cache(arg, format, cache, convert_listlike)\n",
      "/Library/Frameworks/Python.framework/Versions/3.9/lib/python3.9/site-packages/pandas/core/tools/datetimes.py:1063: UserWarning: Parsing '19/11/2018' in DD/MM/YYYY format. Provide format or specify infer_datetime_format=True for consistent parsing.\n",
      "  cache_array = _maybe_cache(arg, format, cache, convert_listlike)\n",
      "/Library/Frameworks/Python.framework/Versions/3.9/lib/python3.9/site-packages/pandas/core/tools/datetimes.py:1063: UserWarning: Parsing '13/04/2018' in DD/MM/YYYY format. Provide format or specify infer_datetime_format=True for consistent parsing.\n",
      "  cache_array = _maybe_cache(arg, format, cache, convert_listlike)\n",
      "/Library/Frameworks/Python.framework/Versions/3.9/lib/python3.9/site-packages/pandas/core/tools/datetimes.py:1063: UserWarning: Parsing '13/11/2018' in DD/MM/YYYY format. Provide format or specify infer_datetime_format=True for consistent parsing.\n",
      "  cache_array = _maybe_cache(arg, format, cache, convert_listlike)\n",
      "/Library/Frameworks/Python.framework/Versions/3.9/lib/python3.9/site-packages/pandas/core/tools/datetimes.py:1063: UserWarning: Parsing '13/07/2018' in DD/MM/YYYY format. Provide format or specify infer_datetime_format=True for consistent parsing.\n",
      "  cache_array = _maybe_cache(arg, format, cache, convert_listlike)\n",
      "/Library/Frameworks/Python.framework/Versions/3.9/lib/python3.9/site-packages/pandas/core/tools/datetimes.py:1063: UserWarning: Parsing '19/10/2018' in DD/MM/YYYY format. Provide format or specify infer_datetime_format=True for consistent parsing.\n",
      "  cache_array = _maybe_cache(arg, format, cache, convert_listlike)\n",
      "/Library/Frameworks/Python.framework/Versions/3.9/lib/python3.9/site-packages/pandas/core/tools/datetimes.py:1063: UserWarning: Parsing '28/09/2018' in DD/MM/YYYY format. Provide format or specify infer_datetime_format=True for consistent parsing.\n",
      "  cache_array = _maybe_cache(arg, format, cache, convert_listlike)\n",
      "/Library/Frameworks/Python.framework/Versions/3.9/lib/python3.9/site-packages/pandas/core/tools/datetimes.py:1063: UserWarning: Parsing '14/09/2018' in DD/MM/YYYY format. Provide format or specify infer_datetime_format=True for consistent parsing.\n",
      "  cache_array = _maybe_cache(arg, format, cache, convert_listlike)\n",
      "/Library/Frameworks/Python.framework/Versions/3.9/lib/python3.9/site-packages/pandas/core/tools/datetimes.py:1063: UserWarning: Parsing '21/09/2018' in DD/MM/YYYY format. Provide format or specify infer_datetime_format=True for consistent parsing.\n",
      "  cache_array = _maybe_cache(arg, format, cache, convert_listlike)\n",
      "/Library/Frameworks/Python.framework/Versions/3.9/lib/python3.9/site-packages/pandas/core/tools/datetimes.py:1063: UserWarning: Parsing '25/09/2018' in DD/MM/YYYY format. Provide format or specify infer_datetime_format=True for consistent parsing.\n",
      "  cache_array = _maybe_cache(arg, format, cache, convert_listlike)\n",
      "/Library/Frameworks/Python.framework/Versions/3.9/lib/python3.9/site-packages/pandas/core/tools/datetimes.py:1063: UserWarning: Parsing '25/07/2018' in DD/MM/YYYY format. Provide format or specify infer_datetime_format=True for consistent parsing.\n",
      "  cache_array = _maybe_cache(arg, format, cache, convert_listlike)\n",
      "/Library/Frameworks/Python.framework/Versions/3.9/lib/python3.9/site-packages/pandas/core/tools/datetimes.py:1063: UserWarning: Parsing '30/05/2018' in DD/MM/YYYY format. Provide format or specify infer_datetime_format=True for consistent parsing.\n",
      "  cache_array = _maybe_cache(arg, format, cache, convert_listlike)\n",
      "/Library/Frameworks/Python.framework/Versions/3.9/lib/python3.9/site-packages/pandas/core/tools/datetimes.py:1063: UserWarning: Parsing '31/07/2018' in DD/MM/YYYY format. Provide format or specify infer_datetime_format=True for consistent parsing.\n",
      "  cache_array = _maybe_cache(arg, format, cache, convert_listlike)\n",
      "/Library/Frameworks/Python.framework/Versions/3.9/lib/python3.9/site-packages/pandas/core/tools/datetimes.py:1063: UserWarning: Parsing '21/01/2019' in DD/MM/YYYY format. Provide format or specify infer_datetime_format=True for consistent parsing.\n",
      "  cache_array = _maybe_cache(arg, format, cache, convert_listlike)\n",
      "/Library/Frameworks/Python.framework/Versions/3.9/lib/python3.9/site-packages/pandas/core/tools/datetimes.py:1063: UserWarning: Parsing '17/07/2019' in DD/MM/YYYY format. Provide format or specify infer_datetime_format=True for consistent parsing.\n",
      "  cache_array = _maybe_cache(arg, format, cache, convert_listlike)\n",
      "/Library/Frameworks/Python.framework/Versions/3.9/lib/python3.9/site-packages/pandas/core/tools/datetimes.py:1063: UserWarning: Parsing '22/07/2019' in DD/MM/YYYY format. Provide format or specify infer_datetime_format=True for consistent parsing.\n",
      "  cache_array = _maybe_cache(arg, format, cache, convert_listlike)\n",
      "/Library/Frameworks/Python.framework/Versions/3.9/lib/python3.9/site-packages/pandas/core/tools/datetimes.py:1063: UserWarning: Parsing '19/03/2019' in DD/MM/YYYY format. Provide format or specify infer_datetime_format=True for consistent parsing.\n",
      "  cache_array = _maybe_cache(arg, format, cache, convert_listlike)\n",
      "/Library/Frameworks/Python.framework/Versions/3.9/lib/python3.9/site-packages/pandas/core/tools/datetimes.py:1063: UserWarning: Parsing '22/10/2018' in DD/MM/YYYY format. Provide format or specify infer_datetime_format=True for consistent parsing.\n",
      "  cache_array = _maybe_cache(arg, format, cache, convert_listlike)\n",
      "/Library/Frameworks/Python.framework/Versions/3.9/lib/python3.9/site-packages/pandas/core/tools/datetimes.py:1063: UserWarning: Parsing '20/09/2018' in DD/MM/YYYY format. Provide format or specify infer_datetime_format=True for consistent parsing.\n",
      "  cache_array = _maybe_cache(arg, format, cache, convert_listlike)\n",
      "/Library/Frameworks/Python.framework/Versions/3.9/lib/python3.9/site-packages/pandas/core/tools/datetimes.py:1063: UserWarning: Parsing '17/10/2018' in DD/MM/YYYY format. Provide format or specify infer_datetime_format=True for consistent parsing.\n",
      "  cache_array = _maybe_cache(arg, format, cache, convert_listlike)\n",
      "/Library/Frameworks/Python.framework/Versions/3.9/lib/python3.9/site-packages/pandas/core/tools/datetimes.py:1063: UserWarning: Parsing '29/06/2018' in DD/MM/YYYY format. Provide format or specify infer_datetime_format=True for consistent parsing.\n",
      "  cache_array = _maybe_cache(arg, format, cache, convert_listlike)\n",
      "/Library/Frameworks/Python.framework/Versions/3.9/lib/python3.9/site-packages/pandas/core/tools/datetimes.py:1063: UserWarning: Parsing '23/10/2018' in DD/MM/YYYY format. Provide format or specify infer_datetime_format=True for consistent parsing.\n",
      "  cache_array = _maybe_cache(arg, format, cache, convert_listlike)\n",
      "/Library/Frameworks/Python.framework/Versions/3.9/lib/python3.9/site-packages/pandas/core/tools/datetimes.py:1063: UserWarning: Parsing '22/05/2018' in DD/MM/YYYY format. Provide format or specify infer_datetime_format=True for consistent parsing.\n",
      "  cache_array = _maybe_cache(arg, format, cache, convert_listlike)\n",
      "/Library/Frameworks/Python.framework/Versions/3.9/lib/python3.9/site-packages/pandas/core/tools/datetimes.py:1063: UserWarning: Parsing '14/12/2020' in DD/MM/YYYY format. Provide format or specify infer_datetime_format=True for consistent parsing.\n",
      "  cache_array = _maybe_cache(arg, format, cache, convert_listlike)\n",
      "/Library/Frameworks/Python.framework/Versions/3.9/lib/python3.9/site-packages/pandas/core/tools/datetimes.py:1063: UserWarning: Parsing '16/07/2018' in DD/MM/YYYY format. Provide format or specify infer_datetime_format=True for consistent parsing.\n",
      "  cache_array = _maybe_cache(arg, format, cache, convert_listlike)\n",
      "/Library/Frameworks/Python.framework/Versions/3.9/lib/python3.9/site-packages/pandas/core/tools/datetimes.py:1063: UserWarning: Parsing '24/07/2018' in DD/MM/YYYY format. Provide format or specify infer_datetime_format=True for consistent parsing.\n",
      "  cache_array = _maybe_cache(arg, format, cache, convert_listlike)\n",
      "/Library/Frameworks/Python.framework/Versions/3.9/lib/python3.9/site-packages/pandas/core/tools/datetimes.py:1063: UserWarning: Parsing '26/04/2019' in DD/MM/YYYY format. Provide format or specify infer_datetime_format=True for consistent parsing.\n",
      "  cache_array = _maybe_cache(arg, format, cache, convert_listlike)\n",
      "/Library/Frameworks/Python.framework/Versions/3.9/lib/python3.9/site-packages/pandas/core/tools/datetimes.py:1063: UserWarning: Parsing '18/11/2019' in DD/MM/YYYY format. Provide format or specify infer_datetime_format=True for consistent parsing.\n",
      "  cache_array = _maybe_cache(arg, format, cache, convert_listlike)\n",
      "/Library/Frameworks/Python.framework/Versions/3.9/lib/python3.9/site-packages/pandas/core/tools/datetimes.py:1063: UserWarning: Parsing '30/01/2019' in DD/MM/YYYY format. Provide format or specify infer_datetime_format=True for consistent parsing.\n",
      "  cache_array = _maybe_cache(arg, format, cache, convert_listlike)\n",
      "/Library/Frameworks/Python.framework/Versions/3.9/lib/python3.9/site-packages/pandas/core/tools/datetimes.py:1063: UserWarning: Parsing '13/05/2020' in DD/MM/YYYY format. Provide format or specify infer_datetime_format=True for consistent parsing.\n",
      "  cache_array = _maybe_cache(arg, format, cache, convert_listlike)\n",
      "/Library/Frameworks/Python.framework/Versions/3.9/lib/python3.9/site-packages/pandas/core/tools/datetimes.py:1063: UserWarning: Parsing '16/04/2020' in DD/MM/YYYY format. Provide format or specify infer_datetime_format=True for consistent parsing.\n",
      "  cache_array = _maybe_cache(arg, format, cache, convert_listlike)\n",
      "/Library/Frameworks/Python.framework/Versions/3.9/lib/python3.9/site-packages/pandas/core/tools/datetimes.py:1063: UserWarning: Parsing '21/04/2020' in DD/MM/YYYY format. Provide format or specify infer_datetime_format=True for consistent parsing.\n",
      "  cache_array = _maybe_cache(arg, format, cache, convert_listlike)\n",
      "/Library/Frameworks/Python.framework/Versions/3.9/lib/python3.9/site-packages/pandas/core/tools/datetimes.py:1063: UserWarning: Parsing '26/04/2018' in DD/MM/YYYY format. Provide format or specify infer_datetime_format=True for consistent parsing.\n",
      "  cache_array = _maybe_cache(arg, format, cache, convert_listlike)\n",
      "/Library/Frameworks/Python.framework/Versions/3.9/lib/python3.9/site-packages/pandas/core/tools/datetimes.py:1063: UserWarning: Parsing '25/04/2018' in DD/MM/YYYY format. Provide format or specify infer_datetime_format=True for consistent parsing.\n",
      "  cache_array = _maybe_cache(arg, format, cache, convert_listlike)\n",
      "/Library/Frameworks/Python.framework/Versions/3.9/lib/python3.9/site-packages/pandas/core/tools/datetimes.py:1063: UserWarning: Parsing '29/10/2019' in DD/MM/YYYY format. Provide format or specify infer_datetime_format=True for consistent parsing.\n",
      "  cache_array = _maybe_cache(arg, format, cache, convert_listlike)\n",
      "/Library/Frameworks/Python.framework/Versions/3.9/lib/python3.9/site-packages/pandas/core/tools/datetimes.py:1063: UserWarning: Parsing '23/05/2019' in DD/MM/YYYY format. Provide format or specify infer_datetime_format=True for consistent parsing.\n",
      "  cache_array = _maybe_cache(arg, format, cache, convert_listlike)\n",
      "/Library/Frameworks/Python.framework/Versions/3.9/lib/python3.9/site-packages/pandas/core/tools/datetimes.py:1063: UserWarning: Parsing '26/06/2018' in DD/MM/YYYY format. Provide format or specify infer_datetime_format=True for consistent parsing.\n",
      "  cache_array = _maybe_cache(arg, format, cache, convert_listlike)\n",
      "/Library/Frameworks/Python.framework/Versions/3.9/lib/python3.9/site-packages/pandas/core/tools/datetimes.py:1063: UserWarning: Parsing '16/04/2019' in DD/MM/YYYY format. Provide format or specify infer_datetime_format=True for consistent parsing.\n",
      "  cache_array = _maybe_cache(arg, format, cache, convert_listlike)\n",
      "/Library/Frameworks/Python.framework/Versions/3.9/lib/python3.9/site-packages/pandas/core/tools/datetimes.py:1063: UserWarning: Parsing '21/09/2021' in DD/MM/YYYY format. Provide format or specify infer_datetime_format=True for consistent parsing.\n",
      "  cache_array = _maybe_cache(arg, format, cache, convert_listlike)\n",
      "/Library/Frameworks/Python.framework/Versions/3.9/lib/python3.9/site-packages/pandas/core/tools/datetimes.py:1063: UserWarning: Parsing '17/01/2019' in DD/MM/YYYY format. Provide format or specify infer_datetime_format=True for consistent parsing.\n",
      "  cache_array = _maybe_cache(arg, format, cache, convert_listlike)\n",
      "/Library/Frameworks/Python.framework/Versions/3.9/lib/python3.9/site-packages/pandas/core/tools/datetimes.py:1063: UserWarning: Parsing '28/02/2019' in DD/MM/YYYY format. Provide format or specify infer_datetime_format=True for consistent parsing.\n",
      "  cache_array = _maybe_cache(arg, format, cache, convert_listlike)\n",
      "/Library/Frameworks/Python.framework/Versions/3.9/lib/python3.9/site-packages/pandas/core/tools/datetimes.py:1063: UserWarning: Parsing '24/01/2019' in DD/MM/YYYY format. Provide format or specify infer_datetime_format=True for consistent parsing.\n",
      "  cache_array = _maybe_cache(arg, format, cache, convert_listlike)\n",
      "/Library/Frameworks/Python.framework/Versions/3.9/lib/python3.9/site-packages/pandas/core/tools/datetimes.py:1063: UserWarning: Parsing '29/05/2018' in DD/MM/YYYY format. Provide format or specify infer_datetime_format=True for consistent parsing.\n",
      "  cache_array = _maybe_cache(arg, format, cache, convert_listlike)\n",
      "/Library/Frameworks/Python.framework/Versions/3.9/lib/python3.9/site-packages/pandas/core/tools/datetimes.py:1063: UserWarning: Parsing '20/04/2018' in DD/MM/YYYY format. Provide format or specify infer_datetime_format=True for consistent parsing.\n",
      "  cache_array = _maybe_cache(arg, format, cache, convert_listlike)\n",
      "/Library/Frameworks/Python.framework/Versions/3.9/lib/python3.9/site-packages/pandas/core/tools/datetimes.py:1063: UserWarning: Parsing '27/03/2018' in DD/MM/YYYY format. Provide format or specify infer_datetime_format=True for consistent parsing.\n",
      "  cache_array = _maybe_cache(arg, format, cache, convert_listlike)\n",
      "/Library/Frameworks/Python.framework/Versions/3.9/lib/python3.9/site-packages/pandas/core/tools/datetimes.py:1063: UserWarning: Parsing '19/06/2019' in DD/MM/YYYY format. Provide format or specify infer_datetime_format=True for consistent parsing.\n",
      "  cache_array = _maybe_cache(arg, format, cache, convert_listlike)\n",
      "/Library/Frameworks/Python.framework/Versions/3.9/lib/python3.9/site-packages/pandas/core/tools/datetimes.py:1063: UserWarning: Parsing '18/10/2018' in DD/MM/YYYY format. Provide format or specify infer_datetime_format=True for consistent parsing.\n",
      "  cache_array = _maybe_cache(arg, format, cache, convert_listlike)\n",
      "/Library/Frameworks/Python.framework/Versions/3.9/lib/python3.9/site-packages/pandas/core/tools/datetimes.py:1063: UserWarning: Parsing '31/10/2018' in DD/MM/YYYY format. Provide format or specify infer_datetime_format=True for consistent parsing.\n",
      "  cache_array = _maybe_cache(arg, format, cache, convert_listlike)\n",
      "/Library/Frameworks/Python.framework/Versions/3.9/lib/python3.9/site-packages/pandas/core/tools/datetimes.py:1063: UserWarning: Parsing '13/05/2019' in DD/MM/YYYY format. Provide format or specify infer_datetime_format=True for consistent parsing.\n",
      "  cache_array = _maybe_cache(arg, format, cache, convert_listlike)\n",
      "/Library/Frameworks/Python.framework/Versions/3.9/lib/python3.9/site-packages/pandas/core/tools/datetimes.py:1063: UserWarning: Parsing '30/08/2018' in DD/MM/YYYY format. Provide format or specify infer_datetime_format=True for consistent parsing.\n",
      "  cache_array = _maybe_cache(arg, format, cache, convert_listlike)\n",
      "/Library/Frameworks/Python.framework/Versions/3.9/lib/python3.9/site-packages/pandas/core/tools/datetimes.py:1063: UserWarning: Parsing '14/05/2018' in DD/MM/YYYY format. Provide format or specify infer_datetime_format=True for consistent parsing.\n",
      "  cache_array = _maybe_cache(arg, format, cache, convert_listlike)\n",
      "/Library/Frameworks/Python.framework/Versions/3.9/lib/python3.9/site-packages/pandas/core/tools/datetimes.py:1063: UserWarning: Parsing '23/03/2021' in DD/MM/YYYY format. Provide format or specify infer_datetime_format=True for consistent parsing.\n",
      "  cache_array = _maybe_cache(arg, format, cache, convert_listlike)\n",
      "/Library/Frameworks/Python.framework/Versions/3.9/lib/python3.9/site-packages/pandas/core/tools/datetimes.py:1063: UserWarning: Parsing '27/07/2018' in DD/MM/YYYY format. Provide format or specify infer_datetime_format=True for consistent parsing.\n",
      "  cache_array = _maybe_cache(arg, format, cache, convert_listlike)\n",
      "/Library/Frameworks/Python.framework/Versions/3.9/lib/python3.9/site-packages/pandas/core/tools/datetimes.py:1063: UserWarning: Parsing '15/04/2022' in DD/MM/YYYY format. Provide format or specify infer_datetime_format=True for consistent parsing.\n",
      "  cache_array = _maybe_cache(arg, format, cache, convert_listlike)\n",
      "/Library/Frameworks/Python.framework/Versions/3.9/lib/python3.9/site-packages/pandas/core/tools/datetimes.py:1063: UserWarning: Parsing '17/02/2022' in DD/MM/YYYY format. Provide format or specify infer_datetime_format=True for consistent parsing.\n",
      "  cache_array = _maybe_cache(arg, format, cache, convert_listlike)\n",
      "/Library/Frameworks/Python.framework/Versions/3.9/lib/python3.9/site-packages/pandas/core/tools/datetimes.py:1063: UserWarning: Parsing '30/04/2019' in DD/MM/YYYY format. Provide format or specify infer_datetime_format=True for consistent parsing.\n",
      "  cache_array = _maybe_cache(arg, format, cache, convert_listlike)\n",
      "/Library/Frameworks/Python.framework/Versions/3.9/lib/python3.9/site-packages/pandas/core/tools/datetimes.py:1063: UserWarning: Parsing '13/11/2019' in DD/MM/YYYY format. Provide format or specify infer_datetime_format=True for consistent parsing.\n",
      "  cache_array = _maybe_cache(arg, format, cache, convert_listlike)\n",
      "/Library/Frameworks/Python.framework/Versions/3.9/lib/python3.9/site-packages/pandas/core/tools/datetimes.py:1063: UserWarning: Parsing '19/05/2020' in DD/MM/YYYY format. Provide format or specify infer_datetime_format=True for consistent parsing.\n",
      "  cache_array = _maybe_cache(arg, format, cache, convert_listlike)\n",
      "/Library/Frameworks/Python.framework/Versions/3.9/lib/python3.9/site-packages/pandas/core/tools/datetimes.py:1063: UserWarning: Parsing '29/05/2020' in DD/MM/YYYY format. Provide format or specify infer_datetime_format=True for consistent parsing.\n",
      "  cache_array = _maybe_cache(arg, format, cache, convert_listlike)\n",
      "/Library/Frameworks/Python.framework/Versions/3.9/lib/python3.9/site-packages/pandas/core/tools/datetimes.py:1063: UserWarning: Parsing '18/12/2018' in DD/MM/YYYY format. Provide format or specify infer_datetime_format=True for consistent parsing.\n",
      "  cache_array = _maybe_cache(arg, format, cache, convert_listlike)\n",
      "/Library/Frameworks/Python.framework/Versions/3.9/lib/python3.9/site-packages/pandas/core/tools/datetimes.py:1063: UserWarning: Parsing '16/12/2020' in DD/MM/YYYY format. Provide format or specify infer_datetime_format=True for consistent parsing.\n",
      "  cache_array = _maybe_cache(arg, format, cache, convert_listlike)\n",
      "/Library/Frameworks/Python.framework/Versions/3.9/lib/python3.9/site-packages/pandas/core/tools/datetimes.py:1063: UserWarning: Parsing '14/01/2020' in DD/MM/YYYY format. Provide format or specify infer_datetime_format=True for consistent parsing.\n",
      "  cache_array = _maybe_cache(arg, format, cache, convert_listlike)\n",
      "/Library/Frameworks/Python.framework/Versions/3.9/lib/python3.9/site-packages/pandas/core/tools/datetimes.py:1063: UserWarning: Parsing '16/07/2020' in DD/MM/YYYY format. Provide format or specify infer_datetime_format=True for consistent parsing.\n",
      "  cache_array = _maybe_cache(arg, format, cache, convert_listlike)\n",
      "/Library/Frameworks/Python.framework/Versions/3.9/lib/python3.9/site-packages/pandas/core/tools/datetimes.py:1063: UserWarning: Parsing '30/09/2020' in DD/MM/YYYY format. Provide format or specify infer_datetime_format=True for consistent parsing.\n",
      "  cache_array = _maybe_cache(arg, format, cache, convert_listlike)\n",
      "/Library/Frameworks/Python.framework/Versions/3.9/lib/python3.9/site-packages/pandas/core/tools/datetimes.py:1063: UserWarning: Parsing '25/01/2019' in DD/MM/YYYY format. Provide format or specify infer_datetime_format=True for consistent parsing.\n",
      "  cache_array = _maybe_cache(arg, format, cache, convert_listlike)\n",
      "/Library/Frameworks/Python.framework/Versions/3.9/lib/python3.9/site-packages/pandas/core/tools/datetimes.py:1063: UserWarning: Parsing '14/06/2019' in DD/MM/YYYY format. Provide format or specify infer_datetime_format=True for consistent parsing.\n",
      "  cache_array = _maybe_cache(arg, format, cache, convert_listlike)\n",
      "/Library/Frameworks/Python.framework/Versions/3.9/lib/python3.9/site-packages/pandas/core/tools/datetimes.py:1063: UserWarning: Parsing '20/03/2019' in DD/MM/YYYY format. Provide format or specify infer_datetime_format=True for consistent parsing.\n",
      "  cache_array = _maybe_cache(arg, format, cache, convert_listlike)\n",
      "/Library/Frameworks/Python.framework/Versions/3.9/lib/python3.9/site-packages/pandas/core/tools/datetimes.py:1063: UserWarning: Parsing '25/03/2019' in DD/MM/YYYY format. Provide format or specify infer_datetime_format=True for consistent parsing.\n",
      "  cache_array = _maybe_cache(arg, format, cache, convert_listlike)\n",
      "/Library/Frameworks/Python.framework/Versions/3.9/lib/python3.9/site-packages/pandas/core/tools/datetimes.py:1063: UserWarning: Parsing '13/09/2018' in DD/MM/YYYY format. Provide format or specify infer_datetime_format=True for consistent parsing.\n",
      "  cache_array = _maybe_cache(arg, format, cache, convert_listlike)\n",
      "/Library/Frameworks/Python.framework/Versions/3.9/lib/python3.9/site-packages/pandas/core/tools/datetimes.py:1063: UserWarning: Parsing '24/09/2018' in DD/MM/YYYY format. Provide format or specify infer_datetime_format=True for consistent parsing.\n",
      "  cache_array = _maybe_cache(arg, format, cache, convert_listlike)\n",
      "/Library/Frameworks/Python.framework/Versions/3.9/lib/python3.9/site-packages/pandas/core/tools/datetimes.py:1063: UserWarning: Parsing '21/06/2018' in DD/MM/YYYY format. Provide format or specify infer_datetime_format=True for consistent parsing.\n",
      "  cache_array = _maybe_cache(arg, format, cache, convert_listlike)\n",
      "/Library/Frameworks/Python.framework/Versions/3.9/lib/python3.9/site-packages/pandas/core/tools/datetimes.py:1063: UserWarning: Parsing '15/05/2019' in DD/MM/YYYY format. Provide format or specify infer_datetime_format=True for consistent parsing.\n",
      "  cache_array = _maybe_cache(arg, format, cache, convert_listlike)\n",
      "/Library/Frameworks/Python.framework/Versions/3.9/lib/python3.9/site-packages/pandas/core/tools/datetimes.py:1063: UserWarning: Parsing '29/07/2019' in DD/MM/YYYY format. Provide format or specify infer_datetime_format=True for consistent parsing.\n",
      "  cache_array = _maybe_cache(arg, format, cache, convert_listlike)\n",
      "/Library/Frameworks/Python.framework/Versions/3.9/lib/python3.9/site-packages/pandas/core/tools/datetimes.py:1063: UserWarning: Parsing '28/03/2019' in DD/MM/YYYY format. Provide format or specify infer_datetime_format=True for consistent parsing.\n",
      "  cache_array = _maybe_cache(arg, format, cache, convert_listlike)\n",
      "/Library/Frameworks/Python.framework/Versions/3.9/lib/python3.9/site-packages/pandas/core/tools/datetimes.py:1063: UserWarning: Parsing '29/10/2018' in DD/MM/YYYY format. Provide format or specify infer_datetime_format=True for consistent parsing.\n",
      "  cache_array = _maybe_cache(arg, format, cache, convert_listlike)\n",
      "/Library/Frameworks/Python.framework/Versions/3.9/lib/python3.9/site-packages/pandas/core/tools/datetimes.py:1063: UserWarning: Parsing '15/11/2018' in DD/MM/YYYY format. Provide format or specify infer_datetime_format=True for consistent parsing.\n",
      "  cache_array = _maybe_cache(arg, format, cache, convert_listlike)\n",
      "/Library/Frameworks/Python.framework/Versions/3.9/lib/python3.9/site-packages/pandas/core/tools/datetimes.py:1063: UserWarning: Parsing '16/10/2018' in DD/MM/YYYY format. Provide format or specify infer_datetime_format=True for consistent parsing.\n",
      "  cache_array = _maybe_cache(arg, format, cache, convert_listlike)\n",
      "/Library/Frameworks/Python.framework/Versions/3.9/lib/python3.9/site-packages/pandas/core/tools/datetimes.py:1063: UserWarning: Parsing '22/02/2019' in DD/MM/YYYY format. Provide format or specify infer_datetime_format=True for consistent parsing.\n",
      "  cache_array = _maybe_cache(arg, format, cache, convert_listlike)\n",
      "/Library/Frameworks/Python.framework/Versions/3.9/lib/python3.9/site-packages/pandas/core/tools/datetimes.py:1063: UserWarning: Parsing '27/02/2020' in DD/MM/YYYY format. Provide format or specify infer_datetime_format=True for consistent parsing.\n",
      "  cache_array = _maybe_cache(arg, format, cache, convert_listlike)\n",
      "/Library/Frameworks/Python.framework/Versions/3.9/lib/python3.9/site-packages/pandas/core/tools/datetimes.py:1063: UserWarning: Parsing '20/07/2018' in DD/MM/YYYY format. Provide format or specify infer_datetime_format=True for consistent parsing.\n",
      "  cache_array = _maybe_cache(arg, format, cache, convert_listlike)\n",
      "/Library/Frameworks/Python.framework/Versions/3.9/lib/python3.9/site-packages/pandas/core/tools/datetimes.py:1063: UserWarning: Parsing '13/02/2019' in DD/MM/YYYY format. Provide format or specify infer_datetime_format=True for consistent parsing.\n",
      "  cache_array = _maybe_cache(arg, format, cache, convert_listlike)\n",
      "/Library/Frameworks/Python.framework/Versions/3.9/lib/python3.9/site-packages/pandas/core/tools/datetimes.py:1063: UserWarning: Parsing '15/11/2019' in DD/MM/YYYY format. Provide format or specify infer_datetime_format=True for consistent parsing.\n",
      "  cache_array = _maybe_cache(arg, format, cache, convert_listlike)\n",
      "/Library/Frameworks/Python.framework/Versions/3.9/lib/python3.9/site-packages/pandas/core/tools/datetimes.py:1063: UserWarning: Parsing '21/11/2018' in DD/MM/YYYY format. Provide format or specify infer_datetime_format=True for consistent parsing.\n",
      "  cache_array = _maybe_cache(arg, format, cache, convert_listlike)\n",
      "/Library/Frameworks/Python.framework/Versions/3.9/lib/python3.9/site-packages/pandas/core/tools/datetimes.py:1063: UserWarning: Parsing '25/10/2018' in DD/MM/YYYY format. Provide format or specify infer_datetime_format=True for consistent parsing.\n",
      "  cache_array = _maybe_cache(arg, format, cache, convert_listlike)\n",
      "/Library/Frameworks/Python.framework/Versions/3.9/lib/python3.9/site-packages/pandas/core/tools/datetimes.py:1063: UserWarning: Parsing '26/10/2018' in DD/MM/YYYY format. Provide format or specify infer_datetime_format=True for consistent parsing.\n",
      "  cache_array = _maybe_cache(arg, format, cache, convert_listlike)\n",
      "/Library/Frameworks/Python.framework/Versions/3.9/lib/python3.9/site-packages/pandas/core/tools/datetimes.py:1063: UserWarning: Parsing '15/04/2019' in DD/MM/YYYY format. Provide format or specify infer_datetime_format=True for consistent parsing.\n",
      "  cache_array = _maybe_cache(arg, format, cache, convert_listlike)\n",
      "/Library/Frameworks/Python.framework/Versions/3.9/lib/python3.9/site-packages/pandas/core/tools/datetimes.py:1063: UserWarning: Parsing '19/07/2019' in DD/MM/YYYY format. Provide format or specify infer_datetime_format=True for consistent parsing.\n",
      "  cache_array = _maybe_cache(arg, format, cache, convert_listlike)\n",
      "/Library/Frameworks/Python.framework/Versions/3.9/lib/python3.9/site-packages/pandas/core/tools/datetimes.py:1063: UserWarning: Parsing '27/06/2019' in DD/MM/YYYY format. Provide format or specify infer_datetime_format=True for consistent parsing.\n",
      "  cache_array = _maybe_cache(arg, format, cache, convert_listlike)\n",
      "/Library/Frameworks/Python.framework/Versions/3.9/lib/python3.9/site-packages/pandas/core/tools/datetimes.py:1063: UserWarning: Parsing '21/03/2019' in DD/MM/YYYY format. Provide format or specify infer_datetime_format=True for consistent parsing.\n",
      "  cache_array = _maybe_cache(arg, format, cache, convert_listlike)\n",
      "/Library/Frameworks/Python.framework/Versions/3.9/lib/python3.9/site-packages/pandas/core/tools/datetimes.py:1063: UserWarning: Parsing '17/06/2019' in DD/MM/YYYY format. Provide format or specify infer_datetime_format=True for consistent parsing.\n",
      "  cache_array = _maybe_cache(arg, format, cache, convert_listlike)\n",
      "/Library/Frameworks/Python.framework/Versions/3.9/lib/python3.9/site-packages/pandas/core/tools/datetimes.py:1063: UserWarning: Parsing '20/05/2019' in DD/MM/YYYY format. Provide format or specify infer_datetime_format=True for consistent parsing.\n",
      "  cache_array = _maybe_cache(arg, format, cache, convert_listlike)\n",
      "/Library/Frameworks/Python.framework/Versions/3.9/lib/python3.9/site-packages/pandas/core/tools/datetimes.py:1063: UserWarning: Parsing '25/02/2019' in DD/MM/YYYY format. Provide format or specify infer_datetime_format=True for consistent parsing.\n",
      "  cache_array = _maybe_cache(arg, format, cache, convert_listlike)\n",
      "/Library/Frameworks/Python.framework/Versions/3.9/lib/python3.9/site-packages/pandas/core/tools/datetimes.py:1063: UserWarning: Parsing '27/02/2019' in DD/MM/YYYY format. Provide format or specify infer_datetime_format=True for consistent parsing.\n",
      "  cache_array = _maybe_cache(arg, format, cache, convert_listlike)\n",
      "/Library/Frameworks/Python.framework/Versions/3.9/lib/python3.9/site-packages/pandas/core/tools/datetimes.py:1063: UserWarning: Parsing '29/03/2019' in DD/MM/YYYY format. Provide format or specify infer_datetime_format=True for consistent parsing.\n",
      "  cache_array = _maybe_cache(arg, format, cache, convert_listlike)\n",
      "/Library/Frameworks/Python.framework/Versions/3.9/lib/python3.9/site-packages/pandas/core/tools/datetimes.py:1063: UserWarning: Parsing '23/07/2019' in DD/MM/YYYY format. Provide format or specify infer_datetime_format=True for consistent parsing.\n",
      "  cache_array = _maybe_cache(arg, format, cache, convert_listlike)\n",
      "/Library/Frameworks/Python.framework/Versions/3.9/lib/python3.9/site-packages/pandas/core/tools/datetimes.py:1063: UserWarning: Parsing '13/06/2019' in DD/MM/YYYY format. Provide format or specify infer_datetime_format=True for consistent parsing.\n",
      "  cache_array = _maybe_cache(arg, format, cache, convert_listlike)\n",
      "/Library/Frameworks/Python.framework/Versions/3.9/lib/python3.9/site-packages/pandas/core/tools/datetimes.py:1063: UserWarning: Parsing '26/06/2019' in DD/MM/YYYY format. Provide format or specify infer_datetime_format=True for consistent parsing.\n",
      "  cache_array = _maybe_cache(arg, format, cache, convert_listlike)\n",
      "/Library/Frameworks/Python.framework/Versions/3.9/lib/python3.9/site-packages/pandas/core/tools/datetimes.py:1063: UserWarning: Parsing '25/10/2019' in DD/MM/YYYY format. Provide format or specify infer_datetime_format=True for consistent parsing.\n",
      "  cache_array = _maybe_cache(arg, format, cache, convert_listlike)\n",
      "/Library/Frameworks/Python.framework/Versions/3.9/lib/python3.9/site-packages/pandas/core/tools/datetimes.py:1063: UserWarning: Parsing '14/12/2018' in DD/MM/YYYY format. Provide format or specify infer_datetime_format=True for consistent parsing.\n",
      "  cache_array = _maybe_cache(arg, format, cache, convert_listlike)\n",
      "/Library/Frameworks/Python.framework/Versions/3.9/lib/python3.9/site-packages/pandas/core/tools/datetimes.py:1063: UserWarning: Parsing '22/05/2019' in DD/MM/YYYY format. Provide format or specify infer_datetime_format=True for consistent parsing.\n",
      "  cache_array = _maybe_cache(arg, format, cache, convert_listlike)\n",
      "/Library/Frameworks/Python.framework/Versions/3.9/lib/python3.9/site-packages/pandas/core/tools/datetimes.py:1063: UserWarning: Parsing '26/11/2018' in DD/MM/YYYY format. Provide format or specify infer_datetime_format=True for consistent parsing.\n",
      "  cache_array = _maybe_cache(arg, format, cache, convert_listlike)\n",
      "/Library/Frameworks/Python.framework/Versions/3.9/lib/python3.9/site-packages/pandas/core/tools/datetimes.py:1063: UserWarning: Parsing '21/02/2019' in DD/MM/YYYY format. Provide format or specify infer_datetime_format=True for consistent parsing.\n",
      "  cache_array = _maybe_cache(arg, format, cache, convert_listlike)\n",
      "/Library/Frameworks/Python.framework/Versions/3.9/lib/python3.9/site-packages/pandas/core/tools/datetimes.py:1063: UserWarning: Parsing '23/11/2018' in DD/MM/YYYY format. Provide format or specify infer_datetime_format=True for consistent parsing.\n",
      "  cache_array = _maybe_cache(arg, format, cache, convert_listlike)\n",
      "/Library/Frameworks/Python.framework/Versions/3.9/lib/python3.9/site-packages/pandas/core/tools/datetimes.py:1063: UserWarning: Parsing '29/05/2019' in DD/MM/YYYY format. Provide format or specify infer_datetime_format=True for consistent parsing.\n",
      "  cache_array = _maybe_cache(arg, format, cache, convert_listlike)\n",
      "/Library/Frameworks/Python.framework/Versions/3.9/lib/python3.9/site-packages/pandas/core/tools/datetimes.py:1063: UserWarning: Parsing '27/11/2018' in DD/MM/YYYY format. Provide format or specify infer_datetime_format=True for consistent parsing.\n",
      "  cache_array = _maybe_cache(arg, format, cache, convert_listlike)\n",
      "/Library/Frameworks/Python.framework/Versions/3.9/lib/python3.9/site-packages/pandas/core/tools/datetimes.py:1063: UserWarning: Parsing '30/11/2018' in DD/MM/YYYY format. Provide format or specify infer_datetime_format=True for consistent parsing.\n",
      "  cache_array = _maybe_cache(arg, format, cache, convert_listlike)\n",
      "/Library/Frameworks/Python.framework/Versions/3.9/lib/python3.9/site-packages/pandas/core/tools/datetimes.py:1063: UserWarning: Parsing '22/01/2019' in DD/MM/YYYY format. Provide format or specify infer_datetime_format=True for consistent parsing.\n",
      "  cache_array = _maybe_cache(arg, format, cache, convert_listlike)\n",
      "/Library/Frameworks/Python.framework/Versions/3.9/lib/python3.9/site-packages/pandas/core/tools/datetimes.py:1063: UserWarning: Parsing '31/08/2018' in DD/MM/YYYY format. Provide format or specify infer_datetime_format=True for consistent parsing.\n",
      "  cache_array = _maybe_cache(arg, format, cache, convert_listlike)\n",
      "/Library/Frameworks/Python.framework/Versions/3.9/lib/python3.9/site-packages/pandas/core/tools/datetimes.py:1063: UserWarning: Parsing '17/09/2019' in DD/MM/YYYY format. Provide format or specify infer_datetime_format=True for consistent parsing.\n",
      "  cache_array = _maybe_cache(arg, format, cache, convert_listlike)\n",
      "/Library/Frameworks/Python.framework/Versions/3.9/lib/python3.9/site-packages/pandas/core/tools/datetimes.py:1063: UserWarning: Parsing '19/12/2018' in DD/MM/YYYY format. Provide format or specify infer_datetime_format=True for consistent parsing.\n",
      "  cache_array = _maybe_cache(arg, format, cache, convert_listlike)\n",
      "/Library/Frameworks/Python.framework/Versions/3.9/lib/python3.9/site-packages/pandas/core/tools/datetimes.py:1063: UserWarning: Parsing '18/01/2019' in DD/MM/YYYY format. Provide format or specify infer_datetime_format=True for consistent parsing.\n",
      "  cache_array = _maybe_cache(arg, format, cache, convert_listlike)\n",
      "/Library/Frameworks/Python.framework/Versions/3.9/lib/python3.9/site-packages/pandas/core/tools/datetimes.py:1063: UserWarning: Parsing '18/09/2018' in DD/MM/YYYY format. Provide format or specify infer_datetime_format=True for consistent parsing.\n",
      "  cache_array = _maybe_cache(arg, format, cache, convert_listlike)\n",
      "/Library/Frameworks/Python.framework/Versions/3.9/lib/python3.9/site-packages/pandas/core/tools/datetimes.py:1063: UserWarning: Parsing '14/01/2019' in DD/MM/YYYY format. Provide format or specify infer_datetime_format=True for consistent parsing.\n",
      "  cache_array = _maybe_cache(arg, format, cache, convert_listlike)\n",
      "/Library/Frameworks/Python.framework/Versions/3.9/lib/python3.9/site-packages/pandas/core/tools/datetimes.py:1063: UserWarning: Parsing '20/12/2018' in DD/MM/YYYY format. Provide format or specify infer_datetime_format=True for consistent parsing.\n",
      "  cache_array = _maybe_cache(arg, format, cache, convert_listlike)\n",
      "/Library/Frameworks/Python.framework/Versions/3.9/lib/python3.9/site-packages/pandas/core/tools/datetimes.py:1063: UserWarning: Parsing '29/11/2018' in DD/MM/YYYY format. Provide format or specify infer_datetime_format=True for consistent parsing.\n",
      "  cache_array = _maybe_cache(arg, format, cache, convert_listlike)\n",
      "/Library/Frameworks/Python.framework/Versions/3.9/lib/python3.9/site-packages/pandas/core/tools/datetimes.py:1063: UserWarning: Parsing '26/07/2019' in DD/MM/YYYY format. Provide format or specify infer_datetime_format=True for consistent parsing.\n",
      "  cache_array = _maybe_cache(arg, format, cache, convert_listlike)\n",
      "/Library/Frameworks/Python.framework/Versions/3.9/lib/python3.9/site-packages/pandas/core/tools/datetimes.py:1063: UserWarning: Parsing '16/05/2019' in DD/MM/YYYY format. Provide format or specify infer_datetime_format=True for consistent parsing.\n",
      "  cache_array = _maybe_cache(arg, format, cache, convert_listlike)\n",
      "/Library/Frameworks/Python.framework/Versions/3.9/lib/python3.9/site-packages/pandas/core/tools/datetimes.py:1063: UserWarning: Parsing '26/02/2019' in DD/MM/YYYY format. Provide format or specify infer_datetime_format=True for consistent parsing.\n",
      "  cache_array = _maybe_cache(arg, format, cache, convert_listlike)\n",
      "/Library/Frameworks/Python.framework/Versions/3.9/lib/python3.9/site-packages/pandas/core/tools/datetimes.py:1063: UserWarning: Parsing '18/10/2019' in DD/MM/YYYY format. Provide format or specify infer_datetime_format=True for consistent parsing.\n",
      "  cache_array = _maybe_cache(arg, format, cache, convert_listlike)\n",
      "/Library/Frameworks/Python.framework/Versions/3.9/lib/python3.9/site-packages/pandas/core/tools/datetimes.py:1063: UserWarning: Parsing '22/11/2018' in DD/MM/YYYY format. Provide format or specify infer_datetime_format=True for consistent parsing.\n",
      "  cache_array = _maybe_cache(arg, format, cache, convert_listlike)\n",
      "/Library/Frameworks/Python.framework/Versions/3.9/lib/python3.9/site-packages/pandas/core/tools/datetimes.py:1063: UserWarning: Parsing '27/03/2019' in DD/MM/YYYY format. Provide format or specify infer_datetime_format=True for consistent parsing.\n",
      "  cache_array = _maybe_cache(arg, format, cache, convert_listlike)\n",
      "/Library/Frameworks/Python.framework/Versions/3.9/lib/python3.9/site-packages/pandas/core/tools/datetimes.py:1063: UserWarning: Parsing '30/08/2019' in DD/MM/YYYY format. Provide format or specify infer_datetime_format=True for consistent parsing.\n",
      "  cache_array = _maybe_cache(arg, format, cache, convert_listlike)\n",
      "/Library/Frameworks/Python.framework/Versions/3.9/lib/python3.9/site-packages/pandas/core/tools/datetimes.py:1063: UserWarning: Parsing '29/08/2019' in DD/MM/YYYY format. Provide format or specify infer_datetime_format=True for consistent parsing.\n",
      "  cache_array = _maybe_cache(arg, format, cache, convert_listlike)\n",
      "/Library/Frameworks/Python.framework/Versions/3.9/lib/python3.9/site-packages/pandas/core/tools/datetimes.py:1063: UserWarning: Parsing '24/10/2018' in DD/MM/YYYY format. Provide format or specify infer_datetime_format=True for consistent parsing.\n",
      "  cache_array = _maybe_cache(arg, format, cache, convert_listlike)\n",
      "/Library/Frameworks/Python.framework/Versions/3.9/lib/python3.9/site-packages/pandas/core/tools/datetimes.py:1063: UserWarning: Parsing '15/01/2019' in DD/MM/YYYY format. Provide format or specify infer_datetime_format=True for consistent parsing.\n",
      "  cache_array = _maybe_cache(arg, format, cache, convert_listlike)\n",
      "/Library/Frameworks/Python.framework/Versions/3.9/lib/python3.9/site-packages/pandas/core/tools/datetimes.py:1063: UserWarning: Parsing '17/12/2018' in DD/MM/YYYY format. Provide format or specify infer_datetime_format=True for consistent parsing.\n",
      "  cache_array = _maybe_cache(arg, format, cache, convert_listlike)\n",
      "/Library/Frameworks/Python.framework/Versions/3.9/lib/python3.9/site-packages/pandas/core/tools/datetimes.py:1063: UserWarning: Parsing '23/01/2019' in DD/MM/YYYY format. Provide format or specify infer_datetime_format=True for consistent parsing.\n",
      "  cache_array = _maybe_cache(arg, format, cache, convert_listlike)\n",
      "/Library/Frameworks/Python.framework/Versions/3.9/lib/python3.9/site-packages/pandas/core/tools/datetimes.py:1063: UserWarning: Parsing '16/01/2019' in DD/MM/YYYY format. Provide format or specify infer_datetime_format=True for consistent parsing.\n",
      "  cache_array = _maybe_cache(arg, format, cache, convert_listlike)\n",
      "/Library/Frameworks/Python.framework/Versions/3.9/lib/python3.9/site-packages/pandas/core/tools/datetimes.py:1063: UserWarning: Parsing '13/09/2019' in DD/MM/YYYY format. Provide format or specify infer_datetime_format=True for consistent parsing.\n",
      "  cache_array = _maybe_cache(arg, format, cache, convert_listlike)\n",
      "/Library/Frameworks/Python.framework/Versions/3.9/lib/python3.9/site-packages/pandas/core/tools/datetimes.py:1063: UserWarning: Parsing '21/12/2018' in DD/MM/YYYY format. Provide format or specify infer_datetime_format=True for consistent parsing.\n",
      "  cache_array = _maybe_cache(arg, format, cache, convert_listlike)\n",
      "/Library/Frameworks/Python.framework/Versions/3.9/lib/python3.9/site-packages/pandas/core/tools/datetimes.py:1063: UserWarning: Parsing '28/01/2019' in DD/MM/YYYY format. Provide format or specify infer_datetime_format=True for consistent parsing.\n",
      "  cache_array = _maybe_cache(arg, format, cache, convert_listlike)\n",
      "/Library/Frameworks/Python.framework/Versions/3.9/lib/python3.9/site-packages/pandas/core/tools/datetimes.py:1063: UserWarning: Parsing '22/03/2019' in DD/MM/YYYY format. Provide format or specify infer_datetime_format=True for consistent parsing.\n",
      "  cache_array = _maybe_cache(arg, format, cache, convert_listlike)\n",
      "/Library/Frameworks/Python.framework/Versions/3.9/lib/python3.9/site-packages/pandas/core/tools/datetimes.py:1063: UserWarning: Parsing '18/12/2019' in DD/MM/YYYY format. Provide format or specify infer_datetime_format=True for consistent parsing.\n",
      "  cache_array = _maybe_cache(arg, format, cache, convert_listlike)\n",
      "/Library/Frameworks/Python.framework/Versions/3.9/lib/python3.9/site-packages/pandas/core/tools/datetimes.py:1063: UserWarning: Parsing '25/04/2019' in DD/MM/YYYY format. Provide format or specify infer_datetime_format=True for consistent parsing.\n",
      "  cache_array = _maybe_cache(arg, format, cache, convert_listlike)\n",
      "/Library/Frameworks/Python.framework/Versions/3.9/lib/python3.9/site-packages/pandas/core/tools/datetimes.py:1063: UserWarning: Parsing '18/07/2019' in DD/MM/YYYY format. Provide format or specify infer_datetime_format=True for consistent parsing.\n",
      "  cache_array = _maybe_cache(arg, format, cache, convert_listlike)\n",
      "/Library/Frameworks/Python.framework/Versions/3.9/lib/python3.9/site-packages/pandas/core/tools/datetimes.py:1063: UserWarning: Parsing '28/11/2019' in DD/MM/YYYY format. Provide format or specify infer_datetime_format=True for consistent parsing.\n",
      "  cache_array = _maybe_cache(arg, format, cache, convert_listlike)\n",
      "/Library/Frameworks/Python.framework/Versions/3.9/lib/python3.9/site-packages/pandas/core/tools/datetimes.py:1063: UserWarning: Parsing '22/11/2019' in DD/MM/YYYY format. Provide format or specify infer_datetime_format=True for consistent parsing.\n",
      "  cache_array = _maybe_cache(arg, format, cache, convert_listlike)\n",
      "/Library/Frameworks/Python.framework/Versions/3.9/lib/python3.9/site-packages/pandas/core/tools/datetimes.py:1063: UserWarning: Parsing '26/03/2019' in DD/MM/YYYY format. Provide format or specify infer_datetime_format=True for consistent parsing.\n",
      "  cache_array = _maybe_cache(arg, format, cache, convert_listlike)\n",
      "/Library/Frameworks/Python.framework/Versions/3.9/lib/python3.9/site-packages/pandas/core/tools/datetimes.py:1063: UserWarning: Parsing '18/02/2019' in DD/MM/YYYY format. Provide format or specify infer_datetime_format=True for consistent parsing.\n",
      "  cache_array = _maybe_cache(arg, format, cache, convert_listlike)\n",
      "/Library/Frameworks/Python.framework/Versions/3.9/lib/python3.9/site-packages/pandas/core/tools/datetimes.py:1063: UserWarning: Parsing '31/07/2019' in DD/MM/YYYY format. Provide format or specify infer_datetime_format=True for consistent parsing.\n",
      "  cache_array = _maybe_cache(arg, format, cache, convert_listlike)\n",
      "/Library/Frameworks/Python.framework/Versions/3.9/lib/python3.9/site-packages/pandas/core/tools/datetimes.py:1063: UserWarning: Parsing '14/05/2019' in DD/MM/YYYY format. Provide format or specify infer_datetime_format=True for consistent parsing.\n",
      "  cache_array = _maybe_cache(arg, format, cache, convert_listlike)\n",
      "/Library/Frameworks/Python.framework/Versions/3.9/lib/python3.9/site-packages/pandas/core/tools/datetimes.py:1063: UserWarning: Parsing '19/04/2019' in DD/MM/YYYY format. Provide format or specify infer_datetime_format=True for consistent parsing.\n",
      "  cache_array = _maybe_cache(arg, format, cache, convert_listlike)\n",
      "/Library/Frameworks/Python.framework/Versions/3.9/lib/python3.9/site-packages/pandas/core/tools/datetimes.py:1063: UserWarning: Parsing '22/10/2019' in DD/MM/YYYY format. Provide format or specify infer_datetime_format=True for consistent parsing.\n",
      "  cache_array = _maybe_cache(arg, format, cache, convert_listlike)\n",
      "/Library/Frameworks/Python.framework/Versions/3.9/lib/python3.9/site-packages/pandas/core/tools/datetimes.py:1063: UserWarning: Parsing '18/06/2019' in DD/MM/YYYY format. Provide format or specify infer_datetime_format=True for consistent parsing.\n",
      "  cache_array = _maybe_cache(arg, format, cache, convert_listlike)\n",
      "/Library/Frameworks/Python.framework/Versions/3.9/lib/python3.9/site-packages/pandas/core/tools/datetimes.py:1063: UserWarning: Parsing '28/10/2018' in DD/MM/YYYY format. Provide format or specify infer_datetime_format=True for consistent parsing.\n",
      "  cache_array = _maybe_cache(arg, format, cache, convert_listlike)\n",
      "/Library/Frameworks/Python.framework/Versions/3.9/lib/python3.9/site-packages/pandas/core/tools/datetimes.py:1063: UserWarning: Parsing '24/06/2019' in DD/MM/YYYY format. Provide format or specify infer_datetime_format=True for consistent parsing.\n",
      "  cache_array = _maybe_cache(arg, format, cache, convert_listlike)\n",
      "/Library/Frameworks/Python.framework/Versions/3.9/lib/python3.9/site-packages/pandas/core/tools/datetimes.py:1063: UserWarning: Parsing '24/04/2019' in DD/MM/YYYY format. Provide format or specify infer_datetime_format=True for consistent parsing.\n",
      "  cache_array = _maybe_cache(arg, format, cache, convert_listlike)\n",
      "/Library/Frameworks/Python.framework/Versions/3.9/lib/python3.9/site-packages/pandas/core/tools/datetimes.py:1063: UserWarning: Parsing '18/05/2020' in DD/MM/YYYY format. Provide format or specify infer_datetime_format=True for consistent parsing.\n",
      "  cache_array = _maybe_cache(arg, format, cache, convert_listlike)\n",
      "/Library/Frameworks/Python.framework/Versions/3.9/lib/python3.9/site-packages/pandas/core/tools/datetimes.py:1063: UserWarning: Parsing '24/08/2020' in DD/MM/YYYY format. Provide format or specify infer_datetime_format=True for consistent parsing.\n",
      "  cache_array = _maybe_cache(arg, format, cache, convert_listlike)\n",
      "/Library/Frameworks/Python.framework/Versions/3.9/lib/python3.9/site-packages/pandas/core/tools/datetimes.py:1063: UserWarning: Parsing '13/03/2019' in DD/MM/YYYY format. Provide format or specify infer_datetime_format=True for consistent parsing.\n",
      "  cache_array = _maybe_cache(arg, format, cache, convert_listlike)\n",
      "/Library/Frameworks/Python.framework/Versions/3.9/lib/python3.9/site-packages/pandas/core/tools/datetimes.py:1063: UserWarning: Parsing '28/10/2019' in DD/MM/YYYY format. Provide format or specify infer_datetime_format=True for consistent parsing.\n",
      "  cache_array = _maybe_cache(arg, format, cache, convert_listlike)\n",
      "/Library/Frameworks/Python.framework/Versions/3.9/lib/python3.9/site-packages/pandas/core/tools/datetimes.py:1063: UserWarning: Parsing '19/12/2019' in DD/MM/YYYY format. Provide format or specify infer_datetime_format=True for consistent parsing.\n",
      "  cache_array = _maybe_cache(arg, format, cache, convert_listlike)\n",
      "/Library/Frameworks/Python.framework/Versions/3.9/lib/python3.9/site-packages/pandas/core/tools/datetimes.py:1063: UserWarning: Parsing '25/02/2020' in DD/MM/YYYY format. Provide format or specify infer_datetime_format=True for consistent parsing.\n",
      "  cache_array = _maybe_cache(arg, format, cache, convert_listlike)\n",
      "/Library/Frameworks/Python.framework/Versions/3.9/lib/python3.9/site-packages/pandas/core/tools/datetimes.py:1063: UserWarning: Parsing '26/05/2020' in DD/MM/YYYY format. Provide format or specify infer_datetime_format=True for consistent parsing.\n",
      "  cache_array = _maybe_cache(arg, format, cache, convert_listlike)\n",
      "/Library/Frameworks/Python.framework/Versions/3.9/lib/python3.9/site-packages/pandas/core/tools/datetimes.py:1063: UserWarning: Parsing '28/05/2020' in DD/MM/YYYY format. Provide format or specify infer_datetime_format=True for consistent parsing.\n",
      "  cache_array = _maybe_cache(arg, format, cache, convert_listlike)\n",
      "/Library/Frameworks/Python.framework/Versions/3.9/lib/python3.9/site-packages/pandas/core/tools/datetimes.py:1063: UserWarning: Parsing '18/04/2019' in DD/MM/YYYY format. Provide format or specify infer_datetime_format=True for consistent parsing.\n",
      "  cache_array = _maybe_cache(arg, format, cache, convert_listlike)\n",
      "/Library/Frameworks/Python.framework/Versions/3.9/lib/python3.9/site-packages/pandas/core/tools/datetimes.py:1063: UserWarning: Parsing '25/07/2019' in DD/MM/YYYY format. Provide format or specify infer_datetime_format=True for consistent parsing.\n",
      "  cache_array = _maybe_cache(arg, format, cache, convert_listlike)\n",
      "/Library/Frameworks/Python.framework/Versions/3.9/lib/python3.9/site-packages/pandas/core/tools/datetimes.py:1063: UserWarning: Parsing '18/09/2019' in DD/MM/YYYY format. Provide format or specify infer_datetime_format=True for consistent parsing.\n",
      "  cache_array = _maybe_cache(arg, format, cache, convert_listlike)\n",
      "/Library/Frameworks/Python.framework/Versions/3.9/lib/python3.9/site-packages/pandas/core/tools/datetimes.py:1063: UserWarning: Parsing '25/06/2019' in DD/MM/YYYY format. Provide format or specify infer_datetime_format=True for consistent parsing.\n",
      "  cache_array = _maybe_cache(arg, format, cache, convert_listlike)\n",
      "/Library/Frameworks/Python.framework/Versions/3.9/lib/python3.9/site-packages/pandas/core/tools/datetimes.py:1063: UserWarning: Parsing '19/02/2019' in DD/MM/YYYY format. Provide format or specify infer_datetime_format=True for consistent parsing.\n",
      "  cache_array = _maybe_cache(arg, format, cache, convert_listlike)\n",
      "/Library/Frameworks/Python.framework/Versions/3.9/lib/python3.9/site-packages/pandas/core/tools/datetimes.py:1063: UserWarning: Parsing '15/03/2021' in DD/MM/YYYY format. Provide format or specify infer_datetime_format=True for consistent parsing.\n",
      "  cache_array = _maybe_cache(arg, format, cache, convert_listlike)\n",
      "/Library/Frameworks/Python.framework/Versions/3.9/lib/python3.9/site-packages/pandas/core/tools/datetimes.py:1063: UserWarning: Parsing '20/11/2019' in DD/MM/YYYY format. Provide format or specify infer_datetime_format=True for consistent parsing.\n",
      "  cache_array = _maybe_cache(arg, format, cache, convert_listlike)\n",
      "/Library/Frameworks/Python.framework/Versions/3.9/lib/python3.9/site-packages/pandas/core/tools/datetimes.py:1063: UserWarning: Parsing '29/10/2020' in DD/MM/YYYY format. Provide format or specify infer_datetime_format=True for consistent parsing.\n",
      "  cache_array = _maybe_cache(arg, format, cache, convert_listlike)\n",
      "/Library/Frameworks/Python.framework/Versions/3.9/lib/python3.9/site-packages/pandas/core/tools/datetimes.py:1063: UserWarning: Parsing '24/07/2019' in DD/MM/YYYY format. Provide format or specify infer_datetime_format=True for consistent parsing.\n",
      "  cache_array = _maybe_cache(arg, format, cache, convert_listlike)\n",
      "/Library/Frameworks/Python.framework/Versions/3.9/lib/python3.9/site-packages/pandas/core/tools/datetimes.py:1063: UserWarning: Parsing '17/05/2019' in DD/MM/YYYY format. Provide format or specify infer_datetime_format=True for consistent parsing.\n",
      "  cache_array = _maybe_cache(arg, format, cache, convert_listlike)\n",
      "/Library/Frameworks/Python.framework/Versions/3.9/lib/python3.9/site-packages/pandas/core/tools/datetimes.py:1063: UserWarning: Parsing '31/10/2019' in DD/MM/YYYY format. Provide format or specify infer_datetime_format=True for consistent parsing.\n",
      "  cache_array = _maybe_cache(arg, format, cache, convert_listlike)\n",
      "/Library/Frameworks/Python.framework/Versions/3.9/lib/python3.9/site-packages/pandas/core/tools/datetimes.py:1063: UserWarning: Parsing '21/06/2019' in DD/MM/YYYY format. Provide format or specify infer_datetime_format=True for consistent parsing.\n",
      "  cache_array = _maybe_cache(arg, format, cache, convert_listlike)\n",
      "/Library/Frameworks/Python.framework/Versions/3.9/lib/python3.9/site-packages/pandas/core/tools/datetimes.py:1063: UserWarning: Parsing '23/09/2019' in DD/MM/YYYY format. Provide format or specify infer_datetime_format=True for consistent parsing.\n",
      "  cache_array = _maybe_cache(arg, format, cache, convert_listlike)\n",
      "/Library/Frameworks/Python.framework/Versions/3.9/lib/python3.9/site-packages/pandas/core/tools/datetimes.py:1063: UserWarning: Parsing '24/05/2019' in DD/MM/YYYY format. Provide format or specify infer_datetime_format=True for consistent parsing.\n",
      "  cache_array = _maybe_cache(arg, format, cache, convert_listlike)\n",
      "/Library/Frameworks/Python.framework/Versions/3.9/lib/python3.9/site-packages/pandas/core/tools/datetimes.py:1063: UserWarning: Parsing '21/10/2019' in DD/MM/YYYY format. Provide format or specify infer_datetime_format=True for consistent parsing.\n",
      "  cache_array = _maybe_cache(arg, format, cache, convert_listlike)\n",
      "/Library/Frameworks/Python.framework/Versions/3.9/lib/python3.9/site-packages/pandas/core/tools/datetimes.py:1063: UserWarning: Parsing '13/01/2020' in DD/MM/YYYY format. Provide format or specify infer_datetime_format=True for consistent parsing.\n",
      "  cache_array = _maybe_cache(arg, format, cache, convert_listlike)\n",
      "/Library/Frameworks/Python.framework/Versions/3.9/lib/python3.9/site-packages/pandas/core/tools/datetimes.py:1063: UserWarning: Parsing '17/12/2020' in DD/MM/YYYY format. Provide format or specify infer_datetime_format=True for consistent parsing.\n",
      "  cache_array = _maybe_cache(arg, format, cache, convert_listlike)\n",
      "/Library/Frameworks/Python.framework/Versions/3.9/lib/python3.9/site-packages/pandas/core/tools/datetimes.py:1063: UserWarning: Parsing '24/02/2020' in DD/MM/YYYY format. Provide format or specify infer_datetime_format=True for consistent parsing.\n",
      "  cache_array = _maybe_cache(arg, format, cache, convert_listlike)\n",
      "/Library/Frameworks/Python.framework/Versions/3.9/lib/python3.9/site-packages/pandas/core/tools/datetimes.py:1063: UserWarning: Parsing '13/02/2020' in DD/MM/YYYY format. Provide format or specify infer_datetime_format=True for consistent parsing.\n",
      "  cache_array = _maybe_cache(arg, format, cache, convert_listlike)\n",
      "/Library/Frameworks/Python.framework/Versions/3.9/lib/python3.9/site-packages/pandas/core/tools/datetimes.py:1063: UserWarning: Parsing '22/02/2021' in DD/MM/YYYY format. Provide format or specify infer_datetime_format=True for consistent parsing.\n",
      "  cache_array = _maybe_cache(arg, format, cache, convert_listlike)\n",
      "/Library/Frameworks/Python.framework/Versions/3.9/lib/python3.9/site-packages/pandas/core/tools/datetimes.py:1063: UserWarning: Parsing '17/10/2019' in DD/MM/YYYY format. Provide format or specify infer_datetime_format=True for consistent parsing.\n",
      "  cache_array = _maybe_cache(arg, format, cache, convert_listlike)\n",
      "/Library/Frameworks/Python.framework/Versions/3.9/lib/python3.9/site-packages/pandas/core/tools/datetimes.py:1063: UserWarning: Parsing '24/09/2019' in DD/MM/YYYY format. Provide format or specify infer_datetime_format=True for consistent parsing.\n",
      "  cache_array = _maybe_cache(arg, format, cache, convert_listlike)\n",
      "/Library/Frameworks/Python.framework/Versions/3.9/lib/python3.9/site-packages/pandas/core/tools/datetimes.py:1063: UserWarning: Parsing '16/09/2019' in DD/MM/YYYY format. Provide format or specify infer_datetime_format=True for consistent parsing.\n",
      "  cache_array = _maybe_cache(arg, format, cache, convert_listlike)\n",
      "/Library/Frameworks/Python.framework/Versions/3.9/lib/python3.9/site-packages/pandas/core/tools/datetimes.py:1063: UserWarning: Parsing '15/12/2020' in DD/MM/YYYY format. Provide format or specify infer_datetime_format=True for consistent parsing.\n",
      "  cache_array = _maybe_cache(arg, format, cache, convert_listlike)\n",
      "/Library/Frameworks/Python.framework/Versions/3.9/lib/python3.9/site-packages/pandas/core/tools/datetimes.py:1063: UserWarning: Parsing '27/05/2019' in DD/MM/YYYY format. Provide format or specify infer_datetime_format=True for consistent parsing.\n",
      "  cache_array = _maybe_cache(arg, format, cache, convert_listlike)\n",
      "/Library/Frameworks/Python.framework/Versions/3.9/lib/python3.9/site-packages/pandas/core/tools/datetimes.py:1063: UserWarning: Parsing '23/04/2019' in DD/MM/YYYY format. Provide format or specify infer_datetime_format=True for consistent parsing.\n",
      "  cache_array = _maybe_cache(arg, format, cache, convert_listlike)\n",
      "/Library/Frameworks/Python.framework/Versions/3.9/lib/python3.9/site-packages/pandas/core/tools/datetimes.py:1063: UserWarning: Parsing '28/05/2019' in DD/MM/YYYY format. Provide format or specify infer_datetime_format=True for consistent parsing.\n",
      "  cache_array = _maybe_cache(arg, format, cache, convert_listlike)\n",
      "/Library/Frameworks/Python.framework/Versions/3.9/lib/python3.9/site-packages/pandas/core/tools/datetimes.py:1063: UserWarning: Parsing '26/09/2019' in DD/MM/YYYY format. Provide format or specify infer_datetime_format=True for consistent parsing.\n",
      "  cache_array = _maybe_cache(arg, format, cache, convert_listlike)\n",
      "/Library/Frameworks/Python.framework/Versions/3.9/lib/python3.9/site-packages/pandas/core/tools/datetimes.py:1063: UserWarning: Parsing '28/06/2019' in DD/MM/YYYY format. Provide format or specify infer_datetime_format=True for consistent parsing.\n",
      "  cache_array = _maybe_cache(arg, format, cache, convert_listlike)\n",
      "/Library/Frameworks/Python.framework/Versions/3.9/lib/python3.9/site-packages/pandas/core/tools/datetimes.py:1063: UserWarning: Parsing '17/03/2021' in DD/MM/YYYY format. Provide format or specify infer_datetime_format=True for consistent parsing.\n",
      "  cache_array = _maybe_cache(arg, format, cache, convert_listlike)\n",
      "/Library/Frameworks/Python.framework/Versions/3.9/lib/python3.9/site-packages/pandas/core/tools/datetimes.py:1063: UserWarning: Parsing '14/02/2019' in DD/MM/YYYY format. Provide format or specify infer_datetime_format=True for consistent parsing.\n",
      "  cache_array = _maybe_cache(arg, format, cache, convert_listlike)\n",
      "/Library/Frameworks/Python.framework/Versions/3.9/lib/python3.9/site-packages/pandas/core/tools/datetimes.py:1063: UserWarning: Parsing '17/02/2020' in DD/MM/YYYY format. Provide format or specify infer_datetime_format=True for consistent parsing.\n",
      "  cache_array = _maybe_cache(arg, format, cache, convert_listlike)\n",
      "/Library/Frameworks/Python.framework/Versions/3.9/lib/python3.9/site-packages/pandas/core/tools/datetimes.py:1063: UserWarning: Parsing '21/11/2019' in DD/MM/YYYY format. Provide format or specify infer_datetime_format=True for consistent parsing.\n",
      "  cache_array = _maybe_cache(arg, format, cache, convert_listlike)\n",
      "/Library/Frameworks/Python.framework/Versions/3.9/lib/python3.9/site-packages/pandas/core/tools/datetimes.py:1063: UserWarning: Parsing '31/01/2020' in DD/MM/YYYY format. Provide format or specify infer_datetime_format=True for consistent parsing.\n",
      "  cache_array = _maybe_cache(arg, format, cache, convert_listlike)\n",
      "/Library/Frameworks/Python.framework/Versions/3.9/lib/python3.9/site-packages/pandas/core/tools/datetimes.py:1063: UserWarning: Parsing '30/09/2019' in DD/MM/YYYY format. Provide format or specify infer_datetime_format=True for consistent parsing.\n",
      "  cache_array = _maybe_cache(arg, format, cache, convert_listlike)\n",
      "/Library/Frameworks/Python.framework/Versions/3.9/lib/python3.9/site-packages/pandas/core/tools/datetimes.py:1063: UserWarning: Parsing '15/07/2019' in DD/MM/YYYY format. Provide format or specify infer_datetime_format=True for consistent parsing.\n",
      "  cache_array = _maybe_cache(arg, format, cache, convert_listlike)\n",
      "/Library/Frameworks/Python.framework/Versions/3.9/lib/python3.9/site-packages/pandas/core/tools/datetimes.py:1063: UserWarning: Parsing '15/03/2019' in DD/MM/YYYY format. Provide format or specify infer_datetime_format=True for consistent parsing.\n",
      "  cache_array = _maybe_cache(arg, format, cache, convert_listlike)\n",
      "/Library/Frameworks/Python.framework/Versions/3.9/lib/python3.9/site-packages/pandas/core/tools/datetimes.py:1063: UserWarning: Parsing '15/05/2020' in DD/MM/YYYY format. Provide format or specify infer_datetime_format=True for consistent parsing.\n",
      "  cache_array = _maybe_cache(arg, format, cache, convert_listlike)\n",
      "/Library/Frameworks/Python.framework/Versions/3.9/lib/python3.9/site-packages/pandas/core/tools/datetimes.py:1063: UserWarning: Parsing '26/01/2022' in DD/MM/YYYY format. Provide format or specify infer_datetime_format=True for consistent parsing.\n",
      "  cache_array = _maybe_cache(arg, format, cache, convert_listlike)\n",
      "/Library/Frameworks/Python.framework/Versions/3.9/lib/python3.9/site-packages/pandas/core/tools/datetimes.py:1063: UserWarning: Parsing '14/09/2020' in DD/MM/YYYY format. Provide format or specify infer_datetime_format=True for consistent parsing.\n",
      "  cache_array = _maybe_cache(arg, format, cache, convert_listlike)\n",
      "/Library/Frameworks/Python.framework/Versions/3.9/lib/python3.9/site-packages/pandas/core/tools/datetimes.py:1063: UserWarning: Parsing '14/02/2020' in DD/MM/YYYY format. Provide format or specify infer_datetime_format=True for consistent parsing.\n",
      "  cache_array = _maybe_cache(arg, format, cache, convert_listlike)\n",
      "/Library/Frameworks/Python.framework/Versions/3.9/lib/python3.9/site-packages/pandas/core/tools/datetimes.py:1063: UserWarning: Parsing '17/01/2020' in DD/MM/YYYY format. Provide format or specify infer_datetime_format=True for consistent parsing.\n",
      "  cache_array = _maybe_cache(arg, format, cache, convert_listlike)\n",
      "/Library/Frameworks/Python.framework/Versions/3.9/lib/python3.9/site-packages/pandas/core/tools/datetimes.py:1063: UserWarning: Parsing '22/04/2020' in DD/MM/YYYY format. Provide format or specify infer_datetime_format=True for consistent parsing.\n",
      "  cache_array = _maybe_cache(arg, format, cache, convert_listlike)\n",
      "/Library/Frameworks/Python.framework/Versions/3.9/lib/python3.9/site-packages/pandas/core/tools/datetimes.py:1063: UserWarning: Parsing '28/08/2019' in DD/MM/YYYY format. Provide format or specify infer_datetime_format=True for consistent parsing.\n",
      "  cache_array = _maybe_cache(arg, format, cache, convert_listlike)\n",
      "/Library/Frameworks/Python.framework/Versions/3.9/lib/python3.9/site-packages/pandas/core/tools/datetimes.py:1063: UserWarning: Parsing '20/01/2020' in DD/MM/YYYY format. Provide format or specify infer_datetime_format=True for consistent parsing.\n",
      "  cache_array = _maybe_cache(arg, format, cache, convert_listlike)\n",
      "/Library/Frameworks/Python.framework/Versions/3.9/lib/python3.9/site-packages/pandas/core/tools/datetimes.py:1063: UserWarning: Parsing '19/11/2019' in DD/MM/YYYY format. Provide format or specify infer_datetime_format=True for consistent parsing.\n",
      "  cache_array = _maybe_cache(arg, format, cache, convert_listlike)\n",
      "/Library/Frameworks/Python.framework/Versions/3.9/lib/python3.9/site-packages/pandas/core/tools/datetimes.py:1063: UserWarning: Parsing '16/02/2019' in DD/MM/YYYY format. Provide format or specify infer_datetime_format=True for consistent parsing.\n",
      "  cache_array = _maybe_cache(arg, format, cache, convert_listlike)\n",
      "/Library/Frameworks/Python.framework/Versions/3.9/lib/python3.9/site-packages/pandas/core/tools/datetimes.py:1063: UserWarning: Parsing '15/04/2020' in DD/MM/YYYY format. Provide format or specify infer_datetime_format=True for consistent parsing.\n",
      "  cache_array = _maybe_cache(arg, format, cache, convert_listlike)\n",
      "/Library/Frameworks/Python.framework/Versions/3.9/lib/python3.9/site-packages/pandas/core/tools/datetimes.py:1063: UserWarning: Parsing '29/11/2019' in DD/MM/YYYY format. Provide format or specify infer_datetime_format=True for consistent parsing.\n",
      "  cache_array = _maybe_cache(arg, format, cache, convert_listlike)\n",
      "/Library/Frameworks/Python.framework/Versions/3.9/lib/python3.9/site-packages/pandas/core/tools/datetimes.py:1063: UserWarning: Parsing '15/10/2019' in DD/MM/YYYY format. Provide format or specify infer_datetime_format=True for consistent parsing.\n",
      "  cache_array = _maybe_cache(arg, format, cache, convert_listlike)\n",
      "/Library/Frameworks/Python.framework/Versions/3.9/lib/python3.9/site-packages/pandas/core/tools/datetimes.py:1063: UserWarning: Parsing '14/11/2019' in DD/MM/YYYY format. Provide format or specify infer_datetime_format=True for consistent parsing.\n",
      "  cache_array = _maybe_cache(arg, format, cache, convert_listlike)\n",
      "/Library/Frameworks/Python.framework/Versions/3.9/lib/python3.9/site-packages/pandas/core/tools/datetimes.py:1063: UserWarning: Parsing '22/01/2020' in DD/MM/YYYY format. Provide format or specify infer_datetime_format=True for consistent parsing.\n",
      "  cache_array = _maybe_cache(arg, format, cache, convert_listlike)\n",
      "/Library/Frameworks/Python.framework/Versions/3.9/lib/python3.9/site-packages/pandas/core/tools/datetimes.py:1063: UserWarning: Parsing '29/11/2021' in DD/MM/YYYY format. Provide format or specify infer_datetime_format=True for consistent parsing.\n",
      "  cache_array = _maybe_cache(arg, format, cache, convert_listlike)\n",
      "/Library/Frameworks/Python.framework/Versions/3.9/lib/python3.9/site-packages/pandas/core/tools/datetimes.py:1063: UserWarning: Parsing '19/01/2021' in DD/MM/YYYY format. Provide format or specify infer_datetime_format=True for consistent parsing.\n",
      "  cache_array = _maybe_cache(arg, format, cache, convert_listlike)\n",
      "/Library/Frameworks/Python.framework/Versions/3.9/lib/python3.9/site-packages/pandas/core/tools/datetimes.py:1063: UserWarning: Parsing '29/10/2021' in DD/MM/YYYY format. Provide format or specify infer_datetime_format=True for consistent parsing.\n",
      "  cache_array = _maybe_cache(arg, format, cache, convert_listlike)\n",
      "/Library/Frameworks/Python.framework/Versions/3.9/lib/python3.9/site-packages/pandas/core/tools/datetimes.py:1063: UserWarning: Parsing '24/04/2020' in DD/MM/YYYY format. Provide format or specify infer_datetime_format=True for consistent parsing.\n",
      "  cache_array = _maybe_cache(arg, format, cache, convert_listlike)\n",
      "/Library/Frameworks/Python.framework/Versions/3.9/lib/python3.9/site-packages/pandas/core/tools/datetimes.py:1063: UserWarning: Parsing '28/01/2020' in DD/MM/YYYY format. Provide format or specify infer_datetime_format=True for consistent parsing.\n",
      "  cache_array = _maybe_cache(arg, format, cache, convert_listlike)\n",
      "/Library/Frameworks/Python.framework/Versions/3.9/lib/python3.9/site-packages/pandas/core/tools/datetimes.py:1063: UserWarning: Parsing '26/02/2020' in DD/MM/YYYY format. Provide format or specify infer_datetime_format=True for consistent parsing.\n",
      "  cache_array = _maybe_cache(arg, format, cache, convert_listlike)\n",
      "/Library/Frameworks/Python.framework/Versions/3.9/lib/python3.9/site-packages/pandas/core/tools/datetimes.py:1063: UserWarning: Parsing '23/08/2021' in DD/MM/YYYY format. Provide format or specify infer_datetime_format=True for consistent parsing.\n",
      "  cache_array = _maybe_cache(arg, format, cache, convert_listlike)\n",
      "/Library/Frameworks/Python.framework/Versions/3.9/lib/python3.9/site-packages/pandas/core/tools/datetimes.py:1063: UserWarning: Parsing '16/11/2021' in DD/MM/YYYY format. Provide format or specify infer_datetime_format=True for consistent parsing.\n",
      "  cache_array = _maybe_cache(arg, format, cache, convert_listlike)\n",
      "/Library/Frameworks/Python.framework/Versions/3.9/lib/python3.9/site-packages/pandas/core/tools/datetimes.py:1063: UserWarning: Parsing '20/06/2019' in DD/MM/YYYY format. Provide format or specify infer_datetime_format=True for consistent parsing.\n",
      "  cache_array = _maybe_cache(arg, format, cache, convert_listlike)\n",
      "/Library/Frameworks/Python.framework/Versions/3.9/lib/python3.9/site-packages/pandas/core/tools/datetimes.py:1063: UserWarning: Parsing '16/10/2019' in DD/MM/YYYY format. Provide format or specify infer_datetime_format=True for consistent parsing.\n",
      "  cache_array = _maybe_cache(arg, format, cache, convert_listlike)\n",
      "/Library/Frameworks/Python.framework/Versions/3.9/lib/python3.9/site-packages/pandas/core/tools/datetimes.py:1063: UserWarning: Parsing '25/11/2019' in DD/MM/YYYY format. Provide format or specify infer_datetime_format=True for consistent parsing.\n",
      "  cache_array = _maybe_cache(arg, format, cache, convert_listlike)\n",
      "/Library/Frameworks/Python.framework/Versions/3.9/lib/python3.9/site-packages/pandas/core/tools/datetimes.py:1063: UserWarning: Parsing '28/02/2020' in DD/MM/YYYY format. Provide format or specify infer_datetime_format=True for consistent parsing.\n",
      "  cache_array = _maybe_cache(arg, format, cache, convert_listlike)\n",
      "/Library/Frameworks/Python.framework/Versions/3.9/lib/python3.9/site-packages/pandas/core/tools/datetimes.py:1063: UserWarning: Parsing '21/01/2020' in DD/MM/YYYY format. Provide format or specify infer_datetime_format=True for consistent parsing.\n",
      "  cache_array = _maybe_cache(arg, format, cache, convert_listlike)\n",
      "/Library/Frameworks/Python.framework/Versions/3.9/lib/python3.9/site-packages/pandas/core/tools/datetimes.py:1063: UserWarning: Parsing '13/03/2020' in DD/MM/YYYY format. Provide format or specify infer_datetime_format=True for consistent parsing.\n",
      "  cache_array = _maybe_cache(arg, format, cache, convert_listlike)\n",
      "/Library/Frameworks/Python.framework/Versions/3.9/lib/python3.9/site-packages/pandas/core/tools/datetimes.py:1063: UserWarning: Parsing '14/10/2019' in DD/MM/YYYY format. Provide format or specify infer_datetime_format=True for consistent parsing.\n",
      "  cache_array = _maybe_cache(arg, format, cache, convert_listlike)\n",
      "/Library/Frameworks/Python.framework/Versions/3.9/lib/python3.9/site-packages/pandas/core/tools/datetimes.py:1063: UserWarning: Parsing '18/03/2020' in DD/MM/YYYY format. Provide format or specify infer_datetime_format=True for consistent parsing.\n",
      "  cache_array = _maybe_cache(arg, format, cache, convert_listlike)\n",
      "/Library/Frameworks/Python.framework/Versions/3.9/lib/python3.9/site-packages/pandas/core/tools/datetimes.py:1063: UserWarning: Parsing '23/10/2019' in DD/MM/YYYY format. Provide format or specify infer_datetime_format=True for consistent parsing.\n",
      "  cache_array = _maybe_cache(arg, format, cache, convert_listlike)\n",
      "/Library/Frameworks/Python.framework/Versions/3.9/lib/python3.9/site-packages/pandas/core/tools/datetimes.py:1063: UserWarning: Parsing '29/01/2020' in DD/MM/YYYY format. Provide format or specify infer_datetime_format=True for consistent parsing.\n",
      "  cache_array = _maybe_cache(arg, format, cache, convert_listlike)\n",
      "/Library/Frameworks/Python.framework/Versions/3.9/lib/python3.9/site-packages/pandas/core/tools/datetimes.py:1063: UserWarning: Parsing '13/07/2020' in DD/MM/YYYY format. Provide format or specify infer_datetime_format=True for consistent parsing.\n",
      "  cache_array = _maybe_cache(arg, format, cache, convert_listlike)\n",
      "/Library/Frameworks/Python.framework/Versions/3.9/lib/python3.9/site-packages/pandas/core/tools/datetimes.py:1063: UserWarning: Parsing '16/07/2019' in DD/MM/YYYY format. Provide format or specify infer_datetime_format=True for consistent parsing.\n",
      "  cache_array = _maybe_cache(arg, format, cache, convert_listlike)\n",
      "/Library/Frameworks/Python.framework/Versions/3.9/lib/python3.9/site-packages/pandas/core/tools/datetimes.py:1063: UserWarning: Parsing '24/07/2020' in DD/MM/YYYY format. Provide format or specify infer_datetime_format=True for consistent parsing.\n",
      "  cache_array = _maybe_cache(arg, format, cache, convert_listlike)\n",
      "/Library/Frameworks/Python.framework/Versions/3.9/lib/python3.9/site-packages/pandas/core/tools/datetimes.py:1063: UserWarning: Parsing '28/04/2020' in DD/MM/YYYY format. Provide format or specify infer_datetime_format=True for consistent parsing.\n",
      "  cache_array = _maybe_cache(arg, format, cache, convert_listlike)\n",
      "/Library/Frameworks/Python.framework/Versions/3.9/lib/python3.9/site-packages/pandas/core/tools/datetimes.py:1063: UserWarning: Parsing '27/04/2020' in DD/MM/YYYY format. Provide format or specify infer_datetime_format=True for consistent parsing.\n",
      "  cache_array = _maybe_cache(arg, format, cache, convert_listlike)\n",
      "/Library/Frameworks/Python.framework/Versions/3.9/lib/python3.9/site-packages/pandas/core/tools/datetimes.py:1063: UserWarning: Parsing '20/04/2020' in DD/MM/YYYY format. Provide format or specify infer_datetime_format=True for consistent parsing.\n",
      "  cache_array = _maybe_cache(arg, format, cache, convert_listlike)\n",
      "/Library/Frameworks/Python.framework/Versions/3.9/lib/python3.9/site-packages/pandas/core/tools/datetimes.py:1063: UserWarning: Parsing '30/10/2019' in DD/MM/YYYY format. Provide format or specify infer_datetime_format=True for consistent parsing.\n",
      "  cache_array = _maybe_cache(arg, format, cache, convert_listlike)\n",
      "/Library/Frameworks/Python.framework/Versions/3.9/lib/python3.9/site-packages/pandas/core/tools/datetimes.py:1063: UserWarning: Parsing '25/09/2019' in DD/MM/YYYY format. Provide format or specify infer_datetime_format=True for consistent parsing.\n",
      "  cache_array = _maybe_cache(arg, format, cache, convert_listlike)\n",
      "/Library/Frameworks/Python.framework/Versions/3.9/lib/python3.9/site-packages/pandas/core/tools/datetimes.py:1063: UserWarning: Parsing '27/08/2019' in DD/MM/YYYY format. Provide format or specify infer_datetime_format=True for consistent parsing.\n",
      "  cache_array = _maybe_cache(arg, format, cache, convert_listlike)\n",
      "/Library/Frameworks/Python.framework/Versions/3.9/lib/python3.9/site-packages/pandas/core/tools/datetimes.py:1063: UserWarning: Parsing '15/01/2021' in DD/MM/YYYY format. Provide format or specify infer_datetime_format=True for consistent parsing.\n",
      "  cache_array = _maybe_cache(arg, format, cache, convert_listlike)\n",
      "/Library/Frameworks/Python.framework/Versions/3.9/lib/python3.9/site-packages/pandas/core/tools/datetimes.py:1063: UserWarning: Parsing '25/11/2020' in DD/MM/YYYY format. Provide format or specify infer_datetime_format=True for consistent parsing.\n",
      "  cache_array = _maybe_cache(arg, format, cache, convert_listlike)\n",
      "/Library/Frameworks/Python.framework/Versions/3.9/lib/python3.9/site-packages/pandas/core/tools/datetimes.py:1063: UserWarning: Parsing '17/11/2020' in DD/MM/YYYY format. Provide format or specify infer_datetime_format=True for consistent parsing.\n",
      "  cache_array = _maybe_cache(arg, format, cache, convert_listlike)\n",
      "/Library/Frameworks/Python.framework/Versions/3.9/lib/python3.9/site-packages/pandas/core/tools/datetimes.py:1063: UserWarning: Parsing '22/05/2020' in DD/MM/YYYY format. Provide format or specify infer_datetime_format=True for consistent parsing.\n",
      "  cache_array = _maybe_cache(arg, format, cache, convert_listlike)\n",
      "/Library/Frameworks/Python.framework/Versions/3.9/lib/python3.9/site-packages/pandas/core/tools/datetimes.py:1063: UserWarning: Parsing '25/10/2021' in DD/MM/YYYY format. Provide format or specify infer_datetime_format=True for consistent parsing.\n",
      "  cache_array = _maybe_cache(arg, format, cache, convert_listlike)\n",
      "/Library/Frameworks/Python.framework/Versions/3.9/lib/python3.9/site-packages/pandas/core/tools/datetimes.py:1063: UserWarning: Parsing '26/03/2020' in DD/MM/YYYY format. Provide format or specify infer_datetime_format=True for consistent parsing.\n",
      "  cache_array = _maybe_cache(arg, format, cache, convert_listlike)\n",
      "/Library/Frameworks/Python.framework/Versions/3.9/lib/python3.9/site-packages/pandas/core/tools/datetimes.py:1063: UserWarning: Parsing '19/02/2020' in DD/MM/YYYY format. Provide format or specify infer_datetime_format=True for consistent parsing.\n",
      "  cache_array = _maybe_cache(arg, format, cache, convert_listlike)\n",
      "/Library/Frameworks/Python.framework/Versions/3.9/lib/python3.9/site-packages/pandas/core/tools/datetimes.py:1063: UserWarning: Parsing '24/01/2020' in DD/MM/YYYY format. Provide format or specify infer_datetime_format=True for consistent parsing.\n",
      "  cache_array = _maybe_cache(arg, format, cache, convert_listlike)\n",
      "/Library/Frameworks/Python.framework/Versions/3.9/lib/python3.9/site-packages/pandas/core/tools/datetimes.py:1063: UserWarning: Parsing '16/12/2019' in DD/MM/YYYY format. Provide format or specify infer_datetime_format=True for consistent parsing.\n",
      "  cache_array = _maybe_cache(arg, format, cache, convert_listlike)\n",
      "/Library/Frameworks/Python.framework/Versions/3.9/lib/python3.9/site-packages/pandas/core/tools/datetimes.py:1063: UserWarning: Parsing '14/05/2020' in DD/MM/YYYY format. Provide format or specify infer_datetime_format=True for consistent parsing.\n",
      "  cache_array = _maybe_cache(arg, format, cache, convert_listlike)\n",
      "/Library/Frameworks/Python.framework/Versions/3.9/lib/python3.9/site-packages/pandas/core/tools/datetimes.py:1063: UserWarning: Parsing '16/06/2020' in DD/MM/YYYY format. Provide format or specify infer_datetime_format=True for consistent parsing.\n",
      "  cache_array = _maybe_cache(arg, format, cache, convert_listlike)\n",
      "/Library/Frameworks/Python.framework/Versions/3.9/lib/python3.9/site-packages/pandas/core/tools/datetimes.py:1063: UserWarning: Parsing '19/09/2019' in DD/MM/YYYY format. Provide format or specify infer_datetime_format=True for consistent parsing.\n",
      "  cache_array = _maybe_cache(arg, format, cache, convert_listlike)\n",
      "/Library/Frameworks/Python.framework/Versions/3.9/lib/python3.9/site-packages/pandas/core/tools/datetimes.py:1063: UserWarning: Parsing '15/06/2021' in DD/MM/YYYY format. Provide format or specify infer_datetime_format=True for consistent parsing.\n",
      "  cache_array = _maybe_cache(arg, format, cache, convert_listlike)\n",
      "/Library/Frameworks/Python.framework/Versions/3.9/lib/python3.9/site-packages/pandas/core/tools/datetimes.py:1063: UserWarning: Parsing '18/11/2020' in DD/MM/YYYY format. Provide format or specify infer_datetime_format=True for consistent parsing.\n",
      "  cache_array = _maybe_cache(arg, format, cache, convert_listlike)\n",
      "/Library/Frameworks/Python.framework/Versions/3.9/lib/python3.9/site-packages/pandas/core/tools/datetimes.py:1063: UserWarning: Parsing '22/09/2020' in DD/MM/YYYY format. Provide format or specify infer_datetime_format=True for consistent parsing.\n",
      "  cache_array = _maybe_cache(arg, format, cache, convert_listlike)\n",
      "/Library/Frameworks/Python.framework/Versions/3.9/lib/python3.9/site-packages/pandas/core/tools/datetimes.py:1063: UserWarning: Parsing '29/04/2020' in DD/MM/YYYY format. Provide format or specify infer_datetime_format=True for consistent parsing.\n",
      "  cache_array = _maybe_cache(arg, format, cache, convert_listlike)\n",
      "/Library/Frameworks/Python.framework/Versions/3.9/lib/python3.9/site-packages/pandas/core/tools/datetimes.py:1063: UserWarning: Parsing '23/06/2020' in DD/MM/YYYY format. Provide format or specify infer_datetime_format=True for consistent parsing.\n",
      "  cache_array = _maybe_cache(arg, format, cache, convert_listlike)\n",
      "/Library/Frameworks/Python.framework/Versions/3.9/lib/python3.9/site-packages/pandas/core/tools/datetimes.py:1063: UserWarning: Parsing '24/03/2020' in DD/MM/YYYY format. Provide format or specify infer_datetime_format=True for consistent parsing.\n",
      "  cache_array = _maybe_cache(arg, format, cache, convert_listlike)\n",
      "/Library/Frameworks/Python.framework/Versions/3.9/lib/python3.9/site-packages/pandas/core/tools/datetimes.py:1063: UserWarning: Parsing '29/07/2020' in DD/MM/YYYY format. Provide format or specify infer_datetime_format=True for consistent parsing.\n",
      "  cache_array = _maybe_cache(arg, format, cache, convert_listlike)\n",
      "/Library/Frameworks/Python.framework/Versions/3.9/lib/python3.9/site-packages/pandas/core/tools/datetimes.py:1063: UserWarning: Parsing '27/01/2020' in DD/MM/YYYY format. Provide format or specify infer_datetime_format=True for consistent parsing.\n",
      "  cache_array = _maybe_cache(arg, format, cache, convert_listlike)\n",
      "/Library/Frameworks/Python.framework/Versions/3.9/lib/python3.9/site-packages/pandas/core/tools/datetimes.py:1063: UserWarning: Parsing '20/02/2020' in DD/MM/YYYY format. Provide format or specify infer_datetime_format=True for consistent parsing.\n",
      "  cache_array = _maybe_cache(arg, format, cache, convert_listlike)\n",
      "/Library/Frameworks/Python.framework/Versions/3.9/lib/python3.9/site-packages/pandas/core/tools/datetimes.py:1063: UserWarning: Parsing '21/02/2020' in DD/MM/YYYY format. Provide format or specify infer_datetime_format=True for consistent parsing.\n",
      "  cache_array = _maybe_cache(arg, format, cache, convert_listlike)\n",
      "/Library/Frameworks/Python.framework/Versions/3.9/lib/python3.9/site-packages/pandas/core/tools/datetimes.py:1063: UserWarning: Parsing '23/01/2020' in DD/MM/YYYY format. Provide format or specify infer_datetime_format=True for consistent parsing.\n",
      "  cache_array = _maybe_cache(arg, format, cache, convert_listlike)\n",
      "/Library/Frameworks/Python.framework/Versions/3.9/lib/python3.9/site-packages/pandas/core/tools/datetimes.py:1063: UserWarning: Parsing '24/01/2022' in DD/MM/YYYY format. Provide format or specify infer_datetime_format=True for consistent parsing.\n",
      "  cache_array = _maybe_cache(arg, format, cache, convert_listlike)\n",
      "/Library/Frameworks/Python.framework/Versions/3.9/lib/python3.9/site-packages/pandas/core/tools/datetimes.py:1063: UserWarning: Parsing '23/10/2020' in DD/MM/YYYY format. Provide format or specify infer_datetime_format=True for consistent parsing.\n",
      "  cache_array = _maybe_cache(arg, format, cache, convert_listlike)\n",
      "/Library/Frameworks/Python.framework/Versions/3.9/lib/python3.9/site-packages/pandas/core/tools/datetimes.py:1063: UserWarning: Parsing '15/01/2020' in DD/MM/YYYY format. Provide format or specify infer_datetime_format=True for consistent parsing.\n",
      "  cache_array = _maybe_cache(arg, format, cache, convert_listlike)\n",
      "/Library/Frameworks/Python.framework/Versions/3.9/lib/python3.9/site-packages/pandas/core/tools/datetimes.py:1063: UserWarning: Parsing '17/06/2021' in DD/MM/YYYY format. Provide format or specify infer_datetime_format=True for consistent parsing.\n",
      "  cache_array = _maybe_cache(arg, format, cache, convert_listlike)\n",
      "/Library/Frameworks/Python.framework/Versions/3.9/lib/python3.9/site-packages/pandas/core/tools/datetimes.py:1063: UserWarning: Parsing '20/03/2020' in DD/MM/YYYY format. Provide format or specify infer_datetime_format=True for consistent parsing.\n",
      "  cache_array = _maybe_cache(arg, format, cache, convert_listlike)\n",
      "/Library/Frameworks/Python.framework/Versions/3.9/lib/python3.9/site-packages/pandas/core/tools/datetimes.py:1063: UserWarning: Parsing '16/03/2020' in DD/MM/YYYY format. Provide format or specify infer_datetime_format=True for consistent parsing.\n",
      "  cache_array = _maybe_cache(arg, format, cache, convert_listlike)\n",
      "/Library/Frameworks/Python.framework/Versions/3.9/lib/python3.9/site-packages/pandas/core/tools/datetimes.py:1063: UserWarning: Parsing '17/03/2020' in DD/MM/YYYY format. Provide format or specify infer_datetime_format=True for consistent parsing.\n",
      "  cache_array = _maybe_cache(arg, format, cache, convert_listlike)\n",
      "/Library/Frameworks/Python.framework/Versions/3.9/lib/python3.9/site-packages/pandas/core/tools/datetimes.py:1063: UserWarning: Parsing '17/06/2020' in DD/MM/YYYY format. Provide format or specify infer_datetime_format=True for consistent parsing.\n",
      "  cache_array = _maybe_cache(arg, format, cache, convert_listlike)\n",
      "/Library/Frameworks/Python.framework/Versions/3.9/lib/python3.9/site-packages/pandas/core/tools/datetimes.py:1063: UserWarning: Parsing '16/01/2020' in DD/MM/YYYY format. Provide format or specify infer_datetime_format=True for consistent parsing.\n",
      "  cache_array = _maybe_cache(arg, format, cache, convert_listlike)\n",
      "/Library/Frameworks/Python.framework/Versions/3.9/lib/python3.9/site-packages/pandas/core/tools/datetimes.py:1063: UserWarning: Parsing '22/06/2020' in DD/MM/YYYY format. Provide format or specify infer_datetime_format=True for consistent parsing.\n",
      "  cache_array = _maybe_cache(arg, format, cache, convert_listlike)\n",
      "/Library/Frameworks/Python.framework/Versions/3.9/lib/python3.9/site-packages/pandas/core/tools/datetimes.py:1063: UserWarning: Parsing '16/04/2021' in DD/MM/YYYY format. Provide format or specify infer_datetime_format=True for consistent parsing.\n",
      "  cache_array = _maybe_cache(arg, format, cache, convert_listlike)\n",
      "/Library/Frameworks/Python.framework/Versions/3.9/lib/python3.9/site-packages/pandas/core/tools/datetimes.py:1063: UserWarning: Parsing '15/10/2020' in DD/MM/YYYY format. Provide format or specify infer_datetime_format=True for consistent parsing.\n",
      "  cache_array = _maybe_cache(arg, format, cache, convert_listlike)\n",
      "/Library/Frameworks/Python.framework/Versions/3.9/lib/python3.9/site-packages/pandas/core/tools/datetimes.py:1063: UserWarning: Parsing '18/02/2021' in DD/MM/YYYY format. Provide format or specify infer_datetime_format=True for consistent parsing.\n",
      "  cache_array = _maybe_cache(arg, format, cache, convert_listlike)\n",
      "/Library/Frameworks/Python.framework/Versions/3.9/lib/python3.9/site-packages/pandas/core/tools/datetimes.py:1063: UserWarning: Parsing '24/10/2019' in DD/MM/YYYY format. Provide format or specify infer_datetime_format=True for consistent parsing.\n",
      "  cache_array = _maybe_cache(arg, format, cache, convert_listlike)\n",
      "/Library/Frameworks/Python.framework/Versions/3.9/lib/python3.9/site-packages/pandas/core/tools/datetimes.py:1063: UserWarning: Parsing '27/11/2019' in DD/MM/YYYY format. Provide format or specify infer_datetime_format=True for consistent parsing.\n",
      "  cache_array = _maybe_cache(arg, format, cache, convert_listlike)\n",
      "/Library/Frameworks/Python.framework/Versions/3.9/lib/python3.9/site-packages/pandas/core/tools/datetimes.py:1063: UserWarning: Parsing '24/02/2022' in DD/MM/YYYY format. Provide format or specify infer_datetime_format=True for consistent parsing.\n",
      "  cache_array = _maybe_cache(arg, format, cache, convert_listlike)\n",
      "/Library/Frameworks/Python.framework/Versions/3.9/lib/python3.9/site-packages/pandas/core/tools/datetimes.py:1063: UserWarning: Parsing '16/09/2021' in DD/MM/YYYY format. Provide format or specify infer_datetime_format=True for consistent parsing.\n",
      "  cache_array = _maybe_cache(arg, format, cache, convert_listlike)\n",
      "/Library/Frameworks/Python.framework/Versions/3.9/lib/python3.9/site-packages/pandas/core/tools/datetimes.py:1063: UserWarning: Parsing '29/06/2020' in DD/MM/YYYY format. Provide format or specify infer_datetime_format=True for consistent parsing.\n",
      "  cache_array = _maybe_cache(arg, format, cache, convert_listlike)\n",
      "/Library/Frameworks/Python.framework/Versions/3.9/lib/python3.9/site-packages/pandas/core/tools/datetimes.py:1063: UserWarning: Parsing '30/04/2020' in DD/MM/YYYY format. Provide format or specify infer_datetime_format=True for consistent parsing.\n",
      "  cache_array = _maybe_cache(arg, format, cache, convert_listlike)\n",
      "/Library/Frameworks/Python.framework/Versions/3.9/lib/python3.9/site-packages/pandas/core/tools/datetimes.py:1063: UserWarning: Parsing '22/10/2020' in DD/MM/YYYY format. Provide format or specify infer_datetime_format=True for consistent parsing.\n",
      "  cache_array = _maybe_cache(arg, format, cache, convert_listlike)\n",
      "/Library/Frameworks/Python.framework/Versions/3.9/lib/python3.9/site-packages/pandas/core/tools/datetimes.py:1063: UserWarning: Parsing '23/12/2019' in DD/MM/YYYY format. Provide format or specify infer_datetime_format=True for consistent parsing.\n",
      "  cache_array = _maybe_cache(arg, format, cache, convert_listlike)\n",
      "/Library/Frameworks/Python.framework/Versions/3.9/lib/python3.9/site-packages/pandas/core/tools/datetimes.py:1063: UserWarning: Parsing '22/04/2021' in DD/MM/YYYY format. Provide format or specify infer_datetime_format=True for consistent parsing.\n",
      "  cache_array = _maybe_cache(arg, format, cache, convert_listlike)\n",
      "/Library/Frameworks/Python.framework/Versions/3.9/lib/python3.9/site-packages/pandas/core/tools/datetimes.py:1063: UserWarning: Parsing '23/04/2020' in DD/MM/YYYY format. Provide format or specify infer_datetime_format=True for consistent parsing.\n",
      "  cache_array = _maybe_cache(arg, format, cache, convert_listlike)\n",
      "/Library/Frameworks/Python.framework/Versions/3.9/lib/python3.9/site-packages/pandas/core/tools/datetimes.py:1063: UserWarning: Parsing '22/07/2020' in DD/MM/YYYY format. Provide format or specify infer_datetime_format=True for consistent parsing.\n",
      "  cache_array = _maybe_cache(arg, format, cache, convert_listlike)\n",
      "/Library/Frameworks/Python.framework/Versions/3.9/lib/python3.9/site-packages/pandas/core/tools/datetimes.py:1063: UserWarning: Parsing '27/07/2020' in DD/MM/YYYY format. Provide format or specify infer_datetime_format=True for consistent parsing.\n",
      "  cache_array = _maybe_cache(arg, format, cache, convert_listlike)\n",
      "/Library/Frameworks/Python.framework/Versions/3.9/lib/python3.9/site-packages/pandas/core/tools/datetimes.py:1063: UserWarning: Parsing '15/02/2021' in DD/MM/YYYY format. Provide format or specify infer_datetime_format=True for consistent parsing.\n",
      "  cache_array = _maybe_cache(arg, format, cache, convert_listlike)\n",
      "/Library/Frameworks/Python.framework/Versions/3.9/lib/python3.9/site-packages/pandas/core/tools/datetimes.py:1063: UserWarning: Parsing '20/12/2019' in DD/MM/YYYY format. Provide format or specify infer_datetime_format=True for consistent parsing.\n",
      "  cache_array = _maybe_cache(arg, format, cache, convert_listlike)\n",
      "/Library/Frameworks/Python.framework/Versions/3.9/lib/python3.9/site-packages/pandas/core/tools/datetimes.py:1063: UserWarning: Parsing '13/10/2020' in DD/MM/YYYY format. Provide format or specify infer_datetime_format=True for consistent parsing.\n",
      "  cache_array = _maybe_cache(arg, format, cache, convert_listlike)\n",
      "/Library/Frameworks/Python.framework/Versions/3.9/lib/python3.9/site-packages/pandas/core/tools/datetimes.py:1063: UserWarning: Parsing '31/07/2020' in DD/MM/YYYY format. Provide format or specify infer_datetime_format=True for consistent parsing.\n",
      "  cache_array = _maybe_cache(arg, format, cache, convert_listlike)\n",
      "/Library/Frameworks/Python.framework/Versions/3.9/lib/python3.9/site-packages/pandas/core/tools/datetimes.py:1063: UserWarning: Parsing '15/06/2020' in DD/MM/YYYY format. Provide format or specify infer_datetime_format=True for consistent parsing.\n",
      "  cache_array = _maybe_cache(arg, format, cache, convert_listlike)\n",
      "/Library/Frameworks/Python.framework/Versions/3.9/lib/python3.9/site-packages/pandas/core/tools/datetimes.py:1063: UserWarning: Parsing '13/12/2019' in DD/MM/YYYY format. Provide format or specify infer_datetime_format=True for consistent parsing.\n",
      "  cache_array = _maybe_cache(arg, format, cache, convert_listlike)\n",
      "/Library/Frameworks/Python.framework/Versions/3.9/lib/python3.9/site-packages/pandas/core/tools/datetimes.py:1063: UserWarning: Parsing '26/11/2019' in DD/MM/YYYY format. Provide format or specify infer_datetime_format=True for consistent parsing.\n",
      "  cache_array = _maybe_cache(arg, format, cache, convert_listlike)\n",
      "/Library/Frameworks/Python.framework/Versions/3.9/lib/python3.9/site-packages/pandas/core/tools/datetimes.py:1063: UserWarning: Parsing '22/01/2021' in DD/MM/YYYY format. Provide format or specify infer_datetime_format=True for consistent parsing.\n",
      "  cache_array = _maybe_cache(arg, format, cache, convert_listlike)\n",
      "/Library/Frameworks/Python.framework/Versions/3.9/lib/python3.9/site-packages/pandas/core/tools/datetimes.py:1063: UserWarning: Parsing '17/12/2019' in DD/MM/YYYY format. Provide format or specify infer_datetime_format=True for consistent parsing.\n",
      "  cache_array = _maybe_cache(arg, format, cache, convert_listlike)\n",
      "/Library/Frameworks/Python.framework/Versions/3.9/lib/python3.9/site-packages/pandas/core/tools/datetimes.py:1063: UserWarning: Parsing '28/07/2020' in DD/MM/YYYY format. Provide format or specify infer_datetime_format=True for consistent parsing.\n",
      "  cache_array = _maybe_cache(arg, format, cache, convert_listlike)\n",
      "/Library/Frameworks/Python.framework/Versions/3.9/lib/python3.9/site-packages/pandas/core/tools/datetimes.py:1063: UserWarning: Parsing '16/09/2020' in DD/MM/YYYY format. Provide format or specify infer_datetime_format=True for consistent parsing.\n",
      "  cache_array = _maybe_cache(arg, format, cache, convert_listlike)\n",
      "/Library/Frameworks/Python.framework/Versions/3.9/lib/python3.9/site-packages/pandas/core/tools/datetimes.py:1063: UserWarning: Parsing '21/09/2020' in DD/MM/YYYY format. Provide format or specify infer_datetime_format=True for consistent parsing.\n",
      "  cache_array = _maybe_cache(arg, format, cache, convert_listlike)\n",
      "/Library/Frameworks/Python.framework/Versions/3.9/lib/python3.9/site-packages/pandas/core/tools/datetimes.py:1063: UserWarning: Parsing '26/03/2021' in DD/MM/YYYY format. Provide format or specify infer_datetime_format=True for consistent parsing.\n",
      "  cache_array = _maybe_cache(arg, format, cache, convert_listlike)\n",
      "/Library/Frameworks/Python.framework/Versions/3.9/lib/python3.9/site-packages/pandas/core/tools/datetimes.py:1063: UserWarning: Parsing '20/05/2020' in DD/MM/YYYY format. Provide format or specify infer_datetime_format=True for consistent parsing.\n",
      "  cache_array = _maybe_cache(arg, format, cache, convert_listlike)\n",
      "/Library/Frameworks/Python.framework/Versions/3.9/lib/python3.9/site-packages/pandas/core/tools/datetimes.py:1063: UserWarning: Parsing '14/06/2021' in DD/MM/YYYY format. Provide format or specify infer_datetime_format=True for consistent parsing.\n",
      "  cache_array = _maybe_cache(arg, format, cache, convert_listlike)\n",
      "/Library/Frameworks/Python.framework/Versions/3.9/lib/python3.9/site-packages/pandas/core/tools/datetimes.py:1063: UserWarning: Parsing '17/02/2021' in DD/MM/YYYY format. Provide format or specify infer_datetime_format=True for consistent parsing.\n",
      "  cache_array = _maybe_cache(arg, format, cache, convert_listlike)\n",
      "/Library/Frameworks/Python.framework/Versions/3.9/lib/python3.9/site-packages/pandas/core/tools/datetimes.py:1063: UserWarning: Parsing '26/01/2021' in DD/MM/YYYY format. Provide format or specify infer_datetime_format=True for consistent parsing.\n",
      "  cache_array = _maybe_cache(arg, format, cache, convert_listlike)\n",
      "/Library/Frameworks/Python.framework/Versions/3.9/lib/python3.9/site-packages/pandas/core/tools/datetimes.py:1063: UserWarning: Parsing '30/01/2020' in DD/MM/YYYY format. Provide format or specify infer_datetime_format=True for consistent parsing.\n",
      "  cache_array = _maybe_cache(arg, format, cache, convert_listlike)\n",
      "/Library/Frameworks/Python.framework/Versions/3.9/lib/python3.9/site-packages/pandas/core/tools/datetimes.py:1063: UserWarning: Parsing '28/08/2020' in DD/MM/YYYY format. Provide format or specify infer_datetime_format=True for consistent parsing.\n",
      "  cache_array = _maybe_cache(arg, format, cache, convert_listlike)\n",
      "/Library/Frameworks/Python.framework/Versions/3.9/lib/python3.9/site-packages/pandas/core/tools/datetimes.py:1063: UserWarning: Parsing '27/04/2021' in DD/MM/YYYY format. Provide format or specify infer_datetime_format=True for consistent parsing.\n",
      "  cache_array = _maybe_cache(arg, format, cache, convert_listlike)\n",
      "/Library/Frameworks/Python.framework/Versions/3.9/lib/python3.9/site-packages/pandas/core/tools/datetimes.py:1063: UserWarning: Parsing '24/11/2020' in DD/MM/YYYY format. Provide format or specify infer_datetime_format=True for consistent parsing.\n",
      "  cache_array = _maybe_cache(arg, format, cache, convert_listlike)\n",
      "/Library/Frameworks/Python.framework/Versions/3.9/lib/python3.9/site-packages/pandas/core/tools/datetimes.py:1063: UserWarning: Parsing '16/11/2020' in DD/MM/YYYY format. Provide format or specify infer_datetime_format=True for consistent parsing.\n",
      "  cache_array = _maybe_cache(arg, format, cache, convert_listlike)\n",
      "/Library/Frameworks/Python.framework/Versions/3.9/lib/python3.9/site-packages/pandas/core/tools/datetimes.py:1063: UserWarning: Parsing '30/06/2020' in DD/MM/YYYY format. Provide format or specify infer_datetime_format=True for consistent parsing.\n",
      "  cache_array = _maybe_cache(arg, format, cache, convert_listlike)\n",
      "/Library/Frameworks/Python.framework/Versions/3.9/lib/python3.9/site-packages/pandas/core/tools/datetimes.py:1063: UserWarning: Parsing '23/03/2020' in DD/MM/YYYY format. Provide format or specify infer_datetime_format=True for consistent parsing.\n",
      "  cache_array = _maybe_cache(arg, format, cache, convert_listlike)\n",
      "/Library/Frameworks/Python.framework/Versions/3.9/lib/python3.9/site-packages/pandas/core/tools/datetimes.py:1063: UserWarning: Parsing '19/06/2020' in DD/MM/YYYY format. Provide format or specify infer_datetime_format=True for consistent parsing.\n",
      "  cache_array = _maybe_cache(arg, format, cache, convert_listlike)\n",
      "/Library/Frameworks/Python.framework/Versions/3.9/lib/python3.9/site-packages/pandas/core/tools/datetimes.py:1063: UserWarning: Parsing '30/07/2020' in DD/MM/YYYY format. Provide format or specify infer_datetime_format=True for consistent parsing.\n",
      "  cache_array = _maybe_cache(arg, format, cache, convert_listlike)\n",
      "/Library/Frameworks/Python.framework/Versions/3.9/lib/python3.9/site-packages/pandas/core/tools/datetimes.py:1063: UserWarning: Parsing '18/02/2020' in DD/MM/YYYY format. Provide format or specify infer_datetime_format=True for consistent parsing.\n",
      "  cache_array = _maybe_cache(arg, format, cache, convert_listlike)\n",
      "/Library/Frameworks/Python.framework/Versions/3.9/lib/python3.9/site-packages/pandas/core/tools/datetimes.py:1063: UserWarning: Parsing '21/10/2020' in DD/MM/YYYY format. Provide format or specify infer_datetime_format=True for consistent parsing.\n",
      "  cache_array = _maybe_cache(arg, format, cache, convert_listlike)\n",
      "/Library/Frameworks/Python.framework/Versions/3.9/lib/python3.9/site-packages/pandas/core/tools/datetimes.py:1063: UserWarning: Parsing '27/05/2020' in DD/MM/YYYY format. Provide format or specify infer_datetime_format=True for consistent parsing.\n",
      "  cache_array = _maybe_cache(arg, format, cache, convert_listlike)\n",
      "/Library/Frameworks/Python.framework/Versions/3.9/lib/python3.9/site-packages/pandas/core/tools/datetimes.py:1063: UserWarning: Parsing '28/09/2020' in DD/MM/YYYY format. Provide format or specify infer_datetime_format=True for consistent parsing.\n",
      "  cache_array = _maybe_cache(arg, format, cache, convert_listlike)\n",
      "/Library/Frameworks/Python.framework/Versions/3.9/lib/python3.9/site-packages/pandas/core/tools/datetimes.py:1063: UserWarning: Parsing '18/04/2020' in DD/MM/YYYY format. Provide format or specify infer_datetime_format=True for consistent parsing.\n",
      "  cache_array = _maybe_cache(arg, format, cache, convert_listlike)\n",
      "/Library/Frameworks/Python.framework/Versions/3.9/lib/python3.9/site-packages/pandas/core/tools/datetimes.py:1063: UserWarning: Parsing '30/11/2021' in DD/MM/YYYY format. Provide format or specify infer_datetime_format=True for consistent parsing.\n",
      "  cache_array = _maybe_cache(arg, format, cache, convert_listlike)\n",
      "/Library/Frameworks/Python.framework/Versions/3.9/lib/python3.9/site-packages/pandas/core/tools/datetimes.py:1063: UserWarning: Parsing '25/05/2020' in DD/MM/YYYY format. Provide format or specify infer_datetime_format=True for consistent parsing.\n",
      "  cache_array = _maybe_cache(arg, format, cache, convert_listlike)\n",
      "/Library/Frameworks/Python.framework/Versions/3.9/lib/python3.9/site-packages/pandas/core/tools/datetimes.py:1063: UserWarning: Parsing '24/09/2020' in DD/MM/YYYY format. Provide format or specify infer_datetime_format=True for consistent parsing.\n",
      "  cache_array = _maybe_cache(arg, format, cache, convert_listlike)\n",
      "/Library/Frameworks/Python.framework/Versions/3.9/lib/python3.9/site-packages/pandas/core/tools/datetimes.py:1063: UserWarning: Parsing '17/09/2020' in DD/MM/YYYY format. Provide format or specify infer_datetime_format=True for consistent parsing.\n",
      "  cache_array = _maybe_cache(arg, format, cache, convert_listlike)\n",
      "/Library/Frameworks/Python.framework/Versions/3.9/lib/python3.9/site-packages/pandas/core/tools/datetimes.py:1063: UserWarning: Parsing '23/07/2020' in DD/MM/YYYY format. Provide format or specify infer_datetime_format=True for consistent parsing.\n",
      "  cache_array = _maybe_cache(arg, format, cache, convert_listlike)\n",
      "/Library/Frameworks/Python.framework/Versions/3.9/lib/python3.9/site-packages/pandas/core/tools/datetimes.py:1063: UserWarning: Parsing '30/10/2020' in DD/MM/YYYY format. Provide format or specify infer_datetime_format=True for consistent parsing.\n",
      "  cache_array = _maybe_cache(arg, format, cache, convert_listlike)\n",
      "/Library/Frameworks/Python.framework/Versions/3.9/lib/python3.9/site-packages/pandas/core/tools/datetimes.py:1063: UserWarning: Parsing '29/04/2021' in DD/MM/YYYY format. Provide format or specify infer_datetime_format=True for consistent parsing.\n",
      "  cache_array = _maybe_cache(arg, format, cache, convert_listlike)\n",
      "/Library/Frameworks/Python.framework/Versions/3.9/lib/python3.9/site-packages/pandas/core/tools/datetimes.py:1063: UserWarning: Parsing '13/09/2021' in DD/MM/YYYY format. Provide format or specify infer_datetime_format=True for consistent parsing.\n",
      "  cache_array = _maybe_cache(arg, format, cache, convert_listlike)\n",
      "/Library/Frameworks/Python.framework/Versions/3.9/lib/python3.9/site-packages/pandas/core/tools/datetimes.py:1063: UserWarning: Parsing '28/01/2021' in DD/MM/YYYY format. Provide format or specify infer_datetime_format=True for consistent parsing.\n",
      "  cache_array = _maybe_cache(arg, format, cache, convert_listlike)\n",
      "/Library/Frameworks/Python.framework/Versions/3.9/lib/python3.9/site-packages/pandas/core/tools/datetimes.py:1063: UserWarning: Parsing '26/02/2021' in DD/MM/YYYY format. Provide format or specify infer_datetime_format=True for consistent parsing.\n",
      "  cache_array = _maybe_cache(arg, format, cache, convert_listlike)\n",
      "/Library/Frameworks/Python.framework/Versions/3.9/lib/python3.9/site-packages/pandas/core/tools/datetimes.py:1063: UserWarning: Parsing '24/06/2020' in DD/MM/YYYY format. Provide format or specify infer_datetime_format=True for consistent parsing.\n",
      "  cache_array = _maybe_cache(arg, format, cache, convert_listlike)\n",
      "/Library/Frameworks/Python.framework/Versions/3.9/lib/python3.9/site-packages/pandas/core/tools/datetimes.py:1063: UserWarning: Parsing '22/03/2021' in DD/MM/YYYY format. Provide format or specify infer_datetime_format=True for consistent parsing.\n",
      "  cache_array = _maybe_cache(arg, format, cache, convert_listlike)\n",
      "/Library/Frameworks/Python.framework/Versions/3.9/lib/python3.9/site-packages/pandas/core/tools/datetimes.py:1063: UserWarning: Parsing '29/07/2021' in DD/MM/YYYY format. Provide format or specify infer_datetime_format=True for consistent parsing.\n",
      "  cache_array = _maybe_cache(arg, format, cache, convert_listlike)\n",
      "/Library/Frameworks/Python.framework/Versions/3.9/lib/python3.9/site-packages/pandas/core/tools/datetimes.py:1063: UserWarning: Parsing '24/02/2021' in DD/MM/YYYY format. Provide format or specify infer_datetime_format=True for consistent parsing.\n",
      "  cache_array = _maybe_cache(arg, format, cache, convert_listlike)\n",
      "/Library/Frameworks/Python.framework/Versions/3.9/lib/python3.9/site-packages/pandas/core/tools/datetimes.py:1063: UserWarning: Parsing '27/11/2020' in DD/MM/YYYY format. Provide format or specify infer_datetime_format=True for consistent parsing.\n",
      "  cache_array = _maybe_cache(arg, format, cache, convert_listlike)\n",
      "/Library/Frameworks/Python.framework/Versions/3.9/lib/python3.9/site-packages/pandas/core/tools/datetimes.py:1063: UserWarning: Parsing '26/10/2020' in DD/MM/YYYY format. Provide format or specify infer_datetime_format=True for consistent parsing.\n",
      "  cache_array = _maybe_cache(arg, format, cache, convert_listlike)\n",
      "/Library/Frameworks/Python.framework/Versions/3.9/lib/python3.9/site-packages/pandas/core/tools/datetimes.py:1063: UserWarning: Parsing '19/10/2020' in DD/MM/YYYY format. Provide format or specify infer_datetime_format=True for consistent parsing.\n",
      "  cache_array = _maybe_cache(arg, format, cache, convert_listlike)\n",
      "/Library/Frameworks/Python.framework/Versions/3.9/lib/python3.9/site-packages/pandas/core/tools/datetimes.py:1063: UserWarning: Parsing '28/10/2020' in DD/MM/YYYY format. Provide format or specify infer_datetime_format=True for consistent parsing.\n",
      "  cache_array = _maybe_cache(arg, format, cache, convert_listlike)\n",
      "/Library/Frameworks/Python.framework/Versions/3.9/lib/python3.9/site-packages/pandas/core/tools/datetimes.py:1063: UserWarning: Parsing '18/06/2020' in DD/MM/YYYY format. Provide format or specify infer_datetime_format=True for consistent parsing.\n",
      "  cache_array = _maybe_cache(arg, format, cache, convert_listlike)\n",
      "/Library/Frameworks/Python.framework/Versions/3.9/lib/python3.9/site-packages/pandas/core/tools/datetimes.py:1063: UserWarning: Parsing '17/04/2020' in DD/MM/YYYY format. Provide format or specify infer_datetime_format=True for consistent parsing.\n",
      "  cache_array = _maybe_cache(arg, format, cache, convert_listlike)\n",
      "/Library/Frameworks/Python.framework/Versions/3.9/lib/python3.9/site-packages/pandas/core/tools/datetimes.py:1063: UserWarning: Parsing '29/03/2021' in DD/MM/YYYY format. Provide format or specify infer_datetime_format=True for consistent parsing.\n",
      "  cache_array = _maybe_cache(arg, format, cache, convert_listlike)\n",
      "/Library/Frameworks/Python.framework/Versions/3.9/lib/python3.9/site-packages/pandas/core/tools/datetimes.py:1063: UserWarning: Parsing '15/04/2021' in DD/MM/YYYY format. Provide format or specify infer_datetime_format=True for consistent parsing.\n",
      "  cache_array = _maybe_cache(arg, format, cache, convert_listlike)\n",
      "/Library/Frameworks/Python.framework/Versions/3.9/lib/python3.9/site-packages/pandas/core/tools/datetimes.py:1063: UserWarning: Parsing '26/08/2021' in DD/MM/YYYY format. Provide format or specify infer_datetime_format=True for consistent parsing.\n",
      "  cache_array = _maybe_cache(arg, format, cache, convert_listlike)\n",
      "/Library/Frameworks/Python.framework/Versions/3.9/lib/python3.9/site-packages/pandas/core/tools/datetimes.py:1063: UserWarning: Parsing '14/04/2020' in DD/MM/YYYY format. Provide format or specify infer_datetime_format=True for consistent parsing.\n",
      "  cache_array = _maybe_cache(arg, format, cache, convert_listlike)\n",
      "/Library/Frameworks/Python.framework/Versions/3.9/lib/python3.9/site-packages/pandas/core/tools/datetimes.py:1063: UserWarning: Parsing '26/04/2021' in DD/MM/YYYY format. Provide format or specify infer_datetime_format=True for consistent parsing.\n",
      "  cache_array = _maybe_cache(arg, format, cache, convert_listlike)\n",
      "/Library/Frameworks/Python.framework/Versions/3.9/lib/python3.9/site-packages/pandas/core/tools/datetimes.py:1063: UserWarning: Parsing '18/06/2021' in DD/MM/YYYY format. Provide format or specify infer_datetime_format=True for consistent parsing.\n",
      "  cache_array = _maybe_cache(arg, format, cache, convert_listlike)\n",
      "/Library/Frameworks/Python.framework/Versions/3.9/lib/python3.9/site-packages/pandas/core/tools/datetimes.py:1063: UserWarning: Parsing '20/10/2020' in DD/MM/YYYY format. Provide format or specify infer_datetime_format=True for consistent parsing.\n",
      "  cache_array = _maybe_cache(arg, format, cache, convert_listlike)\n",
      "/Library/Frameworks/Python.framework/Versions/3.9/lib/python3.9/site-packages/pandas/core/tools/datetimes.py:1063: UserWarning: Parsing '25/06/2020' in DD/MM/YYYY format. Provide format or specify infer_datetime_format=True for consistent parsing.\n",
      "  cache_array = _maybe_cache(arg, format, cache, convert_listlike)\n",
      "/Library/Frameworks/Python.framework/Versions/3.9/lib/python3.9/site-packages/pandas/core/tools/datetimes.py:1063: UserWarning: Parsing '23/11/2021' in DD/MM/YYYY format. Provide format or specify infer_datetime_format=True for consistent parsing.\n",
      "  cache_array = _maybe_cache(arg, format, cache, convert_listlike)\n",
      "/Library/Frameworks/Python.framework/Versions/3.9/lib/python3.9/site-packages/pandas/core/tools/datetimes.py:1063: UserWarning: Parsing '26/10/2021' in DD/MM/YYYY format. Provide format or specify infer_datetime_format=True for consistent parsing.\n",
      "  cache_array = _maybe_cache(arg, format, cache, convert_listlike)\n",
      "/Library/Frameworks/Python.framework/Versions/3.9/lib/python3.9/site-packages/pandas/core/tools/datetimes.py:1063: UserWarning: Parsing '31/03/2022' in DD/MM/YYYY format. Provide format or specify infer_datetime_format=True for consistent parsing.\n",
      "  cache_array = _maybe_cache(arg, format, cache, convert_listlike)\n",
      "/Library/Frameworks/Python.framework/Versions/3.9/lib/python3.9/site-packages/pandas/core/tools/datetimes.py:1063: UserWarning: Parsing '30/11/2020' in DD/MM/YYYY format. Provide format or specify infer_datetime_format=True for consistent parsing.\n",
      "  cache_array = _maybe_cache(arg, format, cache, convert_listlike)\n",
      "/Library/Frameworks/Python.framework/Versions/3.9/lib/python3.9/site-packages/pandas/core/tools/datetimes.py:1063: UserWarning: Parsing '17/07/2020' in DD/MM/YYYY format. Provide format or specify infer_datetime_format=True for consistent parsing.\n",
      "  cache_array = _maybe_cache(arg, format, cache, convert_listlike)\n",
      "/Library/Frameworks/Python.framework/Versions/3.9/lib/python3.9/site-packages/pandas/core/tools/datetimes.py:1063: UserWarning: Parsing '20/07/2020' in DD/MM/YYYY format. Provide format or specify infer_datetime_format=True for consistent parsing.\n",
      "  cache_array = _maybe_cache(arg, format, cache, convert_listlike)\n",
      "/Library/Frameworks/Python.framework/Versions/3.9/lib/python3.9/site-packages/pandas/core/tools/datetimes.py:1063: UserWarning: Parsing '17/05/2020' in DD/MM/YYYY format. Provide format or specify infer_datetime_format=True for consistent parsing.\n",
      "  cache_array = _maybe_cache(arg, format, cache, convert_listlike)\n",
      "/Library/Frameworks/Python.framework/Versions/3.9/lib/python3.9/site-packages/pandas/core/tools/datetimes.py:1063: UserWarning: Parsing '23/06/2021' in DD/MM/YYYY format. Provide format or specify infer_datetime_format=True for consistent parsing.\n",
      "  cache_array = _maybe_cache(arg, format, cache, convert_listlike)\n",
      "/Library/Frameworks/Python.framework/Versions/3.9/lib/python3.9/site-packages/pandas/core/tools/datetimes.py:1063: UserWarning: Parsing '24/03/2021' in DD/MM/YYYY format. Provide format or specify infer_datetime_format=True for consistent parsing.\n",
      "  cache_array = _maybe_cache(arg, format, cache, convert_listlike)\n",
      "/Library/Frameworks/Python.framework/Versions/3.9/lib/python3.9/site-packages/pandas/core/tools/datetimes.py:1063: UserWarning: Parsing '23/04/2021' in DD/MM/YYYY format. Provide format or specify infer_datetime_format=True for consistent parsing.\n",
      "  cache_array = _maybe_cache(arg, format, cache, convert_listlike)\n",
      "/Library/Frameworks/Python.framework/Versions/3.9/lib/python3.9/site-packages/pandas/core/tools/datetimes.py:1063: UserWarning: Parsing '16/07/2021' in DD/MM/YYYY format. Provide format or specify infer_datetime_format=True for consistent parsing.\n",
      "  cache_array = _maybe_cache(arg, format, cache, convert_listlike)\n",
      "/Library/Frameworks/Python.framework/Versions/3.9/lib/python3.9/site-packages/pandas/core/tools/datetimes.py:1063: UserWarning: Parsing '25/01/2021' in DD/MM/YYYY format. Provide format or specify infer_datetime_format=True for consistent parsing.\n",
      "  cache_array = _maybe_cache(arg, format, cache, convert_listlike)\n",
      "/Library/Frameworks/Python.framework/Versions/3.9/lib/python3.9/site-packages/pandas/core/tools/datetimes.py:1063: UserWarning: Parsing '25/03/2020' in DD/MM/YYYY format. Provide format or specify infer_datetime_format=True for consistent parsing.\n",
      "  cache_array = _maybe_cache(arg, format, cache, convert_listlike)\n",
      "/Library/Frameworks/Python.framework/Versions/3.9/lib/python3.9/site-packages/pandas/core/tools/datetimes.py:1063: UserWarning: Parsing '26/11/2020' in DD/MM/YYYY format. Provide format or specify infer_datetime_format=True for consistent parsing.\n",
      "  cache_array = _maybe_cache(arg, format, cache, convert_listlike)\n",
      "/Library/Frameworks/Python.framework/Versions/3.9/lib/python3.9/site-packages/pandas/core/tools/datetimes.py:1063: UserWarning: Parsing '22/09/2021' in DD/MM/YYYY format. Provide format or specify infer_datetime_format=True for consistent parsing.\n",
      "  cache_array = _maybe_cache(arg, format, cache, convert_listlike)\n",
      "/Library/Frameworks/Python.framework/Versions/3.9/lib/python3.9/site-packages/pandas/core/tools/datetimes.py:1063: UserWarning: Parsing '31/08/2021' in DD/MM/YYYY format. Provide format or specify infer_datetime_format=True for consistent parsing.\n",
      "  cache_array = _maybe_cache(arg, format, cache, convert_listlike)\n",
      "/Library/Frameworks/Python.framework/Versions/3.9/lib/python3.9/site-packages/pandas/core/tools/datetimes.py:1063: UserWarning: Parsing '30/08/2021' in DD/MM/YYYY format. Provide format or specify infer_datetime_format=True for consistent parsing.\n",
      "  cache_array = _maybe_cache(arg, format, cache, convert_listlike)\n",
      "/Library/Frameworks/Python.framework/Versions/3.9/lib/python3.9/site-packages/pandas/core/tools/datetimes.py:1063: UserWarning: Parsing '26/06/2020' in DD/MM/YYYY format. Provide format or specify infer_datetime_format=True for consistent parsing.\n",
      "  cache_array = _maybe_cache(arg, format, cache, convert_listlike)\n",
      "/Library/Frameworks/Python.framework/Versions/3.9/lib/python3.9/site-packages/pandas/core/tools/datetimes.py:1063: UserWarning: Parsing '29/09/2020' in DD/MM/YYYY format. Provide format or specify infer_datetime_format=True for consistent parsing.\n",
      "  cache_array = _maybe_cache(arg, format, cache, convert_listlike)\n",
      "/Library/Frameworks/Python.framework/Versions/3.9/lib/python3.9/site-packages/pandas/core/tools/datetimes.py:1063: UserWarning: Parsing '27/03/2020' in DD/MM/YYYY format. Provide format or specify infer_datetime_format=True for consistent parsing.\n",
      "  cache_array = _maybe_cache(arg, format, cache, convert_listlike)\n",
      "/Library/Frameworks/Python.framework/Versions/3.9/lib/python3.9/site-packages/pandas/core/tools/datetimes.py:1063: UserWarning: Parsing '13/01/2021' in DD/MM/YYYY format. Provide format or specify infer_datetime_format=True for consistent parsing.\n",
      "  cache_array = _maybe_cache(arg, format, cache, convert_listlike)\n",
      "/Library/Frameworks/Python.framework/Versions/3.9/lib/python3.9/site-packages/pandas/core/tools/datetimes.py:1063: UserWarning: Parsing '14/01/2021' in DD/MM/YYYY format. Provide format or specify infer_datetime_format=True for consistent parsing.\n",
      "  cache_array = _maybe_cache(arg, format, cache, convert_listlike)\n",
      "/Library/Frameworks/Python.framework/Versions/3.9/lib/python3.9/site-packages/pandas/core/tools/datetimes.py:1063: UserWarning: Parsing '27/10/2020' in DD/MM/YYYY format. Provide format or specify infer_datetime_format=True for consistent parsing.\n",
      "  cache_array = _maybe_cache(arg, format, cache, convert_listlike)\n",
      "/Library/Frameworks/Python.framework/Versions/3.9/lib/python3.9/site-packages/pandas/core/tools/datetimes.py:1063: UserWarning: Parsing '21/12/2020' in DD/MM/YYYY format. Provide format or specify infer_datetime_format=True for consistent parsing.\n",
      "  cache_array = _maybe_cache(arg, format, cache, convert_listlike)\n",
      "/Library/Frameworks/Python.framework/Versions/3.9/lib/python3.9/site-packages/pandas/core/tools/datetimes.py:1063: UserWarning: Parsing '30/03/2020' in DD/MM/YYYY format. Provide format or specify infer_datetime_format=True for consistent parsing.\n",
      "  cache_array = _maybe_cache(arg, format, cache, convert_listlike)\n",
      "/Library/Frameworks/Python.framework/Versions/3.9/lib/python3.9/site-packages/pandas/core/tools/datetimes.py:1063: UserWarning: Parsing '29/03/2020' in DD/MM/YYYY format. Provide format or specify infer_datetime_format=True for consistent parsing.\n",
      "  cache_array = _maybe_cache(arg, format, cache, convert_listlike)\n",
      "/Library/Frameworks/Python.framework/Versions/3.9/lib/python3.9/site-packages/pandas/core/tools/datetimes.py:1063: UserWarning: Parsing '19/03/2020' in DD/MM/YYYY format. Provide format or specify infer_datetime_format=True for consistent parsing.\n",
      "  cache_array = _maybe_cache(arg, format, cache, convert_listlike)\n",
      "/Library/Frameworks/Python.framework/Versions/3.9/lib/python3.9/site-packages/pandas/core/tools/datetimes.py:1063: UserWarning: Parsing '31/03/2020' in DD/MM/YYYY format. Provide format or specify infer_datetime_format=True for consistent parsing.\n",
      "  cache_array = _maybe_cache(arg, format, cache, convert_listlike)\n",
      "/Library/Frameworks/Python.framework/Versions/3.9/lib/python3.9/site-packages/pandas/core/tools/datetimes.py:1063: UserWarning: Parsing '28/03/2020' in DD/MM/YYYY format. Provide format or specify infer_datetime_format=True for consistent parsing.\n",
      "  cache_array = _maybe_cache(arg, format, cache, convert_listlike)\n",
      "/Library/Frameworks/Python.framework/Versions/3.9/lib/python3.9/site-packages/pandas/core/tools/datetimes.py:1063: UserWarning: Parsing '23/11/2020' in DD/MM/YYYY format. Provide format or specify infer_datetime_format=True for consistent parsing.\n",
      "  cache_array = _maybe_cache(arg, format, cache, convert_listlike)\n",
      "/Library/Frameworks/Python.framework/Versions/3.9/lib/python3.9/site-packages/pandas/core/tools/datetimes.py:1063: UserWarning: Parsing '14/10/2020' in DD/MM/YYYY format. Provide format or specify infer_datetime_format=True for consistent parsing.\n",
      "  cache_array = _maybe_cache(arg, format, cache, convert_listlike)\n",
      "/Library/Frameworks/Python.framework/Versions/3.9/lib/python3.9/site-packages/pandas/core/tools/datetimes.py:1063: UserWarning: Parsing '25/03/2021' in DD/MM/YYYY format. Provide format or specify infer_datetime_format=True for consistent parsing.\n",
      "  cache_array = _maybe_cache(arg, format, cache, convert_listlike)\n",
      "/Library/Frameworks/Python.framework/Versions/3.9/lib/python3.9/site-packages/pandas/core/tools/datetimes.py:1063: UserWarning: Parsing '23/09/2020' in DD/MM/YYYY format. Provide format or specify infer_datetime_format=True for consistent parsing.\n",
      "  cache_array = _maybe_cache(arg, format, cache, convert_listlike)\n",
      "/Library/Frameworks/Python.framework/Versions/3.9/lib/python3.9/site-packages/pandas/core/tools/datetimes.py:1063: UserWarning: Parsing '26/08/2020' in DD/MM/YYYY format. Provide format or specify infer_datetime_format=True for consistent parsing.\n",
      "  cache_array = _maybe_cache(arg, format, cache, convert_listlike)\n",
      "/Library/Frameworks/Python.framework/Versions/3.9/lib/python3.9/site-packages/pandas/core/tools/datetimes.py:1063: UserWarning: Parsing '13/04/2020' in DD/MM/YYYY format. Provide format or specify infer_datetime_format=True for consistent parsing.\n",
      "  cache_array = _maybe_cache(arg, format, cache, convert_listlike)\n",
      "/Library/Frameworks/Python.framework/Versions/3.9/lib/python3.9/site-packages/pandas/core/tools/datetimes.py:1063: UserWarning: Parsing '16/03/2021' in DD/MM/YYYY format. Provide format or specify infer_datetime_format=True for consistent parsing.\n",
      "  cache_array = _maybe_cache(arg, format, cache, convert_listlike)\n",
      "/Library/Frameworks/Python.framework/Versions/3.9/lib/python3.9/site-packages/pandas/core/tools/datetimes.py:1063: UserWarning: Parsing '18/09/2020' in DD/MM/YYYY format. Provide format or specify infer_datetime_format=True for consistent parsing.\n",
      "  cache_array = _maybe_cache(arg, format, cache, convert_listlike)\n",
      "/Library/Frameworks/Python.framework/Versions/3.9/lib/python3.9/site-packages/pandas/core/tools/datetimes.py:1063: UserWarning: Parsing '19/10/2021' in DD/MM/YYYY format. Provide format or specify infer_datetime_format=True for consistent parsing.\n",
      "  cache_array = _maybe_cache(arg, format, cache, convert_listlike)\n",
      "/Library/Frameworks/Python.framework/Versions/3.9/lib/python3.9/site-packages/pandas/core/tools/datetimes.py:1063: UserWarning: Parsing '31/08/2020' in DD/MM/YYYY format. Provide format or specify infer_datetime_format=True for consistent parsing.\n",
      "  cache_array = _maybe_cache(arg, format, cache, convert_listlike)\n",
      "/Library/Frameworks/Python.framework/Versions/3.9/lib/python3.9/site-packages/pandas/core/tools/datetimes.py:1063: UserWarning: Parsing '17/11/2021' in DD/MM/YYYY format. Provide format or specify infer_datetime_format=True for consistent parsing.\n",
      "  cache_array = _maybe_cache(arg, format, cache, convert_listlike)\n",
      "/Library/Frameworks/Python.framework/Versions/3.9/lib/python3.9/site-packages/pandas/core/tools/datetimes.py:1063: UserWarning: Parsing '18/10/2021' in DD/MM/YYYY format. Provide format or specify infer_datetime_format=True for consistent parsing.\n",
      "  cache_array = _maybe_cache(arg, format, cache, convert_listlike)\n",
      "/Library/Frameworks/Python.framework/Versions/3.9/lib/python3.9/site-packages/pandas/core/tools/datetimes.py:1063: UserWarning: Parsing '25/02/2022' in DD/MM/YYYY format. Provide format or specify infer_datetime_format=True for consistent parsing.\n",
      "  cache_array = _maybe_cache(arg, format, cache, convert_listlike)\n",
      "/Library/Frameworks/Python.framework/Versions/3.9/lib/python3.9/site-packages/pandas/core/tools/datetimes.py:1063: UserWarning: Parsing '25/05/2021' in DD/MM/YYYY format. Provide format or specify infer_datetime_format=True for consistent parsing.\n",
      "  cache_array = _maybe_cache(arg, format, cache, convert_listlike)\n",
      "/Library/Frameworks/Python.framework/Versions/3.9/lib/python3.9/site-packages/pandas/core/tools/datetimes.py:1063: UserWarning: Parsing '21/07/2020' in DD/MM/YYYY format. Provide format or specify infer_datetime_format=True for consistent parsing.\n",
      "  cache_array = _maybe_cache(arg, format, cache, convert_listlike)\n",
      "/Library/Frameworks/Python.framework/Versions/3.9/lib/python3.9/site-packages/pandas/core/tools/datetimes.py:1063: UserWarning: Parsing '18/03/2021' in DD/MM/YYYY format. Provide format or specify infer_datetime_format=True for consistent parsing.\n",
      "  cache_array = _maybe_cache(arg, format, cache, convert_listlike)\n",
      "/Library/Frameworks/Python.framework/Versions/3.9/lib/python3.9/site-packages/pandas/core/tools/datetimes.py:1063: UserWarning: Parsing '28/07/2021' in DD/MM/YYYY format. Provide format or specify infer_datetime_format=True for consistent parsing.\n",
      "  cache_array = _maybe_cache(arg, format, cache, convert_listlike)\n",
      "/Library/Frameworks/Python.framework/Versions/3.9/lib/python3.9/site-packages/pandas/core/tools/datetimes.py:1063: UserWarning: Parsing '22/12/2020' in DD/MM/YYYY format. Provide format or specify infer_datetime_format=True for consistent parsing.\n",
      "  cache_array = _maybe_cache(arg, format, cache, convert_listlike)\n",
      "/Library/Frameworks/Python.framework/Versions/3.9/lib/python3.9/site-packages/pandas/core/tools/datetimes.py:1063: UserWarning: Parsing '18/01/2021' in DD/MM/YYYY format. Provide format or specify infer_datetime_format=True for consistent parsing.\n",
      "  cache_array = _maybe_cache(arg, format, cache, convert_listlike)\n",
      "/Library/Frameworks/Python.framework/Versions/3.9/lib/python3.9/site-packages/pandas/core/tools/datetimes.py:1063: UserWarning: Parsing '23/12/2020' in DD/MM/YYYY format. Provide format or specify infer_datetime_format=True for consistent parsing.\n",
      "  cache_array = _maybe_cache(arg, format, cache, convert_listlike)\n",
      "/Library/Frameworks/Python.framework/Versions/3.9/lib/python3.9/site-packages/pandas/core/tools/datetimes.py:1063: UserWarning: Parsing '15/07/2020' in DD/MM/YYYY format. Provide format or specify infer_datetime_format=True for consistent parsing.\n",
      "  cache_array = _maybe_cache(arg, format, cache, convert_listlike)\n",
      "/Library/Frameworks/Python.framework/Versions/3.9/lib/python3.9/site-packages/pandas/core/tools/datetimes.py:1063: UserWarning: Parsing '21/04/2021' in DD/MM/YYYY format. Provide format or specify infer_datetime_format=True for consistent parsing.\n",
      "  cache_array = _maybe_cache(arg, format, cache, convert_listlike)\n",
      "/Library/Frameworks/Python.framework/Versions/3.9/lib/python3.9/site-packages/pandas/core/tools/datetimes.py:1063: UserWarning: Parsing '18/12/2020' in DD/MM/YYYY format. Provide format or specify infer_datetime_format=True for consistent parsing.\n",
      "  cache_array = _maybe_cache(arg, format, cache, convert_listlike)\n",
      "/Library/Frameworks/Python.framework/Versions/3.9/lib/python3.9/site-packages/pandas/core/tools/datetimes.py:1063: UserWarning: Parsing '20/11/2020' in DD/MM/YYYY format. Provide format or specify infer_datetime_format=True for consistent parsing.\n",
      "  cache_array = _maybe_cache(arg, format, cache, convert_listlike)\n",
      "/Library/Frameworks/Python.framework/Versions/3.9/lib/python3.9/site-packages/pandas/core/tools/datetimes.py:1063: UserWarning: Parsing '21/07/2021' in DD/MM/YYYY format. Provide format or specify infer_datetime_format=True for consistent parsing.\n",
      "  cache_array = _maybe_cache(arg, format, cache, convert_listlike)\n",
      "/Library/Frameworks/Python.framework/Versions/3.9/lib/python3.9/site-packages/pandas/core/tools/datetimes.py:1063: UserWarning: Parsing '25/07/2020' in DD/MM/YYYY format. Provide format or specify infer_datetime_format=True for consistent parsing.\n",
      "  cache_array = _maybe_cache(arg, format, cache, convert_listlike)\n",
      "/Library/Frameworks/Python.framework/Versions/3.9/lib/python3.9/site-packages/pandas/core/tools/datetimes.py:1063: UserWarning: Parsing '19/03/2021' in DD/MM/YYYY format. Provide format or specify infer_datetime_format=True for consistent parsing.\n",
      "  cache_array = _maybe_cache(arg, format, cache, convert_listlike)\n",
      "/Library/Frameworks/Python.framework/Versions/3.9/lib/python3.9/site-packages/pandas/core/tools/datetimes.py:1063: UserWarning: Parsing '19/11/2020' in DD/MM/YYYY format. Provide format or specify infer_datetime_format=True for consistent parsing.\n",
      "  cache_array = _maybe_cache(arg, format, cache, convert_listlike)\n",
      "/Library/Frameworks/Python.framework/Versions/3.9/lib/python3.9/site-packages/pandas/core/tools/datetimes.py:1063: UserWarning: Parsing '25/08/2020' in DD/MM/YYYY format. Provide format or specify infer_datetime_format=True for consistent parsing.\n",
      "  cache_array = _maybe_cache(arg, format, cache, convert_listlike)\n",
      "/Library/Frameworks/Python.framework/Versions/3.9/lib/python3.9/site-packages/pandas/core/tools/datetimes.py:1063: UserWarning: Parsing '25/02/2021' in DD/MM/YYYY format. Provide format or specify infer_datetime_format=True for consistent parsing.\n",
      "  cache_array = _maybe_cache(arg, format, cache, convert_listlike)\n",
      "/Library/Frameworks/Python.framework/Versions/3.9/lib/python3.9/site-packages/pandas/core/tools/datetimes.py:1063: UserWarning: Parsing '21/01/2021' in DD/MM/YYYY format. Provide format or specify infer_datetime_format=True for consistent parsing.\n",
      "  cache_array = _maybe_cache(arg, format, cache, convert_listlike)\n",
      "/Library/Frameworks/Python.framework/Versions/3.9/lib/python3.9/site-packages/pandas/core/tools/datetimes.py:1063: UserWarning: Parsing '22/02/2022' in DD/MM/YYYY format. Provide format or specify infer_datetime_format=True for consistent parsing.\n",
      "  cache_array = _maybe_cache(arg, format, cache, convert_listlike)\n",
      "/Library/Frameworks/Python.framework/Versions/3.9/lib/python3.9/site-packages/pandas/core/tools/datetimes.py:1063: UserWarning: Parsing '14/02/2022' in DD/MM/YYYY format. Provide format or specify infer_datetime_format=True for consistent parsing.\n",
      "  cache_array = _maybe_cache(arg, format, cache, convert_listlike)\n",
      "/Library/Frameworks/Python.framework/Versions/3.9/lib/python3.9/site-packages/pandas/core/tools/datetimes.py:1063: UserWarning: Parsing '27/01/2022' in DD/MM/YYYY format. Provide format or specify infer_datetime_format=True for consistent parsing.\n",
      "  cache_array = _maybe_cache(arg, format, cache, convert_listlike)\n",
      "/Library/Frameworks/Python.framework/Versions/3.9/lib/python3.9/site-packages/pandas/core/tools/datetimes.py:1063: UserWarning: Parsing '27/08/2020' in DD/MM/YYYY format. Provide format or specify infer_datetime_format=True for consistent parsing.\n",
      "  cache_array = _maybe_cache(arg, format, cache, convert_listlike)\n",
      "/Library/Frameworks/Python.framework/Versions/3.9/lib/python3.9/site-packages/pandas/core/tools/datetimes.py:1063: UserWarning: Parsing '17/03/2022' in DD/MM/YYYY format. Provide format or specify infer_datetime_format=True for consistent parsing.\n",
      "  cache_array = _maybe_cache(arg, format, cache, convert_listlike)\n",
      "/Library/Frameworks/Python.framework/Versions/3.9/lib/python3.9/site-packages/pandas/core/tools/datetimes.py:1063: UserWarning: Parsing '23/02/2021' in DD/MM/YYYY format. Provide format or specify infer_datetime_format=True for consistent parsing.\n",
      "  cache_array = _maybe_cache(arg, format, cache, convert_listlike)\n",
      "/Library/Frameworks/Python.framework/Versions/3.9/lib/python3.9/site-packages/pandas/core/tools/datetimes.py:1063: UserWarning: Parsing '16/10/2020' in DD/MM/YYYY format. Provide format or specify infer_datetime_format=True for consistent parsing.\n",
      "  cache_array = _maybe_cache(arg, format, cache, convert_listlike)\n",
      "/Library/Frameworks/Python.framework/Versions/3.9/lib/python3.9/site-packages/pandas/core/tools/datetimes.py:1063: UserWarning: Parsing '27/09/2021' in DD/MM/YYYY format. Provide format or specify infer_datetime_format=True for consistent parsing.\n",
      "  cache_array = _maybe_cache(arg, format, cache, convert_listlike)\n",
      "/Library/Frameworks/Python.framework/Versions/3.9/lib/python3.9/site-packages/pandas/core/tools/datetimes.py:1063: UserWarning: Parsing '17/09/2021' in DD/MM/YYYY format. Provide format or specify infer_datetime_format=True for consistent parsing.\n",
      "  cache_array = _maybe_cache(arg, format, cache, convert_listlike)\n",
      "/Library/Frameworks/Python.framework/Versions/3.9/lib/python3.9/site-packages/pandas/core/tools/datetimes.py:1063: UserWarning: Parsing '27/07/2021' in DD/MM/YYYY format. Provide format or specify infer_datetime_format=True for consistent parsing.\n",
      "  cache_array = _maybe_cache(arg, format, cache, convert_listlike)\n",
      "/Library/Frameworks/Python.framework/Versions/3.9/lib/python3.9/site-packages/pandas/core/tools/datetimes.py:1063: UserWarning: Parsing '30/09/2021' in DD/MM/YYYY format. Provide format or specify infer_datetime_format=True for consistent parsing.\n",
      "  cache_array = _maybe_cache(arg, format, cache, convert_listlike)\n",
      "/Library/Frameworks/Python.framework/Versions/3.9/lib/python3.9/site-packages/pandas/core/tools/datetimes.py:1063: UserWarning: Parsing '20/04/2021' in DD/MM/YYYY format. Provide format or specify infer_datetime_format=True for consistent parsing.\n",
      "  cache_array = _maybe_cache(arg, format, cache, convert_listlike)\n",
      "/Library/Frameworks/Python.framework/Versions/3.9/lib/python3.9/site-packages/pandas/core/tools/datetimes.py:1063: UserWarning: Parsing '28/04/2021' in DD/MM/YYYY format. Provide format or specify infer_datetime_format=True for consistent parsing.\n",
      "  cache_array = _maybe_cache(arg, format, cache, convert_listlike)\n",
      "/Library/Frameworks/Python.framework/Versions/3.9/lib/python3.9/site-packages/pandas/core/tools/datetimes.py:1063: UserWarning: Parsing '27/01/2021' in DD/MM/YYYY format. Provide format or specify infer_datetime_format=True for consistent parsing.\n",
      "  cache_array = _maybe_cache(arg, format, cache, convert_listlike)\n",
      "/Library/Frameworks/Python.framework/Versions/3.9/lib/python3.9/site-packages/pandas/core/tools/datetimes.py:1063: UserWarning: Parsing '19/05/2021' in DD/MM/YYYY format. Provide format or specify infer_datetime_format=True for consistent parsing.\n",
      "  cache_array = _maybe_cache(arg, format, cache, convert_listlike)\n",
      "/Library/Frameworks/Python.framework/Versions/3.9/lib/python3.9/site-packages/pandas/core/tools/datetimes.py:1063: UserWarning: Parsing '26/05/2021' in DD/MM/YYYY format. Provide format or specify infer_datetime_format=True for consistent parsing.\n",
      "  cache_array = _maybe_cache(arg, format, cache, convert_listlike)\n",
      "/Library/Frameworks/Python.framework/Versions/3.9/lib/python3.9/site-packages/pandas/core/tools/datetimes.py:1063: UserWarning: Parsing '30/07/2021' in DD/MM/YYYY format. Provide format or specify infer_datetime_format=True for consistent parsing.\n",
      "  cache_array = _maybe_cache(arg, format, cache, convert_listlike)\n",
      "/Library/Frameworks/Python.framework/Versions/3.9/lib/python3.9/site-packages/pandas/core/tools/datetimes.py:1063: UserWarning: Parsing '21/05/2021' in DD/MM/YYYY format. Provide format or specify infer_datetime_format=True for consistent parsing.\n",
      "  cache_array = _maybe_cache(arg, format, cache, convert_listlike)\n",
      "/Library/Frameworks/Python.framework/Versions/3.9/lib/python3.9/site-packages/pandas/core/tools/datetimes.py:1063: UserWarning: Parsing '14/05/2021' in DD/MM/YYYY format. Provide format or specify infer_datetime_format=True for consistent parsing.\n",
      "  cache_array = _maybe_cache(arg, format, cache, convert_listlike)\n",
      "/Library/Frameworks/Python.framework/Versions/3.9/lib/python3.9/site-packages/pandas/core/tools/datetimes.py:1063: UserWarning: Parsing '31/05/2021' in DD/MM/YYYY format. Provide format or specify infer_datetime_format=True for consistent parsing.\n",
      "  cache_array = _maybe_cache(arg, format, cache, convert_listlike)\n",
      "/Library/Frameworks/Python.framework/Versions/3.9/lib/python3.9/site-packages/pandas/core/tools/datetimes.py:1063: UserWarning: Parsing '22/03/2022' in DD/MM/YYYY format. Provide format or specify infer_datetime_format=True for consistent parsing.\n",
      "  cache_array = _maybe_cache(arg, format, cache, convert_listlike)\n",
      "/Library/Frameworks/Python.framework/Versions/3.9/lib/python3.9/site-packages/pandas/core/tools/datetimes.py:1063: UserWarning: Parsing '28/10/2021' in DD/MM/YYYY format. Provide format or specify infer_datetime_format=True for consistent parsing.\n",
      "  cache_array = _maybe_cache(arg, format, cache, convert_listlike)\n",
      "/Library/Frameworks/Python.framework/Versions/3.9/lib/python3.9/site-packages/pandas/core/tools/datetimes.py:1063: UserWarning: Parsing '18/05/2021' in DD/MM/YYYY format. Provide format or specify infer_datetime_format=True for consistent parsing.\n",
      "  cache_array = _maybe_cache(arg, format, cache, convert_listlike)\n",
      "/Library/Frameworks/Python.framework/Versions/3.9/lib/python3.9/site-packages/pandas/core/tools/datetimes.py:1063: UserWarning: Parsing '27/10/2021' in DD/MM/YYYY format. Provide format or specify infer_datetime_format=True for consistent parsing.\n",
      "  cache_array = _maybe_cache(arg, format, cache, convert_listlike)\n",
      "/Library/Frameworks/Python.framework/Versions/3.9/lib/python3.9/site-packages/pandas/core/tools/datetimes.py:1063: UserWarning: Parsing '21/10/2021' in DD/MM/YYYY format. Provide format or specify infer_datetime_format=True for consistent parsing.\n",
      "  cache_array = _maybe_cache(arg, format, cache, convert_listlike)\n",
      "/Library/Frameworks/Python.framework/Versions/3.9/lib/python3.9/site-packages/pandas/core/tools/datetimes.py:1063: UserWarning: Parsing '14/10/2021' in DD/MM/YYYY format. Provide format or specify infer_datetime_format=True for consistent parsing.\n",
      "  cache_array = _maybe_cache(arg, format, cache, convert_listlike)\n",
      "/Library/Frameworks/Python.framework/Versions/3.9/lib/python3.9/site-packages/pandas/core/tools/datetimes.py:1063: UserWarning: Parsing '14/01/2022' in DD/MM/YYYY format. Provide format or specify infer_datetime_format=True for consistent parsing.\n",
      "  cache_array = _maybe_cache(arg, format, cache, convert_listlike)\n",
      "/Library/Frameworks/Python.framework/Versions/3.9/lib/python3.9/site-packages/pandas/core/tools/datetimes.py:1063: UserWarning: Parsing '25/06/2021' in DD/MM/YYYY format. Provide format or specify infer_datetime_format=True for consistent parsing.\n",
      "  cache_array = _maybe_cache(arg, format, cache, convert_listlike)\n",
      "/Library/Frameworks/Python.framework/Versions/3.9/lib/python3.9/site-packages/pandas/core/tools/datetimes.py:1063: UserWarning: Parsing '28/06/2021' in DD/MM/YYYY format. Provide format or specify infer_datetime_format=True for consistent parsing.\n",
      "  cache_array = _maybe_cache(arg, format, cache, convert_listlike)\n",
      "/Library/Frameworks/Python.framework/Versions/3.9/lib/python3.9/site-packages/pandas/core/tools/datetimes.py:1063: UserWarning: Parsing '17/01/2022' in DD/MM/YYYY format. Provide format or specify infer_datetime_format=True for consistent parsing.\n",
      "  cache_array = _maybe_cache(arg, format, cache, convert_listlike)\n",
      "/Library/Frameworks/Python.framework/Versions/3.9/lib/python3.9/site-packages/pandas/core/tools/datetimes.py:1063: UserWarning: Parsing '20/05/2021' in DD/MM/YYYY format. Provide format or specify infer_datetime_format=True for consistent parsing.\n",
      "  cache_array = _maybe_cache(arg, format, cache, convert_listlike)\n",
      "/Library/Frameworks/Python.framework/Versions/3.9/lib/python3.9/site-packages/pandas/core/tools/datetimes.py:1063: UserWarning: Parsing '13/11/2020' in DD/MM/YYYY format. Provide format or specify infer_datetime_format=True for consistent parsing.\n",
      "  cache_array = _maybe_cache(arg, format, cache, convert_listlike)\n",
      "/Library/Frameworks/Python.framework/Versions/3.9/lib/python3.9/site-packages/pandas/core/tools/datetimes.py:1063: UserWarning: Parsing '24/11/2021' in DD/MM/YYYY format. Provide format or specify infer_datetime_format=True for consistent parsing.\n",
      "  cache_array = _maybe_cache(arg, format, cache, convert_listlike)\n",
      "/Library/Frameworks/Python.framework/Versions/3.9/lib/python3.9/site-packages/pandas/core/tools/datetimes.py:1063: UserWarning: Parsing '23/07/2021' in DD/MM/YYYY format. Provide format or specify infer_datetime_format=True for consistent parsing.\n",
      "  cache_array = _maybe_cache(arg, format, cache, convert_listlike)\n",
      "/Library/Frameworks/Python.framework/Versions/3.9/lib/python3.9/site-packages/pandas/core/tools/datetimes.py:1063: UserWarning: Parsing '28/09/2021' in DD/MM/YYYY format. Provide format or specify infer_datetime_format=True for consistent parsing.\n",
      "  cache_array = _maybe_cache(arg, format, cache, convert_listlike)\n",
      "/Library/Frameworks/Python.framework/Versions/3.9/lib/python3.9/site-packages/pandas/core/tools/datetimes.py:1063: UserWarning: Parsing '15/03/2022' in DD/MM/YYYY format. Provide format or specify infer_datetime_format=True for consistent parsing.\n",
      "  cache_array = _maybe_cache(arg, format, cache, convert_listlike)\n",
      "/Library/Frameworks/Python.framework/Versions/3.9/lib/python3.9/site-packages/pandas/core/tools/datetimes.py:1063: UserWarning: Parsing '28/02/2022' in DD/MM/YYYY format. Provide format or specify infer_datetime_format=True for consistent parsing.\n",
      "  cache_array = _maybe_cache(arg, format, cache, convert_listlike)\n",
      "/Library/Frameworks/Python.framework/Versions/3.9/lib/python3.9/site-packages/pandas/core/tools/datetimes.py:1063: UserWarning: Parsing '30/04/2021' in DD/MM/YYYY format. Provide format or specify infer_datetime_format=True for consistent parsing.\n",
      "  cache_array = _maybe_cache(arg, format, cache, convert_listlike)\n",
      "/Library/Frameworks/Python.framework/Versions/3.9/lib/python3.9/site-packages/pandas/core/tools/datetimes.py:1063: UserWarning: Parsing '29/06/2021' in DD/MM/YYYY format. Provide format or specify infer_datetime_format=True for consistent parsing.\n",
      "  cache_array = _maybe_cache(arg, format, cache, convert_listlike)\n",
      "/Library/Frameworks/Python.framework/Versions/3.9/lib/python3.9/site-packages/pandas/core/tools/datetimes.py:1063: UserWarning: Parsing '19/02/2021' in DD/MM/YYYY format. Provide format or specify infer_datetime_format=True for consistent parsing.\n",
      "  cache_array = _maybe_cache(arg, format, cache, convert_listlike)\n",
      "/Library/Frameworks/Python.framework/Versions/3.9/lib/python3.9/site-packages/pandas/core/tools/datetimes.py:1063: UserWarning: Parsing '21/06/2021' in DD/MM/YYYY format. Provide format or specify infer_datetime_format=True for consistent parsing.\n",
      "  cache_array = _maybe_cache(arg, format, cache, convert_listlike)\n",
      "/Library/Frameworks/Python.framework/Versions/3.9/lib/python3.9/site-packages/pandas/core/tools/datetimes.py:1063: UserWarning: Parsing '20/01/2021' in DD/MM/YYYY format. Provide format or specify infer_datetime_format=True for consistent parsing.\n",
      "  cache_array = _maybe_cache(arg, format, cache, convert_listlike)\n",
      "/Library/Frameworks/Python.framework/Versions/3.9/lib/python3.9/site-packages/pandas/core/tools/datetimes.py:1063: UserWarning: Parsing '24/05/2021' in DD/MM/YYYY format. Provide format or specify infer_datetime_format=True for consistent parsing.\n",
      "  cache_array = _maybe_cache(arg, format, cache, convert_listlike)\n",
      "/Library/Frameworks/Python.framework/Versions/3.9/lib/python3.9/site-packages/pandas/core/tools/datetimes.py:1063: UserWarning: Parsing '15/07/2021' in DD/MM/YYYY format. Provide format or specify infer_datetime_format=True for consistent parsing.\n",
      "  cache_array = _maybe_cache(arg, format, cache, convert_listlike)\n",
      "/Library/Frameworks/Python.framework/Versions/3.9/lib/python3.9/site-packages/pandas/core/tools/datetimes.py:1063: UserWarning: Parsing '24/10/2020' in DD/MM/YYYY format. Provide format or specify infer_datetime_format=True for consistent parsing.\n",
      "  cache_array = _maybe_cache(arg, format, cache, convert_listlike)\n",
      "/Library/Frameworks/Python.framework/Versions/3.9/lib/python3.9/site-packages/pandas/core/tools/datetimes.py:1063: UserWarning: Parsing '29/01/2021' in DD/MM/YYYY format. Provide format or specify infer_datetime_format=True for consistent parsing.\n",
      "  cache_array = _maybe_cache(arg, format, cache, convert_listlike)\n",
      "/Library/Frameworks/Python.framework/Versions/3.9/lib/python3.9/site-packages/pandas/core/tools/datetimes.py:1063: UserWarning: Parsing '26/07/2021' in DD/MM/YYYY format. Provide format or specify infer_datetime_format=True for consistent parsing.\n",
      "  cache_array = _maybe_cache(arg, format, cache, convert_listlike)\n",
      "/Library/Frameworks/Python.framework/Versions/3.9/lib/python3.9/site-packages/pandas/core/tools/datetimes.py:1063: UserWarning: Parsing '16/02/2021' in DD/MM/YYYY format. Provide format or specify infer_datetime_format=True for consistent parsing.\n",
      "  cache_array = _maybe_cache(arg, format, cache, convert_listlike)\n",
      "/Library/Frameworks/Python.framework/Versions/3.9/lib/python3.9/site-packages/pandas/core/tools/datetimes.py:1063: UserWarning: Parsing '17/05/2021' in DD/MM/YYYY format. Provide format or specify infer_datetime_format=True for consistent parsing.\n",
      "  cache_array = _maybe_cache(arg, format, cache, convert_listlike)\n",
      "/Library/Frameworks/Python.framework/Versions/3.9/lib/python3.9/site-packages/pandas/core/tools/datetimes.py:1063: UserWarning: Parsing '14/09/2021' in DD/MM/YYYY format. Provide format or specify infer_datetime_format=True for consistent parsing.\n",
      "  cache_array = _maybe_cache(arg, format, cache, convert_listlike)\n",
      "/Library/Frameworks/Python.framework/Versions/3.9/lib/python3.9/site-packages/pandas/core/tools/datetimes.py:1063: UserWarning: Parsing '24/06/2021' in DD/MM/YYYY format. Provide format or specify infer_datetime_format=True for consistent parsing.\n",
      "  cache_array = _maybe_cache(arg, format, cache, convert_listlike)\n",
      "/Library/Frameworks/Python.framework/Versions/3.9/lib/python3.9/site-packages/pandas/core/tools/datetimes.py:1063: UserWarning: Parsing '30/06/2021' in DD/MM/YYYY format. Provide format or specify infer_datetime_format=True for consistent parsing.\n",
      "  cache_array = _maybe_cache(arg, format, cache, convert_listlike)\n",
      "/Library/Frameworks/Python.framework/Versions/3.9/lib/python3.9/site-packages/pandas/core/tools/datetimes.py:1063: UserWarning: Parsing '19/07/2021' in DD/MM/YYYY format. Provide format or specify infer_datetime_format=True for consistent parsing.\n",
      "  cache_array = _maybe_cache(arg, format, cache, convert_listlike)\n",
      "/Library/Frameworks/Python.framework/Versions/3.9/lib/python3.9/site-packages/pandas/core/tools/datetimes.py:1063: UserWarning: Parsing '27/05/2021' in DD/MM/YYYY format. Provide format or specify infer_datetime_format=True for consistent parsing.\n",
      "  cache_array = _maybe_cache(arg, format, cache, convert_listlike)\n",
      "/Library/Frameworks/Python.framework/Versions/3.9/lib/python3.9/site-packages/pandas/core/tools/datetimes.py:1063: UserWarning: Parsing '18/11/2021' in DD/MM/YYYY format. Provide format or specify infer_datetime_format=True for consistent parsing.\n",
      "  cache_array = _maybe_cache(arg, format, cache, convert_listlike)\n",
      "/Library/Frameworks/Python.framework/Versions/3.9/lib/python3.9/site-packages/pandas/core/tools/datetimes.py:1063: UserWarning: Parsing '14/11/2020' in DD/MM/YYYY format. Provide format or specify infer_datetime_format=True for consistent parsing.\n",
      "  cache_array = _maybe_cache(arg, format, cache, convert_listlike)\n",
      "/Library/Frameworks/Python.framework/Versions/3.9/lib/python3.9/site-packages/pandas/core/tools/datetimes.py:1063: UserWarning: Parsing '19/04/2021' in DD/MM/YYYY format. Provide format or specify infer_datetime_format=True for consistent parsing.\n",
      "  cache_array = _maybe_cache(arg, format, cache, convert_listlike)\n",
      "/Library/Frameworks/Python.framework/Versions/3.9/lib/python3.9/site-packages/pandas/core/tools/datetimes.py:1063: UserWarning: Parsing '21/11/2020' in DD/MM/YYYY format. Provide format or specify infer_datetime_format=True for consistent parsing.\n",
      "  cache_array = _maybe_cache(arg, format, cache, convert_listlike)\n",
      "/Library/Frameworks/Python.framework/Versions/3.9/lib/python3.9/site-packages/pandas/core/tools/datetimes.py:1063: UserWarning: Parsing '14/03/2022' in DD/MM/YYYY format. Provide format or specify infer_datetime_format=True for consistent parsing.\n",
      "  cache_array = _maybe_cache(arg, format, cache, convert_listlike)\n",
      "/Library/Frameworks/Python.framework/Versions/3.9/lib/python3.9/site-packages/pandas/core/tools/datetimes.py:1063: UserWarning: Parsing '23/03/2022' in DD/MM/YYYY format. Provide format or specify infer_datetime_format=True for consistent parsing.\n",
      "  cache_array = _maybe_cache(arg, format, cache, convert_listlike)\n",
      "/Library/Frameworks/Python.framework/Versions/3.9/lib/python3.9/site-packages/pandas/core/tools/datetimes.py:1063: UserWarning: Parsing '28/01/2022' in DD/MM/YYYY format. Provide format or specify infer_datetime_format=True for consistent parsing.\n",
      "  cache_array = _maybe_cache(arg, format, cache, convert_listlike)\n",
      "/Library/Frameworks/Python.framework/Versions/3.9/lib/python3.9/site-packages/pandas/core/tools/datetimes.py:1063: UserWarning: Parsing '22/12/2021' in DD/MM/YYYY format. Provide format or specify infer_datetime_format=True for consistent parsing.\n",
      "  cache_array = _maybe_cache(arg, format, cache, convert_listlike)\n",
      "/Library/Frameworks/Python.framework/Versions/3.9/lib/python3.9/site-packages/pandas/core/tools/datetimes.py:1063: UserWarning: Parsing '21/03/2022' in DD/MM/YYYY format. Provide format or specify infer_datetime_format=True for consistent parsing.\n",
      "  cache_array = _maybe_cache(arg, format, cache, convert_listlike)\n",
      "/Library/Frameworks/Python.framework/Versions/3.9/lib/python3.9/site-packages/pandas/core/tools/datetimes.py:1063: UserWarning: Parsing '22/10/2021' in DD/MM/YYYY format. Provide format or specify infer_datetime_format=True for consistent parsing.\n",
      "  cache_array = _maybe_cache(arg, format, cache, convert_listlike)\n",
      "/Library/Frameworks/Python.framework/Versions/3.9/lib/python3.9/site-packages/pandas/core/tools/datetimes.py:1063: UserWarning: Parsing '15/12/2021' in DD/MM/YYYY format. Provide format or specify infer_datetime_format=True for consistent parsing.\n",
      "  cache_array = _maybe_cache(arg, format, cache, convert_listlike)\n",
      "/Library/Frameworks/Python.framework/Versions/3.9/lib/python3.9/site-packages/pandas/core/tools/datetimes.py:1063: UserWarning: Parsing '13/04/2021' in DD/MM/YYYY format. Provide format or specify infer_datetime_format=True for consistent parsing.\n",
      "  cache_array = _maybe_cache(arg, format, cache, convert_listlike)\n",
      "/Library/Frameworks/Python.framework/Versions/3.9/lib/python3.9/site-packages/pandas/core/tools/datetimes.py:1063: UserWarning: Parsing '30/03/2021' in DD/MM/YYYY format. Provide format or specify infer_datetime_format=True for consistent parsing.\n",
      "  cache_array = _maybe_cache(arg, format, cache, convert_listlike)\n",
      "/Library/Frameworks/Python.framework/Versions/3.9/lib/python3.9/site-packages/pandas/core/tools/datetimes.py:1063: UserWarning: Parsing '20/12/2020' in DD/MM/YYYY format. Provide format or specify infer_datetime_format=True for consistent parsing.\n",
      "  cache_array = _maybe_cache(arg, format, cache, convert_listlike)\n",
      "/Library/Frameworks/Python.framework/Versions/3.9/lib/python3.9/site-packages/pandas/core/tools/datetimes.py:1063: UserWarning: Parsing '16/06/2021' in DD/MM/YYYY format. Provide format or specify infer_datetime_format=True for consistent parsing.\n",
      "  cache_array = _maybe_cache(arg, format, cache, convert_listlike)\n",
      "/Library/Frameworks/Python.framework/Versions/3.9/lib/python3.9/site-packages/pandas/core/tools/datetimes.py:1063: UserWarning: Parsing '22/07/2021' in DD/MM/YYYY format. Provide format or specify infer_datetime_format=True for consistent parsing.\n",
      "  cache_array = _maybe_cache(arg, format, cache, convert_listlike)\n",
      "/Library/Frameworks/Python.framework/Versions/3.9/lib/python3.9/site-packages/pandas/core/tools/datetimes.py:1063: UserWarning: Parsing '20/09/2021' in DD/MM/YYYY format. Provide format or specify infer_datetime_format=True for consistent parsing.\n",
      "  cache_array = _maybe_cache(arg, format, cache, convert_listlike)\n",
      "/Library/Frameworks/Python.framework/Versions/3.9/lib/python3.9/site-packages/pandas/core/tools/datetimes.py:1063: UserWarning: Parsing '15/09/2021' in DD/MM/YYYY format. Provide format or specify infer_datetime_format=True for consistent parsing.\n",
      "  cache_array = _maybe_cache(arg, format, cache, convert_listlike)\n",
      "/Library/Frameworks/Python.framework/Versions/3.9/lib/python3.9/site-packages/pandas/core/tools/datetimes.py:1063: UserWarning: Parsing '29/09/2021' in DD/MM/YYYY format. Provide format or specify infer_datetime_format=True for consistent parsing.\n",
      "  cache_array = _maybe_cache(arg, format, cache, convert_listlike)\n",
      "/Library/Frameworks/Python.framework/Versions/3.9/lib/python3.9/site-packages/pandas/core/tools/datetimes.py:1063: UserWarning: Parsing '24/03/2022' in DD/MM/YYYY format. Provide format or specify infer_datetime_format=True for consistent parsing.\n",
      "  cache_array = _maybe_cache(arg, format, cache, convert_listlike)\n",
      "/Library/Frameworks/Python.framework/Versions/3.9/lib/python3.9/site-packages/pandas/core/tools/datetimes.py:1063: UserWarning: Parsing '20/01/2022' in DD/MM/YYYY format. Provide format or specify infer_datetime_format=True for consistent parsing.\n",
      "  cache_array = _maybe_cache(arg, format, cache, convert_listlike)\n",
      "/Library/Frameworks/Python.framework/Versions/3.9/lib/python3.9/site-packages/pandas/core/tools/datetimes.py:1063: UserWarning: Parsing '14/12/2021' in DD/MM/YYYY format. Provide format or specify infer_datetime_format=True for consistent parsing.\n",
      "  cache_array = _maybe_cache(arg, format, cache, convert_listlike)\n",
      "/Library/Frameworks/Python.framework/Versions/3.9/lib/python3.9/site-packages/pandas/core/tools/datetimes.py:1063: UserWarning: Parsing '23/12/2021' in DD/MM/YYYY format. Provide format or specify infer_datetime_format=True for consistent parsing.\n",
      "  cache_array = _maybe_cache(arg, format, cache, convert_listlike)\n",
      "/Library/Frameworks/Python.framework/Versions/3.9/lib/python3.9/site-packages/pandas/core/tools/datetimes.py:1063: UserWarning: Parsing '21/01/2022' in DD/MM/YYYY format. Provide format or specify infer_datetime_format=True for consistent parsing.\n",
      "  cache_array = _maybe_cache(arg, format, cache, convert_listlike)\n",
      "/Library/Frameworks/Python.framework/Versions/3.9/lib/python3.9/site-packages/pandas/core/tools/datetimes.py:1063: UserWarning: Parsing '17/12/2021' in DD/MM/YYYY format. Provide format or specify infer_datetime_format=True for consistent parsing.\n",
      "  cache_array = _maybe_cache(arg, format, cache, convert_listlike)\n",
      "/Library/Frameworks/Python.framework/Versions/3.9/lib/python3.9/site-packages/pandas/core/tools/datetimes.py:1063: UserWarning: Parsing '18/03/2022' in DD/MM/YYYY format. Provide format or specify infer_datetime_format=True for consistent parsing.\n",
      "  cache_array = _maybe_cache(arg, format, cache, convert_listlike)\n",
      "/Library/Frameworks/Python.framework/Versions/3.9/lib/python3.9/site-packages/pandas/core/tools/datetimes.py:1063: UserWarning: Parsing '27/08/2021' in DD/MM/YYYY format. Provide format or specify infer_datetime_format=True for consistent parsing.\n",
      "  cache_array = _maybe_cache(arg, format, cache, convert_listlike)\n",
      "/Library/Frameworks/Python.framework/Versions/3.9/lib/python3.9/site-packages/pandas/core/tools/datetimes.py:1063: UserWarning: Parsing '20/07/2021' in DD/MM/YYYY format. Provide format or specify infer_datetime_format=True for consistent parsing.\n",
      "  cache_array = _maybe_cache(arg, format, cache, convert_listlike)\n",
      "/Library/Frameworks/Python.framework/Versions/3.9/lib/python3.9/site-packages/pandas/core/tools/datetimes.py:1063: UserWarning: Parsing '20/10/2021' in DD/MM/YYYY format. Provide format or specify infer_datetime_format=True for consistent parsing.\n",
      "  cache_array = _maybe_cache(arg, format, cache, convert_listlike)\n",
      "/Library/Frameworks/Python.framework/Versions/3.9/lib/python3.9/site-packages/pandas/core/tools/datetimes.py:1063: UserWarning: Parsing '22/06/2021' in DD/MM/YYYY format. Provide format or specify infer_datetime_format=True for consistent parsing.\n",
      "  cache_array = _maybe_cache(arg, format, cache, convert_listlike)\n",
      "/Library/Frameworks/Python.framework/Versions/3.9/lib/python3.9/site-packages/pandas/core/tools/datetimes.py:1063: UserWarning: Parsing '13/02/2021' in DD/MM/YYYY format. Provide format or specify infer_datetime_format=True for consistent parsing.\n",
      "  cache_array = _maybe_cache(arg, format, cache, convert_listlike)\n",
      "/Library/Frameworks/Python.framework/Versions/3.9/lib/python3.9/site-packages/pandas/core/tools/datetimes.py:1063: UserWarning: Parsing '31/01/2022' in DD/MM/YYYY format. Provide format or specify infer_datetime_format=True for consistent parsing.\n",
      "  cache_array = _maybe_cache(arg, format, cache, convert_listlike)\n",
      "/Library/Frameworks/Python.framework/Versions/3.9/lib/python3.9/site-packages/pandas/core/tools/datetimes.py:1063: UserWarning: Parsing '19/01/2022' in DD/MM/YYYY format. Provide format or specify infer_datetime_format=True for consistent parsing.\n",
      "  cache_array = _maybe_cache(arg, format, cache, convert_listlike)\n",
      "/Library/Frameworks/Python.framework/Versions/3.9/lib/python3.9/site-packages/pandas/core/tools/datetimes.py:1063: UserWarning: Parsing '24/08/2021' in DD/MM/YYYY format. Provide format or specify infer_datetime_format=True for consistent parsing.\n",
      "  cache_array = _maybe_cache(arg, format, cache, convert_listlike)\n",
      "/Library/Frameworks/Python.framework/Versions/3.9/lib/python3.9/site-packages/pandas/core/tools/datetimes.py:1063: UserWarning: Parsing '20/02/2021' in DD/MM/YYYY format. Provide format or specify infer_datetime_format=True for consistent parsing.\n",
      "  cache_array = _maybe_cache(arg, format, cache, convert_listlike)\n",
      "/Library/Frameworks/Python.framework/Versions/3.9/lib/python3.9/site-packages/pandas/core/tools/datetimes.py:1063: UserWarning: Parsing '14/04/2021' in DD/MM/YYYY format. Provide format or specify infer_datetime_format=True for consistent parsing.\n",
      "  cache_array = _maybe_cache(arg, format, cache, convert_listlike)\n",
      "/Library/Frameworks/Python.framework/Versions/3.9/lib/python3.9/site-packages/pandas/core/tools/datetimes.py:1063: UserWarning: Parsing '21/12/2021' in DD/MM/YYYY format. Provide format or specify infer_datetime_format=True for consistent parsing.\n",
      "  cache_array = _maybe_cache(arg, format, cache, convert_listlike)\n",
      "/Library/Frameworks/Python.framework/Versions/3.9/lib/python3.9/site-packages/pandas/core/tools/datetimes.py:1063: UserWarning: Parsing '23/09/2021' in DD/MM/YYYY format. Provide format or specify infer_datetime_format=True for consistent parsing.\n",
      "  cache_array = _maybe_cache(arg, format, cache, convert_listlike)\n",
      "/Library/Frameworks/Python.framework/Versions/3.9/lib/python3.9/site-packages/pandas/core/tools/datetimes.py:1063: UserWarning: Parsing '20/03/2021' in DD/MM/YYYY format. Provide format or specify infer_datetime_format=True for consistent parsing.\n",
      "  cache_array = _maybe_cache(arg, format, cache, convert_listlike)\n",
      "/Library/Frameworks/Python.framework/Versions/3.9/lib/python3.9/site-packages/pandas/core/tools/datetimes.py:1063: UserWarning: Parsing '13/01/2022' in DD/MM/YYYY format. Provide format or specify infer_datetime_format=True for consistent parsing.\n",
      "  cache_array = _maybe_cache(arg, format, cache, convert_listlike)\n",
      "/Library/Frameworks/Python.framework/Versions/3.9/lib/python3.9/site-packages/pandas/core/tools/datetimes.py:1063: UserWarning: Parsing '30/03/2022' in DD/MM/YYYY format. Provide format or specify infer_datetime_format=True for consistent parsing.\n",
      "  cache_array = _maybe_cache(arg, format, cache, convert_listlike)\n",
      "/Library/Frameworks/Python.framework/Versions/3.9/lib/python3.9/site-packages/pandas/core/tools/datetimes.py:1063: UserWarning: Parsing '21/03/2021' in DD/MM/YYYY format. Provide format or specify infer_datetime_format=True for consistent parsing.\n",
      "  cache_array = _maybe_cache(arg, format, cache, convert_listlike)\n",
      "/Library/Frameworks/Python.framework/Versions/3.9/lib/python3.9/site-packages/pandas/core/tools/datetimes.py:1063: UserWarning: Parsing '25/01/2022' in DD/MM/YYYY format. Provide format or specify infer_datetime_format=True for consistent parsing.\n",
      "  cache_array = _maybe_cache(arg, format, cache, convert_listlike)\n",
      "/Library/Frameworks/Python.framework/Versions/3.9/lib/python3.9/site-packages/pandas/core/tools/datetimes.py:1063: UserWarning: Parsing '25/08/2021' in DD/MM/YYYY format. Provide format or specify infer_datetime_format=True for consistent parsing.\n",
      "  cache_array = _maybe_cache(arg, format, cache, convert_listlike)\n",
      "/Library/Frameworks/Python.framework/Versions/3.9/lib/python3.9/site-packages/pandas/core/tools/datetimes.py:1063: UserWarning: Parsing '13/10/2021' in DD/MM/YYYY format. Provide format or specify infer_datetime_format=True for consistent parsing.\n",
      "  cache_array = _maybe_cache(arg, format, cache, convert_listlike)\n",
      "/Library/Frameworks/Python.framework/Versions/3.9/lib/python3.9/site-packages/pandas/core/tools/datetimes.py:1063: UserWarning: Parsing '25/11/2021' in DD/MM/YYYY format. Provide format or specify infer_datetime_format=True for consistent parsing.\n",
      "  cache_array = _maybe_cache(arg, format, cache, convert_listlike)\n",
      "/Library/Frameworks/Python.framework/Versions/3.9/lib/python3.9/site-packages/pandas/core/tools/datetimes.py:1063: UserWarning: Parsing '22/11/2021' in DD/MM/YYYY format. Provide format or specify infer_datetime_format=True for consistent parsing.\n",
      "  cache_array = _maybe_cache(arg, format, cache, convert_listlike)\n",
      "/Library/Frameworks/Python.framework/Versions/3.9/lib/python3.9/site-packages/pandas/core/tools/datetimes.py:1063: UserWarning: Parsing '24/09/2021' in DD/MM/YYYY format. Provide format or specify infer_datetime_format=True for consistent parsing.\n",
      "  cache_array = _maybe_cache(arg, format, cache, convert_listlike)\n",
      "/Library/Frameworks/Python.framework/Versions/3.9/lib/python3.9/site-packages/pandas/core/tools/datetimes.py:1063: UserWarning: Parsing '15/10/2021' in DD/MM/YYYY format. Provide format or specify infer_datetime_format=True for consistent parsing.\n",
      "  cache_array = _maybe_cache(arg, format, cache, convert_listlike)\n",
      "/Library/Frameworks/Python.framework/Versions/3.9/lib/python3.9/site-packages/pandas/core/tools/datetimes.py:1063: UserWarning: Parsing '18/01/2022' in DD/MM/YYYY format. Provide format or specify infer_datetime_format=True for consistent parsing.\n",
      "  cache_array = _maybe_cache(arg, format, cache, convert_listlike)\n",
      "/Library/Frameworks/Python.framework/Versions/3.9/lib/python3.9/site-packages/pandas/core/tools/datetimes.py:1063: UserWarning: Parsing '23/02/2022' in DD/MM/YYYY format. Provide format or specify infer_datetime_format=True for consistent parsing.\n",
      "  cache_array = _maybe_cache(arg, format, cache, convert_listlike)\n",
      "/Library/Frameworks/Python.framework/Versions/3.9/lib/python3.9/site-packages/pandas/core/tools/datetimes.py:1063: UserWarning: Parsing '21/02/2022' in DD/MM/YYYY format. Provide format or specify infer_datetime_format=True for consistent parsing.\n",
      "  cache_array = _maybe_cache(arg, format, cache, convert_listlike)\n",
      "/Library/Frameworks/Python.framework/Versions/3.9/lib/python3.9/site-packages/pandas/core/tools/datetimes.py:1063: UserWarning: Parsing '13/12/2021' in DD/MM/YYYY format. Provide format or specify infer_datetime_format=True for consistent parsing.\n",
      "  cache_array = _maybe_cache(arg, format, cache, convert_listlike)\n",
      "/Library/Frameworks/Python.framework/Versions/3.9/lib/python3.9/site-packages/pandas/core/tools/datetimes.py:1063: UserWarning: Parsing '13/07/2021' in DD/MM/YYYY format. Provide format or specify infer_datetime_format=True for consistent parsing.\n",
      "  cache_array = _maybe_cache(arg, format, cache, convert_listlike)\n",
      "/Library/Frameworks/Python.framework/Versions/3.9/lib/python3.9/site-packages/pandas/core/tools/datetimes.py:1063: UserWarning: Parsing '20/12/2021' in DD/MM/YYYY format. Provide format or specify infer_datetime_format=True for consistent parsing.\n",
      "  cache_array = _maybe_cache(arg, format, cache, convert_listlike)\n",
      "/Library/Frameworks/Python.framework/Versions/3.9/lib/python3.9/site-packages/pandas/core/tools/datetimes.py:1063: UserWarning: Parsing '19/11/2021' in DD/MM/YYYY format. Provide format or specify infer_datetime_format=True for consistent parsing.\n",
      "  cache_array = _maybe_cache(arg, format, cache, convert_listlike)\n",
      "/Library/Frameworks/Python.framework/Versions/3.9/lib/python3.9/site-packages/pandas/core/tools/datetimes.py:1063: UserWarning: Parsing '25/03/2022' in DD/MM/YYYY format. Provide format or specify infer_datetime_format=True for consistent parsing.\n",
      "  cache_array = _maybe_cache(arg, format, cache, convert_listlike)\n",
      "/Library/Frameworks/Python.framework/Versions/3.9/lib/python3.9/site-packages/pandas/core/tools/datetimes.py:1063: UserWarning: Parsing '16/02/2022' in DD/MM/YYYY format. Provide format or specify infer_datetime_format=True for consistent parsing.\n",
      "  cache_array = _maybe_cache(arg, format, cache, convert_listlike)\n",
      "/Library/Frameworks/Python.framework/Versions/3.9/lib/python3.9/site-packages/pandas/core/tools/datetimes.py:1063: UserWarning: Parsing '15/11/2021' in DD/MM/YYYY format. Provide format or specify infer_datetime_format=True for consistent parsing.\n",
      "  cache_array = _maybe_cache(arg, format, cache, convert_listlike)\n",
      "/Library/Frameworks/Python.framework/Versions/3.9/lib/python3.9/site-packages/pandas/core/tools/datetimes.py:1063: UserWarning: Parsing '26/11/2021' in DD/MM/YYYY format. Provide format or specify infer_datetime_format=True for consistent parsing.\n",
      "  cache_array = _maybe_cache(arg, format, cache, convert_listlike)\n",
      "/Library/Frameworks/Python.framework/Versions/3.9/lib/python3.9/site-packages/pandas/core/tools/datetimes.py:1063: UserWarning: Parsing '16/03/2022' in DD/MM/YYYY format. Provide format or specify infer_datetime_format=True for consistent parsing.\n",
      "  cache_array = _maybe_cache(arg, format, cache, convert_listlike)\n",
      "/Library/Frameworks/Python.framework/Versions/3.9/lib/python3.9/site-packages/pandas/core/tools/datetimes.py:1063: UserWarning: Parsing '28/03/2022' in DD/MM/YYYY format. Provide format or specify infer_datetime_format=True for consistent parsing.\n",
      "  cache_array = _maybe_cache(arg, format, cache, convert_listlike)\n",
      "/Library/Frameworks/Python.framework/Versions/3.9/lib/python3.9/site-packages/pandas/core/tools/datetimes.py:1063: UserWarning: Parsing '14/04/2022' in DD/MM/YYYY format. Provide format or specify infer_datetime_format=True for consistent parsing.\n",
      "  cache_array = _maybe_cache(arg, format, cache, convert_listlike)\n",
      "/Library/Frameworks/Python.framework/Versions/3.9/lib/python3.9/site-packages/pandas/core/tools/datetimes.py:1063: UserWarning: Parsing '13/04/2022' in DD/MM/YYYY format. Provide format or specify infer_datetime_format=True for consistent parsing.\n",
      "  cache_array = _maybe_cache(arg, format, cache, convert_listlike)\n",
      "/Library/Frameworks/Python.framework/Versions/3.9/lib/python3.9/site-packages/pandas/core/tools/datetimes.py:1063: UserWarning: Parsing '18/02/2022' in DD/MM/YYYY format. Provide format or specify infer_datetime_format=True for consistent parsing.\n",
      "  cache_array = _maybe_cache(arg, format, cache, convert_listlike)\n",
      "/Library/Frameworks/Python.framework/Versions/3.9/lib/python3.9/site-packages/pandas/core/tools/datetimes.py:1063: UserWarning: Parsing '29/03/2022' in DD/MM/YYYY format. Provide format or specify infer_datetime_format=True for consistent parsing.\n",
      "  cache_array = _maybe_cache(arg, format, cache, convert_listlike)\n",
      "/Library/Frameworks/Python.framework/Versions/3.9/lib/python3.9/site-packages/pandas/core/tools/datetimes.py:1063: UserWarning: Parsing '22/01/2022' in DD/MM/YYYY format. Provide format or specify infer_datetime_format=True for consistent parsing.\n",
      "  cache_array = _maybe_cache(arg, format, cache, convert_listlike)\n",
      "/Library/Frameworks/Python.framework/Versions/3.9/lib/python3.9/site-packages/pandas/core/tools/datetimes.py:1063: UserWarning: Parsing '19/04/2022' in DD/MM/YYYY format. Provide format or specify infer_datetime_format=True for consistent parsing.\n",
      "  cache_array = _maybe_cache(arg, format, cache, convert_listlike)\n",
      "/Library/Frameworks/Python.framework/Versions/3.9/lib/python3.9/site-packages/pandas/core/tools/datetimes.py:1063: UserWarning: Parsing '18/04/2022' in DD/MM/YYYY format. Provide format or specify infer_datetime_format=True for consistent parsing.\n",
      "  cache_array = _maybe_cache(arg, format, cache, convert_listlike)\n"
     ]
    },
    {
     "data": {
      "text/plain": "              N¡ CDE    L  Qte Type  CodeClient DateCreation Gestionnaire  \\\n0          140500651  1.0  1.0    C        2625   10/04/2018          ALU   \n1          140500651  2.0  1.0    C        2625   10/04/2018          ALU   \n2          140600145  1.0  8.0    C        5505   18/04/2018          ALU   \n3          140600145  2.0  1.0    C        5505   18/04/2018          ALU   \n4          140600145  3.0  1.0    C        5505   18/04/2018          ALU   \n...              ...  ...  ...  ...         ...          ...          ...   \n133753  220400553-00  1.0  1.0    D        7702   13/04/2022         BOIS   \n133754  220400560-00  1.0  1.0    D        5959   13/04/2022          ALU   \n133755  220400560-00  2.0  0.0    D        5959   13/04/2022          ALU   \n133756  220400561-00  1.0  1.0    D       12560   13/04/2022          ALU   \n133757  220400561-01  1.0  1.0    D       12560   14/04/2022          ALU   \n\n       Type Menuiserie Ouverture Nb Zone     CA HT Transformation Unnamed: 12  \\\n0                   HO        OF       1   1032.90   140500651-02         NaN   \n1                   HO        OF       1   1032.90   140500651-02         NaN   \n2                   FE        OF       1  13566.08   140600145-03         NaN   \n3                   PF        OF       1   2126.06   140600145-03         NaN   \n4                   FE        OF       1   1268.37   140600145-03         NaN   \n...                ...       ...     ...       ...            ...         ...   \n133753             ODB       BAS       1    608.00            NaN         NaN   \n133754             ODB        FX       1   1138.45            NaN         NaN   \n133755             ODB        FX       2      0.00            NaN         NaN   \n133756              FE        OF       1   1374.98            NaN         NaN   \n133757              FE        OF       1   1374.98            NaN         NaN   \n\n       Date_Creation  \n0         2018-10-04  \n1         2018-10-04  \n2         2018-04-18  \n3         2018-04-18  \n4         2018-04-18  \n...              ...  \n133753    2022-04-13  \n133754    2022-04-13  \n133755    2022-04-13  \n133756    2022-04-13  \n133757    2022-04-14  \n\n[133658 rows x 14 columns]",
      "text/html": "<div>\n<style scoped>\n    .dataframe tbody tr th:only-of-type {\n        vertical-align: middle;\n    }\n\n    .dataframe tbody tr th {\n        vertical-align: top;\n    }\n\n    .dataframe thead th {\n        text-align: right;\n    }\n</style>\n<table border=\"1\" class=\"dataframe\">\n  <thead>\n    <tr style=\"text-align: right;\">\n      <th></th>\n      <th>N¡ CDE</th>\n      <th>L</th>\n      <th>Qte</th>\n      <th>Type</th>\n      <th>CodeClient</th>\n      <th>DateCreation</th>\n      <th>Gestionnaire</th>\n      <th>Type Menuiserie</th>\n      <th>Ouverture</th>\n      <th>Nb Zone</th>\n      <th>CA HT</th>\n      <th>Transformation</th>\n      <th>Unnamed: 12</th>\n      <th>Date_Creation</th>\n    </tr>\n  </thead>\n  <tbody>\n    <tr>\n      <th>0</th>\n      <td>140500651</td>\n      <td>1.0</td>\n      <td>1.0</td>\n      <td>C</td>\n      <td>2625</td>\n      <td>10/04/2018</td>\n      <td>ALU</td>\n      <td>HO</td>\n      <td>OF</td>\n      <td>1</td>\n      <td>1032.90</td>\n      <td>140500651-02</td>\n      <td>NaN</td>\n      <td>2018-10-04</td>\n    </tr>\n    <tr>\n      <th>1</th>\n      <td>140500651</td>\n      <td>2.0</td>\n      <td>1.0</td>\n      <td>C</td>\n      <td>2625</td>\n      <td>10/04/2018</td>\n      <td>ALU</td>\n      <td>HO</td>\n      <td>OF</td>\n      <td>1</td>\n      <td>1032.90</td>\n      <td>140500651-02</td>\n      <td>NaN</td>\n      <td>2018-10-04</td>\n    </tr>\n    <tr>\n      <th>2</th>\n      <td>140600145</td>\n      <td>1.0</td>\n      <td>8.0</td>\n      <td>C</td>\n      <td>5505</td>\n      <td>18/04/2018</td>\n      <td>ALU</td>\n      <td>FE</td>\n      <td>OF</td>\n      <td>1</td>\n      <td>13566.08</td>\n      <td>140600145-03</td>\n      <td>NaN</td>\n      <td>2018-04-18</td>\n    </tr>\n    <tr>\n      <th>3</th>\n      <td>140600145</td>\n      <td>2.0</td>\n      <td>1.0</td>\n      <td>C</td>\n      <td>5505</td>\n      <td>18/04/2018</td>\n      <td>ALU</td>\n      <td>PF</td>\n      <td>OF</td>\n      <td>1</td>\n      <td>2126.06</td>\n      <td>140600145-03</td>\n      <td>NaN</td>\n      <td>2018-04-18</td>\n    </tr>\n    <tr>\n      <th>4</th>\n      <td>140600145</td>\n      <td>3.0</td>\n      <td>1.0</td>\n      <td>C</td>\n      <td>5505</td>\n      <td>18/04/2018</td>\n      <td>ALU</td>\n      <td>FE</td>\n      <td>OF</td>\n      <td>1</td>\n      <td>1268.37</td>\n      <td>140600145-03</td>\n      <td>NaN</td>\n      <td>2018-04-18</td>\n    </tr>\n    <tr>\n      <th>...</th>\n      <td>...</td>\n      <td>...</td>\n      <td>...</td>\n      <td>...</td>\n      <td>...</td>\n      <td>...</td>\n      <td>...</td>\n      <td>...</td>\n      <td>...</td>\n      <td>...</td>\n      <td>...</td>\n      <td>...</td>\n      <td>...</td>\n      <td>...</td>\n    </tr>\n    <tr>\n      <th>133753</th>\n      <td>220400553-00</td>\n      <td>1.0</td>\n      <td>1.0</td>\n      <td>D</td>\n      <td>7702</td>\n      <td>13/04/2022</td>\n      <td>BOIS</td>\n      <td>ODB</td>\n      <td>BAS</td>\n      <td>1</td>\n      <td>608.00</td>\n      <td>NaN</td>\n      <td>NaN</td>\n      <td>2022-04-13</td>\n    </tr>\n    <tr>\n      <th>133754</th>\n      <td>220400560-00</td>\n      <td>1.0</td>\n      <td>1.0</td>\n      <td>D</td>\n      <td>5959</td>\n      <td>13/04/2022</td>\n      <td>ALU</td>\n      <td>ODB</td>\n      <td>FX</td>\n      <td>1</td>\n      <td>1138.45</td>\n      <td>NaN</td>\n      <td>NaN</td>\n      <td>2022-04-13</td>\n    </tr>\n    <tr>\n      <th>133755</th>\n      <td>220400560-00</td>\n      <td>2.0</td>\n      <td>0.0</td>\n      <td>D</td>\n      <td>5959</td>\n      <td>13/04/2022</td>\n      <td>ALU</td>\n      <td>ODB</td>\n      <td>FX</td>\n      <td>2</td>\n      <td>0.00</td>\n      <td>NaN</td>\n      <td>NaN</td>\n      <td>2022-04-13</td>\n    </tr>\n    <tr>\n      <th>133756</th>\n      <td>220400561-00</td>\n      <td>1.0</td>\n      <td>1.0</td>\n      <td>D</td>\n      <td>12560</td>\n      <td>13/04/2022</td>\n      <td>ALU</td>\n      <td>FE</td>\n      <td>OF</td>\n      <td>1</td>\n      <td>1374.98</td>\n      <td>NaN</td>\n      <td>NaN</td>\n      <td>2022-04-13</td>\n    </tr>\n    <tr>\n      <th>133757</th>\n      <td>220400561-01</td>\n      <td>1.0</td>\n      <td>1.0</td>\n      <td>D</td>\n      <td>12560</td>\n      <td>14/04/2022</td>\n      <td>ALU</td>\n      <td>FE</td>\n      <td>OF</td>\n      <td>1</td>\n      <td>1374.98</td>\n      <td>NaN</td>\n      <td>NaN</td>\n      <td>2022-04-14</td>\n    </tr>\n  </tbody>\n</table>\n<p>133658 rows × 14 columns</p>\n</div>"
     },
     "execution_count": 9,
     "metadata": {},
     "output_type": "execute_result"
    }
   ],
   "source": [
    "df_lignes[\"Date_Creation\"] = df_lignes.DateCreation.astype(\"datetime64[ns]\")\n",
    "df_lignes[\"CodeClient\"] = df_lignes.CodeClient.astype(\"int\")\n",
    "df_lignes[\"CA HT\"] = df_lignes[\"CA HT\"].astype(\"str\").str.replace(\",\",\".\").astype(\"float\")\n",
    "\n",
    "df_lignes"
   ]
  },
  {
   "cell_type": "markdown",
   "source": [
    "# range data add champ nego and year"
   ],
   "metadata": {
    "collapsed": false,
    "pycharm": {
     "name": "#%% md\n"
    }
   }
  },
  {
   "cell_type": "code",
   "execution_count": 10,
   "outputs": [],
   "source": [
    "df_lignes['NCDE'] = df_lignes['N¡ CDE'].str.split('-', expand= True)[0]\n",
    "df_lignes['year'] = df_lignes['DateCreation'].str.split('/', expand= True)[2]\n",
    "df_lignes['month']= df_lignes['DateCreation'].str.split('/', expand= True)[1]"
   ],
   "metadata": {
    "collapsed": false,
    "pycharm": {
     "name": "#%%\n"
    }
   }
  },
  {
   "cell_type": "markdown",
   "source": [
    "#  add champ is_devis and is_commande"
   ],
   "metadata": {
    "collapsed": false,
    "pycharm": {
     "name": "#%% md\n"
    }
   }
  },
  {
   "cell_type": "code",
   "execution_count": 11,
   "outputs": [],
   "source": [
    "df_lignes[\"is_devis\"] = df_lignes[\"Type\"] == \"D\"\n",
    "df_lignes[\"is_commande\"] = df_lignes[\"Type\"] == \"C\""
   ],
   "metadata": {
    "collapsed": false,
    "pycharm": {
     "name": "#%%\n"
    }
   }
  },
  {
   "cell_type": "markdown",
   "source": [
    "# remove CA == 0"
   ],
   "metadata": {
    "collapsed": false,
    "pycharm": {
     "name": "#%% md\n"
    }
   }
  },
  {
   "cell_type": "code",
   "execution_count": 12,
   "outputs": [
    {
     "name": "stdout",
     "output_type": "stream",
     "text": [
      "17501 lignes supprimée(s)\n"
     ]
    },
    {
     "data": {
      "text/plain": "              N¡ CDE    L  Qte Type  CodeClient DateCreation Gestionnaire  \\\n0          140500651  1.0  1.0    C        2625   10/04/2018          ALU   \n1          140500651  2.0  1.0    C        2625   10/04/2018          ALU   \n2          140600145  1.0  8.0    C        5505   18/04/2018          ALU   \n3          140600145  2.0  1.0    C        5505   18/04/2018          ALU   \n4          140600145  3.0  1.0    C        5505   18/04/2018          ALU   \n...              ...  ...  ...  ...         ...          ...          ...   \n133752  220400549-00  1.0  1.0    D       11925   13/04/2022          PVC   \n133753  220400553-00  1.0  1.0    D        7702   13/04/2022         BOIS   \n133754  220400560-00  1.0  1.0    D        5959   13/04/2022          ALU   \n133756  220400561-00  1.0  1.0    D       12560   13/04/2022          ALU   \n133757  220400561-01  1.0  1.0    D       12560   14/04/2022          ALU   \n\n       Type Menuiserie Ouverture Nb Zone     CA HT Transformation Unnamed: 12  \\\n0                   HO        OF       1   1032.90   140500651-02         NaN   \n1                   HO        OF       1   1032.90   140500651-02         NaN   \n2                   FE        OF       1  13566.08   140600145-03         NaN   \n3                   PF        OF       1   2126.06   140600145-03         NaN   \n4                   FE        OF       1   1268.37   140600145-03         NaN   \n...                ...       ...     ...       ...            ...         ...   \n133752             ODB        OF       1    993.01            NaN         NaN   \n133753             ODB       BAS       1    608.00            NaN         NaN   \n133754             ODB        FX       1   1138.45            NaN         NaN   \n133756              FE        OF       1   1374.98            NaN         NaN   \n133757              FE        OF       1   1374.98            NaN         NaN   \n\n       Date_Creation       NCDE  year month  is_devis  is_commande  \n0         2018-10-04  140500651  2018    04     False         True  \n1         2018-10-04  140500651  2018    04     False         True  \n2         2018-04-18  140600145  2018    04     False         True  \n3         2018-04-18  140600145  2018    04     False         True  \n4         2018-04-18  140600145  2018    04     False         True  \n...              ...        ...   ...   ...       ...          ...  \n133752    2022-04-13  220400549  2022    04      True        False  \n133753    2022-04-13  220400553  2022    04      True        False  \n133754    2022-04-13  220400560  2022    04      True        False  \n133756    2022-04-13  220400561  2022    04      True        False  \n133757    2022-04-14  220400561  2022    04      True        False  \n\n[116157 rows x 19 columns]",
      "text/html": "<div>\n<style scoped>\n    .dataframe tbody tr th:only-of-type {\n        vertical-align: middle;\n    }\n\n    .dataframe tbody tr th {\n        vertical-align: top;\n    }\n\n    .dataframe thead th {\n        text-align: right;\n    }\n</style>\n<table border=\"1\" class=\"dataframe\">\n  <thead>\n    <tr style=\"text-align: right;\">\n      <th></th>\n      <th>N¡ CDE</th>\n      <th>L</th>\n      <th>Qte</th>\n      <th>Type</th>\n      <th>CodeClient</th>\n      <th>DateCreation</th>\n      <th>Gestionnaire</th>\n      <th>Type Menuiserie</th>\n      <th>Ouverture</th>\n      <th>Nb Zone</th>\n      <th>CA HT</th>\n      <th>Transformation</th>\n      <th>Unnamed: 12</th>\n      <th>Date_Creation</th>\n      <th>NCDE</th>\n      <th>year</th>\n      <th>month</th>\n      <th>is_devis</th>\n      <th>is_commande</th>\n    </tr>\n  </thead>\n  <tbody>\n    <tr>\n      <th>0</th>\n      <td>140500651</td>\n      <td>1.0</td>\n      <td>1.0</td>\n      <td>C</td>\n      <td>2625</td>\n      <td>10/04/2018</td>\n      <td>ALU</td>\n      <td>HO</td>\n      <td>OF</td>\n      <td>1</td>\n      <td>1032.90</td>\n      <td>140500651-02</td>\n      <td>NaN</td>\n      <td>2018-10-04</td>\n      <td>140500651</td>\n      <td>2018</td>\n      <td>04</td>\n      <td>False</td>\n      <td>True</td>\n    </tr>\n    <tr>\n      <th>1</th>\n      <td>140500651</td>\n      <td>2.0</td>\n      <td>1.0</td>\n      <td>C</td>\n      <td>2625</td>\n      <td>10/04/2018</td>\n      <td>ALU</td>\n      <td>HO</td>\n      <td>OF</td>\n      <td>1</td>\n      <td>1032.90</td>\n      <td>140500651-02</td>\n      <td>NaN</td>\n      <td>2018-10-04</td>\n      <td>140500651</td>\n      <td>2018</td>\n      <td>04</td>\n      <td>False</td>\n      <td>True</td>\n    </tr>\n    <tr>\n      <th>2</th>\n      <td>140600145</td>\n      <td>1.0</td>\n      <td>8.0</td>\n      <td>C</td>\n      <td>5505</td>\n      <td>18/04/2018</td>\n      <td>ALU</td>\n      <td>FE</td>\n      <td>OF</td>\n      <td>1</td>\n      <td>13566.08</td>\n      <td>140600145-03</td>\n      <td>NaN</td>\n      <td>2018-04-18</td>\n      <td>140600145</td>\n      <td>2018</td>\n      <td>04</td>\n      <td>False</td>\n      <td>True</td>\n    </tr>\n    <tr>\n      <th>3</th>\n      <td>140600145</td>\n      <td>2.0</td>\n      <td>1.0</td>\n      <td>C</td>\n      <td>5505</td>\n      <td>18/04/2018</td>\n      <td>ALU</td>\n      <td>PF</td>\n      <td>OF</td>\n      <td>1</td>\n      <td>2126.06</td>\n      <td>140600145-03</td>\n      <td>NaN</td>\n      <td>2018-04-18</td>\n      <td>140600145</td>\n      <td>2018</td>\n      <td>04</td>\n      <td>False</td>\n      <td>True</td>\n    </tr>\n    <tr>\n      <th>4</th>\n      <td>140600145</td>\n      <td>3.0</td>\n      <td>1.0</td>\n      <td>C</td>\n      <td>5505</td>\n      <td>18/04/2018</td>\n      <td>ALU</td>\n      <td>FE</td>\n      <td>OF</td>\n      <td>1</td>\n      <td>1268.37</td>\n      <td>140600145-03</td>\n      <td>NaN</td>\n      <td>2018-04-18</td>\n      <td>140600145</td>\n      <td>2018</td>\n      <td>04</td>\n      <td>False</td>\n      <td>True</td>\n    </tr>\n    <tr>\n      <th>...</th>\n      <td>...</td>\n      <td>...</td>\n      <td>...</td>\n      <td>...</td>\n      <td>...</td>\n      <td>...</td>\n      <td>...</td>\n      <td>...</td>\n      <td>...</td>\n      <td>...</td>\n      <td>...</td>\n      <td>...</td>\n      <td>...</td>\n      <td>...</td>\n      <td>...</td>\n      <td>...</td>\n      <td>...</td>\n      <td>...</td>\n      <td>...</td>\n    </tr>\n    <tr>\n      <th>133752</th>\n      <td>220400549-00</td>\n      <td>1.0</td>\n      <td>1.0</td>\n      <td>D</td>\n      <td>11925</td>\n      <td>13/04/2022</td>\n      <td>PVC</td>\n      <td>ODB</td>\n      <td>OF</td>\n      <td>1</td>\n      <td>993.01</td>\n      <td>NaN</td>\n      <td>NaN</td>\n      <td>2022-04-13</td>\n      <td>220400549</td>\n      <td>2022</td>\n      <td>04</td>\n      <td>True</td>\n      <td>False</td>\n    </tr>\n    <tr>\n      <th>133753</th>\n      <td>220400553-00</td>\n      <td>1.0</td>\n      <td>1.0</td>\n      <td>D</td>\n      <td>7702</td>\n      <td>13/04/2022</td>\n      <td>BOIS</td>\n      <td>ODB</td>\n      <td>BAS</td>\n      <td>1</td>\n      <td>608.00</td>\n      <td>NaN</td>\n      <td>NaN</td>\n      <td>2022-04-13</td>\n      <td>220400553</td>\n      <td>2022</td>\n      <td>04</td>\n      <td>True</td>\n      <td>False</td>\n    </tr>\n    <tr>\n      <th>133754</th>\n      <td>220400560-00</td>\n      <td>1.0</td>\n      <td>1.0</td>\n      <td>D</td>\n      <td>5959</td>\n      <td>13/04/2022</td>\n      <td>ALU</td>\n      <td>ODB</td>\n      <td>FX</td>\n      <td>1</td>\n      <td>1138.45</td>\n      <td>NaN</td>\n      <td>NaN</td>\n      <td>2022-04-13</td>\n      <td>220400560</td>\n      <td>2022</td>\n      <td>04</td>\n      <td>True</td>\n      <td>False</td>\n    </tr>\n    <tr>\n      <th>133756</th>\n      <td>220400561-00</td>\n      <td>1.0</td>\n      <td>1.0</td>\n      <td>D</td>\n      <td>12560</td>\n      <td>13/04/2022</td>\n      <td>ALU</td>\n      <td>FE</td>\n      <td>OF</td>\n      <td>1</td>\n      <td>1374.98</td>\n      <td>NaN</td>\n      <td>NaN</td>\n      <td>2022-04-13</td>\n      <td>220400561</td>\n      <td>2022</td>\n      <td>04</td>\n      <td>True</td>\n      <td>False</td>\n    </tr>\n    <tr>\n      <th>133757</th>\n      <td>220400561-01</td>\n      <td>1.0</td>\n      <td>1.0</td>\n      <td>D</td>\n      <td>12560</td>\n      <td>14/04/2022</td>\n      <td>ALU</td>\n      <td>FE</td>\n      <td>OF</td>\n      <td>1</td>\n      <td>1374.98</td>\n      <td>NaN</td>\n      <td>NaN</td>\n      <td>2022-04-14</td>\n      <td>220400561</td>\n      <td>2022</td>\n      <td>04</td>\n      <td>True</td>\n      <td>False</td>\n    </tr>\n  </tbody>\n</table>\n<p>116157 rows × 19 columns</p>\n</div>"
     },
     "execution_count": 12,
     "metadata": {},
     "output_type": "execute_result"
    }
   ],
   "source": [
    "NbLigneAvant = df_lignes.shape[0]\n",
    "df_lignes = df_lignes.loc[df_lignes[\"CA HT\"] != 0]\n",
    "NbLigneApres = df_lignes.shape[0]\n",
    "print(str(NbLigneAvant - NbLigneApres) + ' lignes supprimée(s)')\n",
    "df_lignes"
   ],
   "metadata": {
    "collapsed": false,
    "pycharm": {
     "name": "#%%\n"
    }
   }
  },
  {
   "cell_type": "markdown",
   "source": [
    "# groupby nego and CodeClient"
   ],
   "metadata": {
    "collapsed": false,
    "pycharm": {
     "name": "#%% md\n"
    }
   }
  },
  {
   "cell_type": "code",
   "execution_count": 13,
   "outputs": [
    {
     "name": "stderr",
     "output_type": "stream",
     "text": [
      "<ipython-input-13-28f18085286e>:3: FutureWarning: Indexing with multiple keys (implicitly converted to a tuple of keys) will be deprecated, use a list instead.\n",
      "  results = grouped[\"is_devis\", \"is_commande\"].sum()\n"
     ]
    },
    {
     "data": {
      "text/plain": "                      is_devis  is_commande  commande  nego\nCodeClient NCDE                                            \n1          181000520         1            0         0     1\n           181001868         1            1         1     1\n           181200428         1            0         0     1\n           190200407         1            0         0     1\n           190301284         6            0         0     1\n...                        ...          ...       ...   ...\n14747      220400305         1            0         0     1\n14751      220400302         1            0         0     1\n           220400303         1            0         0     1\n14752      220400438         1            0         0     1\n14754      220400416         2            0         0     1\n\n[52164 rows x 4 columns]",
      "text/html": "<div>\n<style scoped>\n    .dataframe tbody tr th:only-of-type {\n        vertical-align: middle;\n    }\n\n    .dataframe tbody tr th {\n        vertical-align: top;\n    }\n\n    .dataframe thead th {\n        text-align: right;\n    }\n</style>\n<table border=\"1\" class=\"dataframe\">\n  <thead>\n    <tr style=\"text-align: right;\">\n      <th></th>\n      <th></th>\n      <th>is_devis</th>\n      <th>is_commande</th>\n      <th>commande</th>\n      <th>nego</th>\n    </tr>\n    <tr>\n      <th>CodeClient</th>\n      <th>NCDE</th>\n      <th></th>\n      <th></th>\n      <th></th>\n      <th></th>\n    </tr>\n  </thead>\n  <tbody>\n    <tr>\n      <th rowspan=\"5\" valign=\"top\">1</th>\n      <th>181000520</th>\n      <td>1</td>\n      <td>0</td>\n      <td>0</td>\n      <td>1</td>\n    </tr>\n    <tr>\n      <th>181001868</th>\n      <td>1</td>\n      <td>1</td>\n      <td>1</td>\n      <td>1</td>\n    </tr>\n    <tr>\n      <th>181200428</th>\n      <td>1</td>\n      <td>0</td>\n      <td>0</td>\n      <td>1</td>\n    </tr>\n    <tr>\n      <th>190200407</th>\n      <td>1</td>\n      <td>0</td>\n      <td>0</td>\n      <td>1</td>\n    </tr>\n    <tr>\n      <th>190301284</th>\n      <td>6</td>\n      <td>0</td>\n      <td>0</td>\n      <td>1</td>\n    </tr>\n    <tr>\n      <th>...</th>\n      <th>...</th>\n      <td>...</td>\n      <td>...</td>\n      <td>...</td>\n      <td>...</td>\n    </tr>\n    <tr>\n      <th>14747</th>\n      <th>220400305</th>\n      <td>1</td>\n      <td>0</td>\n      <td>0</td>\n      <td>1</td>\n    </tr>\n    <tr>\n      <th rowspan=\"2\" valign=\"top\">14751</th>\n      <th>220400302</th>\n      <td>1</td>\n      <td>0</td>\n      <td>0</td>\n      <td>1</td>\n    </tr>\n    <tr>\n      <th>220400303</th>\n      <td>1</td>\n      <td>0</td>\n      <td>0</td>\n      <td>1</td>\n    </tr>\n    <tr>\n      <th>14752</th>\n      <th>220400438</th>\n      <td>1</td>\n      <td>0</td>\n      <td>0</td>\n      <td>1</td>\n    </tr>\n    <tr>\n      <th>14754</th>\n      <th>220400416</th>\n      <td>2</td>\n      <td>0</td>\n      <td>0</td>\n      <td>1</td>\n    </tr>\n  </tbody>\n</table>\n<p>52164 rows × 4 columns</p>\n</div>"
     },
     "execution_count": 13,
     "metadata": {},
     "output_type": "execute_result"
    }
   ],
   "source": [
    "grouped = df_lignes.groupby(['CodeClient','NCDE'])\n",
    "\n",
    "results = grouped[\"is_devis\", \"is_commande\"].sum()\n",
    "results['commande'] = 0\n",
    "results.loc[results['is_commande'] >0 , 'commande' ] = 1\n",
    "\n",
    "results['nego'] = 0\n",
    "results.loc[(results['commande']== 1) | (results['is_devis'] >0 ), 'nego' ] = 1\n",
    "\n",
    "results"
   ],
   "metadata": {
    "collapsed": false,
    "pycharm": {
     "name": "#%%\n"
    }
   }
  },
  {
   "cell_type": "code",
   "execution_count": 14,
   "outputs": [
    {
     "data": {
      "text/plain": "            is_devis  is_commande  commande  nego\nCodeClient                                       \n1                 67           11         9    21\n3                 91           25        15    25\n5                  3            0         0     1\n12                 2            1         1     2\n13                 1            1         1     1\n...              ...          ...       ...   ...\n14743              1            0         0     1\n14747              2            0         0     2\n14751              2            0         0     2\n14752              1            0         0     1\n14754              2            0         0     1\n\n[4489 rows x 4 columns]",
      "text/html": "<div>\n<style scoped>\n    .dataframe tbody tr th:only-of-type {\n        vertical-align: middle;\n    }\n\n    .dataframe tbody tr th {\n        vertical-align: top;\n    }\n\n    .dataframe thead th {\n        text-align: right;\n    }\n</style>\n<table border=\"1\" class=\"dataframe\">\n  <thead>\n    <tr style=\"text-align: right;\">\n      <th></th>\n      <th>is_devis</th>\n      <th>is_commande</th>\n      <th>commande</th>\n      <th>nego</th>\n    </tr>\n    <tr>\n      <th>CodeClient</th>\n      <th></th>\n      <th></th>\n      <th></th>\n      <th></th>\n    </tr>\n  </thead>\n  <tbody>\n    <tr>\n      <th>1</th>\n      <td>67</td>\n      <td>11</td>\n      <td>9</td>\n      <td>21</td>\n    </tr>\n    <tr>\n      <th>3</th>\n      <td>91</td>\n      <td>25</td>\n      <td>15</td>\n      <td>25</td>\n    </tr>\n    <tr>\n      <th>5</th>\n      <td>3</td>\n      <td>0</td>\n      <td>0</td>\n      <td>1</td>\n    </tr>\n    <tr>\n      <th>12</th>\n      <td>2</td>\n      <td>1</td>\n      <td>1</td>\n      <td>2</td>\n    </tr>\n    <tr>\n      <th>13</th>\n      <td>1</td>\n      <td>1</td>\n      <td>1</td>\n      <td>1</td>\n    </tr>\n    <tr>\n      <th>...</th>\n      <td>...</td>\n      <td>...</td>\n      <td>...</td>\n      <td>...</td>\n    </tr>\n    <tr>\n      <th>14743</th>\n      <td>1</td>\n      <td>0</td>\n      <td>0</td>\n      <td>1</td>\n    </tr>\n    <tr>\n      <th>14747</th>\n      <td>2</td>\n      <td>0</td>\n      <td>0</td>\n      <td>2</td>\n    </tr>\n    <tr>\n      <th>14751</th>\n      <td>2</td>\n      <td>0</td>\n      <td>0</td>\n      <td>2</td>\n    </tr>\n    <tr>\n      <th>14752</th>\n      <td>1</td>\n      <td>0</td>\n      <td>0</td>\n      <td>1</td>\n    </tr>\n    <tr>\n      <th>14754</th>\n      <td>2</td>\n      <td>0</td>\n      <td>0</td>\n      <td>1</td>\n    </tr>\n  </tbody>\n</table>\n<p>4489 rows × 4 columns</p>\n</div>"
     },
     "execution_count": 14,
     "metadata": {},
     "output_type": "execute_result"
    }
   ],
   "source": [
    "result = results.groupby(['CodeClient']).sum()\n",
    "\n",
    "result"
   ],
   "metadata": {
    "collapsed": false,
    "pycharm": {
     "name": "#%%\n"
    }
   }
  },
  {
   "cell_type": "markdown",
   "source": [
    "# calcul transformation"
   ],
   "metadata": {
    "collapsed": false,
    "pycharm": {
     "name": "#%% md\n"
    }
   }
  },
  {
   "cell_type": "code",
   "execution_count": 15,
   "outputs": [
    {
     "data": {
      "text/plain": "            is_devis  is_commande  commande  nego  transform\nCodeClient                                                  \n1                 67           11         9    21   0.428571\n3                 91           25        15    25   0.600000\n5                  3            0         0     1   0.000000\n12                 2            1         1     2   0.500000\n13                 1            1         1     1   1.000000\n...              ...          ...       ...   ...        ...\n14743              1            0         0     1   0.000000\n14747              2            0         0     2   0.000000\n14751              2            0         0     2   0.000000\n14752              1            0         0     1   0.000000\n14754              2            0         0     1   0.000000\n\n[4489 rows x 5 columns]",
      "text/html": "<div>\n<style scoped>\n    .dataframe tbody tr th:only-of-type {\n        vertical-align: middle;\n    }\n\n    .dataframe tbody tr th {\n        vertical-align: top;\n    }\n\n    .dataframe thead th {\n        text-align: right;\n    }\n</style>\n<table border=\"1\" class=\"dataframe\">\n  <thead>\n    <tr style=\"text-align: right;\">\n      <th></th>\n      <th>is_devis</th>\n      <th>is_commande</th>\n      <th>commande</th>\n      <th>nego</th>\n      <th>transform</th>\n    </tr>\n    <tr>\n      <th>CodeClient</th>\n      <th></th>\n      <th></th>\n      <th></th>\n      <th></th>\n      <th></th>\n    </tr>\n  </thead>\n  <tbody>\n    <tr>\n      <th>1</th>\n      <td>67</td>\n      <td>11</td>\n      <td>9</td>\n      <td>21</td>\n      <td>0.428571</td>\n    </tr>\n    <tr>\n      <th>3</th>\n      <td>91</td>\n      <td>25</td>\n      <td>15</td>\n      <td>25</td>\n      <td>0.600000</td>\n    </tr>\n    <tr>\n      <th>5</th>\n      <td>3</td>\n      <td>0</td>\n      <td>0</td>\n      <td>1</td>\n      <td>0.000000</td>\n    </tr>\n    <tr>\n      <th>12</th>\n      <td>2</td>\n      <td>1</td>\n      <td>1</td>\n      <td>2</td>\n      <td>0.500000</td>\n    </tr>\n    <tr>\n      <th>13</th>\n      <td>1</td>\n      <td>1</td>\n      <td>1</td>\n      <td>1</td>\n      <td>1.000000</td>\n    </tr>\n    <tr>\n      <th>...</th>\n      <td>...</td>\n      <td>...</td>\n      <td>...</td>\n      <td>...</td>\n      <td>...</td>\n    </tr>\n    <tr>\n      <th>14743</th>\n      <td>1</td>\n      <td>0</td>\n      <td>0</td>\n      <td>1</td>\n      <td>0.000000</td>\n    </tr>\n    <tr>\n      <th>14747</th>\n      <td>2</td>\n      <td>0</td>\n      <td>0</td>\n      <td>2</td>\n      <td>0.000000</td>\n    </tr>\n    <tr>\n      <th>14751</th>\n      <td>2</td>\n      <td>0</td>\n      <td>0</td>\n      <td>2</td>\n      <td>0.000000</td>\n    </tr>\n    <tr>\n      <th>14752</th>\n      <td>1</td>\n      <td>0</td>\n      <td>0</td>\n      <td>1</td>\n      <td>0.000000</td>\n    </tr>\n    <tr>\n      <th>14754</th>\n      <td>2</td>\n      <td>0</td>\n      <td>0</td>\n      <td>1</td>\n      <td>0.000000</td>\n    </tr>\n  </tbody>\n</table>\n<p>4489 rows × 5 columns</p>\n</div>"
     },
     "execution_count": 15,
     "metadata": {},
     "output_type": "execute_result"
    }
   ],
   "source": [
    "result['transform'] = result['commande'] / result['nego']\n",
    "\n",
    "result"
   ],
   "metadata": {
    "collapsed": false,
    "pycharm": {
     "name": "#%%\n"
    }
   }
  },
  {
   "cell_type": "code",
   "execution_count": 16,
   "outputs": [
    {
     "name": "stdout",
     "output_type": "stream",
     "text": [
      "transform <= 0.2\n"
     ]
    },
    {
     "data": {
      "text/plain": "            is_devis  is_commande  commande  nego  transform\nCodeClient                                                  \n5                  3            0         0     1   0.000000\n16                 5            0         0     3   0.000000\n22                 9            1         1     7   0.142857\n37                 1            0         0     1   0.000000\n51                 5            0         0     4   0.000000\n...              ...          ...       ...   ...        ...\n14743              1            0         0     1   0.000000\n14747              2            0         0     2   0.000000\n14751              2            0         0     2   0.000000\n14752              1            0         0     1   0.000000\n14754              2            0         0     1   0.000000\n\n[2204 rows x 5 columns]",
      "text/html": "<div>\n<style scoped>\n    .dataframe tbody tr th:only-of-type {\n        vertical-align: middle;\n    }\n\n    .dataframe tbody tr th {\n        vertical-align: top;\n    }\n\n    .dataframe thead th {\n        text-align: right;\n    }\n</style>\n<table border=\"1\" class=\"dataframe\">\n  <thead>\n    <tr style=\"text-align: right;\">\n      <th></th>\n      <th>is_devis</th>\n      <th>is_commande</th>\n      <th>commande</th>\n      <th>nego</th>\n      <th>transform</th>\n    </tr>\n    <tr>\n      <th>CodeClient</th>\n      <th></th>\n      <th></th>\n      <th></th>\n      <th></th>\n      <th></th>\n    </tr>\n  </thead>\n  <tbody>\n    <tr>\n      <th>5</th>\n      <td>3</td>\n      <td>0</td>\n      <td>0</td>\n      <td>1</td>\n      <td>0.000000</td>\n    </tr>\n    <tr>\n      <th>16</th>\n      <td>5</td>\n      <td>0</td>\n      <td>0</td>\n      <td>3</td>\n      <td>0.000000</td>\n    </tr>\n    <tr>\n      <th>22</th>\n      <td>9</td>\n      <td>1</td>\n      <td>1</td>\n      <td>7</td>\n      <td>0.142857</td>\n    </tr>\n    <tr>\n      <th>37</th>\n      <td>1</td>\n      <td>0</td>\n      <td>0</td>\n      <td>1</td>\n      <td>0.000000</td>\n    </tr>\n    <tr>\n      <th>51</th>\n      <td>5</td>\n      <td>0</td>\n      <td>0</td>\n      <td>4</td>\n      <td>0.000000</td>\n    </tr>\n    <tr>\n      <th>...</th>\n      <td>...</td>\n      <td>...</td>\n      <td>...</td>\n      <td>...</td>\n      <td>...</td>\n    </tr>\n    <tr>\n      <th>14743</th>\n      <td>1</td>\n      <td>0</td>\n      <td>0</td>\n      <td>1</td>\n      <td>0.000000</td>\n    </tr>\n    <tr>\n      <th>14747</th>\n      <td>2</td>\n      <td>0</td>\n      <td>0</td>\n      <td>2</td>\n      <td>0.000000</td>\n    </tr>\n    <tr>\n      <th>14751</th>\n      <td>2</td>\n      <td>0</td>\n      <td>0</td>\n      <td>2</td>\n      <td>0.000000</td>\n    </tr>\n    <tr>\n      <th>14752</th>\n      <td>1</td>\n      <td>0</td>\n      <td>0</td>\n      <td>1</td>\n      <td>0.000000</td>\n    </tr>\n    <tr>\n      <th>14754</th>\n      <td>2</td>\n      <td>0</td>\n      <td>0</td>\n      <td>1</td>\n      <td>0.000000</td>\n    </tr>\n  </tbody>\n</table>\n<p>2204 rows × 5 columns</p>\n</div>"
     },
     "execution_count": 16,
     "metadata": {},
     "output_type": "execute_result"
    }
   ],
   "source": [
    "print(f'transform <= {indice}')\n",
    "\n",
    "result.loc[ result['transform'] <= indice]"
   ],
   "metadata": {
    "collapsed": false,
    "pycharm": {
     "name": "#%%\n"
    }
   }
  },
  {
   "cell_type": "markdown",
   "source": [
    "# Function montre_transform"
   ],
   "metadata": {
    "collapsed": false,
    "pycharm": {
     "name": "#%% md\n"
    }
   }
  },
  {
   "cell_type": "code",
   "execution_count": 17,
   "outputs": [],
   "source": [
    "def montre_transform(result, indice):\n",
    "    print(f'transform == {indice}')\n",
    "\n",
    "    print(result.loc[ result['transform'] == indice].to_string())"
   ],
   "metadata": {
    "collapsed": false,
    "pycharm": {
     "name": "#%%\n"
    }
   }
  },
  {
   "cell_type": "code",
   "execution_count": 18,
   "outputs": [
    {
     "name": "stdout",
     "output_type": "stream",
     "text": [
      "transform == 0.0\n",
      "            is_devis  is_commande  commande  nego  transform\n",
      "CodeClient                                                  \n",
      "5                  3            0         0     1        0.0\n",
      "16                 5            0         0     3        0.0\n",
      "37                 1            0         0     1        0.0\n",
      "51                 5            0         0     4        0.0\n",
      "96                 1            0         0     1        0.0\n",
      "100                2            0         0     2        0.0\n",
      "131               11            0         0     1        0.0\n",
      "136                7            0         0     3        0.0\n",
      "146                2            0         0     2        0.0\n",
      "150               10            0         0     9        0.0\n",
      "151                6            0         0     6        0.0\n",
      "152                1            0         0     1        0.0\n",
      "171                1            0         0     1        0.0\n",
      "201                1            0         0     1        0.0\n",
      "207                3            0         0     1        0.0\n",
      "210                5            0         0     4        0.0\n",
      "224                1            0         0     1        0.0\n",
      "238                1            0         0     1        0.0\n",
      "252                1            0         0     1        0.0\n",
      "279                1            0         0     1        0.0\n",
      "323                1            0         0     1        0.0\n",
      "361                2            0         0     1        0.0\n",
      "381                5            0         0     5        0.0\n",
      "425                3            0         0     2        0.0\n",
      "431                1            0         0     1        0.0\n",
      "436                2            0         0     2        0.0\n",
      "485                2            0         0     2        0.0\n",
      "488                8            0         0     4        0.0\n",
      "491                1            0         0     1        0.0\n",
      "492                3            0         0     3        0.0\n",
      "524                1            0         0     1        0.0\n",
      "525                1            0         0     1        0.0\n",
      "541                3            0         0     3        0.0\n",
      "597                3            0         0     3        0.0\n",
      "633                1            0         0     1        0.0\n",
      "646                4            0         0     4        0.0\n",
      "656                7            0         0     6        0.0\n",
      "667                1            0         0     1        0.0\n",
      "676                1            0         0     1        0.0\n",
      "694               22            0         0    12        0.0\n",
      "704                3            0         0     2        0.0\n",
      "707                2            0         0     2        0.0\n",
      "708                1            0         0     1        0.0\n",
      "727                3            0         0     2        0.0\n",
      "769                4            0         0     1        0.0\n",
      "771                3            0         0     3        0.0\n",
      "784                2            0         0     1        0.0\n",
      "787                1            0         0     1        0.0\n",
      "794                4            0         0     4        0.0\n",
      "812                1            0         0     1        0.0\n",
      "834               12            0         0     3        0.0\n",
      "926                3            0         0     2        0.0\n",
      "930                1            0         0     1        0.0\n",
      "983                1            0         0     1        0.0\n",
      "1038               1            0         0     1        0.0\n",
      "1048               1            0         0     1        0.0\n",
      "1069               5            0         0     2        0.0\n",
      "1073               2            0         0     2        0.0\n",
      "1088               2            0         0     1        0.0\n",
      "1124               6            0         0     1        0.0\n",
      "1131               2            0         0     2        0.0\n",
      "1142              11            0         0     2        0.0\n",
      "1153               1            0         0     1        0.0\n",
      "1194               9            0         0     4        0.0\n",
      "1246               1            0         0     1        0.0\n",
      "1247              11            0         0     3        0.0\n",
      "1248               1            0         0     1        0.0\n",
      "1254              11            0         0     8        0.0\n",
      "1256               1            0         0     1        0.0\n",
      "1261               1            0         0     1        0.0\n",
      "1269               2            0         0     2        0.0\n",
      "1294               3            0         0     3        0.0\n",
      "1295               1            0         0     1        0.0\n",
      "1351               6            0         0     1        0.0\n",
      "1354               4            0         0     2        0.0\n",
      "1355               4            0         0     1        0.0\n",
      "1426              24            0         0     3        0.0\n",
      "1438               2            0         0     2        0.0\n",
      "1441               3            0         0     2        0.0\n",
      "1448               4            0         0     1        0.0\n",
      "1450               6            0         0     6        0.0\n",
      "1454               4            0         0     3        0.0\n",
      "1486               7            0         0     2        0.0\n",
      "1489               9            0         0     6        0.0\n",
      "1491               8            0         0     5        0.0\n",
      "1497               3            0         0     2        0.0\n",
      "1513               3            0         0     3        0.0\n",
      "1523               1            0         0     1        0.0\n",
      "1525               5            0         0     4        0.0\n",
      "1546               1            0         0     1        0.0\n",
      "1557               1            0         0     1        0.0\n",
      "1562               2            0         0     2        0.0\n",
      "1575               3            0         0     1        0.0\n",
      "1576               1            0         0     1        0.0\n",
      "1581               2            0         0     2        0.0\n",
      "1583               2            0         0     2        0.0\n",
      "1585               1            0         0     1        0.0\n",
      "1588               1            0         0     1        0.0\n",
      "1591               2            0         0     1        0.0\n",
      "1601               3            0         0     3        0.0\n",
      "1615               2            0         0     2        0.0\n",
      "1616               1            0         0     1        0.0\n",
      "1619              21            0         0     3        0.0\n",
      "1621               2            0         0     1        0.0\n",
      "1630               1            0         0     1        0.0\n",
      "1638              50            0         0     5        0.0\n",
      "1642               1            0         0     1        0.0\n",
      "1650              11            0         0     5        0.0\n",
      "1685               1            0         0     1        0.0\n",
      "1716              18            0         0     8        0.0\n",
      "1724               1            0         0     1        0.0\n",
      "1780               4            0         0     4        0.0\n",
      "1795               3            0         0     3        0.0\n",
      "1825               4            0         0     3        0.0\n",
      "1829               1            0         0     1        0.0\n",
      "1842               5            0         0     5        0.0\n",
      "1867               1            0         0     1        0.0\n",
      "1876               5            0         0     2        0.0\n",
      "1878               1            0         0     1        0.0\n",
      "1914               2            0         0     1        0.0\n",
      "1931               1            0         0     1        0.0\n",
      "1935               1            0         0     1        0.0\n",
      "1936               1            0         0     1        0.0\n",
      "1953               4            0         0     3        0.0\n",
      "1986               2            0         0     1        0.0\n",
      "2010               1            0         0     1        0.0\n",
      "2028               1            0         0     1        0.0\n",
      "2030              16            0         0     4        0.0\n",
      "2050               1            0         0     1        0.0\n",
      "2060               4            0         0     1        0.0\n",
      "2079               1            0         0     1        0.0\n",
      "2084               6            0         0     1        0.0\n",
      "2090               2            0         0     2        0.0\n",
      "2093               2            0         0     2        0.0\n",
      "2094              14            0         0     3        0.0\n",
      "2095               3            0         0     3        0.0\n",
      "2099               7            0         0     3        0.0\n",
      "2130               1            0         0     1        0.0\n",
      "2133               4            0         0     3        0.0\n",
      "2139              13            0         0    11        0.0\n",
      "2142              26            0         0    18        0.0\n",
      "2163               2            0         0     1        0.0\n",
      "2237               2            0         0     2        0.0\n",
      "2241               2            0         0     1        0.0\n",
      "2243               1            0         0     1        0.0\n",
      "2262               3            0         0     1        0.0\n",
      "2273               4            0         0     3        0.0\n",
      "2284               4            0         0     1        0.0\n",
      "2287               1            0         0     1        0.0\n",
      "2307               7            0         0     2        0.0\n",
      "2315               1            0         0     1        0.0\n",
      "2328               2            0         0     2        0.0\n",
      "2342               2            0         0     1        0.0\n",
      "2361               3            0         0     2        0.0\n",
      "2385               1            0         0     1        0.0\n",
      "2391               7            0         0     3        0.0\n",
      "2394               1            0         0     1        0.0\n",
      "2402               2            0         0     2        0.0\n",
      "2418               1            0         0     1        0.0\n",
      "2419               2            0         0     1        0.0\n",
      "2424               1            0         0     1        0.0\n",
      "2426              13            0         0     3        0.0\n",
      "2434               2            0         0     1        0.0\n",
      "2499              14            0         0     1        0.0\n",
      "2504               6            0         0     6        0.0\n",
      "2524               6            0         0     3        0.0\n",
      "2532               5            0         0     2        0.0\n",
      "2553               1            0         0     1        0.0\n",
      "2555              25            0         0     4        0.0\n",
      "2567               1            0         0     1        0.0\n",
      "2575              25            0         0     7        0.0\n",
      "2599               4            0         0     4        0.0\n",
      "2619               2            0         0     2        0.0\n",
      "2639               3            0         0     3        0.0\n",
      "2645               1            0         0     1        0.0\n",
      "2648               1            0         0     1        0.0\n",
      "2652              26            0         0     1        0.0\n",
      "2655               6            0         0     1        0.0\n",
      "2656               1            0         0     1        0.0\n",
      "2667               1            0         0     1        0.0\n",
      "2674               4            0         0     4        0.0\n",
      "2682               1            0         0     1        0.0\n",
      "2685               1            0         0     1        0.0\n",
      "2691               1            0         0     1        0.0\n",
      "2694               6            0         0     3        0.0\n",
      "2708               1            0         0     1        0.0\n",
      "2719              11            0         0     4        0.0\n",
      "2733              10            0         0     8        0.0\n",
      "2752               1            0         0     1        0.0\n",
      "2754               3            0         0     2        0.0\n",
      "2772               1            0         0     1        0.0\n",
      "2774               2            0         0     1        0.0\n",
      "2790               6            0         0     3        0.0\n",
      "2792               1            0         0     1        0.0\n",
      "2797               1            0         0     1        0.0\n",
      "2805               2            0         0     1        0.0\n",
      "2813              35            0         0    10        0.0\n",
      "2819              13            0         0     3        0.0\n",
      "2840               7            0         0     6        0.0\n",
      "2854               1            0         0     1        0.0\n",
      "2860               7            0         0     6        0.0\n",
      "2861               5            0         0     3        0.0\n",
      "2866               7            0         0     6        0.0\n",
      "2871               1            0         0     1        0.0\n",
      "2873               1            0         0     1        0.0\n",
      "2882               2            0         0     1        0.0\n",
      "2897               1            0         0     1        0.0\n",
      "2903               1            0         0     1        0.0\n",
      "2905               3            0         0     2        0.0\n",
      "2909               1            0         0     1        0.0\n",
      "2918               1            0         0     1        0.0\n",
      "2924               4            0         0     1        0.0\n",
      "2927               2            0         0     1        0.0\n",
      "2937               1            0         0     1        0.0\n",
      "2940               2            0         0     2        0.0\n",
      "2946               5            0         0     2        0.0\n",
      "2954               2            0         0     2        0.0\n",
      "2959               3            0         0     2        0.0\n",
      "2968               2            0         0     1        0.0\n",
      "2977               2            0         0     2        0.0\n",
      "2985               5            0         0     5        0.0\n",
      "2992               3            0         0     3        0.0\n",
      "3002               1            0         0     1        0.0\n",
      "3014               6            0         0     6        0.0\n",
      "3026               2            0         0     2        0.0\n",
      "3028               2            0         0     2        0.0\n",
      "3034               1            0         0     1        0.0\n",
      "3035               2            0         0     2        0.0\n",
      "3039               9            0         0     7        0.0\n",
      "3051               1            0         0     1        0.0\n",
      "3090               2            0         0     1        0.0\n",
      "3092               5            0         0     2        0.0\n",
      "3094               1            0         0     1        0.0\n",
      "3095               2            0         0     1        0.0\n",
      "3108               1            0         0     1        0.0\n",
      "3116               2            0         0     1        0.0\n",
      "3118               3            0         0     3        0.0\n",
      "3122               1            0         0     1        0.0\n",
      "3130               3            0         0     2        0.0\n",
      "3138               5            0         0     4        0.0\n",
      "3144              14            0         0     2        0.0\n",
      "3203               2            0         0     1        0.0\n",
      "3206               1            0         0     1        0.0\n",
      "3215               1            0         0     1        0.0\n",
      "3228              20            0         0     5        0.0\n",
      "3241               5            0         0     5        0.0\n",
      "3245               2            0         0     2        0.0\n",
      "3251               1            0         0     1        0.0\n",
      "3269               3            0         0     1        0.0\n",
      "3271               5            0         0     2        0.0\n",
      "3273               1            0         0     1        0.0\n",
      "3284               2            0         0     1        0.0\n",
      "3294               2            0         0     2        0.0\n",
      "3306               1            0         0     1        0.0\n",
      "3329               1            0         0     1        0.0\n",
      "3347               7            0         0     2        0.0\n",
      "3349               8            0         0     2        0.0\n",
      "3363               1            0         0     1        0.0\n",
      "3369               3            0         0     2        0.0\n",
      "3375               1            0         0     1        0.0\n",
      "3408               1            0         0     1        0.0\n",
      "3428               4            0         0     2        0.0\n",
      "3433               2            0         0     1        0.0\n",
      "3439               2            0         0     2        0.0\n",
      "3450               1            0         0     1        0.0\n",
      "3465               3            0         0     3        0.0\n",
      "3470               5            0         0     4        0.0\n",
      "3479               1            0         0     1        0.0\n",
      "3485               7            0         0     3        0.0\n",
      "3487               3            0         0     3        0.0\n",
      "3508               9            0         0     6        0.0\n",
      "3530               4            0         0     3        0.0\n",
      "3536               2            0         0     1        0.0\n",
      "3539               1            0         0     1        0.0\n",
      "3540               2            0         0     2        0.0\n",
      "3552               2            0         0     2        0.0\n",
      "3560               1            0         0     1        0.0\n",
      "3570               2            0         0     2        0.0\n",
      "3599               4            0         0     4        0.0\n",
      "3613               1            0         0     1        0.0\n",
      "3616               1            0         0     1        0.0\n",
      "3623               1            0         0     1        0.0\n",
      "3625               2            0         0     2        0.0\n",
      "3627               1            0         0     1        0.0\n",
      "3641               4            0         0     2        0.0\n",
      "3650               1            0         0     1        0.0\n",
      "3666              63            0         0     8        0.0\n",
      "3671               1            0         0     1        0.0\n",
      "3674               1            0         0     1        0.0\n",
      "3675               3            0         0     2        0.0\n",
      "3678               1            0         0     1        0.0\n",
      "3680               6            0         0     4        0.0\n",
      "3683               1            0         0     1        0.0\n",
      "3685               5            0         0     3        0.0\n",
      "3695               1            0         0     1        0.0\n",
      "3715               1            0         0     1        0.0\n",
      "3718               5            0         0     4        0.0\n",
      "3722               2            0         0     1        0.0\n",
      "3730               1            0         0     1        0.0\n",
      "3735               1            0         0     1        0.0\n",
      "3764               1            0         0     1        0.0\n",
      "3778               4            0         0     2        0.0\n",
      "3790               6            0         0     3        0.0\n",
      "3803               1            0         0     1        0.0\n",
      "3809               1            0         0     1        0.0\n",
      "3812               1            0         0     1        0.0\n",
      "3835               1            0         0     1        0.0\n",
      "3841               2            0         0     1        0.0\n",
      "3862               1            0         0     1        0.0\n",
      "3883               5            0         0     3        0.0\n",
      "3885               3            0         0     2        0.0\n",
      "3904               1            0         0     1        0.0\n",
      "3910               1            0         0     1        0.0\n",
      "3912              44            0         0     4        0.0\n",
      "3913               1            0         0     1        0.0\n",
      "3958               9            0         0     4        0.0\n",
      "3963               3            0         0     2        0.0\n",
      "3967              15            0         0     8        0.0\n",
      "3972               4            0         0     2        0.0\n",
      "3988              72            0         0    32        0.0\n",
      "4003               1            0         0     1        0.0\n",
      "4013               1            0         0     1        0.0\n",
      "4034               2            0         0     1        0.0\n",
      "4041               7            0         0     6        0.0\n",
      "4049               2            0         0     2        0.0\n",
      "4051              22            0         0    14        0.0\n",
      "4080               1            0         0     1        0.0\n",
      "4081               1            0         0     1        0.0\n",
      "4103               1            0         0     1        0.0\n",
      "4115               1            0         0     1        0.0\n",
      "4121               1            0         0     1        0.0\n",
      "4141               1            0         0     1        0.0\n",
      "4143               3            0         0     2        0.0\n",
      "4161               5            0         0     1        0.0\n",
      "4174               4            0         0     4        0.0\n",
      "4187               1            0         0     1        0.0\n",
      "4199              12            0         0     7        0.0\n",
      "4201               2            0         0     1        0.0\n",
      "4203              15            0         0     7        0.0\n",
      "4227               3            0         0     3        0.0\n",
      "4228               2            0         0     2        0.0\n",
      "4238               1            0         0     1        0.0\n",
      "4253              21            0         0     2        0.0\n",
      "4277               1            0         0     1        0.0\n",
      "4278               1            0         0     1        0.0\n",
      "4297               3            0         0     3        0.0\n",
      "4299               1            0         0     1        0.0\n",
      "4300               3            0         0     2        0.0\n",
      "4315               2            0         0     1        0.0\n",
      "4322               6            0         0     3        0.0\n",
      "4329              31            0         0    11        0.0\n",
      "4331              15            0         0     3        0.0\n",
      "4333               2            0         0     1        0.0\n",
      "4340               1            0         0     1        0.0\n",
      "4349              17            0         0    12        0.0\n",
      "4350               4            0         0     4        0.0\n",
      "4352              12            0         0     5        0.0\n",
      "4371               3            0         0     1        0.0\n",
      "4372               2            0         0     1        0.0\n",
      "4374              10            0         0     3        0.0\n",
      "4435               4            0         0     2        0.0\n",
      "4441               3            0         0     1        0.0\n",
      "4442               2            0         0     1        0.0\n",
      "4443               1            0         0     1        0.0\n",
      "4462               2            0         0     1        0.0\n",
      "4466               5            0         0     2        0.0\n",
      "4476               2            0         0     1        0.0\n",
      "4478              11            0         0     5        0.0\n",
      "4482               3            0         0     2        0.0\n",
      "4483               3            0         0     2        0.0\n",
      "4492               2            0         0     2        0.0\n",
      "4493               2            0         0     1        0.0\n",
      "4504               5            0         0     4        0.0\n",
      "4505               1            0         0     1        0.0\n",
      "4506              23            0         0     3        0.0\n",
      "4508               1            0         0     1        0.0\n",
      "4512               4            0         0     2        0.0\n",
      "4518              39            0         0     3        0.0\n",
      "4522               1            0         0     1        0.0\n",
      "4539               3            0         0     2        0.0\n",
      "4540               5            0         0     1        0.0\n",
      "4555               2            0         0     2        0.0\n",
      "4563               4            0         0     3        0.0\n",
      "4583               1            0         0     1        0.0\n",
      "4586               1            0         0     1        0.0\n",
      "4596               2            0         0     2        0.0\n",
      "4604               1            0         0     1        0.0\n",
      "4605               1            0         0     1        0.0\n",
      "4610               1            0         0     1        0.0\n",
      "4617               1            0         0     1        0.0\n",
      "4634               1            0         0     1        0.0\n",
      "4636              10            0         0     7        0.0\n",
      "4639               1            0         0     1        0.0\n",
      "4654              38            0         0    19        0.0\n",
      "4655               4            0         0     3        0.0\n",
      "4657               4            0         0     2        0.0\n",
      "4658               3            0         0     1        0.0\n",
      "4671               2            0         0     1        0.0\n",
      "4676               6            0         0     1        0.0\n",
      "4693               3            0         0     2        0.0\n",
      "4703               7            0         0     1        0.0\n",
      "4713               3            0         0     3        0.0\n",
      "4732               4            0         0     1        0.0\n",
      "4739               2            0         0     2        0.0\n",
      "4754               2            0         0     1        0.0\n",
      "4762               1            0         0     1        0.0\n",
      "4773               1            0         0     1        0.0\n",
      "4774               1            0         0     1        0.0\n",
      "4785               1            0         0     1        0.0\n",
      "4791               3            0         0     2        0.0\n",
      "4799               2            0         0     2        0.0\n",
      "4805              15            0         0     7        0.0\n",
      "4812               1            0         0     1        0.0\n",
      "4815              11            0         0     4        0.0\n",
      "4830               4            0         0     3        0.0\n",
      "4842               6            0         0     4        0.0\n",
      "4844               5            0         0     4        0.0\n",
      "4845               1            0         0     1        0.0\n",
      "4853               2            0         0     2        0.0\n",
      "4860               3            0         0     1        0.0\n",
      "4861               3            0         0     3        0.0\n",
      "4862               1            0         0     1        0.0\n",
      "4867               3            0         0     2        0.0\n",
      "4886               4            0         0     2        0.0\n",
      "4908               7            0         0     1        0.0\n",
      "4923               2            0         0     2        0.0\n",
      "4934              12            0         0     3        0.0\n",
      "4937               1            0         0     1        0.0\n",
      "4979              13            0         0     4        0.0\n",
      "4997               1            0         0     1        0.0\n",
      "5002              10            0         0     1        0.0\n",
      "5056               3            0         0     3        0.0\n",
      "5079               4            0         0     4        0.0\n",
      "5085               3            0         0     3        0.0\n",
      "5090               8            0         0     1        0.0\n",
      "5103              14            0         0     2        0.0\n",
      "5109               2            0         0     1        0.0\n",
      "5129               1            0         0     1        0.0\n",
      "5131               1            0         0     1        0.0\n",
      "5136               3            0         0     1        0.0\n",
      "5141               1            0         0     1        0.0\n",
      "5143               2            0         0     2        0.0\n",
      "5159               1            0         0     1        0.0\n",
      "5161               5            0         0     1        0.0\n",
      "5162               1            0         0     1        0.0\n",
      "5165               2            0         0     2        0.0\n",
      "5170               1            0         0     1        0.0\n",
      "5172               1            0         0     1        0.0\n",
      "5173               3            0         0     1        0.0\n",
      "5182               4            0         0     3        0.0\n",
      "5194               1            0         0     1        0.0\n",
      "5202              10            0         0     1        0.0\n",
      "5208               6            0         0     3        0.0\n",
      "5217               1            0         0     1        0.0\n",
      "5222               2            0         0     1        0.0\n",
      "5266              25            0         0    15        0.0\n",
      "5271               3            0         0     3        0.0\n",
      "5276               1            0         0     1        0.0\n",
      "5279               4            0         0     3        0.0\n",
      "5291               5            0         0     1        0.0\n",
      "5306               4            0         0     2        0.0\n",
      "5308               2            0         0     1        0.0\n",
      "5311               2            0         0     1        0.0\n",
      "5321               2            0         0     1        0.0\n",
      "5323               1            0         0     1        0.0\n",
      "5328               1            0         0     1        0.0\n",
      "5329               4            0         0     1        0.0\n",
      "5333               4            0         0     3        0.0\n",
      "5340               1            0         0     1        0.0\n",
      "5362               1            0         0     1        0.0\n",
      "5363               1            0         0     1        0.0\n",
      "5371               5            0         0     2        0.0\n",
      "5381               1            0         0     1        0.0\n",
      "5383               1            0         0     1        0.0\n",
      "5392               1            0         0     1        0.0\n",
      "5414               4            0         0     1        0.0\n",
      "5416              11            0         0     4        0.0\n",
      "5427               1            0         0     1        0.0\n",
      "5434               5            0         0     1        0.0\n",
      "5465               1            0         0     1        0.0\n",
      "5510               1            0         0     1        0.0\n",
      "5532              14            0         0     3        0.0\n",
      "5546               2            0         0     1        0.0\n",
      "5564               5            0         0     2        0.0\n",
      "5573               1            0         0     1        0.0\n",
      "5591               3            0         0     3        0.0\n",
      "5609               2            0         0     1        0.0\n",
      "5610               6            0         0     4        0.0\n",
      "5631               2            0         0     1        0.0\n",
      "5679               1            0         0     1        0.0\n",
      "5692               2            0         0     1        0.0\n",
      "5693               6            0         0     3        0.0\n",
      "5733               1            0         0     1        0.0\n",
      "5760               1            0         0     1        0.0\n",
      "5808              10            0         0     8        0.0\n",
      "5812               3            0         0     1        0.0\n",
      "5826               1            0         0     1        0.0\n",
      "5835              11            0         0     1        0.0\n",
      "5845               3            0         0     2        0.0\n",
      "5858             119            0         0    15        0.0\n",
      "5878               2            0         0     1        0.0\n",
      "5880               6            0         0     2        0.0\n",
      "5886               1            0         0     1        0.0\n",
      "5896               1            0         0     1        0.0\n",
      "5904               2            0         0     2        0.0\n",
      "5930               7            0         0     1        0.0\n",
      "5965              11            0         0     3        0.0\n",
      "5991               2            0         0     1        0.0\n",
      "6003               1            0         0     1        0.0\n",
      "6012               2            0         0     2        0.0\n",
      "6029               4            0         0     4        0.0\n",
      "6034               1            0         0     1        0.0\n",
      "6043               5            0         0     4        0.0\n",
      "6044               1            0         0     1        0.0\n",
      "6045              16            0         0     4        0.0\n",
      "6085               2            0         0     2        0.0\n",
      "6091              16            0         0    12        0.0\n",
      "6112               8            0         0     1        0.0\n",
      "6121              19            0         0    13        0.0\n",
      "6181               1            0         0     1        0.0\n",
      "6188              16            0         0     7        0.0\n",
      "6223               2            0         0     2        0.0\n",
      "6225               9            0         0     4        0.0\n",
      "6281               2            0         0     2        0.0\n",
      "6316              12            0         0     6        0.0\n",
      "6324               2            0         0     1        0.0\n",
      "6333               1            0         0     1        0.0\n",
      "6409              30            0         0     3        0.0\n",
      "6422              14            0         0     8        0.0\n",
      "6433              35            0         0    16        0.0\n",
      "6478               9            0         0     3        0.0\n",
      "6491               4            0         0     3        0.0\n",
      "6497               2            0         0     2        0.0\n",
      "6500              21            0         0     2        0.0\n",
      "6517               2            0         0     1        0.0\n",
      "6518               2            0         0     1        0.0\n",
      "6602               1            0         0     1        0.0\n",
      "6630              10            0         0     4        0.0\n",
      "6658               1            0         0     1        0.0\n",
      "6661               1            0         0     1        0.0\n",
      "6662              16            0         0     6        0.0\n",
      "6666               2            0         0     1        0.0\n",
      "6689               5            0         0     3        0.0\n",
      "6723               2            0         0     2        0.0\n",
      "6737               1            0         0     1        0.0\n",
      "6777               2            0         0     2        0.0\n",
      "6780               5            0         0     4        0.0\n",
      "6785              12            0         0     5        0.0\n",
      "6801               4            0         0     1        0.0\n",
      "6806               7            0         0     3        0.0\n",
      "6810               5            0         0     4        0.0\n",
      "6831               1            0         0     1        0.0\n",
      "6879              11            0         0     2        0.0\n",
      "6884              16            0         0     8        0.0\n",
      "6908              12            0         0     5        0.0\n",
      "6910               4            0         0     2        0.0\n",
      "6913               2            0         0     1        0.0\n",
      "6940              10            0         0     2        0.0\n",
      "6966               1            0         0     1        0.0\n",
      "6984               2            0         0     2        0.0\n",
      "7075               1            0         0     1        0.0\n",
      "7089               3            0         0     3        0.0\n",
      "7114               4            0         0     4        0.0\n",
      "7115               1            0         0     1        0.0\n",
      "7125               2            0         0     1        0.0\n",
      "7165               2            0         0     1        0.0\n",
      "7240               1            0         0     1        0.0\n",
      "7248               1            0         0     1        0.0\n",
      "7273               2            0         0     1        0.0\n",
      "7293               2            0         0     2        0.0\n",
      "7349               4            0         0     2        0.0\n",
      "7415               1            0         0     1        0.0\n",
      "7432               1            0         0     1        0.0\n",
      "7433               1            0         0     1        0.0\n",
      "7441               4            0         0     1        0.0\n",
      "7464               1            0         0     1        0.0\n",
      "7477              21            0         0     2        0.0\n",
      "7483               2            0         0     1        0.0\n",
      "7486               2            0         0     1        0.0\n",
      "7492               5            0         0     4        0.0\n",
      "7501               3            0         0     3        0.0\n",
      "7506               1            0         0     1        0.0\n",
      "7510               2            0         0     2        0.0\n",
      "7514               1            0         0     1        0.0\n",
      "7547               1            0         0     1        0.0\n",
      "7553               3            0         0     2        0.0\n",
      "7567              10            0         0     5        0.0\n",
      "7581               4            0         0     2        0.0\n",
      "7592               3            0         0     1        0.0\n",
      "7596               1            0         0     1        0.0\n",
      "7609               3            0         0     2        0.0\n",
      "7622               2            0         0     2        0.0\n",
      "7671               4            0         0     3        0.0\n",
      "7692               5            0         0     5        0.0\n",
      "7706               1            0         0     1        0.0\n",
      "7714               2            0         0     2        0.0\n",
      "7725               1            0         0     1        0.0\n",
      "7729               5            0         0     5        0.0\n",
      "7746               2            0         0     2        0.0\n",
      "7772               6            0         0     6        0.0\n",
      "7806               1            0         0     1        0.0\n",
      "7815               1            0         0     1        0.0\n",
      "7818               3            0         0     2        0.0\n",
      "7826               2            0         0     1        0.0\n",
      "7834               4            0         0     3        0.0\n",
      "7835               3            0         0     3        0.0\n",
      "7846               1            0         0     1        0.0\n",
      "7882              36            0         0     6        0.0\n",
      "7888               4            0         0     4        0.0\n",
      "7892               2            0         0     2        0.0\n",
      "7893               1            0         0     1        0.0\n",
      "7907               2            0         0     1        0.0\n",
      "7917               1            0         0     1        0.0\n",
      "7935               6            0         0     2        0.0\n",
      "7942               1            0         0     1        0.0\n",
      "7957               2            0         0     2        0.0\n",
      "7984               1            0         0     1        0.0\n",
      "7988              20            0         0     8        0.0\n",
      "7991               3            0         0     3        0.0\n",
      "8002               5            0         0     5        0.0\n",
      "8009               1            0         0     1        0.0\n",
      "8027               2            0         0     1        0.0\n",
      "8031               2            0         0     2        0.0\n",
      "8059               4            0         0     3        0.0\n",
      "8076              15            0         0     8        0.0\n",
      "8079               3            0         0     1        0.0\n",
      "8080               1            0         0     1        0.0\n",
      "8082               2            0         0     1        0.0\n",
      "8117               1            0         0     1        0.0\n",
      "8119              18            0         0     1        0.0\n",
      "8121               5            0         0     1        0.0\n",
      "8138               3            0         0     2        0.0\n",
      "8160               1            0         0     1        0.0\n",
      "8191               1            0         0     1        0.0\n",
      "8232               1            0         0     1        0.0\n",
      "8246               1            0         0     1        0.0\n",
      "8252               1            0         0     1        0.0\n",
      "8259               2            0         0     2        0.0\n",
      "8270              28            0         0     4        0.0\n",
      "8284               2            0         0     1        0.0\n",
      "9023               6            0         0     2        0.0\n",
      "9026              15            0         0     8        0.0\n",
      "9057               4            0         0     1        0.0\n",
      "9059              11            0         0     1        0.0\n",
      "9067              46            0         0    14        0.0\n",
      "9073               1            0         0     1        0.0\n",
      "9080               5            0         0     4        0.0\n",
      "9081               9            0         0     4        0.0\n",
      "9100               2            0         0     1        0.0\n",
      "9666               4            0         0     1        0.0\n",
      "9671              92            0         0     2        0.0\n",
      "9676               1            0         0     1        0.0\n",
      "9678               2            0         0     2        0.0\n",
      "9684               2            0         0     1        0.0\n",
      "9694               3            0         0     3        0.0\n",
      "9730              10            0         0     8        0.0\n",
      "9763               3            0         0     3        0.0\n",
      "9768               1            0         0     1        0.0\n",
      "9770               3            0         0     2        0.0\n",
      "9777               3            0         0     3        0.0\n",
      "9782               8            0         0     3        0.0\n",
      "9785              14            0         0     5        0.0\n",
      "9794               8            0         0     3        0.0\n",
      "9799               1            0         0     1        0.0\n",
      "9801               2            0         0     2        0.0\n",
      "9806               3            0         0     2        0.0\n",
      "9809               3            0         0     2        0.0\n",
      "9818               2            0         0     2        0.0\n",
      "9822               2            0         0     2        0.0\n",
      "9823               3            0         0     2        0.0\n",
      "9835              21            0         0     5        0.0\n",
      "9846               4            0         0     2        0.0\n",
      "9847               1            0         0     1        0.0\n",
      "9851               4            0         0     4        0.0\n",
      "9854               3            0         0     1        0.0\n",
      "9862               1            0         0     1        0.0\n",
      "9867               2            0         0     1        0.0\n",
      "9874               3            0         0     2        0.0\n",
      "9905               2            0         0     1        0.0\n",
      "9909               2            0         0     2        0.0\n",
      "9910               1            0         0     1        0.0\n",
      "9913               9            0         0     3        0.0\n",
      "9920               4            0         0     4        0.0\n",
      "9926              50            0         0     6        0.0\n",
      "9927               1            0         0     1        0.0\n",
      "9931               3            0         0     2        0.0\n",
      "9939               5            0         0     4        0.0\n",
      "9947              17            0         0     4        0.0\n",
      "9958               1            0         0     1        0.0\n",
      "9962               1            0         0     1        0.0\n",
      "9964               8            0         0     2        0.0\n",
      "9966               1            0         0     1        0.0\n",
      "9979               7            0         0     5        0.0\n",
      "9997              59            0         0     6        0.0\n",
      "10011              1            0         0     1        0.0\n",
      "10012              4            0         0     4        0.0\n",
      "10014              6            0         0     2        0.0\n",
      "10015             10            0         0     3        0.0\n",
      "10016              7            0         0     7        0.0\n",
      "10020              2            0         0     1        0.0\n",
      "10025             22            0         0     2        0.0\n",
      "10029             16            0         0     7        0.0\n",
      "10041              1            0         0     1        0.0\n",
      "10046              1            0         0     1        0.0\n",
      "10057              7            0         0     4        0.0\n",
      "10066              2            0         0     1        0.0\n",
      "10068              1            0         0     1        0.0\n",
      "10087              7            0         0     6        0.0\n",
      "10091              1            0         0     1        0.0\n",
      "10100             93            0         0    17        0.0\n",
      "10106              6            0         0     2        0.0\n",
      "10127              1            0         0     1        0.0\n",
      "10131              1            0         0     1        0.0\n",
      "10137              1            0         0     1        0.0\n",
      "10143              6            0         0     4        0.0\n",
      "10179              6            0         0     3        0.0\n",
      "10181              1            0         0     1        0.0\n",
      "10186              4            0         0     4        0.0\n",
      "10187              2            0         0     2        0.0\n",
      "10213              1            0         0     1        0.0\n",
      "10216             12            0         0     7        0.0\n",
      "10218              6            0         0     6        0.0\n",
      "10227              1            0         0     1        0.0\n",
      "10230              2            0         0     2        0.0\n",
      "10231              7            0         0     4        0.0\n",
      "10236              9            0         0     9        0.0\n",
      "10239              1            0         0     1        0.0\n",
      "10260              4            0         0     1        0.0\n",
      "10261             14            0         0     4        0.0\n",
      "10262              3            0         0     1        0.0\n",
      "10263              3            0         0     3        0.0\n",
      "10276             19            0         0    12        0.0\n",
      "10300              1            0         0     1        0.0\n",
      "10316              6            0         0     2        0.0\n",
      "10342              5            0         0     5        0.0\n",
      "10344              6            0         0     2        0.0\n",
      "10348              1            0         0     1        0.0\n",
      "10356              8            0         0     6        0.0\n",
      "10360              1            0         0     1        0.0\n",
      "10361              1            0         0     1        0.0\n",
      "10396              2            0         0     1        0.0\n",
      "10397             12            0         0     2        0.0\n",
      "10399              1            0         0     1        0.0\n",
      "10401             19            0         0     3        0.0\n",
      "10419              8            0         0     3        0.0\n",
      "10435              3            0         0     2        0.0\n",
      "10444              1            0         0     1        0.0\n",
      "10447              6            0         0     5        0.0\n",
      "10448              2            0         0     1        0.0\n",
      "10452              2            0         0     1        0.0\n",
      "10457              1            0         0     1        0.0\n",
      "10462              2            0         0     2        0.0\n",
      "10473             10            0         0     7        0.0\n",
      "10474              7            0         0     7        0.0\n",
      "10478              1            0         0     1        0.0\n",
      "10482              4            0         0     2        0.0\n",
      "10489              2            0         0     2        0.0\n",
      "10492             31            0         0     4        0.0\n",
      "10496             11            0         0     2        0.0\n",
      "10508              4            0         0     3        0.0\n",
      "10525              2            0         0     1        0.0\n",
      "10529              1            0         0     1        0.0\n",
      "10530              1            0         0     1        0.0\n",
      "10531              1            0         0     1        0.0\n",
      "10536              1            0         0     1        0.0\n",
      "10543             25            0         0    16        0.0\n",
      "10559              9            0         0     2        0.0\n",
      "10562              1            0         0     1        0.0\n",
      "10569              3            0         0     2        0.0\n",
      "10571             22            0         0     1        0.0\n",
      "10574              1            0         0     1        0.0\n",
      "10576              1            0         0     1        0.0\n",
      "10578              3            0         0     2        0.0\n",
      "10588              1            0         0     1        0.0\n",
      "10591              3            0         0     3        0.0\n",
      "10597              4            0         0     2        0.0\n",
      "10599              6            0         0     1        0.0\n",
      "10612              2            0         0     1        0.0\n",
      "10621              4            0         0     4        0.0\n",
      "10626              1            0         0     1        0.0\n",
      "10627              1            0         0     1        0.0\n",
      "10636              1            0         0     1        0.0\n",
      "10653             10            0         0     5        0.0\n",
      "10659              1            0         0     1        0.0\n",
      "10664              1            0         0     1        0.0\n",
      "10676              1            0         0     1        0.0\n",
      "10683              7            0         0     2        0.0\n",
      "10694             11            0         0     1        0.0\n",
      "10710              1            0         0     1        0.0\n",
      "10719              3            0         0     2        0.0\n",
      "10725             15            0         0     5        0.0\n",
      "10733              2            0         0     2        0.0\n",
      "10734              3            0         0     2        0.0\n",
      "10756              4            0         0     2        0.0\n",
      "10775              2            0         0     2        0.0\n",
      "10782              1            0         0     1        0.0\n",
      "10790              1            0         0     1        0.0\n",
      "10805              2            0         0     1        0.0\n",
      "10806              7            0         0     4        0.0\n",
      "10809              2            0         0     1        0.0\n",
      "10817              9            0         0     7        0.0\n",
      "10818              2            0         0     2        0.0\n",
      "10831              3            0         0     3        0.0\n",
      "10839              3            0         0     2        0.0\n",
      "10861              4            0         0     2        0.0\n",
      "10866              8            0         0     5        0.0\n",
      "10871             19            0         0     4        0.0\n",
      "10876              1            0         0     1        0.0\n",
      "10885              1            0         0     1        0.0\n",
      "10892             10            0         0     9        0.0\n",
      "10894              3            0         0     3        0.0\n",
      "10897              1            0         0     1        0.0\n",
      "10903              3            0         0     1        0.0\n",
      "10911             21            0         0     4        0.0\n",
      "10945             10            0         0     6        0.0\n",
      "10947              8            0         0     2        0.0\n",
      "10948              3            0         0     2        0.0\n",
      "10952              1            0         0     1        0.0\n",
      "10956              1            0         0     1        0.0\n",
      "10966              1            0         0     1        0.0\n",
      "10976              3            0         0     2        0.0\n",
      "10979              3            0         0     2        0.0\n",
      "10984              5            0         0     1        0.0\n",
      "10991              2            0         0     2        0.0\n",
      "10995              5            0         0     3        0.0\n",
      "11002              1            0         0     1        0.0\n",
      "11012             55            0         0    11        0.0\n",
      "11014              1            0         0     1        0.0\n",
      "11023             11            0         0     4        0.0\n",
      "11034              2            0         0     1        0.0\n",
      "11045              1            0         0     1        0.0\n",
      "11047              1            0         0     1        0.0\n",
      "11054              2            0         0     1        0.0\n",
      "11064              1            0         0     1        0.0\n",
      "11073              2            0         0     1        0.0\n",
      "11076              1            0         0     1        0.0\n",
      "11082              1            0         0     1        0.0\n",
      "11083              2            0         0     2        0.0\n",
      "11084              1            0         0     1        0.0\n",
      "11089              2            0         0     1        0.0\n",
      "11093              4            0         0     3        0.0\n",
      "11095              1            0         0     1        0.0\n",
      "11108              7            0         0     3        0.0\n",
      "11116              8            0         0     2        0.0\n",
      "11125              2            0         0     2        0.0\n",
      "11137              1            0         0     1        0.0\n",
      "11140              1            0         0     1        0.0\n",
      "11141              1            0         0     1        0.0\n",
      "11146             11            0         0     8        0.0\n",
      "11176              1            0         0     1        0.0\n",
      "11178              1            0         0     1        0.0\n",
      "11179              3            0         0     2        0.0\n",
      "11191              3            0         0     3        0.0\n",
      "11197              1            0         0     1        0.0\n",
      "11201              1            0         0     1        0.0\n",
      "11205              1            0         0     1        0.0\n",
      "11211              1            0         0     1        0.0\n",
      "11214              1            0         0     1        0.0\n",
      "11216              2            0         0     1        0.0\n",
      "11224              2            0         0     1        0.0\n",
      "11227              2            0         0     2        0.0\n",
      "11230             11            0         0     2        0.0\n",
      "11231              7            0         0     5        0.0\n",
      "11232              1            0         0     1        0.0\n",
      "11236              1            0         0     1        0.0\n",
      "11237             11            0         0     1        0.0\n",
      "11242              7            0         0     2        0.0\n",
      "11249              2            0         0     2        0.0\n",
      "11252              1            0         0     1        0.0\n",
      "11258              3            0         0     2        0.0\n",
      "11259              1            0         0     1        0.0\n",
      "11268              3            0         0     1        0.0\n",
      "11274              2            0         0     2        0.0\n",
      "11277              1            0         0     1        0.0\n",
      "11282              8            0         0     6        0.0\n",
      "11286             12            0         0     6        0.0\n",
      "11306              4            0         0     3        0.0\n",
      "11315              6            0         0     1        0.0\n",
      "11319              2            0         0     1        0.0\n",
      "11323              5            0         0     5        0.0\n",
      "11329              2            0         0     1        0.0\n",
      "11334              2            0         0     2        0.0\n",
      "11353              1            0         0     1        0.0\n",
      "11354              1            0         0     1        0.0\n",
      "11355             10            0         0     8        0.0\n",
      "11357              8            0         0     8        0.0\n",
      "11362              2            0         0     2        0.0\n",
      "11363             14            0         0     1        0.0\n",
      "11369              1            0         0     1        0.0\n",
      "11375              3            0         0     2        0.0\n",
      "11377              2            0         0     2        0.0\n",
      "11380              3            0         0     3        0.0\n",
      "11382              4            0         0     4        0.0\n",
      "11386              6            0         0     5        0.0\n",
      "11390              1            0         0     1        0.0\n",
      "11402              3            0         0     3        0.0\n",
      "11404             36            0         0     4        0.0\n",
      "11408              6            0         0     5        0.0\n",
      "11409             10            0         0     1        0.0\n",
      "11416              1            0         0     1        0.0\n",
      "11418              2            0         0     2        0.0\n",
      "11423              9            0         0     6        0.0\n",
      "11429              2            0         0     2        0.0\n",
      "11433              1            0         0     1        0.0\n",
      "11447              1            0         0     1        0.0\n",
      "11448              2            0         0     2        0.0\n",
      "11552              1            0         0     1        0.0\n",
      "11556              1            0         0     1        0.0\n",
      "11557              4            0         0     2        0.0\n",
      "11558              2            0         0     1        0.0\n",
      "11563              3            0         0     2        0.0\n",
      "11564              2            0         0     2        0.0\n",
      "11571              6            0         0     5        0.0\n",
      "11576              2            0         0     2        0.0\n",
      "11577              4            0         0     2        0.0\n",
      "11589              1            0         0     1        0.0\n",
      "11590              6            0         0     5        0.0\n",
      "11593              1            0         0     1        0.0\n",
      "11597              1            0         0     1        0.0\n",
      "11601              7            0         0     4        0.0\n",
      "11607              1            0         0     1        0.0\n",
      "11621              5            0         0     2        0.0\n",
      "11633              5            0         0     3        0.0\n",
      "11635             46            0         0     6        0.0\n",
      "11645             11            0         0     9        0.0\n",
      "11653             12            0         0     5        0.0\n",
      "11658              1            0         0     1        0.0\n",
      "11662              7            0         0     5        0.0\n",
      "11667              1            0         0     1        0.0\n",
      "11672              2            0         0     2        0.0\n",
      "11674              1            0         0     1        0.0\n",
      "11678              1            0         0     1        0.0\n",
      "11682             45            0         0     3        0.0\n",
      "11687              8            0         0     3        0.0\n",
      "11692              4            0         0     3        0.0\n",
      "11694              1            0         0     1        0.0\n",
      "11695              1            0         0     1        0.0\n",
      "11703              3            0         0     3        0.0\n",
      "11707              1            0         0     1        0.0\n",
      "11723              5            0         0     1        0.0\n",
      "11725              5            0         0     2        0.0\n",
      "11737             15            0         0     1        0.0\n",
      "11749              1            0         0     1        0.0\n",
      "11759              3            0         0     3        0.0\n",
      "11765              7            0         0     3        0.0\n",
      "11768              3            0         0     2        0.0\n",
      "11773              6            0         0     2        0.0\n",
      "11774              1            0         0     1        0.0\n",
      "11775              1            0         0     1        0.0\n",
      "11776              1            0         0     1        0.0\n",
      "11779             16            0         0     4        0.0\n",
      "11780              3            0         0     2        0.0\n",
      "11782             59            0         0    23        0.0\n",
      "11787              1            0         0     1        0.0\n",
      "11791              1            0         0     1        0.0\n",
      "11795             61            0         0    10        0.0\n",
      "11807             21            0         0     3        0.0\n",
      "11810              1            0         0     1        0.0\n",
      "11814              1            0         0     1        0.0\n",
      "11816              3            0         0     1        0.0\n",
      "11822              1            0         0     1        0.0\n",
      "11824              1            0         0     1        0.0\n",
      "11826             14            0         0     7        0.0\n",
      "11831              5            0         0     2        0.0\n",
      "11834              2            0         0     2        0.0\n",
      "11840              4            0         0     4        0.0\n",
      "11844              1            0         0     1        0.0\n",
      "11845              1            0         0     1        0.0\n",
      "11862              1            0         0     1        0.0\n",
      "11863              5            0         0     3        0.0\n",
      "11866             13            0         0     5        0.0\n",
      "11869              2            0         0     2        0.0\n",
      "11870              1            0         0     1        0.0\n",
      "11871              3            0         0     1        0.0\n",
      "11879              2            0         0     2        0.0\n",
      "11884              4            0         0     2        0.0\n",
      "11892              1            0         0     1        0.0\n",
      "11897              1            0         0     1        0.0\n",
      "11900             31            0         0     6        0.0\n",
      "11903              2            0         0     1        0.0\n",
      "11905              4            0         0     2        0.0\n",
      "11910              8            0         0     4        0.0\n",
      "11916              6            0         0     2        0.0\n",
      "11917              6            0         0     1        0.0\n",
      "11918              1            0         0     1        0.0\n",
      "11919              6            0         0     4        0.0\n",
      "11928             59            0         0     6        0.0\n",
      "11933             12            0         0     5        0.0\n",
      "11942              1            0         0     1        0.0\n",
      "11953              5            0         0     5        0.0\n",
      "11959              3            0         0     3        0.0\n",
      "11964              2            0         0     1        0.0\n",
      "11970              9            0         0     3        0.0\n",
      "11972              1            0         0     1        0.0\n",
      "11975             15            0         0     5        0.0\n",
      "11977              1            0         0     1        0.0\n",
      "11990              4            0         0     3        0.0\n",
      "11992              4            0         0     2        0.0\n",
      "11993              1            0         0     1        0.0\n",
      "11994             10            0         0     3        0.0\n",
      "11995              3            0         0     1        0.0\n",
      "11996              1            0         0     1        0.0\n",
      "11997              2            0         0     1        0.0\n",
      "11998             13            0         0     5        0.0\n",
      "12000              2            0         0     1        0.0\n",
      "12001              2            0         0     2        0.0\n",
      "12008              1            0         0     1        0.0\n",
      "12010             11            0         0     2        0.0\n",
      "12013              1            0         0     1        0.0\n",
      "12015              2            0         0     1        0.0\n",
      "12016              1            0         0     1        0.0\n",
      "12019              1            0         0     1        0.0\n",
      "12020              9            0         0     3        0.0\n",
      "12025              4            0         0     1        0.0\n",
      "12028              1            0         0     1        0.0\n",
      "12033              1            0         0     1        0.0\n",
      "12034              7            0         0     3        0.0\n",
      "12035              5            0         0     4        0.0\n",
      "12037              1            0         0     1        0.0\n",
      "12038              1            0         0     1        0.0\n",
      "12039              7            0         0     1        0.0\n",
      "12040             23            0         0     2        0.0\n",
      "12046              2            0         0     2        0.0\n",
      "12047              1            0         0     1        0.0\n",
      "12056              3            0         0     3        0.0\n",
      "12058              1            0         0     1        0.0\n",
      "12059              1            0         0     1        0.0\n",
      "12062              1            0         0     1        0.0\n",
      "12066              5            0         0     2        0.0\n",
      "12068              6            0         0     3        0.0\n",
      "12074              2            0         0     1        0.0\n",
      "12077              6            0         0     1        0.0\n",
      "12078             11            0         0     2        0.0\n",
      "12080              3            0         0     2        0.0\n",
      "12082              1            0         0     1        0.0\n",
      "12089              1            0         0     1        0.0\n",
      "12092              6            0         0     4        0.0\n",
      "12096              2            0         0     2        0.0\n",
      "12101              5            0         0     1        0.0\n",
      "12106             36            0         0    14        0.0\n",
      "12111              3            0         0     3        0.0\n",
      "12114              9            0         0     5        0.0\n",
      "12121              1            0         0     1        0.0\n",
      "12124              1            0         0     1        0.0\n",
      "12126              5            0         0     1        0.0\n",
      "12128              1            0         0     1        0.0\n",
      "12129              1            0         0     1        0.0\n",
      "12137              3            0         0     1        0.0\n",
      "12139              6            0         0     1        0.0\n",
      "12143              2            0         0     1        0.0\n",
      "12145              1            0         0     1        0.0\n",
      "12146              2            0         0     2        0.0\n",
      "12151              2            0         0     1        0.0\n",
      "12152              3            0         0     3        0.0\n",
      "12156              1            0         0     1        0.0\n",
      "12158             22            0         0     4        0.0\n",
      "12161              7            0         0     3        0.0\n",
      "12163             12            0         0     1        0.0\n",
      "12164              2            0         0     1        0.0\n",
      "12170              6            0         0     4        0.0\n",
      "12173             58            0         0    10        0.0\n",
      "12178              1            0         0     1        0.0\n",
      "12181              1            0         0     1        0.0\n",
      "12193              1            0         0     1        0.0\n",
      "12195              1            0         0     1        0.0\n",
      "12196              7            0         0     3        0.0\n",
      "12199             17            0         0     3        0.0\n",
      "12200              5            0         0     2        0.0\n",
      "12205              4            0         0     1        0.0\n",
      "12206              1            0         0     1        0.0\n",
      "12207              1            0         0     1        0.0\n",
      "12208             10            0         0     1        0.0\n",
      "12209              1            0         0     1        0.0\n",
      "12210              8            0         0     2        0.0\n",
      "12212              2            0         0     2        0.0\n",
      "12214              2            0         0     1        0.0\n",
      "12216              4            0         0     4        0.0\n",
      "12220              1            0         0     1        0.0\n",
      "12222              2            0         0     1        0.0\n",
      "12233             27            0         0    16        0.0\n",
      "12235             45            0         0     8        0.0\n",
      "12236              4            0         0     4        0.0\n",
      "12241              3            0         0     1        0.0\n",
      "12244              1            0         0     1        0.0\n",
      "12251              4            0         0     2        0.0\n",
      "12253             10            0         0     2        0.0\n",
      "12255              1            0         0     1        0.0\n",
      "12256             11            0         0     6        0.0\n",
      "12257              4            0         0     4        0.0\n",
      "12259             10            0         0     1        0.0\n",
      "12260              1            0         0     1        0.0\n",
      "12267             14            0         0     1        0.0\n",
      "12268              1            0         0     1        0.0\n",
      "12269             52            0         0    11        0.0\n",
      "12270              1            0         0     1        0.0\n",
      "12272              2            0         0     1        0.0\n",
      "12275              1            0         0     1        0.0\n",
      "12277              3            0         0     2        0.0\n",
      "12278             19            0         0    11        0.0\n",
      "12282              1            0         0     1        0.0\n",
      "12286             11            0         0     6        0.0\n",
      "12287              9            0         0     1        0.0\n",
      "12289              1            0         0     1        0.0\n",
      "12290              1            0         0     1        0.0\n",
      "12291              5            0         0     4        0.0\n",
      "12292              2            0         0     2        0.0\n",
      "12295             12            0         0     3        0.0\n",
      "12298              1            0         0     1        0.0\n",
      "12299              1            0         0     1        0.0\n",
      "12300              1            0         0     1        0.0\n",
      "12304              1            0         0     1        0.0\n",
      "12305              2            0         0     2        0.0\n",
      "12306              5            0         0     4        0.0\n",
      "12307              2            0         0     2        0.0\n",
      "12310              1            0         0     1        0.0\n",
      "12312              1            0         0     1        0.0\n",
      "12314             12            0         0     1        0.0\n",
      "12321              1            0         0     1        0.0\n",
      "12322              1            0         0     1        0.0\n",
      "12327              6            0         0     2        0.0\n",
      "12329              4            0         0     3        0.0\n",
      "12330              3            0         0     3        0.0\n",
      "12333              8            0         0     5        0.0\n",
      "12338              1            0         0     1        0.0\n",
      "12339              3            0         0     3        0.0\n",
      "12340              1            0         0     1        0.0\n",
      "12342              1            0         0     1        0.0\n",
      "12346              4            0         0     3        0.0\n",
      "12347              8            0         0     4        0.0\n",
      "12350              9            0         0     5        0.0\n",
      "12355              2            0         0     1        0.0\n",
      "12356              1            0         0     1        0.0\n",
      "12360              1            0         0     1        0.0\n",
      "12361              1            0         0     1        0.0\n",
      "12368              2            0         0     1        0.0\n",
      "12375              1            0         0     1        0.0\n",
      "12376              2            0         0     1        0.0\n",
      "12382              1            0         0     1        0.0\n",
      "12391              3            0         0     3        0.0\n",
      "12395             29            0         0    12        0.0\n",
      "12398              4            0         0     3        0.0\n",
      "12399              2            0         0     1        0.0\n",
      "12402              8            0         0     3        0.0\n",
      "12410              2            0         0     1        0.0\n",
      "12412              1            0         0     1        0.0\n",
      "12414              7            0         0     4        0.0\n",
      "12416              9            0         0     2        0.0\n",
      "12418              1            0         0     1        0.0\n",
      "12421              5            0         0     3        0.0\n",
      "12422              4            0         0     1        0.0\n",
      "12424              2            0         0     2        0.0\n",
      "12428              7            0         0     4        0.0\n",
      "12434              3            0         0     3        0.0\n",
      "12436              2            0         0     2        0.0\n",
      "12439              1            0         0     1        0.0\n",
      "12440              1            0         0     1        0.0\n",
      "12441              1            0         0     1        0.0\n",
      "12443              2            0         0     2        0.0\n",
      "12444              7            0         0     4        0.0\n",
      "12445              2            0         0     1        0.0\n",
      "12449              2            0         0     1        0.0\n",
      "12452              3            0         0     2        0.0\n",
      "12455             10            0         0     1        0.0\n",
      "12460              1            0         0     1        0.0\n",
      "12465              6            0         0     4        0.0\n",
      "12470              1            0         0     1        0.0\n",
      "12474              6            0         0     1        0.0\n",
      "12480              5            0         0     3        0.0\n",
      "12481              3            0         0     2        0.0\n",
      "12483              5            0         0     2        0.0\n",
      "12495              3            0         0     1        0.0\n",
      "12496              1            0         0     1        0.0\n",
      "12497              6            0         0     1        0.0\n",
      "12498              7            0         0     3        0.0\n",
      "12501              1            0         0     1        0.0\n",
      "12503              4            0         0     3        0.0\n",
      "12504              2            0         0     2        0.0\n",
      "12508              2            0         0     2        0.0\n",
      "12509              1            0         0     1        0.0\n",
      "12510              1            0         0     1        0.0\n",
      "12513             23            0         0     5        0.0\n",
      "12515             30            0         0    12        0.0\n",
      "12526              2            0         0     1        0.0\n",
      "12530              2            0         0     2        0.0\n",
      "12531              3            0         0     1        0.0\n",
      "12532              6            0         0     5        0.0\n",
      "12537              6            0         0     6        0.0\n",
      "12544              1            0         0     1        0.0\n",
      "12548              9            0         0     5        0.0\n",
      "12554              5            0         0     2        0.0\n",
      "12556              1            0         0     1        0.0\n",
      "12557              1            0         0     1        0.0\n",
      "12558              2            0         0     1        0.0\n",
      "12560            103            0         0    18        0.0\n",
      "12563              2            0         0     2        0.0\n",
      "12567              2            0         0     1        0.0\n",
      "12574              8            0         0     1        0.0\n",
      "12580              1            0         0     1        0.0\n",
      "12581              3            0         0     3        0.0\n",
      "12586              1            0         0     1        0.0\n",
      "12587              2            0         0     1        0.0\n",
      "12589             16            0         0     6        0.0\n",
      "12591              2            0         0     1        0.0\n",
      "12593              9            0         0     1        0.0\n",
      "12596              6            0         0     2        0.0\n",
      "12598              1            0         0     1        0.0\n",
      "12600              5            0         0     3        0.0\n",
      "12603              1            0         0     1        0.0\n",
      "12604              1            0         0     1        0.0\n",
      "12606              5            0         0     2        0.0\n",
      "12611              1            0         0     1        0.0\n",
      "12624              1            0         0     1        0.0\n",
      "12626              4            0         0     2        0.0\n",
      "12628              2            0         0     1        0.0\n",
      "12637              7            0         0     2        0.0\n",
      "12639              3            0         0     1        0.0\n",
      "12640              2            0         0     1        0.0\n",
      "12652              6            0         0     3        0.0\n",
      "12654              1            0         0     1        0.0\n",
      "12655              2            0         0     2        0.0\n",
      "12656              1            0         0     1        0.0\n",
      "12657              3            0         0     2        0.0\n",
      "12662             34            0         0    21        0.0\n",
      "12663              1            0         0     1        0.0\n",
      "12669              1            0         0     1        0.0\n",
      "12675             10            0         0     7        0.0\n",
      "12685              1            0         0     1        0.0\n",
      "12686              2            0         0     1        0.0\n",
      "12690             31            0         0    27        0.0\n",
      "12693              7            0         0     3        0.0\n",
      "12698              1            0         0     1        0.0\n",
      "12702             13            0         0     9        0.0\n",
      "12712              4            0         0     1        0.0\n",
      "12714              2            0         0     1        0.0\n",
      "12720              1            0         0     1        0.0\n",
      "12723              2            0         0     1        0.0\n",
      "12725              8            0         0     2        0.0\n",
      "12726              5            0         0     4        0.0\n",
      "12742              2            0         0     1        0.0\n",
      "12743             26            0         0     5        0.0\n",
      "12745              2            0         0     2        0.0\n",
      "12748              5            0         0     4        0.0\n",
      "12754              2            0         0     1        0.0\n",
      "12755              2            0         0     1        0.0\n",
      "12757             11            0         0     5        0.0\n",
      "12760              1            0         0     1        0.0\n",
      "12764              4            0         0     3        0.0\n",
      "12768              1            0         0     1        0.0\n",
      "12778             16            0         0     3        0.0\n",
      "12780              4            0         0     4        0.0\n",
      "12786              8            0         0     5        0.0\n",
      "12790              2            0         0     1        0.0\n",
      "12792             21            0         0     5        0.0\n",
      "12799              1            0         0     1        0.0\n",
      "12804              5            0         0     2        0.0\n",
      "12809             20            0         0     1        0.0\n",
      "12810             35            0         0     8        0.0\n",
      "12811              1            0         0     1        0.0\n",
      "12821             14            0         0     3        0.0\n",
      "12822             12            0         0     1        0.0\n",
      "12828              3            0         0     1        0.0\n",
      "12829              1            0         0     1        0.0\n",
      "12832              1            0         0     1        0.0\n",
      "12840              1            0         0     1        0.0\n",
      "12841              1            0         0     1        0.0\n",
      "12842             11            0         0     3        0.0\n",
      "12843              1            0         0     1        0.0\n",
      "12844              2            0         0     2        0.0\n",
      "12846             11            0         0     2        0.0\n",
      "12851              1            0         0     1        0.0\n",
      "12853              5            0         0     2        0.0\n",
      "12856              1            0         0     1        0.0\n",
      "12858              1            0         0     1        0.0\n",
      "12866             15            0         0     4        0.0\n",
      "12867              1            0         0     1        0.0\n",
      "12868              1            0         0     1        0.0\n",
      "12869              8            0         0     3        0.0\n",
      "12874             10            0         0     2        0.0\n",
      "12875              3            0         0     2        0.0\n",
      "12877              1            0         0     1        0.0\n",
      "12881              7            0         0     5        0.0\n",
      "12883              7            0         0     3        0.0\n",
      "12891             10            0         0     7        0.0\n",
      "12892             44            0         0     1        0.0\n",
      "12893              5            0         0     1        0.0\n",
      "12897              6            0         0     1        0.0\n",
      "12899              2            0         0     1        0.0\n",
      "12901              6            0         0     4        0.0\n",
      "12902              1            0         0     1        0.0\n",
      "12904              5            0         0     1        0.0\n",
      "12906              1            0         0     1        0.0\n",
      "12907              2            0         0     1        0.0\n",
      "12911              1            0         0     1        0.0\n",
      "12912             18            0         0     2        0.0\n",
      "12913             19            0         0     8        0.0\n",
      "12914              2            0         0     1        0.0\n",
      "12918              1            0         0     1        0.0\n",
      "12920              2            0         0     1        0.0\n",
      "12921              1            0         0     1        0.0\n",
      "12922              6            0         0     6        0.0\n",
      "12923              1            0         0     1        0.0\n",
      "12925             20            0         0     7        0.0\n",
      "12927              1            0         0     1        0.0\n",
      "12929              1            0         0     1        0.0\n",
      "12931              1            0         0     1        0.0\n",
      "12932              5            0         0     1        0.0\n",
      "12933              1            0         0     1        0.0\n",
      "12934              8            0         0     2        0.0\n",
      "12936              3            0         0     1        0.0\n",
      "12939              2            0         0     2        0.0\n",
      "12940              1            0         0     1        0.0\n",
      "12942              7            0         0     1        0.0\n",
      "12943              9            0         0     7        0.0\n",
      "12944              4            0         0     3        0.0\n",
      "12945              8            0         0     5        0.0\n",
      "12946              7            0         0     5        0.0\n",
      "12951              4            0         0     2        0.0\n",
      "12952              2            0         0     2        0.0\n",
      "12953              1            0         0     1        0.0\n",
      "12957             30            0         0    13        0.0\n",
      "12960              6            0         0     1        0.0\n",
      "12961              1            0         0     1        0.0\n",
      "12962              9            0         0     5        0.0\n",
      "12963              7            0         0     6        0.0\n",
      "12966              2            0         0     2        0.0\n",
      "12967              1            0         0     1        0.0\n",
      "12970             10            0         0     6        0.0\n",
      "12972              6            0         0     2        0.0\n",
      "12973              4            0         0     1        0.0\n",
      "12974              3            0         0     3        0.0\n",
      "12979              2            0         0     1        0.0\n",
      "12988              1            0         0     1        0.0\n",
      "12991              3            0         0     1        0.0\n",
      "12992              1            0         0     1        0.0\n",
      "12994              1            0         0     1        0.0\n",
      "12998              3            0         0     3        0.0\n",
      "12999              9            0         0     1        0.0\n",
      "13000              1            0         0     1        0.0\n",
      "13002              2            0         0     2        0.0\n",
      "13003              6            0         0     1        0.0\n",
      "13006              3            0         0     2        0.0\n",
      "13008              5            0         0     5        0.0\n",
      "13009              1            0         0     1        0.0\n",
      "13016              2            0         0     1        0.0\n",
      "13017              1            0         0     1        0.0\n",
      "13018              2            0         0     1        0.0\n",
      "13020              1            0         0     1        0.0\n",
      "13023              2            0         0     1        0.0\n",
      "13024              4            0         0     1        0.0\n",
      "13026              1            0         0     1        0.0\n",
      "13029              3            0         0     1        0.0\n",
      "13031             14            0         0     1        0.0\n",
      "13032              5            0         0     3        0.0\n",
      "13033              1            0         0     1        0.0\n",
      "13034              1            0         0     1        0.0\n",
      "13035              1            0         0     1        0.0\n",
      "13037              2            0         0     2        0.0\n",
      "13040              1            0         0     1        0.0\n",
      "13041              4            0         0     2        0.0\n",
      "13042              1            0         0     1        0.0\n",
      "13043              1            0         0     1        0.0\n",
      "13044              1            0         0     1        0.0\n",
      "13046              2            0         0     1        0.0\n",
      "13050              2            0         0     1        0.0\n",
      "13051              2            0         0     1        0.0\n",
      "13053              1            0         0     1        0.0\n",
      "13054              1            0         0     1        0.0\n",
      "13055              2            0         0     2        0.0\n",
      "13057              1            0         0     1        0.0\n",
      "13058             27            0         0     3        0.0\n",
      "13059             22            0         0     3        0.0\n",
      "13065              6            0         0     3        0.0\n",
      "13068              1            0         0     1        0.0\n",
      "13069              8            0         0     2        0.0\n",
      "13072              3            0         0     1        0.0\n",
      "13074              1            0         0     1        0.0\n",
      "13075              1            0         0     1        0.0\n",
      "13077              1            0         0     1        0.0\n",
      "13078              1            0         0     1        0.0\n",
      "13081             19            0         0     3        0.0\n",
      "13084              1            0         0     1        0.0\n",
      "13091              6            0         0     3        0.0\n",
      "13092              1            0         0     1        0.0\n",
      "13095              2            0         0     2        0.0\n",
      "13097              1            0         0     1        0.0\n",
      "13098              2            0         0     2        0.0\n",
      "13099              5            0         0     2        0.0\n",
      "14000              2            0         0     1        0.0\n",
      "14007             30            0         0     1        0.0\n",
      "14008              9            0         0     4        0.0\n",
      "14013              1            0         0     1        0.0\n",
      "14015              2            0         0     2        0.0\n",
      "14018              1            0         0     1        0.0\n",
      "14022              3            0         0     1        0.0\n",
      "14023             11            0         0     3        0.0\n",
      "14024              1            0         0     1        0.0\n",
      "14026              3            0         0     1        0.0\n",
      "14032              2            0         0     2        0.0\n",
      "14037             18            0         0     3        0.0\n",
      "14038              5            0         0     1        0.0\n",
      "14043             16            0         0     5        0.0\n",
      "14044              6            0         0     1        0.0\n",
      "14046              5            0         0     5        0.0\n",
      "14051              1            0         0     1        0.0\n",
      "14052              1            0         0     1        0.0\n",
      "14053              1            0         0     1        0.0\n",
      "14055              5            0         0     1        0.0\n",
      "14069              1            0         0     1        0.0\n",
      "14073             36            0         0     4        0.0\n",
      "14074              3            0         0     2        0.0\n",
      "14078              6            0         0     4        0.0\n",
      "14080              2            0         0     2        0.0\n",
      "14082              2            0         0     1        0.0\n",
      "14083              1            0         0     1        0.0\n",
      "14087              2            0         0     1        0.0\n",
      "14090              1            0         0     1        0.0\n",
      "14094              1            0         0     1        0.0\n",
      "14098              6            0         0     4        0.0\n",
      "14099              1            0         0     1        0.0\n",
      "14101              3            0         0     1        0.0\n",
      "14102              2            0         0     2        0.0\n",
      "14105              2            0         0     1        0.0\n",
      "14107              1            0         0     1        0.0\n",
      "14109              1            0         0     1        0.0\n",
      "14110              1            0         0     1        0.0\n",
      "14113             12            0         0     2        0.0\n",
      "14114              3            0         0     1        0.0\n",
      "14116              1            0         0     1        0.0\n",
      "14119              1            0         0     1        0.0\n",
      "14122              7            0         0     1        0.0\n",
      "14124              1            0         0     1        0.0\n",
      "14127              2            0         0     1        0.0\n",
      "14128              2            0         0     1        0.0\n",
      "14130              2            0         0     2        0.0\n",
      "14133              3            0         0     2        0.0\n",
      "14134              9            0         0     2        0.0\n",
      "14135              2            0         0     2        0.0\n",
      "14136             31            0         0     3        0.0\n",
      "14137              7            0         0     6        0.0\n",
      "14140              1            0         0     1        0.0\n",
      "14141              7            0         0     4        0.0\n",
      "14142              2            0         0     2        0.0\n",
      "14143              1            0         0     1        0.0\n",
      "14146              2            0         0     1        0.0\n",
      "14150             23            0         0     7        0.0\n",
      "14151              1            0         0     1        0.0\n",
      "14153              3            0         0     1        0.0\n",
      "14154              1            0         0     1        0.0\n",
      "14155              1            0         0     1        0.0\n",
      "14159              1            0         0     1        0.0\n",
      "14160              2            0         0     1        0.0\n",
      "14162             35            0         0     1        0.0\n",
      "14163              6            0         0     5        0.0\n",
      "14164              4            0         0     4        0.0\n",
      "14170              2            0         0     1        0.0\n",
      "14176              1            0         0     1        0.0\n",
      "14179              2            0         0     2        0.0\n",
      "14182              3            0         0     3        0.0\n",
      "14184              2            0         0     2        0.0\n",
      "14186              1            0         0     1        0.0\n",
      "14187              1            0         0     1        0.0\n",
      "14188              1            0         0     1        0.0\n",
      "14189              3            0         0     3        0.0\n",
      "14191              4            0         0     2        0.0\n",
      "14193             13            0         0     8        0.0\n",
      "14194              4            0         0     2        0.0\n",
      "14196              6            0         0     1        0.0\n",
      "14199              1            0         0     1        0.0\n",
      "14200              1            0         0     1        0.0\n",
      "14201              2            0         0     1        0.0\n",
      "14202              9            0         0     1        0.0\n",
      "14204              2            0         0     2        0.0\n",
      "14206              1            0         0     1        0.0\n",
      "14209              3            0         0     1        0.0\n",
      "14210              4            0         0     1        0.0\n",
      "14212              1            0         0     1        0.0\n",
      "14213              3            0         0     3        0.0\n",
      "14218              1            0         0     1        0.0\n",
      "14220              1            0         0     1        0.0\n",
      "14224              1            0         0     1        0.0\n",
      "14225              4            0         0     2        0.0\n",
      "14226              1            0         0     1        0.0\n",
      "14227              1            0         0     1        0.0\n",
      "14228              3            0         0     1        0.0\n",
      "14231              2            0         0     2        0.0\n",
      "14233              1            0         0     1        0.0\n",
      "14234              9            0         0     4        0.0\n",
      "14235              1            0         0     1        0.0\n",
      "14237              1            0         0     1        0.0\n",
      "14241              6            0         0     1        0.0\n",
      "14243              1            0         0     1        0.0\n",
      "14246              1            0         0     1        0.0\n",
      "14247              1            0         0     1        0.0\n",
      "14252              6            0         0     1        0.0\n",
      "14253              1            0         0     1        0.0\n",
      "14254              1            0         0     1        0.0\n",
      "14256              2            0         0     1        0.0\n",
      "14257              1            0         0     1        0.0\n",
      "14258              4            0         0     2        0.0\n",
      "14262              8            0         0     1        0.0\n",
      "14263              2            0         0     1        0.0\n",
      "14272              2            0         0     1        0.0\n",
      "14276              7            0         0     1        0.0\n",
      "14277              1            0         0     1        0.0\n",
      "14278              2            0         0     2        0.0\n",
      "14279              2            0         0     1        0.0\n",
      "14281              1            0         0     1        0.0\n",
      "14283              4            0         0     1        0.0\n",
      "14284              4            0         0     1        0.0\n",
      "14286              4            0         0     1        0.0\n",
      "14292              5            0         0     4        0.0\n",
      "14294              4            0         0     3        0.0\n",
      "14295              2            0         0     2        0.0\n",
      "14296              1            0         0     1        0.0\n",
      "14298              2            0         0     1        0.0\n",
      "14304              2            0         0     1        0.0\n",
      "14307             10            0         0     4        0.0\n",
      "14312              3            0         0     2        0.0\n",
      "14314              8            0         0     1        0.0\n",
      "14315              9            0         0     1        0.0\n",
      "14318              6            0         0     1        0.0\n",
      "14319              1            0         0     1        0.0\n",
      "14320              4            0         0     1        0.0\n",
      "14323             27            0         0    11        0.0\n",
      "14324              1            0         0     1        0.0\n",
      "14325              1            0         0     1        0.0\n",
      "14327              3            0         0     1        0.0\n",
      "14328              2            0         0     2        0.0\n",
      "14330              2            0         0     1        0.0\n",
      "14334              3            0         0     1        0.0\n",
      "14335              2            0         0     2        0.0\n",
      "14337              1            0         0     1        0.0\n",
      "14344              1            0         0     1        0.0\n",
      "14346              3            0         0     2        0.0\n",
      "14347              2            0         0     2        0.0\n",
      "14350             13            0         0     4        0.0\n",
      "14351              1            0         0     1        0.0\n",
      "14354              1            0         0     1        0.0\n",
      "14355              6            0         0     3        0.0\n",
      "14360              5            0         0     3        0.0\n",
      "14361              4            0         0     1        0.0\n",
      "14362              2            0         0     1        0.0\n",
      "14364              1            0         0     1        0.0\n",
      "14368              2            0         0     1        0.0\n",
      "14369              2            0         0     1        0.0\n",
      "14371              2            0         0     1        0.0\n",
      "14373              3            0         0     1        0.0\n",
      "14374              1            0         0     1        0.0\n",
      "14376              1            0         0     1        0.0\n",
      "14377              5            0         0     4        0.0\n",
      "14378              5            0         0     4        0.0\n",
      "14382              4            0         0     2        0.0\n",
      "14383              3            0         0     3        0.0\n",
      "14384              8            0         0     1        0.0\n",
      "14386             11            0         0     2        0.0\n",
      "14390              6            0         0     6        0.0\n",
      "14393              6            0         0     1        0.0\n",
      "14395              1            0         0     1        0.0\n",
      "14397              3            0         0     1        0.0\n",
      "14398              9            0         0     3        0.0\n",
      "14399              1            0         0     1        0.0\n",
      "14400              1            0         0     1        0.0\n",
      "14404              6            0         0     4        0.0\n",
      "14406              1            0         0     1        0.0\n",
      "14408              4            0         0     1        0.0\n",
      "14409              1            0         0     1        0.0\n",
      "14410              2            0         0     2        0.0\n",
      "14413              6            0         0     6        0.0\n",
      "14414              2            0         0     2        0.0\n",
      "14419              1            0         0     1        0.0\n",
      "14425              1            0         0     1        0.0\n",
      "14427              3            0         0     1        0.0\n",
      "14428              1            0         0     1        0.0\n",
      "14434              1            0         0     1        0.0\n",
      "14435              4            0         0     2        0.0\n",
      "14436              4            0         0     1        0.0\n",
      "14437             12            0         0     2        0.0\n",
      "14441              1            0         0     1        0.0\n",
      "14444              3            0         0     1        0.0\n",
      "14446             10            0         0     2        0.0\n",
      "14447              1            0         0     1        0.0\n",
      "14449              1            0         0     1        0.0\n",
      "14452              1            0         0     1        0.0\n",
      "14454              6            0         0     1        0.0\n",
      "14455              5            0         0     2        0.0\n",
      "14457              2            0         0     2        0.0\n",
      "14458              2            0         0     2        0.0\n",
      "14460              3            0         0     1        0.0\n",
      "14462              1            0         0     1        0.0\n",
      "14465              1            0         0     1        0.0\n",
      "14466              1            0         0     1        0.0\n",
      "14468              1            0         0     1        0.0\n",
      "14470              2            0         0     1        0.0\n",
      "14471              2            0         0     2        0.0\n",
      "14474              2            0         0     1        0.0\n",
      "14476             20            0         0     1        0.0\n",
      "14479              5            0         0     2        0.0\n",
      "14480              8            0         0     5        0.0\n",
      "14482              1            0         0     1        0.0\n",
      "14483              1            0         0     1        0.0\n",
      "14485              1            0         0     1        0.0\n",
      "14490              9            0         0     4        0.0\n",
      "14491              5            0         0     3        0.0\n",
      "14495              4            0         0     1        0.0\n",
      "14496              4            0         0     3        0.0\n",
      "14501              1            0         0     1        0.0\n",
      "14503              3            0         0     2        0.0\n",
      "14506              1            0         0     1        0.0\n",
      "14507              4            0         0     1        0.0\n",
      "14511              7            0         0     1        0.0\n",
      "14512              1            0         0     1        0.0\n",
      "14514             22            0         0     3        0.0\n",
      "14518              5            0         0     3        0.0\n",
      "14521              3            0         0     2        0.0\n",
      "14522             26            0         0     1        0.0\n",
      "14524             14            0         0     2        0.0\n",
      "14525              1            0         0     1        0.0\n",
      "14527              2            0         0     1        0.0\n",
      "14528              1            0         0     1        0.0\n",
      "14529              1            0         0     1        0.0\n",
      "14530              1            0         0     1        0.0\n",
      "14531              1            0         0     1        0.0\n",
      "14533              8            0         0     4        0.0\n",
      "14536              1            0         0     1        0.0\n",
      "14537              8            0         0     1        0.0\n",
      "14538              1            0         0     1        0.0\n",
      "14541              2            0         0     2        0.0\n",
      "14542              1            0         0     1        0.0\n",
      "14544              1            0         0     1        0.0\n",
      "14546              1            0         0     1        0.0\n",
      "14548              5            0         0     2        0.0\n",
      "14550             14            0         0     1        0.0\n",
      "14554             35            0         0     3        0.0\n",
      "14557              1            0         0     1        0.0\n",
      "14559              1            0         0     1        0.0\n",
      "14561              3            0         0     1        0.0\n",
      "14562              3            0         0     1        0.0\n",
      "14563              2            0         0     1        0.0\n",
      "14565              1            0         0     1        0.0\n",
      "14566              1            0         0     1        0.0\n",
      "14567              1            0         0     1        0.0\n",
      "14568              1            0         0     1        0.0\n",
      "14571              2            0         0     1        0.0\n",
      "14573              9            0         0     2        0.0\n",
      "14575              6            0         0     3        0.0\n",
      "14579              1            0         0     1        0.0\n",
      "14580              4            0         0     3        0.0\n",
      "14581              2            0         0     1        0.0\n",
      "14583              6            0         0     2        0.0\n",
      "14584              2            0         0     1        0.0\n",
      "14585              1            0         0     1        0.0\n",
      "14588              1            0         0     1        0.0\n",
      "14589             29            0         0     3        0.0\n",
      "14591              5            0         0     5        0.0\n",
      "14595              1            0         0     1        0.0\n",
      "14597              2            0         0     1        0.0\n",
      "14600              1            0         0     1        0.0\n",
      "14601              1            0         0     1        0.0\n",
      "14603              3            0         0     2        0.0\n",
      "14605              3            0         0     2        0.0\n",
      "14606             35            0         0     4        0.0\n",
      "14609              1            0         0     1        0.0\n",
      "14613              1            0         0     1        0.0\n",
      "14618              4            0         0     2        0.0\n",
      "14619              1            0         0     1        0.0\n",
      "14620              4            0         0     1        0.0\n",
      "14624              4            0         0     2        0.0\n",
      "14626              8            0         0     2        0.0\n",
      "14628              5            0         0     2        0.0\n",
      "14631              1            0         0     1        0.0\n",
      "14632              5            0         0     1        0.0\n",
      "14634              2            0         0     1        0.0\n",
      "14635              2            0         0     1        0.0\n",
      "14636              2            0         0     2        0.0\n",
      "14641              1            0         0     1        0.0\n",
      "14645              1            0         0     1        0.0\n",
      "14646              1            0         0     1        0.0\n",
      "14648              1            0         0     1        0.0\n",
      "14649              3            0         0     3        0.0\n",
      "14657              2            0         0     2        0.0\n",
      "14660              2            0         0     1        0.0\n",
      "14662              2            0         0     2        0.0\n",
      "14663              3            0         0     3        0.0\n",
      "14665              1            0         0     1        0.0\n",
      "14666             19            0         0     8        0.0\n",
      "14667              2            0         0     1        0.0\n",
      "14672              4            0         0     2        0.0\n",
      "14677              1            0         0     1        0.0\n",
      "14682              6            0         0     2        0.0\n",
      "14693              3            0         0     2        0.0\n",
      "14695              2            0         0     1        0.0\n",
      "14699              1            0         0     1        0.0\n",
      "14700              6            0         0     1        0.0\n",
      "14705              1            0         0     1        0.0\n",
      "14708              1            0         0     1        0.0\n",
      "14713             18            0         0     1        0.0\n",
      "14714             10            0         0     3        0.0\n",
      "14715              2            0         0     2        0.0\n",
      "14716              2            0         0     1        0.0\n",
      "14717              2            0         0     2        0.0\n",
      "14718              2            0         0     1        0.0\n",
      "14719              2            0         0     1        0.0\n",
      "14720              3            0         0     1        0.0\n",
      "14722              1            0         0     1        0.0\n",
      "14728             11            0         0     2        0.0\n",
      "14731              7            0         0     2        0.0\n",
      "14732              6            0         0     1        0.0\n",
      "14733              3            0         0     1        0.0\n",
      "14734              1            0         0     1        0.0\n",
      "14735              3            0         0     2        0.0\n",
      "14737              2            0         0     2        0.0\n",
      "14739             10            0         0     2        0.0\n",
      "14740              1            0         0     1        0.0\n",
      "14741              1            0         0     1        0.0\n",
      "14743              1            0         0     1        0.0\n",
      "14747              2            0         0     2        0.0\n",
      "14751              2            0         0     2        0.0\n",
      "14752              1            0         0     1        0.0\n",
      "14754              2            0         0     1        0.0\n",
      "transform == 0.1\n",
      "            is_devis  is_commande  commande  nego  transform\n",
      "CodeClient                                                  \n",
      "443               60            1         1    10        0.1\n",
      "991               12            2         1    10        0.1\n",
      "1654              14            1         1    10        0.1\n",
      "1812              20            1         1    10        0.1\n",
      "1865              31            1         1    10        0.1\n",
      "2299              12            1         1    10        0.1\n",
      "2870              28            2         2    20        0.1\n",
      "4615              10            1         1    10        0.1\n",
      "7540              54            4         4    40        0.1\n",
      "7976             146            1         1    10        0.1\n",
      "8022              16            1         1    10        0.1\n",
      "8055              20            1         1    10        0.1\n",
      "9046              14            1         1    10        0.1\n",
      "9702              27            2         2    20        0.1\n",
      "9816              40            4         1    10        0.1\n",
      "11043             46            1         1    10        0.1\n",
      "11297             36            1         1    10        0.1\n",
      "11803             22            2         1    10        0.1\n",
      "11833             20            1         1    10        0.1\n",
      "12446             30            2         2    20        0.1\n",
      "12490             48            1         1    10        0.1\n",
      "12837            113            2         1    10        0.1\n",
      "14009             24            2         1    10        0.1\n",
      "14391             56            1         1    10        0.1\n",
      "transform == 0.2\n",
      "            is_devis  is_commande  commande  nego  transform\n",
      "CodeClient                                                  \n",
      "120                5            1         1     5        0.2\n",
      "158               26            2         2    10        0.2\n",
      "216                8            1         1     5        0.2\n",
      "344               23            2         2    10        0.2\n",
      "397                4            1         1     5        0.2\n",
      "607               78            8         7    35        0.2\n",
      "890                5            1         1     5        0.2\n",
      "1120              20            1         1     5        0.2\n",
      "1284               4            1         1     5        0.2\n",
      "1359              21            5         2    10        0.2\n",
      "1405               5            1         1     5        0.2\n",
      "1421              11            1         1     5        0.2\n",
      "1582              33            1         1     5        0.2\n",
      "1681               7            2         1     5        0.2\n",
      "1950               6            1         1     5        0.2\n",
      "2816               9            1         1     5        0.2\n",
      "2917               9            1         1     5        0.2\n",
      "3307              15            2         2    10        0.2\n",
      "3350               4            1         1     5        0.2\n",
      "3496              23            4         4    20        0.2\n",
      "3566              11            1         1     5        0.2\n",
      "3619              11            2         2    10        0.2\n",
      "3673               5            1         1     5        0.2\n",
      "3714               6            1         1     5        0.2\n",
      "3786              10            2         1     5        0.2\n",
      "3796               5            1         1     5        0.2\n",
      "3945               5            1         1     5        0.2\n",
      "4024              17            3         2    10        0.2\n",
      "4077               9            1         1     5        0.2\n",
      "4289              28            5         5    25        0.2\n",
      "4344              15            2         1     5        0.2\n",
      "4396               5            1         1     5        0.2\n",
      "4453               5            1         1     5        0.2\n",
      "4463              81            6         6    30        0.2\n",
      "4475              16            3         2    10        0.2\n",
      "4896               8            2         2    10        0.2\n",
      "4966               5            1         1     5        0.2\n",
      "5013               5            1         1     5        0.2\n",
      "5038              50           11         2    10        0.2\n",
      "5288              15            3         2    10        0.2\n",
      "5318               6            2         1     5        0.2\n",
      "5364              32            4         2    10        0.2\n",
      "5752             310            4         2    10        0.2\n",
      "6001              41            5         5    25        0.2\n",
      "6732              14            2         2    10        0.2\n",
      "6897               7            2         1     5        0.2\n",
      "6986               7            1         1     5        0.2\n",
      "9849              46            7         6    30        0.2\n",
      "10007              4            2         1     5        0.2\n",
      "10096             11            3         1     5        0.2\n",
      "10277              9            1         1     5        0.2\n",
      "10331             41            7         5    25        0.2\n",
      "10442              6            1         1     5        0.2\n",
      "10566             12            4         2    10        0.2\n",
      "10679              6            1         1     5        0.2\n",
      "10757             17            2         1     5        0.2\n",
      "11091              6            1         1     5        0.2\n",
      "11328             24            1         1     5        0.2\n",
      "11345              5            1         1     5        0.2\n",
      "11443             16            3         3    15        0.2\n",
      "11606             10            1         1     5        0.2\n",
      "11685              5            2         1     5        0.2\n",
      "11724             29            3         3    15        0.2\n",
      "11801             31            2         2    10        0.2\n",
      "11815              4            1         1     5        0.2\n",
      "11966             12            2         2    10        0.2\n",
      "12011             12            3         1     5        0.2\n",
      "12072             14            1         1     5        0.2\n",
      "12134             18            3         2    10        0.2\n",
      "12180              8            2         1     5        0.2\n",
      "12238             21            4         3    15        0.2\n",
      "12284              6            1         1     5        0.2\n",
      "12285              7            2         1     5        0.2\n",
      "12323             28            2         2    10        0.2\n",
      "12456              9            1         1     5        0.2\n",
      "12612             28            1         1     5        0.2\n",
      "12631              8            1         1     5        0.2\n",
      "12770              9            1         1     5        0.2\n",
      "12857              7            1         1     5        0.2\n",
      "13007              8            1         1     5        0.2\n",
      "13027             64            9         3    15        0.2\n",
      "13060             48            9         5    25        0.2\n",
      "13082              7            1         1     5        0.2\n",
      "14173              9            1         1     5        0.2\n",
      "14178             11            2         2    10        0.2\n",
      "14211              9            1         1     5        0.2\n",
      "14339             13            1         1     5        0.2\n",
      "14352              5            1         1     5        0.2\n",
      "14402             41            1         1     5        0.2\n",
      "14515             21            5         1     5        0.2\n",
      "14516             14            7         1     5        0.2\n",
      "transform == 0.3\n",
      "            is_devis  is_commande  commande  nego  transform\n",
      "CodeClient                                                  \n",
      "94                 9            3         3    10        0.3\n",
      "1683               9            3         3    10        0.3\n",
      "2232              28            6         3    10        0.3\n",
      "2970              12            4         3    10        0.3\n",
      "3651              10            4         3    10        0.3\n",
      "3670              64           17         9    30        0.3\n",
      "3826              58            3         3    10        0.3\n",
      "4360              10            3         3    10        0.3\n",
      "4446              21            4         3    10        0.3\n",
      "8075              25            4         3    10        0.3\n",
      "10459             13            5         3    10        0.3\n",
      "10517              8            3         3    10        0.3\n",
      "11058             54           13         9    30        0.3\n",
      "11555             13            3         3    10        0.3\n",
      "11714             13            3         3    10        0.3\n",
      "transform == 0.4\n",
      "            is_devis  is_commande  commande  nego  transform\n",
      "CodeClient                                                  \n",
      "155               22            6         6    15        0.4\n",
      "209                9            3         2     5        0.4\n",
      "632                5            2         2     5        0.4\n",
      "761                5            3         2     5        0.4\n",
      "826                4            2         2     5        0.4\n",
      "830                4            2         2     5        0.4\n",
      "874                7            2         2     5        0.4\n",
      "963                8            5         4    10        0.4\n",
      "981                5            2         2     5        0.4\n",
      "1229              13            2         2     5        0.4\n",
      "1385              12            4         4    10        0.4\n",
      "1529               4            2         2     5        0.4\n",
      "1666               8            4         2     5        0.4\n",
      "1964               6            2         2     5        0.4\n",
      "2001               3            2         2     5        0.4\n",
      "2070               3            2         2     5        0.4\n",
      "2187              12            6         2     5        0.4\n",
      "2346               9            4         4    10        0.4\n",
      "2593               8            5         4    10        0.4\n",
      "2740              16            9         6    15        0.4\n",
      "2915               3            2         2     5        0.4\n",
      "3013               4            2         2     5        0.4\n",
      "3031               8            6         2     5        0.4\n",
      "3444               6            2         2     5        0.4\n",
      "3510               8            3         2     5        0.4\n",
      "3622               3            2         2     5        0.4\n",
      "3781              19            8         6    15        0.4\n",
      "3896               6            3         2     5        0.4\n",
      "3926              14            4         4    10        0.4\n",
      "3953               8            2         2     5        0.4\n",
      "4151               4            2         2     5        0.4\n",
      "4212               3            2         2     5        0.4\n",
      "4328               4            2         2     5        0.4\n",
      "4439              42           15         4    10        0.4\n",
      "4509               5            2         2     5        0.4\n",
      "4513              14            5         4    10        0.4\n",
      "4584             104           22        18    45        0.4\n",
      "4645               4            2         2     5        0.4\n",
      "4673               9            3         2     5        0.4\n",
      "4751               3            3         2     5        0.4\n",
      "4814               6            2         2     5        0.4\n",
      "4924              27            9         6    15        0.4\n",
      "5015               6            2         2     5        0.4\n",
      "5252              34            9         6    15        0.4\n",
      "5394              32            4         4    10        0.4\n",
      "6295               9            2         2     5        0.4\n",
      "6931              15            4         4    10        0.4\n",
      "7811              18            5         4    10        0.4\n",
      "9842               4            2         2     5        0.4\n",
      "9971              12            2         2     5        0.4\n",
      "9973              14            5         4    10        0.4\n",
      "10294             28            8         6    15        0.4\n",
      "10573              8            5         4    10        0.4\n",
      "10859              3            2         2     5        0.4\n",
      "11039             17            3         2     5        0.4\n",
      "11106              3            2         2     5        0.4\n",
      "11215              7            3         2     5        0.4\n",
      "11413              8            4         4    10        0.4\n",
      "11696             10            6         4    10        0.4\n",
      "11751              7            2         2     5        0.4\n",
      "11766              5            2         2     5        0.4\n",
      "12014             15            5         2     5        0.4\n",
      "12095             14            6         2     5        0.4\n",
      "12113              7            2         2     5        0.4\n",
      "12223             47            8         6    15        0.4\n",
      "12502             10            2         2     5        0.4\n",
      "12617              8            3         2     5        0.4\n",
      "12751              6            4         2     5        0.4\n",
      "13014             10            6         2     5        0.4\n",
      "14085              8            3         2     5        0.4\n",
      "14230              5            3         2     5        0.4\n",
      "14242              7            2         2     5        0.4\n",
      "transform == 0.5\n",
      "            is_devis  is_commande  commande  nego  transform\n",
      "CodeClient                                                  \n",
      "12                 2            1         1     2        0.5\n",
      "34                 1            1         1     2        0.5\n",
      "86                 1            1         1     2        0.5\n",
      "104               32           14        10    20        0.5\n",
      "128                1            1         1     2        0.5\n",
      "187                2            1         1     2        0.5\n",
      "211               10            4         4     8        0.5\n",
      "237               37            3         2     4        0.5\n",
      "325                2            1         1     2        0.5\n",
      "337                2            1         1     2        0.5\n",
      "359                5            4         4     8        0.5\n",
      "371                2            2         2     4        0.5\n",
      "463                4            1         1     2        0.5\n",
      "476               20            8         8    16        0.5\n",
      "507                1            1         1     2        0.5\n",
      "540               25            9         8    16        0.5\n",
      "569                2            1         1     2        0.5\n",
      "570                4            2         2     4        0.5\n",
      "592               14            5         5    10        0.5\n",
      "716                2            1         1     2        0.5\n",
      "725                5            2         2     4        0.5\n",
      "741                2            1         1     2        0.5\n",
      "773                5            2         2     4        0.5\n",
      "804                4            2         2     4        0.5\n",
      "848                3            2         2     4        0.5\n",
      "969                3            1         1     2        0.5\n",
      "973                2            2         2     4        0.5\n",
      "1031               4            2         2     4        0.5\n",
      "1053               1            1         1     2        0.5\n",
      "1055               6            2         2     4        0.5\n",
      "1104               1            1         1     2        0.5\n",
      "1163               5            5         4     8        0.5\n",
      "1164               2            1         1     2        0.5\n",
      "1197              20           12         8    16        0.5\n",
      "1236               4            2         2     4        0.5\n",
      "1257              15            5         4     8        0.5\n",
      "1298               1            1         1     2        0.5\n",
      "1306               6            2         2     4        0.5\n",
      "1310               2            1         1     2        0.5\n",
      "1352               2            1         1     2        0.5\n",
      "1369              29           17         9    18        0.5\n",
      "1418               3            1         1     2        0.5\n",
      "1422              10            6         6    12        0.5\n",
      "1436               9            2         2     4        0.5\n",
      "1466               2            1         1     2        0.5\n",
      "1473               2            1         1     2        0.5\n",
      "1595               1            1         1     2        0.5\n",
      "1606              10            4         3     6        0.5\n",
      "1609               7            4         3     6        0.5\n",
      "1611               3            2         2     4        0.5\n",
      "1626               3            2         2     4        0.5\n",
      "1659               2            2         1     2        0.5\n",
      "1679               1            1         1     2        0.5\n",
      "1692              31            9         7    14        0.5\n",
      "1732               3            3         2     4        0.5\n",
      "1744               5            4         3     6        0.5\n",
      "1749               6            4         4     8        0.5\n",
      "1762               9            3         3     6        0.5\n",
      "1764               2            1         1     2        0.5\n",
      "1775              31            8         8    16        0.5\n",
      "1796               3            1         1     2        0.5\n",
      "1813               4            3         2     4        0.5\n",
      "1904               2            1         1     2        0.5\n",
      "1911               2            2         1     2        0.5\n",
      "1948               2            2         2     4        0.5\n",
      "1996               3            1         1     2        0.5\n",
      "2009               9            6         3     6        0.5\n",
      "2034               3            1         1     2        0.5\n",
      "2075              12            6         6    12        0.5\n",
      "2138              13            5         4     8        0.5\n",
      "2160               7            5         4     8        0.5\n",
      "2162               5            3         3     6        0.5\n",
      "2188               1            1         1     2        0.5\n",
      "2198               3            1         1     2        0.5\n",
      "2207               7            5         5    10        0.5\n",
      "2208               7            4         4     8        0.5\n",
      "2261               1            1         1     2        0.5\n",
      "2263              12            2         2     4        0.5\n",
      "2347              65            1         1     2        0.5\n",
      "2348               6            3         3     6        0.5\n",
      "2384               6            1         1     2        0.5\n",
      "2460              13            3         3     6        0.5\n",
      "2517               2            1         1     2        0.5\n",
      "2528              16            6         6    12        0.5\n",
      "2541               4            4         3     6        0.5\n",
      "2551               1            1         1     2        0.5\n",
      "2578               2            3         2     4        0.5\n",
      "2580              11            3         3     6        0.5\n",
      "2588              33           14        13    26        0.5\n",
      "2608               4            1         1     2        0.5\n",
      "2630               8            2         2     4        0.5\n",
      "2664               1            1         1     2        0.5\n",
      "2677               2            1         1     2        0.5\n",
      "2687              11           10         7    14        0.5\n",
      "2727               5            1         1     2        0.5\n",
      "2729               2            1         1     2        0.5\n",
      "2730               8            2         2     4        0.5\n",
      "2734               5            3         2     4        0.5\n",
      "2753               4            2         2     4        0.5\n",
      "2759               1            1         1     2        0.5\n",
      "2780               3            1         1     2        0.5\n",
      "2795               2            1         1     2        0.5\n",
      "2829               2            1         1     2        0.5\n",
      "2843               2            1         1     2        0.5\n",
      "2883               1            1         1     2        0.5\n",
      "2899               1            1         1     2        0.5\n",
      "2911               2            2         2     4        0.5\n",
      "2912               1            1         1     2        0.5\n",
      "2934               1            1         1     2        0.5\n",
      "3018               2            1         1     2        0.5\n",
      "3021               6            4         3     6        0.5\n",
      "3036               1            1         1     2        0.5\n",
      "3046               5            2         2     4        0.5\n",
      "3062               1            1         1     2        0.5\n",
      "3107               8            4         4     8        0.5\n",
      "3126               3            1         1     2        0.5\n",
      "3134               1            1         1     2        0.5\n",
      "3157               1            1         1     2        0.5\n",
      "3160               3            1         1     2        0.5\n",
      "3178              23            9         8    16        0.5\n",
      "3181               1            1         1     2        0.5\n",
      "3220              22           10         9    18        0.5\n",
      "3238               3            2         2     4        0.5\n",
      "3265               2            1         1     2        0.5\n",
      "3305               5            1         1     2        0.5\n",
      "3328               2            1         1     2        0.5\n",
      "3334               3            1         1     2        0.5\n",
      "3382              57           33        29    58        0.5\n",
      "3403               1            1         1     2        0.5\n",
      "3410               4            5         3     6        0.5\n",
      "3425              38           13        13    26        0.5\n",
      "3430               5            3         3     6        0.5\n",
      "3437               3            3         1     2        0.5\n",
      "3475               3            1         1     2        0.5\n",
      "3476              73            4         2     4        0.5\n",
      "3507              15            7         2     4        0.5\n",
      "3512               2            1         1     2        0.5\n",
      "3527               4            4         3     6        0.5\n",
      "3577              30           19        14    28        0.5\n",
      "3626              71           35        27    54        0.5\n",
      "3639               2            2         2     4        0.5\n",
      "3656               2            1         1     2        0.5\n",
      "3676               3            2         2     4        0.5\n",
      "3780               2            1         1     2        0.5\n",
      "3792              17            1         1     2        0.5\n",
      "3870               2            2         2     4        0.5\n",
      "3872               4            1         1     2        0.5\n",
      "3907               5            2         1     2        0.5\n",
      "3982               3            2         2     4        0.5\n",
      "3998               6            3         3     6        0.5\n",
      "4017               2            1         1     2        0.5\n",
      "4052               1            1         1     2        0.5\n",
      "4079               3            2         2     4        0.5\n",
      "4093               1            1         1     2        0.5\n",
      "4142               3            1         1     2        0.5\n",
      "4157               4            2         2     4        0.5\n",
      "4190               2            3         2     4        0.5\n",
      "4213               3            3         2     4        0.5\n",
      "4240               9            2         2     4        0.5\n",
      "4245               1            1         1     2        0.5\n",
      "4318               8            4         4     8        0.5\n",
      "4368               2            1         1     2        0.5\n",
      "4385              31            6         1     2        0.5\n",
      "4425               6            4         3     6        0.5\n",
      "4429               5            1         1     2        0.5\n",
      "4498               5            3         3     6        0.5\n",
      "4520               3            2         1     2        0.5\n",
      "4560               2            1         1     2        0.5\n",
      "4606               6            6         5    10        0.5\n",
      "4607               4            2         2     4        0.5\n",
      "4653               9            5         4     8        0.5\n",
      "4711               3            1         1     2        0.5\n",
      "4712               3            2         2     4        0.5\n",
      "4728               2            2         2     4        0.5\n",
      "4790               1            1         1     2        0.5\n",
      "4819               5            1         1     2        0.5\n",
      "4839               2            1         1     2        0.5\n",
      "4890               1            1         1     2        0.5\n",
      "4914               1            2         1     2        0.5\n",
      "4947               6            1         1     2        0.5\n",
      "4989               6            5         5    10        0.5\n",
      "5055               2            2         2     4        0.5\n",
      "5147               5            2         1     2        0.5\n",
      "5169               4            2         1     2        0.5\n",
      "5171               2            1         1     2        0.5\n",
      "5191               6            2         2     4        0.5\n",
      "5250               3            1         1     2        0.5\n",
      "5277               5            2         2     4        0.5\n",
      "5350              13            1         1     2        0.5\n",
      "5388              11            3         2     4        0.5\n",
      "5410               2            1         1     2        0.5\n",
      "5467               4            2         2     4        0.5\n",
      "5978               5            2         1     2        0.5\n",
      "6077              14            1         1     2        0.5\n",
      "6279              12            4         4     8        0.5\n",
      "6426               7            1         1     2        0.5\n",
      "6825               4            1         1     2        0.5\n",
      "7188               3            1         1     2        0.5\n",
      "7318               1            1         1     2        0.5\n",
      "7390              10            1         1     2        0.5\n",
      "7513               4            2         2     4        0.5\n",
      "7754               3            1         1     2        0.5\n",
      "7778               4            1         1     2        0.5\n",
      "7790              18            1         1     2        0.5\n",
      "7809               8            9         3     6        0.5\n",
      "7896               9            4         2     4        0.5\n",
      "8032               3            1         1     2        0.5\n",
      "8070               3            2         2     4        0.5\n",
      "8151               7            3         3     6        0.5\n",
      "8169               8            1         1     2        0.5\n",
      "8245               4            3         2     4        0.5\n",
      "8269               4            2         2     4        0.5\n",
      "9018               2            1         1     2        0.5\n",
      "9058               4            2         2     4        0.5\n",
      "9672               1            1         1     2        0.5\n",
      "9832               5            1         1     2        0.5\n",
      "9861               2            1         1     2        0.5\n",
      "9892               1            1         1     2        0.5\n",
      "9928               5            2         2     4        0.5\n",
      "9945               6            4         3     6        0.5\n",
      "10042             18            5         5    10        0.5\n",
      "10086             12            4         3     6        0.5\n",
      "10102              3            1         1     2        0.5\n",
      "10203              1            1         1     2        0.5\n",
      "10243              1            1         1     2        0.5\n",
      "10299              1            1         1     2        0.5\n",
      "10321              4            1         1     2        0.5\n",
      "10338              2            2         2     4        0.5\n",
      "10365              1            1         1     2        0.5\n",
      "10379              2            1         1     2        0.5\n",
      "10469              2            2         2     4        0.5\n",
      "10545              3            2         2     4        0.5\n",
      "10594              7            4         4     8        0.5\n",
      "10632             28            5         3     6        0.5\n",
      "10686             13            6         6    12        0.5\n",
      "10714              3            1         1     2        0.5\n",
      "10718              2            1         1     2        0.5\n",
      "10721             25           22         3     6        0.5\n",
      "10754             33           10         4     8        0.5\n",
      "10791             11            3         1     2        0.5\n",
      "10828              2            1         1     2        0.5\n",
      "10832              2            1         1     2        0.5\n",
      "10905              4            2         2     4        0.5\n",
      "10915              3            1         1     2        0.5\n",
      "11051              4            1         1     2        0.5\n",
      "11097              1            1         1     2        0.5\n",
      "11149              4            1         1     2        0.5\n",
      "11161              2            1         1     2        0.5\n",
      "11180              3            2         2     4        0.5\n",
      "11244              4            2         2     4        0.5\n",
      "11248              2            1         1     2        0.5\n",
      "11253              3            2         2     4        0.5\n",
      "11351              4            3         3     6        0.5\n",
      "11365              1            1         1     2        0.5\n",
      "11381              5            3         3     6        0.5\n",
      "11435              9            4         3     6        0.5\n",
      "11588             34            7         6    12        0.5\n",
      "11603             16            5         1     2        0.5\n",
      "11623              4            1         1     2        0.5\n",
      "11636              1            1         1     2        0.5\n",
      "11704              4            2         2     4        0.5\n",
      "11706              1            1         1     2        0.5\n",
      "11735             15            7         5    10        0.5\n",
      "11769              1            1         1     2        0.5\n",
      "11789              1            1         1     2        0.5\n",
      "11823              2            1         1     2        0.5\n",
      "11825              3            1         1     2        0.5\n",
      "11828              2            1         1     2        0.5\n",
      "11852              4            2         1     2        0.5\n",
      "11873              2            1         1     2        0.5\n",
      "11896              1            1         1     2        0.5\n",
      "11945              1            1         1     2        0.5\n",
      "11950              4            1         1     2        0.5\n",
      "11989              2            2         1     2        0.5\n",
      "12027             13            5         5    10        0.5\n",
      "12032              4            1         1     2        0.5\n",
      "12041             22            4         1     2        0.5\n",
      "12088              4            2         1     2        0.5\n",
      "12100             12            5         5    10        0.5\n",
      "12125              2            1         1     2        0.5\n",
      "12186              4            1         1     2        0.5\n",
      "12188              1            1         1     2        0.5\n",
      "12341              9            3         3     6        0.5\n",
      "12344              3            1         1     2        0.5\n",
      "12345              2            1         1     2        0.5\n",
      "12364              1            1         1     2        0.5\n",
      "12370              7            3         2     4        0.5\n",
      "12385              6            4         4     8        0.5\n",
      "12407              4            3         1     2        0.5\n",
      "12429              4            1         1     2        0.5\n",
      "12432              5            2         1     2        0.5\n",
      "12462              3            1         1     2        0.5\n",
      "12466              5            1         1     2        0.5\n",
      "12535              1            1         1     2        0.5\n",
      "12536              2            1         1     2        0.5\n",
      "12538              2            1         1     2        0.5\n",
      "12545             20            9         8    16        0.5\n",
      "12547              1            1         1     2        0.5\n",
      "12582              5            1         1     2        0.5\n",
      "12597              4            1         1     2        0.5\n",
      "12610              1            1         1     2        0.5\n",
      "12625              1            1         1     2        0.5\n",
      "12678              7            4         3     6        0.5\n",
      "12812              2            1         1     2        0.5\n",
      "12852              3            1         1     2        0.5\n",
      "12862              1            1         1     2        0.5\n",
      "12896              8            5         5    10        0.5\n",
      "12905              4            1         1     2        0.5\n",
      "12938              4            1         1     2        0.5\n",
      "12995              1            1         1     2        0.5\n",
      "13004             10            2         1     2        0.5\n",
      "13011              3            1         1     2        0.5\n",
      "13062              5            1         1     2        0.5\n",
      "13080              5            2         1     2        0.5\n",
      "13083              3            1         1     2        0.5\n",
      "13094              2            1         1     2        0.5\n",
      "14002              2            1         1     2        0.5\n",
      "14010              4            2         2     4        0.5\n",
      "14034              8            2         2     4        0.5\n",
      "14035              2            1         1     2        0.5\n",
      "14049              2            1         1     2        0.5\n",
      "14093              6            5         1     2        0.5\n",
      "14100             11            5         4     8        0.5\n",
      "14106              1            2         1     2        0.5\n",
      "14108             14            5         4     8        0.5\n",
      "14131              7            2         1     2        0.5\n",
      "14144              2            1         1     2        0.5\n",
      "14145              4            1         1     2        0.5\n",
      "14152              2            1         1     2        0.5\n",
      "14172              1            3         1     2        0.5\n",
      "14175              7            1         1     2        0.5\n",
      "14185              6            1         1     2        0.5\n",
      "14216              2            1         1     2        0.5\n",
      "14239              2            1         1     2        0.5\n",
      "14280              4            1         1     2        0.5\n",
      "14285              2            1         1     2        0.5\n",
      "14305              2            1         1     2        0.5\n",
      "14329              2            1         1     2        0.5\n",
      "14340              1            2         1     2        0.5\n",
      "14357              2            1         1     2        0.5\n",
      "14380              2            1         1     2        0.5\n",
      "14396              8            1         1     2        0.5\n",
      "14411              9            4         3     6        0.5\n",
      "14420              7            4         1     2        0.5\n",
      "14421             32            7         2     4        0.5\n",
      "14552              3            1         1     2        0.5\n",
      "14570              3            1         1     2        0.5\n",
      "14593              2            1         1     2        0.5\n",
      "14598              1            1         1     2        0.5\n",
      "14599              8            2         1     2        0.5\n",
      "14610              9            1         1     2        0.5\n",
      "14614             29            2         2     4        0.5\n",
      "14650              3            1         1     2        0.5\n",
      "14670              2            1         1     2        0.5\n",
      "14683              6            1         1     2        0.5\n",
      "14686              4            1         1     2        0.5\n",
      "14688              5            1         1     2        0.5\n",
      "transform == 0.6\n",
      "            is_devis  is_commande  commande  nego  transform\n",
      "CodeClient                                                  \n",
      "3                 91           25        15    25        0.6\n",
      "113               13            7         6    10        0.6\n",
      "247                4            3         3     5        0.6\n",
      "414               30           25        12    20        0.6\n",
      "697                5            3         3     5        0.6\n",
      "767                4            3         3     5        0.6\n",
      "959                2            5         3     5        0.6\n",
      "1241              10            7         6    10        0.6\n",
      "1301              16           15        15    25        0.6\n",
      "1476              10            6         6    10        0.6\n",
      "1478               7            4         3     5        0.6\n",
      "1730              25           20        18    30        0.6\n",
      "1841               6            4         3     5        0.6\n",
      "1901               6            6         6    10        0.6\n",
      "2117              17            3         3     5        0.6\n",
      "2190               5            4         3     5        0.6\n",
      "2454              54           25         3     5        0.6\n",
      "2885               6            3         3     5        0.6\n",
      "3314               7            3         3     5        0.6\n",
      "3418               3            4         3     5        0.6\n",
      "3472               8            3         3     5        0.6\n",
      "3724              16            5         3     5        0.6\n",
      "3863               7            4         3     5        0.6\n",
      "3903               3            3         3     5        0.6\n",
      "4380               9            3         3     5        0.6\n",
      "4489               6            3         3     5        0.6\n",
      "4707               7            4         3     5        0.6\n",
      "4742               6            4         3     5        0.6\n",
      "5313              12            8         6    10        0.6\n",
      "5561              17           15         3     5        0.6\n",
      "5722              18           12         6    10        0.6\n",
      "9687               2            4         3     5        0.6\n",
      "10297              5            8         6    10        0.6\n",
      "10997              6            3         3     5        0.6\n",
      "11269              4            3         3     5        0.6\n",
      "11389              6            3         3     5        0.6\n",
      "11605              4            3         3     5        0.6\n",
      "11861              8            4         3     5        0.6\n",
      "12708              8            3         3     5        0.6\n",
      "13066              3            3         3     5        0.6\n",
      "14157             18           10         3     5        0.6\n",
      "14282              6            3         3     5        0.6\n",
      "14313             16            7         3     5        0.6\n",
      "14498              5            3         3     5        0.6\n",
      "transform == 0.7\n",
      "            is_devis  is_commande  commande  nego  transform\n",
      "CodeClient                                                  \n",
      "791                7           16        14    20        0.7\n",
      "2526               8            7         7    10        0.7\n",
      "2935               3            8         7    10        0.7\n",
      "2991              16           10         7    10        0.7\n",
      "3794               8           11         7    10        0.7\n",
      "12713            305           45         7    10        0.7\n",
      "transform == 0.8\n",
      "            is_devis  is_commande  commande  nego  transform\n",
      "CodeClient                                                  \n",
      "509                2            5         4     5        0.8\n",
      "619                1            4         4     5        0.8\n",
      "871                5            4         4     5        0.8\n",
      "1291               2            4         4     5        0.8\n",
      "1340               4            5         4     5        0.8\n",
      "1636               3            5         4     5        0.8\n",
      "1720               6            4         4     5        0.8\n",
      "2239               1            5         4     5        0.8\n",
      "2408               9           18        16    20        0.8\n",
      "2485               3            5         4     5        0.8\n",
      "2519               4            5         4     5        0.8\n",
      "2585               1            5         4     5        0.8\n",
      "2749               2            5         4     5        0.8\n",
      "2884               1            4         4     5        0.8\n",
      "3169               1            4         4     5        0.8\n",
      "3850               2            4         4     5        0.8\n",
      "4111              23            6         4     5        0.8\n",
      "4351               9            8         8    10        0.8\n",
      "4692               5            5         4     5        0.8\n",
      "5314               5            4         4     5        0.8\n",
      "9977               1            7         4     5        0.8\n",
      "10339              3            4         4     5        0.8\n",
      "10351              2            4         4     5        0.8\n",
      "10720             16            7         4     5        0.8\n",
      "10933              1            4         4     5        0.8\n",
      "11785              7            6         4     5        0.8\n",
      "12280              1            4         4     5        0.8\n",
      "12679              1            4         4     5        0.8\n",
      "14214              6           14         4     5        0.8\n",
      "transform == 0.9\n",
      "            is_devis  is_commande  commande  nego  transform\n",
      "CodeClient                                                  \n",
      "2839               5            9         9    10        0.9\n",
      "11262              3            9         9    10        0.9\n"
     ]
    }
   ],
   "source": [
    "trans = [i/10.0 for i in range(10)]\n",
    "\n",
    "for i in trans:\n",
    "    montre_transform(result, i)"
   ],
   "metadata": {
    "collapsed": false,
    "pycharm": {
     "name": "#%%\n"
    }
   }
  },
  {
   "cell_type": "code",
   "execution_count": 19,
   "outputs": [
    {
     "data": {
      "text/plain": "<AxesSubplot:ylabel='Frequency'>"
     },
     "execution_count": 19,
     "metadata": {},
     "output_type": "execute_result"
    },
    {
     "data": {
      "text/plain": "<Figure size 432x288 with 1 Axes>",
      "image/png": "[encoded data removed]"
     },
     "metadata": {
      "needs_background": "light"
     },
     "output_type": "display_data"
    }
   ],
   "source": [
    "result['transform'].plot(kind=\"hist\")"
   ],
   "metadata": {
    "collapsed": false,
    "pycharm": {
     "name": "#%%\n"
    }
   }
  },
  {
   "cell_type": "markdown",
   "source": [
    "# groupby nego and Gestionnaire"
   ],
   "metadata": {
    "collapsed": false,
    "pycharm": {
     "name": "#%% md\n"
    }
   }
  },
  {
   "cell_type": "code",
   "execution_count": 20,
   "outputs": [
    {
     "name": "stderr",
     "output_type": "stream",
     "text": [
      "<ipython-input-20-b22fdd9ce8a2>:3: FutureWarning: Indexing with multiple keys (implicitly converted to a tuple of keys) will be deprecated, use a list instead.\n",
      "  results = grouped[\"is_devis\", \"is_commande\"].sum()\n"
     ]
    },
    {
     "data": {
      "text/plain": "                        is_devis  is_commande  commande  nego\nGestionnaire NCDE                                            \nALU          140500651         0            2         1     1\n             140600145         3            3         1     1\n             150201297         2            0         0     1\n             150300298         4            0         0     1\n             150700563         9           14         1     1\n...                          ...          ...       ...   ...\nPVC          220400538         1            0         0     1\n             220400540         0            1         1     1\n             220400542         1            0         0     1\n             220400547         1            0         0     1\n             220400549         1            0         0     1\n\n[51813 rows x 4 columns]",
      "text/html": "<div>\n<style scoped>\n    .dataframe tbody tr th:only-of-type {\n        vertical-align: middle;\n    }\n\n    .dataframe tbody tr th {\n        vertical-align: top;\n    }\n\n    .dataframe thead th {\n        text-align: right;\n    }\n</style>\n<table border=\"1\" class=\"dataframe\">\n  <thead>\n    <tr style=\"text-align: right;\">\n      <th></th>\n      <th></th>\n      <th>is_devis</th>\n      <th>is_commande</th>\n      <th>commande</th>\n      <th>nego</th>\n    </tr>\n    <tr>\n      <th>Gestionnaire</th>\n      <th>NCDE</th>\n      <th></th>\n      <th></th>\n      <th></th>\n      <th></th>\n    </tr>\n  </thead>\n  <tbody>\n    <tr>\n      <th rowspan=\"5\" valign=\"top\">ALU</th>\n      <th>140500651</th>\n      <td>0</td>\n      <td>2</td>\n      <td>1</td>\n      <td>1</td>\n    </tr>\n    <tr>\n      <th>140600145</th>\n      <td>3</td>\n      <td>3</td>\n      <td>1</td>\n      <td>1</td>\n    </tr>\n    <tr>\n      <th>150201297</th>\n      <td>2</td>\n      <td>0</td>\n      <td>0</td>\n      <td>1</td>\n    </tr>\n    <tr>\n      <th>150300298</th>\n      <td>4</td>\n      <td>0</td>\n      <td>0</td>\n      <td>1</td>\n    </tr>\n    <tr>\n      <th>150700563</th>\n      <td>9</td>\n      <td>14</td>\n      <td>1</td>\n      <td>1</td>\n    </tr>\n    <tr>\n      <th>...</th>\n      <th>...</th>\n      <td>...</td>\n      <td>...</td>\n      <td>...</td>\n      <td>...</td>\n    </tr>\n    <tr>\n      <th rowspan=\"5\" valign=\"top\">PVC</th>\n      <th>220400538</th>\n      <td>1</td>\n      <td>0</td>\n      <td>0</td>\n      <td>1</td>\n    </tr>\n    <tr>\n      <th>220400540</th>\n      <td>0</td>\n      <td>1</td>\n      <td>1</td>\n      <td>1</td>\n    </tr>\n    <tr>\n      <th>220400542</th>\n      <td>1</td>\n      <td>0</td>\n      <td>0</td>\n      <td>1</td>\n    </tr>\n    <tr>\n      <th>220400547</th>\n      <td>1</td>\n      <td>0</td>\n      <td>0</td>\n      <td>1</td>\n    </tr>\n    <tr>\n      <th>220400549</th>\n      <td>1</td>\n      <td>0</td>\n      <td>0</td>\n      <td>1</td>\n    </tr>\n  </tbody>\n</table>\n<p>51813 rows × 4 columns</p>\n</div>"
     },
     "execution_count": 20,
     "metadata": {},
     "output_type": "execute_result"
    }
   ],
   "source": [
    "grouped = df_lignes.groupby(['Gestionnaire', 'NCDE'])\n",
    "\n",
    "results = grouped[\"is_devis\", \"is_commande\"].sum()\n",
    "results['commande'] = 0\n",
    "results.loc[results['is_commande'] > 0, 'commande'] = 1\n",
    "\n",
    "results['nego'] = 0\n",
    "results.loc[(results['commande'] == 1) | (results['is_devis'] > 0), 'nego'] = 1\n",
    "\n",
    "results"
   ],
   "metadata": {
    "collapsed": false,
    "pycharm": {
     "name": "#%%\n"
    }
   }
  },
  {
   "cell_type": "code",
   "execution_count": 21,
   "outputs": [
    {
     "data": {
      "text/plain": "              is_devis  is_commande  commande   nego\nGestionnaire                                        \nALU              60445         9445      6201  26933\nBOIS             13681         4253      3562  10627\nPVC              21265         7068      5669  14253",
      "text/html": "<div>\n<style scoped>\n    .dataframe tbody tr th:only-of-type {\n        vertical-align: middle;\n    }\n\n    .dataframe tbody tr th {\n        vertical-align: top;\n    }\n\n    .dataframe thead th {\n        text-align: right;\n    }\n</style>\n<table border=\"1\" class=\"dataframe\">\n  <thead>\n    <tr style=\"text-align: right;\">\n      <th></th>\n      <th>is_devis</th>\n      <th>is_commande</th>\n      <th>commande</th>\n      <th>nego</th>\n    </tr>\n    <tr>\n      <th>Gestionnaire</th>\n      <th></th>\n      <th></th>\n      <th></th>\n      <th></th>\n    </tr>\n  </thead>\n  <tbody>\n    <tr>\n      <th>ALU</th>\n      <td>60445</td>\n      <td>9445</td>\n      <td>6201</td>\n      <td>26933</td>\n    </tr>\n    <tr>\n      <th>BOIS</th>\n      <td>13681</td>\n      <td>4253</td>\n      <td>3562</td>\n      <td>10627</td>\n    </tr>\n    <tr>\n      <th>PVC</th>\n      <td>21265</td>\n      <td>7068</td>\n      <td>5669</td>\n      <td>14253</td>\n    </tr>\n  </tbody>\n</table>\n</div>"
     },
     "execution_count": 21,
     "metadata": {},
     "output_type": "execute_result"
    }
   ],
   "source": [
    "result = results.groupby(['Gestionnaire']).sum()\n",
    "\n",
    "result"
   ],
   "metadata": {
    "collapsed": false,
    "pycharm": {
     "name": "#%%\n"
    }
   }
  },
  {
   "cell_type": "markdown",
   "source": [
    "# calcul transformation"
   ],
   "metadata": {
    "collapsed": false,
    "pycharm": {
     "name": "#%% md\n"
    }
   }
  },
  {
   "cell_type": "code",
   "execution_count": 22,
   "outputs": [
    {
     "data": {
      "text/plain": "              is_devis  is_commande  commande   nego  transform\nGestionnaire                                                   \nALU              60445         9445      6201  26933   0.230238\nBOIS             13681         4253      3562  10627   0.335184\nPVC              21265         7068      5669  14253   0.397741",
      "text/html": "<div>\n<style scoped>\n    .dataframe tbody tr th:only-of-type {\n        vertical-align: middle;\n    }\n\n    .dataframe tbody tr th {\n        vertical-align: top;\n    }\n\n    .dataframe thead th {\n        text-align: right;\n    }\n</style>\n<table border=\"1\" class=\"dataframe\">\n  <thead>\n    <tr style=\"text-align: right;\">\n      <th></th>\n      <th>is_devis</th>\n      <th>is_commande</th>\n      <th>commande</th>\n      <th>nego</th>\n      <th>transform</th>\n    </tr>\n    <tr>\n      <th>Gestionnaire</th>\n      <th></th>\n      <th></th>\n      <th></th>\n      <th></th>\n      <th></th>\n    </tr>\n  </thead>\n  <tbody>\n    <tr>\n      <th>ALU</th>\n      <td>60445</td>\n      <td>9445</td>\n      <td>6201</td>\n      <td>26933</td>\n      <td>0.230238</td>\n    </tr>\n    <tr>\n      <th>BOIS</th>\n      <td>13681</td>\n      <td>4253</td>\n      <td>3562</td>\n      <td>10627</td>\n      <td>0.335184</td>\n    </tr>\n    <tr>\n      <th>PVC</th>\n      <td>21265</td>\n      <td>7068</td>\n      <td>5669</td>\n      <td>14253</td>\n      <td>0.397741</td>\n    </tr>\n  </tbody>\n</table>\n</div>"
     },
     "execution_count": 22,
     "metadata": {},
     "output_type": "execute_result"
    }
   ],
   "source": [
    "result['transform'] = result['commande'] / result['nego']\n",
    "\n",
    "result"
   ],
   "metadata": {
    "collapsed": false,
    "pycharm": {
     "name": "#%%\n"
    }
   }
  },
  {
   "cell_type": "code",
   "execution_count": 23,
   "outputs": [
    {
     "data": {
      "text/plain": "<AxesSubplot:xlabel='Gestionnaire'>"
     },
     "execution_count": 23,
     "metadata": {},
     "output_type": "execute_result"
    },
    {
     "data": {
      "text/plain": "<Figure size 432x288 with 1 Axes>",
      "image/png": "[encoded data removed]"
     },
     "metadata": {
      "needs_background": "light"
     },
     "output_type": "display_data"
    }
   ],
   "source": [
    "result.loc[ :, ['is_devis','is_commande']].plot(kind=\"bar\")"
   ],
   "metadata": {
    "collapsed": false,
    "pycharm": {
     "name": "#%%\n"
    }
   }
  },
  {
   "cell_type": "code",
   "execution_count": 24,
   "outputs": [
    {
     "data": {
      "text/plain": "<AxesSubplot:xlabel='Gestionnaire'>"
     },
     "execution_count": 24,
     "metadata": {},
     "output_type": "execute_result"
    },
    {
     "data": {
      "text/plain": "<Figure size 432x288 with 1 Axes>",
      "image/png": "[encoded data removed]"
     },
     "metadata": {
      "needs_background": "light"
     },
     "output_type": "display_data"
    }
   ],
   "source": [
    "result['transform'].plot(kind=\"bar\")"
   ],
   "metadata": {
    "collapsed": false,
    "pycharm": {
     "name": "#%%\n"
    }
   }
  },
  {
   "cell_type": "markdown",
   "source": [
    "# groupby nego and CodeClient avec repliable"
   ],
   "metadata": {
    "collapsed": false,
    "pycharm": {
     "name": "#%% md\n"
    }
   }
  },
  {
   "cell_type": "code",
   "execution_count": 25,
   "outputs": [
    {
     "name": "stderr",
     "output_type": "stream",
     "text": [
      "<ipython-input-25-158074fe1052>:3: FutureWarning: Indexing with multiple keys (implicitly converted to a tuple of keys) will be deprecated, use a list instead.\n",
      "  results = grouped[\"is_devis\", \"is_commande\"].sum()\n"
     ]
    },
    {
     "data": {
      "text/plain": "                      is_devis  is_commande  commande  nego\nCodeClient NCDE                                            \n33         201000377         1            0         0     1\n           201000978         1            0         0     1\n           201001417         1            0         0     1\n           201100645         2            2         1     1\n           210300104         1            0         0     1\n...                        ...          ...       ...   ...\n14603      211200238         1            0         0     1\n14641      220100097         1            0         0     1\n14649      220100562         1            0         0     1\n14663      220400287         1            0         0     1\n14691      220200883         2            1         1     1\n\n[1025 rows x 4 columns]",
      "text/html": "<div>\n<style scoped>\n    .dataframe tbody tr th:only-of-type {\n        vertical-align: middle;\n    }\n\n    .dataframe tbody tr th {\n        vertical-align: top;\n    }\n\n    .dataframe thead th {\n        text-align: right;\n    }\n</style>\n<table border=\"1\" class=\"dataframe\">\n  <thead>\n    <tr style=\"text-align: right;\">\n      <th></th>\n      <th></th>\n      <th>is_devis</th>\n      <th>is_commande</th>\n      <th>commande</th>\n      <th>nego</th>\n    </tr>\n    <tr>\n      <th>CodeClient</th>\n      <th>NCDE</th>\n      <th></th>\n      <th></th>\n      <th></th>\n      <th></th>\n    </tr>\n  </thead>\n  <tbody>\n    <tr>\n      <th rowspan=\"5\" valign=\"top\">33</th>\n      <th>201000377</th>\n      <td>1</td>\n      <td>0</td>\n      <td>0</td>\n      <td>1</td>\n    </tr>\n    <tr>\n      <th>201000978</th>\n      <td>1</td>\n      <td>0</td>\n      <td>0</td>\n      <td>1</td>\n    </tr>\n    <tr>\n      <th>201001417</th>\n      <td>1</td>\n      <td>0</td>\n      <td>0</td>\n      <td>1</td>\n    </tr>\n    <tr>\n      <th>201100645</th>\n      <td>2</td>\n      <td>2</td>\n      <td>1</td>\n      <td>1</td>\n    </tr>\n    <tr>\n      <th>210300104</th>\n      <td>1</td>\n      <td>0</td>\n      <td>0</td>\n      <td>1</td>\n    </tr>\n    <tr>\n      <th>...</th>\n      <th>...</th>\n      <td>...</td>\n      <td>...</td>\n      <td>...</td>\n      <td>...</td>\n    </tr>\n    <tr>\n      <th>14603</th>\n      <th>211200238</th>\n      <td>1</td>\n      <td>0</td>\n      <td>0</td>\n      <td>1</td>\n    </tr>\n    <tr>\n      <th>14641</th>\n      <th>220100097</th>\n      <td>1</td>\n      <td>0</td>\n      <td>0</td>\n      <td>1</td>\n    </tr>\n    <tr>\n      <th>14649</th>\n      <th>220100562</th>\n      <td>1</td>\n      <td>0</td>\n      <td>0</td>\n      <td>1</td>\n    </tr>\n    <tr>\n      <th>14663</th>\n      <th>220400287</th>\n      <td>1</td>\n      <td>0</td>\n      <td>0</td>\n      <td>1</td>\n    </tr>\n    <tr>\n      <th>14691</th>\n      <th>220200883</th>\n      <td>2</td>\n      <td>1</td>\n      <td>1</td>\n      <td>1</td>\n    </tr>\n  </tbody>\n</table>\n<p>1025 rows × 4 columns</p>\n</div>"
     },
     "execution_count": 25,
     "metadata": {},
     "output_type": "execute_result"
    }
   ],
   "source": [
    "grouped = df_lignes.loc[df_lignes['Type Menuiserie'] == 'MENREPLI'].groupby(['CodeClient','NCDE'])\n",
    "\n",
    "results = grouped[\"is_devis\", \"is_commande\"].sum()\n",
    "results['commande'] = 0\n",
    "results.loc[results['is_commande'] >0 , 'commande' ] = 1\n",
    "\n",
    "results['nego'] = 0\n",
    "results.loc[(results['commande']== 1) | (results['is_devis'] >0 ), 'nego' ] = 1\n",
    "\n",
    "results"
   ],
   "metadata": {
    "collapsed": false,
    "pycharm": {
     "name": "#%%\n"
    }
   }
  },
  {
   "cell_type": "markdown",
   "source": [],
   "metadata": {
    "collapsed": false,
    "pycharm": {
     "name": "#%% md\n"
    }
   }
  },
  {
   "cell_type": "code",
   "execution_count": 26,
   "outputs": [
    {
     "data": {
      "text/plain": "            is_devis  is_commande  commande  nego\nCodeClient                                       \n33                 8            2         1     7\n43                 3            0         0     2\n45                 2            0         0     1\n63                 2            0         0     2\n113                1            0         0     1\n...              ...          ...       ...   ...\n14603              3            0         0     2\n14641              1            0         0     1\n14649              1            0         0     1\n14663              1            0         0     1\n14691              2            1         1     1\n\n[376 rows x 4 columns]",
      "text/html": "<div>\n<style scoped>\n    .dataframe tbody tr th:only-of-type {\n        vertical-align: middle;\n    }\n\n    .dataframe tbody tr th {\n        vertical-align: top;\n    }\n\n    .dataframe thead th {\n        text-align: right;\n    }\n</style>\n<table border=\"1\" class=\"dataframe\">\n  <thead>\n    <tr style=\"text-align: right;\">\n      <th></th>\n      <th>is_devis</th>\n      <th>is_commande</th>\n      <th>commande</th>\n      <th>nego</th>\n    </tr>\n    <tr>\n      <th>CodeClient</th>\n      <th></th>\n      <th></th>\n      <th></th>\n      <th></th>\n    </tr>\n  </thead>\n  <tbody>\n    <tr>\n      <th>33</th>\n      <td>8</td>\n      <td>2</td>\n      <td>1</td>\n      <td>7</td>\n    </tr>\n    <tr>\n      <th>43</th>\n      <td>3</td>\n      <td>0</td>\n      <td>0</td>\n      <td>2</td>\n    </tr>\n    <tr>\n      <th>45</th>\n      <td>2</td>\n      <td>0</td>\n      <td>0</td>\n      <td>1</td>\n    </tr>\n    <tr>\n      <th>63</th>\n      <td>2</td>\n      <td>0</td>\n      <td>0</td>\n      <td>2</td>\n    </tr>\n    <tr>\n      <th>113</th>\n      <td>1</td>\n      <td>0</td>\n      <td>0</td>\n      <td>1</td>\n    </tr>\n    <tr>\n      <th>...</th>\n      <td>...</td>\n      <td>...</td>\n      <td>...</td>\n      <td>...</td>\n    </tr>\n    <tr>\n      <th>14603</th>\n      <td>3</td>\n      <td>0</td>\n      <td>0</td>\n      <td>2</td>\n    </tr>\n    <tr>\n      <th>14641</th>\n      <td>1</td>\n      <td>0</td>\n      <td>0</td>\n      <td>1</td>\n    </tr>\n    <tr>\n      <th>14649</th>\n      <td>1</td>\n      <td>0</td>\n      <td>0</td>\n      <td>1</td>\n    </tr>\n    <tr>\n      <th>14663</th>\n      <td>1</td>\n      <td>0</td>\n      <td>0</td>\n      <td>1</td>\n    </tr>\n    <tr>\n      <th>14691</th>\n      <td>2</td>\n      <td>1</td>\n      <td>1</td>\n      <td>1</td>\n    </tr>\n  </tbody>\n</table>\n<p>376 rows × 4 columns</p>\n</div>"
     },
     "execution_count": 26,
     "metadata": {},
     "output_type": "execute_result"
    }
   ],
   "source": [
    "result = results.groupby(['CodeClient']).sum()\n",
    "\n",
    "result"
   ],
   "metadata": {
    "collapsed": false,
    "pycharm": {
     "name": "#%%\n"
    }
   }
  },
  {
   "cell_type": "markdown",
   "source": [
    "# calcul transformation"
   ],
   "metadata": {
    "collapsed": false,
    "pycharm": {
     "name": "#%% md\n"
    }
   }
  },
  {
   "cell_type": "code",
   "execution_count": 27,
   "outputs": [
    {
     "data": {
      "text/plain": "            is_devis  is_commande  commande  nego  transform\nCodeClient                                                  \n33                 8            2         1     7   0.142857\n43                 3            0         0     2   0.000000\n45                 2            0         0     1   0.000000\n63                 2            0         0     2   0.000000\n113                1            0         0     1   0.000000\n...              ...          ...       ...   ...        ...\n14603              3            0         0     2   0.000000\n14641              1            0         0     1   0.000000\n14649              1            0         0     1   0.000000\n14663              1            0         0     1   0.000000\n14691              2            1         1     1   1.000000\n\n[376 rows x 5 columns]",
      "text/html": "<div>\n<style scoped>\n    .dataframe tbody tr th:only-of-type {\n        vertical-align: middle;\n    }\n\n    .dataframe tbody tr th {\n        vertical-align: top;\n    }\n\n    .dataframe thead th {\n        text-align: right;\n    }\n</style>\n<table border=\"1\" class=\"dataframe\">\n  <thead>\n    <tr style=\"text-align: right;\">\n      <th></th>\n      <th>is_devis</th>\n      <th>is_commande</th>\n      <th>commande</th>\n      <th>nego</th>\n      <th>transform</th>\n    </tr>\n    <tr>\n      <th>CodeClient</th>\n      <th></th>\n      <th></th>\n      <th></th>\n      <th></th>\n      <th></th>\n    </tr>\n  </thead>\n  <tbody>\n    <tr>\n      <th>33</th>\n      <td>8</td>\n      <td>2</td>\n      <td>1</td>\n      <td>7</td>\n      <td>0.142857</td>\n    </tr>\n    <tr>\n      <th>43</th>\n      <td>3</td>\n      <td>0</td>\n      <td>0</td>\n      <td>2</td>\n      <td>0.000000</td>\n    </tr>\n    <tr>\n      <th>45</th>\n      <td>2</td>\n      <td>0</td>\n      <td>0</td>\n      <td>1</td>\n      <td>0.000000</td>\n    </tr>\n    <tr>\n      <th>63</th>\n      <td>2</td>\n      <td>0</td>\n      <td>0</td>\n      <td>2</td>\n      <td>0.000000</td>\n    </tr>\n    <tr>\n      <th>113</th>\n      <td>1</td>\n      <td>0</td>\n      <td>0</td>\n      <td>1</td>\n      <td>0.000000</td>\n    </tr>\n    <tr>\n      <th>...</th>\n      <td>...</td>\n      <td>...</td>\n      <td>...</td>\n      <td>...</td>\n      <td>...</td>\n    </tr>\n    <tr>\n      <th>14603</th>\n      <td>3</td>\n      <td>0</td>\n      <td>0</td>\n      <td>2</td>\n      <td>0.000000</td>\n    </tr>\n    <tr>\n      <th>14641</th>\n      <td>1</td>\n      <td>0</td>\n      <td>0</td>\n      <td>1</td>\n      <td>0.000000</td>\n    </tr>\n    <tr>\n      <th>14649</th>\n      <td>1</td>\n      <td>0</td>\n      <td>0</td>\n      <td>1</td>\n      <td>0.000000</td>\n    </tr>\n    <tr>\n      <th>14663</th>\n      <td>1</td>\n      <td>0</td>\n      <td>0</td>\n      <td>1</td>\n      <td>0.000000</td>\n    </tr>\n    <tr>\n      <th>14691</th>\n      <td>2</td>\n      <td>1</td>\n      <td>1</td>\n      <td>1</td>\n      <td>1.000000</td>\n    </tr>\n  </tbody>\n</table>\n<p>376 rows × 5 columns</p>\n</div>"
     },
     "execution_count": 27,
     "metadata": {},
     "output_type": "execute_result"
    }
   ],
   "source": [
    "result['transform'] = result['commande'] / result['nego']\n",
    "\n",
    "result"
   ],
   "metadata": {
    "collapsed": false,
    "pycharm": {
     "name": "#%%\n"
    }
   }
  },
  {
   "cell_type": "code",
   "execution_count": 28,
   "outputs": [
    {
     "name": "stdout",
     "output_type": "stream",
     "text": [
      "transform <= 0.2\n"
     ]
    },
    {
     "data": {
      "text/plain": "            is_devis  is_commande  commande  nego  transform\nCodeClient                                                  \n33                 8            2         1     7   0.142857\n43                 3            0         0     2   0.000000\n45                 2            0         0     1   0.000000\n63                 2            0         0     2   0.000000\n113                1            0         0     1   0.000000\n...              ...          ...       ...   ...        ...\n14581              2            0         0     1   0.000000\n14603              3            0         0     2   0.000000\n14641              1            0         0     1   0.000000\n14649              1            0         0     1   0.000000\n14663              1            0         0     1   0.000000\n\n[346 rows x 5 columns]",
      "text/html": "<div>\n<style scoped>\n    .dataframe tbody tr th:only-of-type {\n        vertical-align: middle;\n    }\n\n    .dataframe tbody tr th {\n        vertical-align: top;\n    }\n\n    .dataframe thead th {\n        text-align: right;\n    }\n</style>\n<table border=\"1\" class=\"dataframe\">\n  <thead>\n    <tr style=\"text-align: right;\">\n      <th></th>\n      <th>is_devis</th>\n      <th>is_commande</th>\n      <th>commande</th>\n      <th>nego</th>\n      <th>transform</th>\n    </tr>\n    <tr>\n      <th>CodeClient</th>\n      <th></th>\n      <th></th>\n      <th></th>\n      <th></th>\n      <th></th>\n    </tr>\n  </thead>\n  <tbody>\n    <tr>\n      <th>33</th>\n      <td>8</td>\n      <td>2</td>\n      <td>1</td>\n      <td>7</td>\n      <td>0.142857</td>\n    </tr>\n    <tr>\n      <th>43</th>\n      <td>3</td>\n      <td>0</td>\n      <td>0</td>\n      <td>2</td>\n      <td>0.000000</td>\n    </tr>\n    <tr>\n      <th>45</th>\n      <td>2</td>\n      <td>0</td>\n      <td>0</td>\n      <td>1</td>\n      <td>0.000000</td>\n    </tr>\n    <tr>\n      <th>63</th>\n      <td>2</td>\n      <td>0</td>\n      <td>0</td>\n      <td>2</td>\n      <td>0.000000</td>\n    </tr>\n    <tr>\n      <th>113</th>\n      <td>1</td>\n      <td>0</td>\n      <td>0</td>\n      <td>1</td>\n      <td>0.000000</td>\n    </tr>\n    <tr>\n      <th>...</th>\n      <td>...</td>\n      <td>...</td>\n      <td>...</td>\n      <td>...</td>\n      <td>...</td>\n    </tr>\n    <tr>\n      <th>14581</th>\n      <td>2</td>\n      <td>0</td>\n      <td>0</td>\n      <td>1</td>\n      <td>0.000000</td>\n    </tr>\n    <tr>\n      <th>14603</th>\n      <td>3</td>\n      <td>0</td>\n      <td>0</td>\n      <td>2</td>\n      <td>0.000000</td>\n    </tr>\n    <tr>\n      <th>14641</th>\n      <td>1</td>\n      <td>0</td>\n      <td>0</td>\n      <td>1</td>\n      <td>0.000000</td>\n    </tr>\n    <tr>\n      <th>14649</th>\n      <td>1</td>\n      <td>0</td>\n      <td>0</td>\n      <td>1</td>\n      <td>0.000000</td>\n    </tr>\n    <tr>\n      <th>14663</th>\n      <td>1</td>\n      <td>0</td>\n      <td>0</td>\n      <td>1</td>\n      <td>0.000000</td>\n    </tr>\n  </tbody>\n</table>\n<p>346 rows × 5 columns</p>\n</div>"
     },
     "execution_count": 28,
     "metadata": {},
     "output_type": "execute_result"
    }
   ],
   "source": [
    "print(f'transform <= {indice}')\n",
    "\n",
    "result.loc[ result['transform'] <= indice]"
   ],
   "metadata": {
    "collapsed": false,
    "pycharm": {
     "name": "#%%\n"
    }
   }
  },
  {
   "cell_type": "code",
   "execution_count": 29,
   "outputs": [
    {
     "data": {
      "text/plain": "<AxesSubplot:ylabel='Frequency'>"
     },
     "execution_count": 29,
     "metadata": {},
     "output_type": "execute_result"
    },
    {
     "data": {
      "text/plain": "<Figure size 720x720 with 1 Axes>",
      "image/png": "[encoded data removed]"
     },
     "metadata": {
      "needs_background": "light"
     },
     "output_type": "display_data"
    }
   ],
   "source": [
    "result['transform'].plot(kind=\"hist\", figsize=(10,10))"
   ],
   "metadata": {
    "collapsed": false,
    "pycharm": {
     "name": "#%%\n"
    }
   }
  },
  {
   "cell_type": "code",
   "execution_count": 30,
   "outputs": [
    {
     "data": {
      "text/plain": "376"
     },
     "execution_count": 30,
     "metadata": {},
     "output_type": "execute_result"
    }
   ],
   "source": [
    "result['transform'].shape[0]"
   ],
   "metadata": {
    "collapsed": false,
    "pycharm": {
     "name": "#%%\n"
    }
   }
  },
  {
   "cell_type": "code",
   "execution_count": 31,
   "outputs": [
    {
     "data": {
      "text/plain": "222"
     },
     "execution_count": 31,
     "metadata": {},
     "output_type": "execute_result"
    }
   ],
   "source": [
    "result.loc[(result['is_commande'] == 0)&(result[\"nego\"] == 1), \"transform\"].shape[0]"
   ],
   "metadata": {
    "collapsed": false,
    "pycharm": {
     "name": "#%%\n"
    }
   }
  },
  {
   "cell_type": "markdown",
   "source": [
    "# groupby clientCode avec PVC"
   ],
   "metadata": {
    "collapsed": false,
    "pycharm": {
     "name": "#%% md\n"
    }
   }
  },
  {
   "cell_type": "code",
   "execution_count": 32,
   "outputs": [
    {
     "data": {
      "text/plain": "CodeClient  NCDE       year\n1           181000520  2018    0\n            200601158  2020    1\n            201100097  2020    0\n            210600527  2021    1\n            220200978  2022    3\n                              ..\n14737       220301561  2022    0\n14738       220301398  2022    1\n14739       220400058  2022    0\n14743       220400381  2022    0\n14751       220400302  2022    0\nName: is_commande, Length: 14753, dtype: int64"
     },
     "execution_count": 32,
     "metadata": {},
     "output_type": "execute_result"
    }
   ],
   "source": [
    "df_pvc = df_lignes.loc[df_lignes['Gestionnaire'] == 'PVC']\n",
    "grouped = df_pvc.groupby(['CodeClient','NCDE', 'year'])\n",
    "\n",
    "results = grouped[\"is_commande\"].sum()\n",
    "\n",
    "results"
   ],
   "metadata": {
    "collapsed": false,
    "pycharm": {
     "name": "#%%\n"
    }
   }
  },
  {
   "cell_type": "code",
   "execution_count": 33,
   "outputs": [
    {
     "data": {
      "text/plain": "CodeClient  year\n1           2018    0\n            2020    1\n            2021    1\n            2022    3\n3           2019    0\n                   ..\n14737       2022    0\n14738       2022    1\n14739       2022    0\n14743       2022    0\n14751       2022    0\nName: is_commande, Length: 5468, dtype: int64"
     },
     "execution_count": 33,
     "metadata": {},
     "output_type": "execute_result"
    }
   ],
   "source": [
    "result = results.groupby(['CodeClient','year']).sum()\n",
    "\n",
    "result"
   ],
   "metadata": {
    "collapsed": false,
    "pycharm": {
     "name": "#%%\n"
    }
   }
  },
  {
   "cell_type": "code",
   "execution_count": 34,
   "outputs": [
    {
     "data": {
      "text/plain": "      CodeClient  year  is_commande\n0              1  2018            0\n1              1  2020            1\n2              1  2021            1\n3              1  2022            3\n4              3  2019            0\n...          ...   ...          ...\n5463       14737  2022            0\n5464       14738  2022            1\n5465       14739  2022            0\n5466       14743  2022            0\n5467       14751  2022            0\n\n[5468 rows x 3 columns]",
      "text/html": "<div>\n<style scoped>\n    .dataframe tbody tr th:only-of-type {\n        vertical-align: middle;\n    }\n\n    .dataframe tbody tr th {\n        vertical-align: top;\n    }\n\n    .dataframe thead th {\n        text-align: right;\n    }\n</style>\n<table border=\"1\" class=\"dataframe\">\n  <thead>\n    <tr style=\"text-align: right;\">\n      <th></th>\n      <th>CodeClient</th>\n      <th>year</th>\n      <th>is_commande</th>\n    </tr>\n  </thead>\n  <tbody>\n    <tr>\n      <th>0</th>\n      <td>1</td>\n      <td>2018</td>\n      <td>0</td>\n    </tr>\n    <tr>\n      <th>1</th>\n      <td>1</td>\n      <td>2020</td>\n      <td>1</td>\n    </tr>\n    <tr>\n      <th>2</th>\n      <td>1</td>\n      <td>2021</td>\n      <td>1</td>\n    </tr>\n    <tr>\n      <th>3</th>\n      <td>1</td>\n      <td>2022</td>\n      <td>3</td>\n    </tr>\n    <tr>\n      <th>4</th>\n      <td>3</td>\n      <td>2019</td>\n      <td>0</td>\n    </tr>\n    <tr>\n      <th>...</th>\n      <td>...</td>\n      <td>...</td>\n      <td>...</td>\n    </tr>\n    <tr>\n      <th>5463</th>\n      <td>14737</td>\n      <td>2022</td>\n      <td>0</td>\n    </tr>\n    <tr>\n      <th>5464</th>\n      <td>14738</td>\n      <td>2022</td>\n      <td>1</td>\n    </tr>\n    <tr>\n      <th>5465</th>\n      <td>14739</td>\n      <td>2022</td>\n      <td>0</td>\n    </tr>\n    <tr>\n      <th>5466</th>\n      <td>14743</td>\n      <td>2022</td>\n      <td>0</td>\n    </tr>\n    <tr>\n      <th>5467</th>\n      <td>14751</td>\n      <td>2022</td>\n      <td>0</td>\n    </tr>\n  </tbody>\n</table>\n<p>5468 rows × 3 columns</p>\n</div>"
     },
     "execution_count": 34,
     "metadata": {},
     "output_type": "execute_result"
    }
   ],
   "source": [
    "result = result.reset_index()\n",
    "result"
   ],
   "metadata": {
    "collapsed": false,
    "pycharm": {
     "name": "#%%\n"
    }
   }
  },
  {
   "cell_type": "code",
   "execution_count": 35,
   "outputs": [
    {
     "data": {
      "text/plain": "year        2018  2019  2020  2021  2022\nCodeClient                              \n1            0.0   0.0   1.0   1.0   3.0\n3            0.0   0.0   0.0   4.0   0.0\n16           0.0   0.0   0.0   0.0   0.0\n22           0.0   0.0   0.0   0.0   0.0\n24           0.0   0.0   0.0   2.0   0.0\n...          ...   ...   ...   ...   ...\n14737        0.0   0.0   0.0   0.0   0.0\n14738        0.0   0.0   0.0   0.0   1.0\n14739        0.0   0.0   0.0   0.0   0.0\n14743        0.0   0.0   0.0   0.0   0.0\n14751        0.0   0.0   0.0   0.0   0.0\n\n[2686 rows x 5 columns]",
      "text/html": "<div>\n<style scoped>\n    .dataframe tbody tr th:only-of-type {\n        vertical-align: middle;\n    }\n\n    .dataframe tbody tr th {\n        vertical-align: top;\n    }\n\n    .dataframe thead th {\n        text-align: right;\n    }\n</style>\n<table border=\"1\" class=\"dataframe\">\n  <thead>\n    <tr style=\"text-align: right;\">\n      <th>year</th>\n      <th>2018</th>\n      <th>2019</th>\n      <th>2020</th>\n      <th>2021</th>\n      <th>2022</th>\n    </tr>\n    <tr>\n      <th>CodeClient</th>\n      <th></th>\n      <th></th>\n      <th></th>\n      <th></th>\n      <th></th>\n    </tr>\n  </thead>\n  <tbody>\n    <tr>\n      <th>1</th>\n      <td>0.0</td>\n      <td>0.0</td>\n      <td>1.0</td>\n      <td>1.0</td>\n      <td>3.0</td>\n    </tr>\n    <tr>\n      <th>3</th>\n      <td>0.0</td>\n      <td>0.0</td>\n      <td>0.0</td>\n      <td>4.0</td>\n      <td>0.0</td>\n    </tr>\n    <tr>\n      <th>16</th>\n      <td>0.0</td>\n      <td>0.0</td>\n      <td>0.0</td>\n      <td>0.0</td>\n      <td>0.0</td>\n    </tr>\n    <tr>\n      <th>22</th>\n      <td>0.0</td>\n      <td>0.0</td>\n      <td>0.0</td>\n      <td>0.0</td>\n      <td>0.0</td>\n    </tr>\n    <tr>\n      <th>24</th>\n      <td>0.0</td>\n      <td>0.0</td>\n      <td>0.0</td>\n      <td>2.0</td>\n      <td>0.0</td>\n    </tr>\n    <tr>\n      <th>...</th>\n      <td>...</td>\n      <td>...</td>\n      <td>...</td>\n      <td>...</td>\n      <td>...</td>\n    </tr>\n    <tr>\n      <th>14737</th>\n      <td>0.0</td>\n      <td>0.0</td>\n      <td>0.0</td>\n      <td>0.0</td>\n      <td>0.0</td>\n    </tr>\n    <tr>\n      <th>14738</th>\n      <td>0.0</td>\n      <td>0.0</td>\n      <td>0.0</td>\n      <td>0.0</td>\n      <td>1.0</td>\n    </tr>\n    <tr>\n      <th>14739</th>\n      <td>0.0</td>\n      <td>0.0</td>\n      <td>0.0</td>\n      <td>0.0</td>\n      <td>0.0</td>\n    </tr>\n    <tr>\n      <th>14743</th>\n      <td>0.0</td>\n      <td>0.0</td>\n      <td>0.0</td>\n      <td>0.0</td>\n      <td>0.0</td>\n    </tr>\n    <tr>\n      <th>14751</th>\n      <td>0.0</td>\n      <td>0.0</td>\n      <td>0.0</td>\n      <td>0.0</td>\n      <td>0.0</td>\n    </tr>\n  </tbody>\n</table>\n<p>2686 rows × 5 columns</p>\n</div>"
     },
     "execution_count": 35,
     "metadata": {},
     "output_type": "execute_result"
    }
   ],
   "source": [
    "pivot_result = pd.pivot_table(result, values='is_commande', index=['CodeClient'], columns=['year'])\n",
    "\n",
    "pivot_result = pivot_result.fillna(0)\n",
    "\n",
    "pivot_result"
   ],
   "metadata": {
    "collapsed": false,
    "pycharm": {
     "name": "#%%\n"
    }
   }
  },
  {
   "cell_type": "code",
   "execution_count": 36,
   "outputs": [],
   "source": [
    "pivot_result['18-19'] = pivot_result['2019'] - pivot_result['2018']\n",
    "pivot_result['19-20'] = pivot_result['2020'] - pivot_result['2019']\n",
    "pivot_result['20-21'] = pivot_result['2021'] - pivot_result['2020']\n",
    "pivot_result['21-22'] = pivot_result['2022'] - pivot_result['2021']"
   ],
   "metadata": {
    "collapsed": false,
    "pycharm": {
     "name": "#%%\n"
    }
   }
  },
  {
   "cell_type": "markdown",
   "source": [
    "# le meilleure client"
   ],
   "metadata": {
    "collapsed": false,
    "pycharm": {
     "name": "#%% md\n"
    }
   }
  },
  {
   "cell_type": "code",
   "execution_count": 37,
   "outputs": [
    {
     "data": {
      "text/plain": "year        2018  2019  2020  2021  2022  18-19  19-20  20-21  21-22\nCodeClient                                                          \n239          2.0   1.0   2.0  27.0   2.0   -1.0    1.0   25.0  -25.0\n10040        0.0   0.0   0.0  21.0   0.0    0.0    0.0   21.0  -21.0\n5181         0.0   0.0   0.0  14.0   0.0    0.0    0.0   14.0  -14.0\n915          9.0  10.0   6.0  19.0  10.0    1.0   -4.0   13.0   -9.0\n12281        0.0   0.0   7.0  20.0   0.0    0.0    7.0   13.0  -20.0\n...          ...   ...   ...   ...   ...    ...    ...    ...    ...\n3431        14.0   7.0  20.0  10.0   2.0   -7.0   13.0  -10.0   -8.0\n953          0.0   5.0  12.0   2.0   3.0    5.0    7.0  -10.0    1.0\n1618         1.0   4.0  16.0   3.0   0.0    3.0   12.0  -13.0   -3.0\n9900         1.0   1.0  20.0   7.0   0.0    0.0   19.0  -13.0   -7.0\n3820         3.0  14.0  18.0   1.0   0.0   11.0    4.0  -17.0   -1.0\n\n[2686 rows x 9 columns]",
      "text/html": "<div>\n<style scoped>\n    .dataframe tbody tr th:only-of-type {\n        vertical-align: middle;\n    }\n\n    .dataframe tbody tr th {\n        vertical-align: top;\n    }\n\n    .dataframe thead th {\n        text-align: right;\n    }\n</style>\n<table border=\"1\" class=\"dataframe\">\n  <thead>\n    <tr style=\"text-align: right;\">\n      <th>year</th>\n      <th>2018</th>\n      <th>2019</th>\n      <th>2020</th>\n      <th>2021</th>\n      <th>2022</th>\n      <th>18-19</th>\n      <th>19-20</th>\n      <th>20-21</th>\n      <th>21-22</th>\n    </tr>\n    <tr>\n      <th>CodeClient</th>\n      <th></th>\n      <th></th>\n      <th></th>\n      <th></th>\n      <th></th>\n      <th></th>\n      <th></th>\n      <th></th>\n      <th></th>\n    </tr>\n  </thead>\n  <tbody>\n    <tr>\n      <th>239</th>\n      <td>2.0</td>\n      <td>1.0</td>\n      <td>2.0</td>\n      <td>27.0</td>\n      <td>2.0</td>\n      <td>-1.0</td>\n      <td>1.0</td>\n      <td>25.0</td>\n      <td>-25.0</td>\n    </tr>\n    <tr>\n      <th>10040</th>\n      <td>0.0</td>\n      <td>0.0</td>\n      <td>0.0</td>\n      <td>21.0</td>\n      <td>0.0</td>\n      <td>0.0</td>\n      <td>0.0</td>\n      <td>21.0</td>\n      <td>-21.0</td>\n    </tr>\n    <tr>\n      <th>5181</th>\n      <td>0.0</td>\n      <td>0.0</td>\n      <td>0.0</td>\n      <td>14.0</td>\n      <td>0.0</td>\n      <td>0.0</td>\n      <td>0.0</td>\n      <td>14.0</td>\n      <td>-14.0</td>\n    </tr>\n    <tr>\n      <th>915</th>\n      <td>9.0</td>\n      <td>10.0</td>\n      <td>6.0</td>\n      <td>19.0</td>\n      <td>10.0</td>\n      <td>1.0</td>\n      <td>-4.0</td>\n      <td>13.0</td>\n      <td>-9.0</td>\n    </tr>\n    <tr>\n      <th>12281</th>\n      <td>0.0</td>\n      <td>0.0</td>\n      <td>7.0</td>\n      <td>20.0</td>\n      <td>0.0</td>\n      <td>0.0</td>\n      <td>7.0</td>\n      <td>13.0</td>\n      <td>-20.0</td>\n    </tr>\n    <tr>\n      <th>...</th>\n      <td>...</td>\n      <td>...</td>\n      <td>...</td>\n      <td>...</td>\n      <td>...</td>\n      <td>...</td>\n      <td>...</td>\n      <td>...</td>\n      <td>...</td>\n    </tr>\n    <tr>\n      <th>3431</th>\n      <td>14.0</td>\n      <td>7.0</td>\n      <td>20.0</td>\n      <td>10.0</td>\n      <td>2.0</td>\n      <td>-7.0</td>\n      <td>13.0</td>\n      <td>-10.0</td>\n      <td>-8.0</td>\n    </tr>\n    <tr>\n      <th>953</th>\n      <td>0.0</td>\n      <td>5.0</td>\n      <td>12.0</td>\n      <td>2.0</td>\n      <td>3.0</td>\n      <td>5.0</td>\n      <td>7.0</td>\n      <td>-10.0</td>\n      <td>1.0</td>\n    </tr>\n    <tr>\n      <th>1618</th>\n      <td>1.0</td>\n      <td>4.0</td>\n      <td>16.0</td>\n      <td>3.0</td>\n      <td>0.0</td>\n      <td>3.0</td>\n      <td>12.0</td>\n      <td>-13.0</td>\n      <td>-3.0</td>\n    </tr>\n    <tr>\n      <th>9900</th>\n      <td>1.0</td>\n      <td>1.0</td>\n      <td>20.0</td>\n      <td>7.0</td>\n      <td>0.0</td>\n      <td>0.0</td>\n      <td>19.0</td>\n      <td>-13.0</td>\n      <td>-7.0</td>\n    </tr>\n    <tr>\n      <th>3820</th>\n      <td>3.0</td>\n      <td>14.0</td>\n      <td>18.0</td>\n      <td>1.0</td>\n      <td>0.0</td>\n      <td>11.0</td>\n      <td>4.0</td>\n      <td>-17.0</td>\n      <td>-1.0</td>\n    </tr>\n  </tbody>\n</table>\n<p>2686 rows × 9 columns</p>\n</div>"
     },
     "execution_count": 37,
     "metadata": {},
     "output_type": "execute_result"
    }
   ],
   "source": [
    "pivot_result.sort_values(by=['20-21'], ascending=False)"
   ],
   "metadata": {
    "collapsed": false,
    "pycharm": {
     "name": "#%%\n"
    }
   }
  },
  {
   "cell_type": "markdown",
   "source": [
    "# le pire client"
   ],
   "metadata": {
    "collapsed": false,
    "pycharm": {
     "name": "#%% md\n"
    }
   }
  },
  {
   "cell_type": "code",
   "execution_count": 38,
   "outputs": [
    {
     "data": {
      "text/plain": "year        2018  2019  2020  2021  2022  18-19  19-20  20-21  21-22\nCodeClient                                                          \n3820         3.0  14.0  18.0   1.0   0.0   11.0    4.0  -17.0   -1.0\n1618         1.0   4.0  16.0   3.0   0.0    3.0   12.0  -13.0   -3.0\n9900         1.0   1.0  20.0   7.0   0.0    0.0   19.0  -13.0   -7.0\n953          0.0   5.0  12.0   2.0   3.0    5.0    7.0  -10.0    1.0\n3431        14.0   7.0  20.0  10.0   2.0   -7.0   13.0  -10.0   -8.0\n...          ...   ...   ...   ...   ...    ...    ...    ...    ...\n14166        0.0   0.0   0.0  13.0   2.0    0.0    0.0   13.0  -11.0\n915          9.0  10.0   6.0  19.0  10.0    1.0   -4.0   13.0   -9.0\n5181         0.0   0.0   0.0  14.0   0.0    0.0    0.0   14.0  -14.0\n10040        0.0   0.0   0.0  21.0   0.0    0.0    0.0   21.0  -21.0\n239          2.0   1.0   2.0  27.0   2.0   -1.0    1.0   25.0  -25.0\n\n[2686 rows x 9 columns]",
      "text/html": "<div>\n<style scoped>\n    .dataframe tbody tr th:only-of-type {\n        vertical-align: middle;\n    }\n\n    .dataframe tbody tr th {\n        vertical-align: top;\n    }\n\n    .dataframe thead th {\n        text-align: right;\n    }\n</style>\n<table border=\"1\" class=\"dataframe\">\n  <thead>\n    <tr style=\"text-align: right;\">\n      <th>year</th>\n      <th>2018</th>\n      <th>2019</th>\n      <th>2020</th>\n      <th>2021</th>\n      <th>2022</th>\n      <th>18-19</th>\n      <th>19-20</th>\n      <th>20-21</th>\n      <th>21-22</th>\n    </tr>\n    <tr>\n      <th>CodeClient</th>\n      <th></th>\n      <th></th>\n      <th></th>\n      <th></th>\n      <th></th>\n      <th></th>\n      <th></th>\n      <th></th>\n      <th></th>\n    </tr>\n  </thead>\n  <tbody>\n    <tr>\n      <th>3820</th>\n      <td>3.0</td>\n      <td>14.0</td>\n      <td>18.0</td>\n      <td>1.0</td>\n      <td>0.0</td>\n      <td>11.0</td>\n      <td>4.0</td>\n      <td>-17.0</td>\n      <td>-1.0</td>\n    </tr>\n    <tr>\n      <th>1618</th>\n      <td>1.0</td>\n      <td>4.0</td>\n      <td>16.0</td>\n      <td>3.0</td>\n      <td>0.0</td>\n      <td>3.0</td>\n      <td>12.0</td>\n      <td>-13.0</td>\n      <td>-3.0</td>\n    </tr>\n    <tr>\n      <th>9900</th>\n      <td>1.0</td>\n      <td>1.0</td>\n      <td>20.0</td>\n      <td>7.0</td>\n      <td>0.0</td>\n      <td>0.0</td>\n      <td>19.0</td>\n      <td>-13.0</td>\n      <td>-7.0</td>\n    </tr>\n    <tr>\n      <th>953</th>\n      <td>0.0</td>\n      <td>5.0</td>\n      <td>12.0</td>\n      <td>2.0</td>\n      <td>3.0</td>\n      <td>5.0</td>\n      <td>7.0</td>\n      <td>-10.0</td>\n      <td>1.0</td>\n    </tr>\n    <tr>\n      <th>3431</th>\n      <td>14.0</td>\n      <td>7.0</td>\n      <td>20.0</td>\n      <td>10.0</td>\n      <td>2.0</td>\n      <td>-7.0</td>\n      <td>13.0</td>\n      <td>-10.0</td>\n      <td>-8.0</td>\n    </tr>\n    <tr>\n      <th>...</th>\n      <td>...</td>\n      <td>...</td>\n      <td>...</td>\n      <td>...</td>\n      <td>...</td>\n      <td>...</td>\n      <td>...</td>\n      <td>...</td>\n      <td>...</td>\n    </tr>\n    <tr>\n      <th>14166</th>\n      <td>0.0</td>\n      <td>0.0</td>\n      <td>0.0</td>\n      <td>13.0</td>\n      <td>2.0</td>\n      <td>0.0</td>\n      <td>0.0</td>\n      <td>13.0</td>\n      <td>-11.0</td>\n    </tr>\n    <tr>\n      <th>915</th>\n      <td>9.0</td>\n      <td>10.0</td>\n      <td>6.0</td>\n      <td>19.0</td>\n      <td>10.0</td>\n      <td>1.0</td>\n      <td>-4.0</td>\n      <td>13.0</td>\n      <td>-9.0</td>\n    </tr>\n    <tr>\n      <th>5181</th>\n      <td>0.0</td>\n      <td>0.0</td>\n      <td>0.0</td>\n      <td>14.0</td>\n      <td>0.0</td>\n      <td>0.0</td>\n      <td>0.0</td>\n      <td>14.0</td>\n      <td>-14.0</td>\n    </tr>\n    <tr>\n      <th>10040</th>\n      <td>0.0</td>\n      <td>0.0</td>\n      <td>0.0</td>\n      <td>21.0</td>\n      <td>0.0</td>\n      <td>0.0</td>\n      <td>0.0</td>\n      <td>21.0</td>\n      <td>-21.0</td>\n    </tr>\n    <tr>\n      <th>239</th>\n      <td>2.0</td>\n      <td>1.0</td>\n      <td>2.0</td>\n      <td>27.0</td>\n      <td>2.0</td>\n      <td>-1.0</td>\n      <td>1.0</td>\n      <td>25.0</td>\n      <td>-25.0</td>\n    </tr>\n  </tbody>\n</table>\n<p>2686 rows × 9 columns</p>\n</div>"
     },
     "execution_count": 38,
     "metadata": {},
     "output_type": "execute_result"
    }
   ],
   "source": [
    "pivot_result.sort_values(by=['20-21'], ascending=True)"
   ],
   "metadata": {
    "collapsed": false,
    "pycharm": {
     "name": "#%%\n"
    }
   }
  },
  {
   "cell_type": "markdown",
   "source": [],
   "metadata": {
    "collapsed": false,
    "pycharm": {
     "name": "#%% md\n"
    }
   },
   "outputs": []
  },
  {
   "cell_type": "code",
   "execution_count": 39,
   "outputs": [
    {
     "data": {
      "text/plain": "array([<AxesSubplot:ylabel='Frequency'>, <AxesSubplot:ylabel='Frequency'>,\n       <AxesSubplot:ylabel='Frequency'>, <AxesSubplot:ylabel='Frequency'>],\n      dtype=object)"
     },
     "execution_count": 39,
     "metadata": {},
     "output_type": "execute_result"
    },
    {
     "data": {
      "text/plain": "<Figure size 720x720 with 4 Axes>",
      "image/png": "[encoded data removed]"
     },
     "metadata": {
      "needs_background": "light"
     },
     "output_type": "display_data"
    }
   ],
   "source": [
    "pivot_result.loc[:, ['18-19','19-20','20-21','21-22']].plot(kind=\"hist\", figsize=(10,10), subplots=True)"
   ],
   "metadata": {
    "collapsed": false,
    "pycharm": {
     "name": "#%%\n"
    }
   }
  },
  {
   "cell_type": "markdown",
   "source": [],
   "metadata": {
    "collapsed": false,
    "pycharm": {
     "name": "#%% md\n"
    }
   }
  },
  {
   "cell_type": "code",
   "execution_count": 40,
   "outputs": [
    {
     "data": {
      "text/plain": "year        2018  2019  2020  2021  2022  18-19  19-20  20-21  21-22\nCodeClient                                                          \n239          2.0   1.0   2.0  27.0   2.0   -1.0    1.0   25.0  -25.0\n10040        0.0   0.0   0.0  21.0   0.0    0.0    0.0   21.0  -21.0\n5181         0.0   0.0   0.0  14.0   0.0    0.0    0.0   14.0  -14.0\n915          9.0  10.0   6.0  19.0  10.0    1.0   -4.0   13.0   -9.0\n12281        0.0   0.0   7.0  20.0   0.0    0.0    7.0   13.0  -20.0",
      "text/html": "<div>\n<style scoped>\n    .dataframe tbody tr th:only-of-type {\n        vertical-align: middle;\n    }\n\n    .dataframe tbody tr th {\n        vertical-align: top;\n    }\n\n    .dataframe thead th {\n        text-align: right;\n    }\n</style>\n<table border=\"1\" class=\"dataframe\">\n  <thead>\n    <tr style=\"text-align: right;\">\n      <th>year</th>\n      <th>2018</th>\n      <th>2019</th>\n      <th>2020</th>\n      <th>2021</th>\n      <th>2022</th>\n      <th>18-19</th>\n      <th>19-20</th>\n      <th>20-21</th>\n      <th>21-22</th>\n    </tr>\n    <tr>\n      <th>CodeClient</th>\n      <th></th>\n      <th></th>\n      <th></th>\n      <th></th>\n      <th></th>\n      <th></th>\n      <th></th>\n      <th></th>\n      <th></th>\n    </tr>\n  </thead>\n  <tbody>\n    <tr>\n      <th>239</th>\n      <td>2.0</td>\n      <td>1.0</td>\n      <td>2.0</td>\n      <td>27.0</td>\n      <td>2.0</td>\n      <td>-1.0</td>\n      <td>1.0</td>\n      <td>25.0</td>\n      <td>-25.0</td>\n    </tr>\n    <tr>\n      <th>10040</th>\n      <td>0.0</td>\n      <td>0.0</td>\n      <td>0.0</td>\n      <td>21.0</td>\n      <td>0.0</td>\n      <td>0.0</td>\n      <td>0.0</td>\n      <td>21.0</td>\n      <td>-21.0</td>\n    </tr>\n    <tr>\n      <th>5181</th>\n      <td>0.0</td>\n      <td>0.0</td>\n      <td>0.0</td>\n      <td>14.0</td>\n      <td>0.0</td>\n      <td>0.0</td>\n      <td>0.0</td>\n      <td>14.0</td>\n      <td>-14.0</td>\n    </tr>\n    <tr>\n      <th>915</th>\n      <td>9.0</td>\n      <td>10.0</td>\n      <td>6.0</td>\n      <td>19.0</td>\n      <td>10.0</td>\n      <td>1.0</td>\n      <td>-4.0</td>\n      <td>13.0</td>\n      <td>-9.0</td>\n    </tr>\n    <tr>\n      <th>12281</th>\n      <td>0.0</td>\n      <td>0.0</td>\n      <td>7.0</td>\n      <td>20.0</td>\n      <td>0.0</td>\n      <td>0.0</td>\n      <td>7.0</td>\n      <td>13.0</td>\n      <td>-20.0</td>\n    </tr>\n  </tbody>\n</table>\n</div>"
     },
     "execution_count": 40,
     "metadata": {},
     "output_type": "execute_result"
    }
   ],
   "source": [
    "top = pivot_result.sort_values(by=['20-21'], ascending=False).head(5)\n",
    "top"
   ],
   "metadata": {
    "collapsed": false,
    "pycharm": {
     "name": "#%%\n"
    }
   }
  },
  {
   "cell_type": "code",
   "execution_count": 41,
   "outputs": [
    {
     "data": {
      "text/plain": "year        2018  2019  2020  2021  2022  18-19  19-20  20-21  21-22\nCodeClient                                                          \n3820         3.0  14.0  18.0   1.0   0.0   11.0    4.0  -17.0   -1.0\n1618         1.0   4.0  16.0   3.0   0.0    3.0   12.0  -13.0   -3.0\n9900         1.0   1.0  20.0   7.0   0.0    0.0   19.0  -13.0   -7.0\n953          0.0   5.0  12.0   2.0   3.0    5.0    7.0  -10.0    1.0\n3431        14.0   7.0  20.0  10.0   2.0   -7.0   13.0  -10.0   -8.0",
      "text/html": "<div>\n<style scoped>\n    .dataframe tbody tr th:only-of-type {\n        vertical-align: middle;\n    }\n\n    .dataframe tbody tr th {\n        vertical-align: top;\n    }\n\n    .dataframe thead th {\n        text-align: right;\n    }\n</style>\n<table border=\"1\" class=\"dataframe\">\n  <thead>\n    <tr style=\"text-align: right;\">\n      <th>year</th>\n      <th>2018</th>\n      <th>2019</th>\n      <th>2020</th>\n      <th>2021</th>\n      <th>2022</th>\n      <th>18-19</th>\n      <th>19-20</th>\n      <th>20-21</th>\n      <th>21-22</th>\n    </tr>\n    <tr>\n      <th>CodeClient</th>\n      <th></th>\n      <th></th>\n      <th></th>\n      <th></th>\n      <th></th>\n      <th></th>\n      <th></th>\n      <th></th>\n      <th></th>\n    </tr>\n  </thead>\n  <tbody>\n    <tr>\n      <th>3820</th>\n      <td>3.0</td>\n      <td>14.0</td>\n      <td>18.0</td>\n      <td>1.0</td>\n      <td>0.0</td>\n      <td>11.0</td>\n      <td>4.0</td>\n      <td>-17.0</td>\n      <td>-1.0</td>\n    </tr>\n    <tr>\n      <th>1618</th>\n      <td>1.0</td>\n      <td>4.0</td>\n      <td>16.0</td>\n      <td>3.0</td>\n      <td>0.0</td>\n      <td>3.0</td>\n      <td>12.0</td>\n      <td>-13.0</td>\n      <td>-3.0</td>\n    </tr>\n    <tr>\n      <th>9900</th>\n      <td>1.0</td>\n      <td>1.0</td>\n      <td>20.0</td>\n      <td>7.0</td>\n      <td>0.0</td>\n      <td>0.0</td>\n      <td>19.0</td>\n      <td>-13.0</td>\n      <td>-7.0</td>\n    </tr>\n    <tr>\n      <th>953</th>\n      <td>0.0</td>\n      <td>5.0</td>\n      <td>12.0</td>\n      <td>2.0</td>\n      <td>3.0</td>\n      <td>5.0</td>\n      <td>7.0</td>\n      <td>-10.0</td>\n      <td>1.0</td>\n    </tr>\n    <tr>\n      <th>3431</th>\n      <td>14.0</td>\n      <td>7.0</td>\n      <td>20.0</td>\n      <td>10.0</td>\n      <td>2.0</td>\n      <td>-7.0</td>\n      <td>13.0</td>\n      <td>-10.0</td>\n      <td>-8.0</td>\n    </tr>\n  </tbody>\n</table>\n</div>"
     },
     "execution_count": 41,
     "metadata": {},
     "output_type": "execute_result"
    }
   ],
   "source": [
    "bottom = pivot_result.sort_values(by=['20-21'], ascending=True).head(5)\n",
    "bottom"
   ],
   "metadata": {
    "collapsed": false,
    "pycharm": {
     "name": "#%%\n"
    }
   }
  },
  {
   "cell_type": "code",
   "execution_count": 42,
   "outputs": [
    {
     "data": {
      "text/plain": "   number\n<     500\n>     452\n=    1734",
      "text/html": "<div>\n<style scoped>\n    .dataframe tbody tr th:only-of-type {\n        vertical-align: middle;\n    }\n\n    .dataframe tbody tr th {\n        vertical-align: top;\n    }\n\n    .dataframe thead th {\n        text-align: right;\n    }\n</style>\n<table border=\"1\" class=\"dataframe\">\n  <thead>\n    <tr style=\"text-align: right;\">\n      <th></th>\n      <th>number</th>\n    </tr>\n  </thead>\n  <tbody>\n    <tr>\n      <th>&lt;</th>\n      <td>500</td>\n    </tr>\n    <tr>\n      <th>&gt;</th>\n      <td>452</td>\n    </tr>\n    <tr>\n      <th>=</th>\n      <td>1734</td>\n    </tr>\n  </tbody>\n</table>\n</div>"
     },
     "execution_count": 42,
     "metadata": {},
     "output_type": "execute_result"
    }
   ],
   "source": [
    "df_result =pd.DataFrame(data=[pivot_result.loc[pivot_result[\"20-21\"]>0].shape[0],\n",
    "                   pivot_result.loc[pivot_result[\"20-21\"]<0].shape[0],\n",
    "                   pivot_result.loc[pivot_result[\"20-21\"]==0].shape[0]],index=[\"<\", \">\",\"=\"], columns=[\"number\"])\n",
    "df_result"
   ],
   "metadata": {
    "collapsed": false,
    "pycharm": {
     "name": "#%%\n"
    }
   }
  },
  {
   "cell_type": "code",
   "execution_count": 43,
   "outputs": [
    {
     "data": {
      "text/plain": "-1.0     276\n-2.0      94\n-3.0      35\n-4.0      17\n-5.0      15\n-6.0       4\n-7.0       2\n-8.0       2\n-9.0       1\n-10.0      3\n-13.0      2\n-17.0      1\nName: 20-21, dtype: int64"
     },
     "execution_count": 43,
     "metadata": {},
     "output_type": "execute_result"
    }
   ],
   "source": [
    "df_dict = pivot_result.loc[pivot_result[\"20-21\"]<0, \"20-21\"].value_counts()\n",
    "df_dict.sort_index(ascending=False)"
   ],
   "metadata": {
    "collapsed": false,
    "pycharm": {
     "name": "#%%\n"
    }
   }
  },
  {
   "cell_type": "code",
   "execution_count": 44,
   "outputs": [
    {
     "data": {
      "text/plain": "<AxesSubplot:ylabel='Frequency'>"
     },
     "execution_count": 44,
     "metadata": {},
     "output_type": "execute_result"
    },
    {
     "data": {
      "text/plain": "<Figure size 432x288 with 1 Axes>",
      "image/png": "[encoded data removed]"
     },
     "metadata": {
      "needs_background": "light"
     },
     "output_type": "display_data"
    }
   ],
   "source": [
    "pivot_result.loc[pivot_result[\"20-21\"]<0, \"20-21\"].plot(kind=\"hist\")"
   ],
   "metadata": {
    "collapsed": false,
    "pycharm": {
     "name": "#%%\n"
    }
   }
  },
  {
   "cell_type": "markdown",
   "source": [
    "# un % de commandes PVC très inférieur à leur % de commandes total"
   ],
   "metadata": {
    "collapsed": false,
    "pycharm": {
     "name": "#%% md\n"
    }
   }
  },
  {
   "cell_type": "code",
   "execution_count": 45,
   "outputs": [
    {
     "name": "stderr",
     "output_type": "stream",
     "text": [
      "<ipython-input-45-a6340cd44f6e>:1: SettingWithCopyWarning: \n",
      "A value is trying to be set on a copy of a slice from a DataFrame.\n",
      "Try using .loc[row_indexer,col_indexer] = value instead\n",
      "\n",
      "See the caveats in the documentation: https://pandas.pydata.org/pandas-docs/stable/user_guide/indexing.html#returning-a-view-versus-a-copy\n",
      "  df_lignes[\"is_pvc\"] = (df_lignes[\"Gestionnaire\"] == \"PVC\") & (df_lignes[\"is_commande\"])\n",
      "<ipython-input-45-a6340cd44f6e>:3: FutureWarning: Indexing with multiple keys (implicitly converted to a tuple of keys) will be deprecated, use a list instead.\n",
      "  results = grouped[\"is_pvc\", \"is_commande\"].sum()\n"
     ]
    },
    {
     "data": {
      "text/plain": "                      is_pvc  is_commande\nCodeClient NCDE                          \n1          181000520       0            0\n           181001868       0            1\n           181200428       0            0\n           190200407       0            0\n           190301284       0            0\n...                      ...          ...\n14747      220400305       0            0\n14751      220400302       0            0\n           220400303       0            0\n14752      220400438       0            0\n14754      220400416       0            0\n\n[52164 rows x 2 columns]",
      "text/html": "<div>\n<style scoped>\n    .dataframe tbody tr th:only-of-type {\n        vertical-align: middle;\n    }\n\n    .dataframe tbody tr th {\n        vertical-align: top;\n    }\n\n    .dataframe thead th {\n        text-align: right;\n    }\n</style>\n<table border=\"1\" class=\"dataframe\">\n  <thead>\n    <tr style=\"text-align: right;\">\n      <th></th>\n      <th></th>\n      <th>is_pvc</th>\n      <th>is_commande</th>\n    </tr>\n    <tr>\n      <th>CodeClient</th>\n      <th>NCDE</th>\n      <th></th>\n      <th></th>\n    </tr>\n  </thead>\n  <tbody>\n    <tr>\n      <th rowspan=\"5\" valign=\"top\">1</th>\n      <th>181000520</th>\n      <td>0</td>\n      <td>0</td>\n    </tr>\n    <tr>\n      <th>181001868</th>\n      <td>0</td>\n      <td>1</td>\n    </tr>\n    <tr>\n      <th>181200428</th>\n      <td>0</td>\n      <td>0</td>\n    </tr>\n    <tr>\n      <th>190200407</th>\n      <td>0</td>\n      <td>0</td>\n    </tr>\n    <tr>\n      <th>190301284</th>\n      <td>0</td>\n      <td>0</td>\n    </tr>\n    <tr>\n      <th>...</th>\n      <th>...</th>\n      <td>...</td>\n      <td>...</td>\n    </tr>\n    <tr>\n      <th>14747</th>\n      <th>220400305</th>\n      <td>0</td>\n      <td>0</td>\n    </tr>\n    <tr>\n      <th rowspan=\"2\" valign=\"top\">14751</th>\n      <th>220400302</th>\n      <td>0</td>\n      <td>0</td>\n    </tr>\n    <tr>\n      <th>220400303</th>\n      <td>0</td>\n      <td>0</td>\n    </tr>\n    <tr>\n      <th>14752</th>\n      <th>220400438</th>\n      <td>0</td>\n      <td>0</td>\n    </tr>\n    <tr>\n      <th>14754</th>\n      <th>220400416</th>\n      <td>0</td>\n      <td>0</td>\n    </tr>\n  </tbody>\n</table>\n<p>52164 rows × 2 columns</p>\n</div>"
     },
     "execution_count": 45,
     "metadata": {},
     "output_type": "execute_result"
    }
   ],
   "source": [
    "df_lignes[\"is_pvc\"] = (df_lignes[\"Gestionnaire\"] == \"PVC\") & (df_lignes[\"is_commande\"])\n",
    "grouped = df_lignes.groupby(['CodeClient','NCDE'])\n",
    "results = grouped[\"is_pvc\", \"is_commande\"].sum()\n",
    "\n",
    "results"
   ],
   "metadata": {
    "collapsed": false,
    "pycharm": {
     "name": "#%%\n"
    }
   }
  },
  {
   "cell_type": "code",
   "execution_count": 46,
   "outputs": [
    {
     "data": {
      "text/plain": "            is_pvc  is_commande         %\nCodeClient                               \n1                5           11  0.454545\n3                4           25  0.160000\n5                0            0  0.000000\n12               0            1  0.000000\n13               0            1  0.000000\n...            ...          ...       ...\n14743            0            0  0.000000\n14747            0            0  0.000000\n14751            0            0  0.000000\n14752            0            0  0.000000\n14754            0            0  0.000000\n\n[4489 rows x 3 columns]",
      "text/html": "<div>\n<style scoped>\n    .dataframe tbody tr th:only-of-type {\n        vertical-align: middle;\n    }\n\n    .dataframe tbody tr th {\n        vertical-align: top;\n    }\n\n    .dataframe thead th {\n        text-align: right;\n    }\n</style>\n<table border=\"1\" class=\"dataframe\">\n  <thead>\n    <tr style=\"text-align: right;\">\n      <th></th>\n      <th>is_pvc</th>\n      <th>is_commande</th>\n      <th>%</th>\n    </tr>\n    <tr>\n      <th>CodeClient</th>\n      <th></th>\n      <th></th>\n      <th></th>\n    </tr>\n  </thead>\n  <tbody>\n    <tr>\n      <th>1</th>\n      <td>5</td>\n      <td>11</td>\n      <td>0.454545</td>\n    </tr>\n    <tr>\n      <th>3</th>\n      <td>4</td>\n      <td>25</td>\n      <td>0.160000</td>\n    </tr>\n    <tr>\n      <th>5</th>\n      <td>0</td>\n      <td>0</td>\n      <td>0.000000</td>\n    </tr>\n    <tr>\n      <th>12</th>\n      <td>0</td>\n      <td>1</td>\n      <td>0.000000</td>\n    </tr>\n    <tr>\n      <th>13</th>\n      <td>0</td>\n      <td>1</td>\n      <td>0.000000</td>\n    </tr>\n    <tr>\n      <th>...</th>\n      <td>...</td>\n      <td>...</td>\n      <td>...</td>\n    </tr>\n    <tr>\n      <th>14743</th>\n      <td>0</td>\n      <td>0</td>\n      <td>0.000000</td>\n    </tr>\n    <tr>\n      <th>14747</th>\n      <td>0</td>\n      <td>0</td>\n      <td>0.000000</td>\n    </tr>\n    <tr>\n      <th>14751</th>\n      <td>0</td>\n      <td>0</td>\n      <td>0.000000</td>\n    </tr>\n    <tr>\n      <th>14752</th>\n      <td>0</td>\n      <td>0</td>\n      <td>0.000000</td>\n    </tr>\n    <tr>\n      <th>14754</th>\n      <td>0</td>\n      <td>0</td>\n      <td>0.000000</td>\n    </tr>\n  </tbody>\n</table>\n<p>4489 rows × 3 columns</p>\n</div>"
     },
     "execution_count": 46,
     "metadata": {},
     "output_type": "execute_result"
    }
   ],
   "source": [
    "result = results.groupby(\"CodeClient\").sum()\n",
    "result[\"%\"] = 0\n",
    "\n",
    "result.loc[ result['is_commande'] >0 , '%'] = result[\"is_pvc\"] / result[\"is_commande\"]\n",
    "\n",
    "result"
   ],
   "metadata": {
    "collapsed": false,
    "pycharm": {
     "name": "#%%\n"
    }
   }
  },
  {
   "cell_type": "code",
   "execution_count": 47,
   "outputs": [
    {
     "data": {
      "text/plain": "<AxesSubplot:ylabel='Frequency'>"
     },
     "execution_count": 47,
     "metadata": {},
     "output_type": "execute_result"
    },
    {
     "data": {
      "text/plain": "<Figure size 432x288 with 1 Axes>",
      "image/png": "[encoded data removed]"
     },
     "metadata": {
      "needs_background": "light"
     },
     "output_type": "display_data"
    }
   ],
   "source": [
    "result['%'].plot(kind=\"hist\")"
   ],
   "metadata": {
    "collapsed": false,
    "pycharm": {
     "name": "#%%\n"
    }
   }
  },
  {
   "cell_type": "code",
   "execution_count": 48,
   "outputs": [
    {
     "data": {
      "text/plain": "<AxesSubplot:ylabel='Frequency'>"
     },
     "execution_count": 48,
     "metadata": {},
     "output_type": "execute_result"
    },
    {
     "data": {
      "text/plain": "<Figure size 432x288 with 1 Axes>",
      "image/png": "[encoded data removed]"
     },
     "metadata": {
      "needs_background": "light"
     },
     "output_type": "display_data"
    }
   ],
   "source": [
    "result.loc[result['%']>0, '%'].plot(kind=\"hist\")"
   ],
   "metadata": {
    "collapsed": false,
    "pycharm": {
     "name": "#%%\n"
    }
   }
  },
  {
   "cell_type": "code",
   "execution_count": 49,
   "outputs": [
    {
     "data": {
      "text/plain": "1637"
     },
     "execution_count": 49,
     "metadata": {},
     "output_type": "execute_result"
    }
   ],
   "source": [
    "result.loc[result['%']>0.0, '%'].shape[0]"
   ],
   "metadata": {
    "collapsed": false,
    "pycharm": {
     "name": "#%%\n"
    }
   }
  },
  {
   "cell_type": "markdown",
   "source": [
    "# commandes en nb de zones par matériau"
   ],
   "metadata": {
    "collapsed": false,
    "pycharm": {
     "name": "#%% md\n"
    }
   }
  },
  {
   "cell_type": "code",
   "execution_count": 50,
   "outputs": [
    {
     "data": {
      "text/plain": "Gestionnaire  Nb Zone  year\nALU           1        2018     913\n                       2019    1314\n                       2020    1420\n                       2021    1651\n                       2022     708\n                               ... \nPVC           ?        2018     161\n                       2019     240\n                       2020     225\n                       2021     243\n                       2022      73\nName: is_commande, Length: 94, dtype: int64"
     },
     "execution_count": 50,
     "metadata": {},
     "output_type": "execute_result"
    }
   ],
   "source": [
    "grouped = df_lignes.groupby(['Gestionnaire','Nb Zone', 'year'])\n",
    "results = grouped[\"is_commande\"].sum()\n",
    "results"
   ],
   "metadata": {
    "collapsed": false,
    "pycharm": {
     "name": "#%%\n"
    }
   }
  },
  {
   "cell_type": "code",
   "execution_count": 51,
   "outputs": [
    {
     "data": {
      "text/plain": "year                    2018    2019    2020    2021   2022\nGestionnaire Nb Zone                                       \nALU          1         913.0  1314.0  1420.0  1651.0  708.0\n             2          74.0   193.0   166.0   167.0   57.0\n             3          48.0   103.0   144.0   179.0   70.0\n             4          39.0    50.0    44.0    40.0   40.0\n             5           4.0     1.0     5.0     2.0    0.0\n             6           1.0     5.0     4.0     4.0    0.0\n             ?         357.0   446.0   413.0   628.0  155.0\nBOIS         1         757.0   984.0   848.0   992.0  285.0\n             2           5.0     3.0    11.0     6.0    3.0\n             3           4.0     1.0     0.0     3.0    0.0\n             4           0.0     1.0     NaN     NaN    NaN\n             5           0.0     NaN     0.0     NaN    NaN\n             ?          79.0    85.0    63.0   100.0   23.0\nPVC          1        1133.0  1336.0  1226.0  1417.0  435.0\n             2          64.0    96.0    98.0    95.0   35.0\n             3          29.0    40.0    25.0    41.0   17.0\n             4           7.0     5.0    11.0     9.0    0.0\n             5           2.0     1.0     0.0     0.0    1.0\n             6           1.0     0.0     0.0     1.0    1.0\n             ?         161.0   240.0   225.0   243.0   73.0",
      "text/html": "<div>\n<style scoped>\n    .dataframe tbody tr th:only-of-type {\n        vertical-align: middle;\n    }\n\n    .dataframe tbody tr th {\n        vertical-align: top;\n    }\n\n    .dataframe thead th {\n        text-align: right;\n    }\n</style>\n<table border=\"1\" class=\"dataframe\">\n  <thead>\n    <tr style=\"text-align: right;\">\n      <th></th>\n      <th>year</th>\n      <th>2018</th>\n      <th>2019</th>\n      <th>2020</th>\n      <th>2021</th>\n      <th>2022</th>\n    </tr>\n    <tr>\n      <th>Gestionnaire</th>\n      <th>Nb Zone</th>\n      <th></th>\n      <th></th>\n      <th></th>\n      <th></th>\n      <th></th>\n    </tr>\n  </thead>\n  <tbody>\n    <tr>\n      <th rowspan=\"7\" valign=\"top\">ALU</th>\n      <th>1</th>\n      <td>913.0</td>\n      <td>1314.0</td>\n      <td>1420.0</td>\n      <td>1651.0</td>\n      <td>708.0</td>\n    </tr>\n    <tr>\n      <th>2</th>\n      <td>74.0</td>\n      <td>193.0</td>\n      <td>166.0</td>\n      <td>167.0</td>\n      <td>57.0</td>\n    </tr>\n    <tr>\n      <th>3</th>\n      <td>48.0</td>\n      <td>103.0</td>\n      <td>144.0</td>\n      <td>179.0</td>\n      <td>70.0</td>\n    </tr>\n    <tr>\n      <th>4</th>\n      <td>39.0</td>\n      <td>50.0</td>\n      <td>44.0</td>\n      <td>40.0</td>\n      <td>40.0</td>\n    </tr>\n    <tr>\n      <th>5</th>\n      <td>4.0</td>\n      <td>1.0</td>\n      <td>5.0</td>\n      <td>2.0</td>\n      <td>0.0</td>\n    </tr>\n    <tr>\n      <th>6</th>\n      <td>1.0</td>\n      <td>5.0</td>\n      <td>4.0</td>\n      <td>4.0</td>\n      <td>0.0</td>\n    </tr>\n    <tr>\n      <th>?</th>\n      <td>357.0</td>\n      <td>446.0</td>\n      <td>413.0</td>\n      <td>628.0</td>\n      <td>155.0</td>\n    </tr>\n    <tr>\n      <th rowspan=\"6\" valign=\"top\">BOIS</th>\n      <th>1</th>\n      <td>757.0</td>\n      <td>984.0</td>\n      <td>848.0</td>\n      <td>992.0</td>\n      <td>285.0</td>\n    </tr>\n    <tr>\n      <th>2</th>\n      <td>5.0</td>\n      <td>3.0</td>\n      <td>11.0</td>\n      <td>6.0</td>\n      <td>3.0</td>\n    </tr>\n    <tr>\n      <th>3</th>\n      <td>4.0</td>\n      <td>1.0</td>\n      <td>0.0</td>\n      <td>3.0</td>\n      <td>0.0</td>\n    </tr>\n    <tr>\n      <th>4</th>\n      <td>0.0</td>\n      <td>1.0</td>\n      <td>NaN</td>\n      <td>NaN</td>\n      <td>NaN</td>\n    </tr>\n    <tr>\n      <th>5</th>\n      <td>0.0</td>\n      <td>NaN</td>\n      <td>0.0</td>\n      <td>NaN</td>\n      <td>NaN</td>\n    </tr>\n    <tr>\n      <th>?</th>\n      <td>79.0</td>\n      <td>85.0</td>\n      <td>63.0</td>\n      <td>100.0</td>\n      <td>23.0</td>\n    </tr>\n    <tr>\n      <th rowspan=\"7\" valign=\"top\">PVC</th>\n      <th>1</th>\n      <td>1133.0</td>\n      <td>1336.0</td>\n      <td>1226.0</td>\n      <td>1417.0</td>\n      <td>435.0</td>\n    </tr>\n    <tr>\n      <th>2</th>\n      <td>64.0</td>\n      <td>96.0</td>\n      <td>98.0</td>\n      <td>95.0</td>\n      <td>35.0</td>\n    </tr>\n    <tr>\n      <th>3</th>\n      <td>29.0</td>\n      <td>40.0</td>\n      <td>25.0</td>\n      <td>41.0</td>\n      <td>17.0</td>\n    </tr>\n    <tr>\n      <th>4</th>\n      <td>7.0</td>\n      <td>5.0</td>\n      <td>11.0</td>\n      <td>9.0</td>\n      <td>0.0</td>\n    </tr>\n    <tr>\n      <th>5</th>\n      <td>2.0</td>\n      <td>1.0</td>\n      <td>0.0</td>\n      <td>0.0</td>\n      <td>1.0</td>\n    </tr>\n    <tr>\n      <th>6</th>\n      <td>1.0</td>\n      <td>0.0</td>\n      <td>0.0</td>\n      <td>1.0</td>\n      <td>1.0</td>\n    </tr>\n    <tr>\n      <th>?</th>\n      <td>161.0</td>\n      <td>240.0</td>\n      <td>225.0</td>\n      <td>243.0</td>\n      <td>73.0</td>\n    </tr>\n  </tbody>\n</table>\n</div>"
     },
     "execution_count": 51,
     "metadata": {},
     "output_type": "execute_result"
    }
   ],
   "source": [
    "result = results.reset_index()\n",
    "\n",
    "pivot_result = pd.pivot_table(result, values='is_commande', index=['Gestionnaire', 'Nb Zone'], columns=['year'])\n",
    "\n",
    "pivot_result"
   ],
   "metadata": {
    "collapsed": false,
    "pycharm": {
     "name": "#%%\n"
    }
   }
  },
  {
   "cell_type": "code",
   "execution_count": 52,
   "outputs": [
    {
     "data": {
      "text/plain": "year                    2018    2019    2020    2021   2022  18-19  19-20  \\\nGestionnaire Nb Zone                                                        \nALU          1         913.0  1314.0  1420.0  1651.0  708.0  401.0  106.0   \n             2          74.0   193.0   166.0   167.0   57.0  119.0  -27.0   \n             3          48.0   103.0   144.0   179.0   70.0   55.0   41.0   \n             4          39.0    50.0    44.0    40.0   40.0   11.0   -6.0   \n             5           4.0     1.0     5.0     2.0    0.0   -3.0    4.0   \n             6           1.0     5.0     4.0     4.0    0.0    4.0   -1.0   \n             ?         357.0   446.0   413.0   628.0  155.0   89.0  -33.0   \nBOIS         1         757.0   984.0   848.0   992.0  285.0  227.0 -136.0   \n             2           5.0     3.0    11.0     6.0    3.0   -2.0    8.0   \n             3           4.0     1.0     0.0     3.0    0.0   -3.0   -1.0   \n             4           0.0     1.0     NaN     NaN    NaN    1.0    NaN   \n             5           0.0     NaN     0.0     NaN    NaN    NaN    NaN   \n             ?          79.0    85.0    63.0   100.0   23.0    6.0  -22.0   \nPVC          1        1133.0  1336.0  1226.0  1417.0  435.0  203.0 -110.0   \n             2          64.0    96.0    98.0    95.0   35.0   32.0    2.0   \n             3          29.0    40.0    25.0    41.0   17.0   11.0  -15.0   \n             4           7.0     5.0    11.0     9.0    0.0   -2.0    6.0   \n             5           2.0     1.0     0.0     0.0    1.0   -1.0   -1.0   \n             6           1.0     0.0     0.0     1.0    1.0   -1.0    0.0   \n             ?         161.0   240.0   225.0   243.0   73.0   79.0  -15.0   \n\nyear                  20-21  21-22  \nGestionnaire Nb Zone                \nALU          1        231.0 -943.0  \n             2          1.0 -110.0  \n             3         35.0 -109.0  \n             4         -4.0    0.0  \n             5         -3.0   -2.0  \n             6          0.0   -4.0  \n             ?        215.0 -473.0  \nBOIS         1        144.0 -707.0  \n             2         -5.0   -3.0  \n             3          3.0   -3.0  \n             4          NaN    NaN  \n             5          NaN    NaN  \n             ?         37.0  -77.0  \nPVC          1        191.0 -982.0  \n             2         -3.0  -60.0  \n             3         16.0  -24.0  \n             4         -2.0   -9.0  \n             5          0.0    1.0  \n             6          1.0    0.0  \n             ?         18.0 -170.0  ",
      "text/html": "<div>\n<style scoped>\n    .dataframe tbody tr th:only-of-type {\n        vertical-align: middle;\n    }\n\n    .dataframe tbody tr th {\n        vertical-align: top;\n    }\n\n    .dataframe thead th {\n        text-align: right;\n    }\n</style>\n<table border=\"1\" class=\"dataframe\">\n  <thead>\n    <tr style=\"text-align: right;\">\n      <th></th>\n      <th>year</th>\n      <th>2018</th>\n      <th>2019</th>\n      <th>2020</th>\n      <th>2021</th>\n      <th>2022</th>\n      <th>18-19</th>\n      <th>19-20</th>\n      <th>20-21</th>\n      <th>21-22</th>\n    </tr>\n    <tr>\n      <th>Gestionnaire</th>\n      <th>Nb Zone</th>\n      <th></th>\n      <th></th>\n      <th></th>\n      <th></th>\n      <th></th>\n      <th></th>\n      <th></th>\n      <th></th>\n      <th></th>\n    </tr>\n  </thead>\n  <tbody>\n    <tr>\n      <th rowspan=\"7\" valign=\"top\">ALU</th>\n      <th>1</th>\n      <td>913.0</td>\n      <td>1314.0</td>\n      <td>1420.0</td>\n      <td>1651.0</td>\n      <td>708.0</td>\n      <td>401.0</td>\n      <td>106.0</td>\n      <td>231.0</td>\n      <td>-943.0</td>\n    </tr>\n    <tr>\n      <th>2</th>\n      <td>74.0</td>\n      <td>193.0</td>\n      <td>166.0</td>\n      <td>167.0</td>\n      <td>57.0</td>\n      <td>119.0</td>\n      <td>-27.0</td>\n      <td>1.0</td>\n      <td>-110.0</td>\n    </tr>\n    <tr>\n      <th>3</th>\n      <td>48.0</td>\n      <td>103.0</td>\n      <td>144.0</td>\n      <td>179.0</td>\n      <td>70.0</td>\n      <td>55.0</td>\n      <td>41.0</td>\n      <td>35.0</td>\n      <td>-109.0</td>\n    </tr>\n    <tr>\n      <th>4</th>\n      <td>39.0</td>\n      <td>50.0</td>\n      <td>44.0</td>\n      <td>40.0</td>\n      <td>40.0</td>\n      <td>11.0</td>\n      <td>-6.0</td>\n      <td>-4.0</td>\n      <td>0.0</td>\n    </tr>\n    <tr>\n      <th>5</th>\n      <td>4.0</td>\n      <td>1.0</td>\n      <td>5.0</td>\n      <td>2.0</td>\n      <td>0.0</td>\n      <td>-3.0</td>\n      <td>4.0</td>\n      <td>-3.0</td>\n      <td>-2.0</td>\n    </tr>\n    <tr>\n      <th>6</th>\n      <td>1.0</td>\n      <td>5.0</td>\n      <td>4.0</td>\n      <td>4.0</td>\n      <td>0.0</td>\n      <td>4.0</td>\n      <td>-1.0</td>\n      <td>0.0</td>\n      <td>-4.0</td>\n    </tr>\n    <tr>\n      <th>?</th>\n      <td>357.0</td>\n      <td>446.0</td>\n      <td>413.0</td>\n      <td>628.0</td>\n      <td>155.0</td>\n      <td>89.0</td>\n      <td>-33.0</td>\n      <td>215.0</td>\n      <td>-473.0</td>\n    </tr>\n    <tr>\n      <th rowspan=\"6\" valign=\"top\">BOIS</th>\n      <th>1</th>\n      <td>757.0</td>\n      <td>984.0</td>\n      <td>848.0</td>\n      <td>992.0</td>\n      <td>285.0</td>\n      <td>227.0</td>\n      <td>-136.0</td>\n      <td>144.0</td>\n      <td>-707.0</td>\n    </tr>\n    <tr>\n      <th>2</th>\n      <td>5.0</td>\n      <td>3.0</td>\n      <td>11.0</td>\n      <td>6.0</td>\n      <td>3.0</td>\n      <td>-2.0</td>\n      <td>8.0</td>\n      <td>-5.0</td>\n      <td>-3.0</td>\n    </tr>\n    <tr>\n      <th>3</th>\n      <td>4.0</td>\n      <td>1.0</td>\n      <td>0.0</td>\n      <td>3.0</td>\n      <td>0.0</td>\n      <td>-3.0</td>\n      <td>-1.0</td>\n      <td>3.0</td>\n      <td>-3.0</td>\n    </tr>\n    <tr>\n      <th>4</th>\n      <td>0.0</td>\n      <td>1.0</td>\n      <td>NaN</td>\n      <td>NaN</td>\n      <td>NaN</td>\n      <td>1.0</td>\n      <td>NaN</td>\n      <td>NaN</td>\n      <td>NaN</td>\n    </tr>\n    <tr>\n      <th>5</th>\n      <td>0.0</td>\n      <td>NaN</td>\n      <td>0.0</td>\n      <td>NaN</td>\n      <td>NaN</td>\n      <td>NaN</td>\n      <td>NaN</td>\n      <td>NaN</td>\n      <td>NaN</td>\n    </tr>\n    <tr>\n      <th>?</th>\n      <td>79.0</td>\n      <td>85.0</td>\n      <td>63.0</td>\n      <td>100.0</td>\n      <td>23.0</td>\n      <td>6.0</td>\n      <td>-22.0</td>\n      <td>37.0</td>\n      <td>-77.0</td>\n    </tr>\n    <tr>\n      <th rowspan=\"7\" valign=\"top\">PVC</th>\n      <th>1</th>\n      <td>1133.0</td>\n      <td>1336.0</td>\n      <td>1226.0</td>\n      <td>1417.0</td>\n      <td>435.0</td>\n      <td>203.0</td>\n      <td>-110.0</td>\n      <td>191.0</td>\n      <td>-982.0</td>\n    </tr>\n    <tr>\n      <th>2</th>\n      <td>64.0</td>\n      <td>96.0</td>\n      <td>98.0</td>\n      <td>95.0</td>\n      <td>35.0</td>\n      <td>32.0</td>\n      <td>2.0</td>\n      <td>-3.0</td>\n      <td>-60.0</td>\n    </tr>\n    <tr>\n      <th>3</th>\n      <td>29.0</td>\n      <td>40.0</td>\n      <td>25.0</td>\n      <td>41.0</td>\n      <td>17.0</td>\n      <td>11.0</td>\n      <td>-15.0</td>\n      <td>16.0</td>\n      <td>-24.0</td>\n    </tr>\n    <tr>\n      <th>4</th>\n      <td>7.0</td>\n      <td>5.0</td>\n      <td>11.0</td>\n      <td>9.0</td>\n      <td>0.0</td>\n      <td>-2.0</td>\n      <td>6.0</td>\n      <td>-2.0</td>\n      <td>-9.0</td>\n    </tr>\n    <tr>\n      <th>5</th>\n      <td>2.0</td>\n      <td>1.0</td>\n      <td>0.0</td>\n      <td>0.0</td>\n      <td>1.0</td>\n      <td>-1.0</td>\n      <td>-1.0</td>\n      <td>0.0</td>\n      <td>1.0</td>\n    </tr>\n    <tr>\n      <th>6</th>\n      <td>1.0</td>\n      <td>0.0</td>\n      <td>0.0</td>\n      <td>1.0</td>\n      <td>1.0</td>\n      <td>-1.0</td>\n      <td>0.0</td>\n      <td>1.0</td>\n      <td>0.0</td>\n    </tr>\n    <tr>\n      <th>?</th>\n      <td>161.0</td>\n      <td>240.0</td>\n      <td>225.0</td>\n      <td>243.0</td>\n      <td>73.0</td>\n      <td>79.0</td>\n      <td>-15.0</td>\n      <td>18.0</td>\n      <td>-170.0</td>\n    </tr>\n  </tbody>\n</table>\n</div>"
     },
     "execution_count": 52,
     "metadata": {},
     "output_type": "execute_result"
    }
   ],
   "source": [
    "pivot_result['18-19'] = pivot_result['2019'] - pivot_result['2018']\n",
    "pivot_result['19-20'] = pivot_result['2020'] - pivot_result['2019']\n",
    "pivot_result['20-21'] = pivot_result['2021'] - pivot_result['2020']\n",
    "pivot_result['21-22'] = pivot_result['2022'] - pivot_result['2021']\n",
    "\n",
    "pivot_result"
   ],
   "metadata": {
    "collapsed": false,
    "pycharm": {
     "name": "#%%\n"
    }
   }
  },
  {
   "cell_type": "markdown",
   "source": [],
   "metadata": {
    "collapsed": false,
    "pycharm": {
     "name": "#%% md\n"
    }
   }
  },
  {
   "cell_type": "code",
   "execution_count": 53,
   "outputs": [
    {
     "data": {
      "text/plain": "year                  18-19  19-20  20-21  21-22\nGestionnaire Nb Zone                            \nALU          1        401.0  106.0  231.0 -943.0\n             2        119.0  -27.0    1.0 -110.0\n             3         55.0   41.0   35.0 -109.0\n             4         11.0   -6.0   -4.0    0.0\n             5         -3.0    4.0   -3.0   -2.0\n             6          4.0   -1.0    0.0   -4.0\n             ?         89.0  -33.0  215.0 -473.0\nBOIS         1        227.0 -136.0  144.0 -707.0\n             2         -2.0    8.0   -5.0   -3.0\n             3         -3.0   -1.0    3.0   -3.0\n             4          1.0    NaN    NaN    NaN\n             5          NaN    NaN    NaN    NaN\n             ?          6.0  -22.0   37.0  -77.0\nPVC          1        203.0 -110.0  191.0 -982.0\n             2         32.0    2.0   -3.0  -60.0\n             3         11.0  -15.0   16.0  -24.0\n             4         -2.0    6.0   -2.0   -9.0\n             5         -1.0   -1.0    0.0    1.0\n             6         -1.0    0.0    1.0    0.0\n             ?         79.0  -15.0   18.0 -170.0",
      "text/html": "<div>\n<style scoped>\n    .dataframe tbody tr th:only-of-type {\n        vertical-align: middle;\n    }\n\n    .dataframe tbody tr th {\n        vertical-align: top;\n    }\n\n    .dataframe thead th {\n        text-align: right;\n    }\n</style>\n<table border=\"1\" class=\"dataframe\">\n  <thead>\n    <tr style=\"text-align: right;\">\n      <th></th>\n      <th>year</th>\n      <th>18-19</th>\n      <th>19-20</th>\n      <th>20-21</th>\n      <th>21-22</th>\n    </tr>\n    <tr>\n      <th>Gestionnaire</th>\n      <th>Nb Zone</th>\n      <th></th>\n      <th></th>\n      <th></th>\n      <th></th>\n    </tr>\n  </thead>\n  <tbody>\n    <tr>\n      <th rowspan=\"7\" valign=\"top\">ALU</th>\n      <th>1</th>\n      <td>401.0</td>\n      <td>106.0</td>\n      <td>231.0</td>\n      <td>-943.0</td>\n    </tr>\n    <tr>\n      <th>2</th>\n      <td>119.0</td>\n      <td>-27.0</td>\n      <td>1.0</td>\n      <td>-110.0</td>\n    </tr>\n    <tr>\n      <th>3</th>\n      <td>55.0</td>\n      <td>41.0</td>\n      <td>35.0</td>\n      <td>-109.0</td>\n    </tr>\n    <tr>\n      <th>4</th>\n      <td>11.0</td>\n      <td>-6.0</td>\n      <td>-4.0</td>\n      <td>0.0</td>\n    </tr>\n    <tr>\n      <th>5</th>\n      <td>-3.0</td>\n      <td>4.0</td>\n      <td>-3.0</td>\n      <td>-2.0</td>\n    </tr>\n    <tr>\n      <th>6</th>\n      <td>4.0</td>\n      <td>-1.0</td>\n      <td>0.0</td>\n      <td>-4.0</td>\n    </tr>\n    <tr>\n      <th>?</th>\n      <td>89.0</td>\n      <td>-33.0</td>\n      <td>215.0</td>\n      <td>-473.0</td>\n    </tr>\n    <tr>\n      <th rowspan=\"6\" valign=\"top\">BOIS</th>\n      <th>1</th>\n      <td>227.0</td>\n      <td>-136.0</td>\n      <td>144.0</td>\n      <td>-707.0</td>\n    </tr>\n    <tr>\n      <th>2</th>\n      <td>-2.0</td>\n      <td>8.0</td>\n      <td>-5.0</td>\n      <td>-3.0</td>\n    </tr>\n    <tr>\n      <th>3</th>\n      <td>-3.0</td>\n      <td>-1.0</td>\n      <td>3.0</td>\n      <td>-3.0</td>\n    </tr>\n    <tr>\n      <th>4</th>\n      <td>1.0</td>\n      <td>NaN</td>\n      <td>NaN</td>\n      <td>NaN</td>\n    </tr>\n    <tr>\n      <th>5</th>\n      <td>NaN</td>\n      <td>NaN</td>\n      <td>NaN</td>\n      <td>NaN</td>\n    </tr>\n    <tr>\n      <th>?</th>\n      <td>6.0</td>\n      <td>-22.0</td>\n      <td>37.0</td>\n      <td>-77.0</td>\n    </tr>\n    <tr>\n      <th rowspan=\"7\" valign=\"top\">PVC</th>\n      <th>1</th>\n      <td>203.0</td>\n      <td>-110.0</td>\n      <td>191.0</td>\n      <td>-982.0</td>\n    </tr>\n    <tr>\n      <th>2</th>\n      <td>32.0</td>\n      <td>2.0</td>\n      <td>-3.0</td>\n      <td>-60.0</td>\n    </tr>\n    <tr>\n      <th>3</th>\n      <td>11.0</td>\n      <td>-15.0</td>\n      <td>16.0</td>\n      <td>-24.0</td>\n    </tr>\n    <tr>\n      <th>4</th>\n      <td>-2.0</td>\n      <td>6.0</td>\n      <td>-2.0</td>\n      <td>-9.0</td>\n    </tr>\n    <tr>\n      <th>5</th>\n      <td>-1.0</td>\n      <td>-1.0</td>\n      <td>0.0</td>\n      <td>1.0</td>\n    </tr>\n    <tr>\n      <th>6</th>\n      <td>-1.0</td>\n      <td>0.0</td>\n      <td>1.0</td>\n      <td>0.0</td>\n    </tr>\n    <tr>\n      <th>?</th>\n      <td>79.0</td>\n      <td>-15.0</td>\n      <td>18.0</td>\n      <td>-170.0</td>\n    </tr>\n  </tbody>\n</table>\n</div>"
     },
     "execution_count": 53,
     "metadata": {},
     "output_type": "execute_result"
    }
   ],
   "source": [
    "range_result = pivot_result.loc[:,['18-19','19-20','20-21','21-22']]\n",
    "range_result"
   ],
   "metadata": {
    "collapsed": false,
    "pycharm": {
     "name": "#%%\n"
    }
   }
  },
  {
   "cell_type": "code",
   "execution_count": 54,
   "outputs": [
    {
     "data": {
      "text/plain": "year          18-19  19-20  20-21   21-22\nGestionnaire                             \nALU           676.0   84.0  475.0 -1641.0\nBOIS          229.0 -151.0  179.0  -790.0\nPVC           321.0 -133.0  221.0 -1244.0",
      "text/html": "<div>\n<style scoped>\n    .dataframe tbody tr th:only-of-type {\n        vertical-align: middle;\n    }\n\n    .dataframe tbody tr th {\n        vertical-align: top;\n    }\n\n    .dataframe thead th {\n        text-align: right;\n    }\n</style>\n<table border=\"1\" class=\"dataframe\">\n  <thead>\n    <tr style=\"text-align: right;\">\n      <th>year</th>\n      <th>18-19</th>\n      <th>19-20</th>\n      <th>20-21</th>\n      <th>21-22</th>\n    </tr>\n    <tr>\n      <th>Gestionnaire</th>\n      <th></th>\n      <th></th>\n      <th></th>\n      <th></th>\n    </tr>\n  </thead>\n  <tbody>\n    <tr>\n      <th>ALU</th>\n      <td>676.0</td>\n      <td>84.0</td>\n      <td>475.0</td>\n      <td>-1641.0</td>\n    </tr>\n    <tr>\n      <th>BOIS</th>\n      <td>229.0</td>\n      <td>-151.0</td>\n      <td>179.0</td>\n      <td>-790.0</td>\n    </tr>\n    <tr>\n      <th>PVC</th>\n      <td>321.0</td>\n      <td>-133.0</td>\n      <td>221.0</td>\n      <td>-1244.0</td>\n    </tr>\n  </tbody>\n</table>\n</div>"
     },
     "execution_count": 54,
     "metadata": {},
     "output_type": "execute_result"
    }
   ],
   "source": [
    "range_result.groupby(\"Gestionnaire\").sum()"
   ],
   "metadata": {
    "collapsed": false,
    "pycharm": {
     "name": "#%%\n"
    }
   }
  },
  {
   "cell_type": "code",
   "execution_count": 55,
   "outputs": [
    {
     "data": {
      "text/plain": "<AxesSubplot:xlabel='Gestionnaire'>"
     },
     "execution_count": 55,
     "metadata": {},
     "output_type": "execute_result"
    },
    {
     "data": {
      "text/plain": "<Figure size 432x288 with 1 Axes>",
      "image/png": "[encoded data removed]"
     },
     "metadata": {
      "needs_background": "light"
     },
     "output_type": "display_data"
    }
   ],
   "source": [
    "range_result.loc[:, ['18-19','19-20','20-21']].groupby(\"Gestionnaire\").sum().plot(kind=\"bar\")"
   ],
   "metadata": {
    "collapsed": false,
    "pycharm": {
     "name": "#%%\n"
    }
   }
  },
  {
   "cell_type": "code",
   "execution_count": 56,
   "outputs": [
    {
     "data": {
      "text/plain": "year     18-19  19-20  20-21   21-22\nNb Zone                             \n1        831.0 -140.0  566.0 -2632.0\n2        149.0  -17.0   -7.0  -173.0\n3         63.0   25.0   54.0  -136.0\n4         10.0    0.0   -6.0    -9.0\n5         -4.0    3.0   -3.0    -1.0\n6          3.0   -1.0    1.0    -4.0\n?        174.0  -70.0  270.0  -720.0",
      "text/html": "<div>\n<style scoped>\n    .dataframe tbody tr th:only-of-type {\n        vertical-align: middle;\n    }\n\n    .dataframe tbody tr th {\n        vertical-align: top;\n    }\n\n    .dataframe thead th {\n        text-align: right;\n    }\n</style>\n<table border=\"1\" class=\"dataframe\">\n  <thead>\n    <tr style=\"text-align: right;\">\n      <th>year</th>\n      <th>18-19</th>\n      <th>19-20</th>\n      <th>20-21</th>\n      <th>21-22</th>\n    </tr>\n    <tr>\n      <th>Nb Zone</th>\n      <th></th>\n      <th></th>\n      <th></th>\n      <th></th>\n    </tr>\n  </thead>\n  <tbody>\n    <tr>\n      <th>1</th>\n      <td>831.0</td>\n      <td>-140.0</td>\n      <td>566.0</td>\n      <td>-2632.0</td>\n    </tr>\n    <tr>\n      <th>2</th>\n      <td>149.0</td>\n      <td>-17.0</td>\n      <td>-7.0</td>\n      <td>-173.0</td>\n    </tr>\n    <tr>\n      <th>3</th>\n      <td>63.0</td>\n      <td>25.0</td>\n      <td>54.0</td>\n      <td>-136.0</td>\n    </tr>\n    <tr>\n      <th>4</th>\n      <td>10.0</td>\n      <td>0.0</td>\n      <td>-6.0</td>\n      <td>-9.0</td>\n    </tr>\n    <tr>\n      <th>5</th>\n      <td>-4.0</td>\n      <td>3.0</td>\n      <td>-3.0</td>\n      <td>-1.0</td>\n    </tr>\n    <tr>\n      <th>6</th>\n      <td>3.0</td>\n      <td>-1.0</td>\n      <td>1.0</td>\n      <td>-4.0</td>\n    </tr>\n    <tr>\n      <th>?</th>\n      <td>174.0</td>\n      <td>-70.0</td>\n      <td>270.0</td>\n      <td>-720.0</td>\n    </tr>\n  </tbody>\n</table>\n</div>"
     },
     "execution_count": 56,
     "metadata": {},
     "output_type": "execute_result"
    }
   ],
   "source": [
    "range_result.groupby(\"Nb Zone\").sum()"
   ],
   "metadata": {
    "collapsed": false,
    "pycharm": {
     "name": "#%%\n"
    }
   }
  },
  {
   "cell_type": "code",
   "execution_count": 57,
   "outputs": [
    {
     "data": {
      "text/plain": "<AxesSubplot:xlabel='Nb Zone'>"
     },
     "execution_count": 57,
     "metadata": {},
     "output_type": "execute_result"
    },
    {
     "data": {
      "text/plain": "<Figure size 1440x720 with 1 Axes>",
      "image/png": "[encoded data removed]"
     },
     "metadata": {
      "needs_background": "light"
     },
     "output_type": "display_data"
    }
   ],
   "source": [
    "range_result.loc[:, ['18-19','19-20','20-21']].groupby(\"Nb Zone\").sum().plot(kind=\"bar\",figsize=(20,10))"
   ],
   "metadata": {
    "collapsed": false,
    "pycharm": {
     "name": "#%%\n"
    }
   }
  },
  {
   "cell_type": "markdown",
   "source": [
    "# Fréquence de commande ? (Entre 3 et 5 clusters)"
   ],
   "metadata": {
    "collapsed": false,
    "pycharm": {
     "name": "#%% md\n"
    }
   }
  },
  {
   "cell_type": "code",
   "execution_count": 58,
   "outputs": [
    {
     "name": "stderr",
     "output_type": "stream",
     "text": [
      "<ipython-input-58-be5bf51460a3>:3: FutureWarning: Indexing with multiple keys (implicitly converted to a tuple of keys) will be deprecated, use a list instead.\n",
      "  results = grouped[\"is_commande\", \"CA HT\"].sum()\n"
     ]
    },
    {
     "data": {
      "text/plain": "                          is_commande    CA HT\nCodeClient Date_Creation                      \n1          2018-12-11               1   126.00\n           2020-07-30               1   599.00\n           2020-10-09               1   385.82\n           2021-03-05               1   124.00\n           2021-06-21               1    26.00\n...                               ...      ...\n14691      2022-04-14               1  6371.35\n14706      2022-03-21               2  1408.72\n14709      2022-10-03               2  3829.41\n14727      2022-06-04               1  1384.46\n14738      2022-05-04               1   460.34\n\n[14579 rows x 2 columns]",
      "text/html": "<div>\n<style scoped>\n    .dataframe tbody tr th:only-of-type {\n        vertical-align: middle;\n    }\n\n    .dataframe tbody tr th {\n        vertical-align: top;\n    }\n\n    .dataframe thead th {\n        text-align: right;\n    }\n</style>\n<table border=\"1\" class=\"dataframe\">\n  <thead>\n    <tr style=\"text-align: right;\">\n      <th></th>\n      <th></th>\n      <th>is_commande</th>\n      <th>CA HT</th>\n    </tr>\n    <tr>\n      <th>CodeClient</th>\n      <th>Date_Creation</th>\n      <th></th>\n      <th></th>\n    </tr>\n  </thead>\n  <tbody>\n    <tr>\n      <th rowspan=\"5\" valign=\"top\">1</th>\n      <th>2018-12-11</th>\n      <td>1</td>\n      <td>126.00</td>\n    </tr>\n    <tr>\n      <th>2020-07-30</th>\n      <td>1</td>\n      <td>599.00</td>\n    </tr>\n    <tr>\n      <th>2020-10-09</th>\n      <td>1</td>\n      <td>385.82</td>\n    </tr>\n    <tr>\n      <th>2021-03-05</th>\n      <td>1</td>\n      <td>124.00</td>\n    </tr>\n    <tr>\n      <th>2021-06-21</th>\n      <td>1</td>\n      <td>26.00</td>\n    </tr>\n    <tr>\n      <th>...</th>\n      <th>...</th>\n      <td>...</td>\n      <td>...</td>\n    </tr>\n    <tr>\n      <th>14691</th>\n      <th>2022-04-14</th>\n      <td>1</td>\n      <td>6371.35</td>\n    </tr>\n    <tr>\n      <th>14706</th>\n      <th>2022-03-21</th>\n      <td>2</td>\n      <td>1408.72</td>\n    </tr>\n    <tr>\n      <th>14709</th>\n      <th>2022-10-03</th>\n      <td>2</td>\n      <td>3829.41</td>\n    </tr>\n    <tr>\n      <th>14727</th>\n      <th>2022-06-04</th>\n      <td>1</td>\n      <td>1384.46</td>\n    </tr>\n    <tr>\n      <th>14738</th>\n      <th>2022-05-04</th>\n      <td>1</td>\n      <td>460.34</td>\n    </tr>\n  </tbody>\n</table>\n<p>14579 rows × 2 columns</p>\n</div>"
     },
     "execution_count": 58,
     "metadata": {},
     "output_type": "execute_result"
    }
   ],
   "source": [
    "grouped = df_lignes.loc[df_lignes[\"is_commande\"]].groupby(['CodeClient', 'Date_Creation'])\n",
    "\n",
    "results = grouped[\"is_commande\", \"CA HT\"].sum()\n",
    "\n",
    "results"
   ],
   "metadata": {
    "collapsed": false,
    "pycharm": {
     "name": "#%%\n"
    }
   }
  },
  {
   "cell_type": "code",
   "execution_count": 59,
   "outputs": [
    {
     "data": {
      "text/plain": "       CodeClient Date_Creation  is_commande    CA HT frequence\n0               1    2018-12-11            1   126.00    0 days\n1               1    2020-07-30            1   599.00  597 days\n2               1    2020-10-09            1   385.82   71 days\n3               1    2021-03-05            1   124.00  147 days\n4               1    2021-06-21            1    26.00  108 days\n...           ...           ...          ...      ...       ...\n14574       14691    2022-04-14            1  6371.35    0 days\n14575       14706    2022-03-21            2  1408.72    0 days\n14576       14709    2022-10-03            2  3829.41    0 days\n14577       14727    2022-06-04            1  1384.46    0 days\n14578       14738    2022-05-04            1   460.34    0 days\n\n[14579 rows x 5 columns]",
      "text/html": "<div>\n<style scoped>\n    .dataframe tbody tr th:only-of-type {\n        vertical-align: middle;\n    }\n\n    .dataframe tbody tr th {\n        vertical-align: top;\n    }\n\n    .dataframe thead th {\n        text-align: right;\n    }\n</style>\n<table border=\"1\" class=\"dataframe\">\n  <thead>\n    <tr style=\"text-align: right;\">\n      <th></th>\n      <th>CodeClient</th>\n      <th>Date_Creation</th>\n      <th>is_commande</th>\n      <th>CA HT</th>\n      <th>frequence</th>\n    </tr>\n  </thead>\n  <tbody>\n    <tr>\n      <th>0</th>\n      <td>1</td>\n      <td>2018-12-11</td>\n      <td>1</td>\n      <td>126.00</td>\n      <td>0 days</td>\n    </tr>\n    <tr>\n      <th>1</th>\n      <td>1</td>\n      <td>2020-07-30</td>\n      <td>1</td>\n      <td>599.00</td>\n      <td>597 days</td>\n    </tr>\n    <tr>\n      <th>2</th>\n      <td>1</td>\n      <td>2020-10-09</td>\n      <td>1</td>\n      <td>385.82</td>\n      <td>71 days</td>\n    </tr>\n    <tr>\n      <th>3</th>\n      <td>1</td>\n      <td>2021-03-05</td>\n      <td>1</td>\n      <td>124.00</td>\n      <td>147 days</td>\n    </tr>\n    <tr>\n      <th>4</th>\n      <td>1</td>\n      <td>2021-06-21</td>\n      <td>1</td>\n      <td>26.00</td>\n      <td>108 days</td>\n    </tr>\n    <tr>\n      <th>...</th>\n      <td>...</td>\n      <td>...</td>\n      <td>...</td>\n      <td>...</td>\n      <td>...</td>\n    </tr>\n    <tr>\n      <th>14574</th>\n      <td>14691</td>\n      <td>2022-04-14</td>\n      <td>1</td>\n      <td>6371.35</td>\n      <td>0 days</td>\n    </tr>\n    <tr>\n      <th>14575</th>\n      <td>14706</td>\n      <td>2022-03-21</td>\n      <td>2</td>\n      <td>1408.72</td>\n      <td>0 days</td>\n    </tr>\n    <tr>\n      <th>14576</th>\n      <td>14709</td>\n      <td>2022-10-03</td>\n      <td>2</td>\n      <td>3829.41</td>\n      <td>0 days</td>\n    </tr>\n    <tr>\n      <th>14577</th>\n      <td>14727</td>\n      <td>2022-06-04</td>\n      <td>1</td>\n      <td>1384.46</td>\n      <td>0 days</td>\n    </tr>\n    <tr>\n      <th>14578</th>\n      <td>14738</td>\n      <td>2022-05-04</td>\n      <td>1</td>\n      <td>460.34</td>\n      <td>0 days</td>\n    </tr>\n  </tbody>\n</table>\n<p>14579 rows × 5 columns</p>\n</div>"
     },
     "execution_count": 59,
     "metadata": {},
     "output_type": "execute_result"
    }
   ],
   "source": [
    "result = results.reset_index().sort_values(by=['CodeClient','Date_Creation'], ascending=True)\n",
    "\n",
    "result[\"frequence\"] = pd.Timedelta(seconds=0)\n",
    "\n",
    "result.loc[result[\"CodeClient\"].shift(-1) == result[\"CodeClient\"], \"frequence\"] = (result[\"Date_Creation\"].shift(-1) - result[\"Date_Creation\"])\n",
    "\n",
    "result[\"frequence\"]= result[\"frequence\"].shift(1)\n",
    "\n",
    "result = result.fillna(pd.Timedelta(seconds=0))\n",
    "\n",
    "result"
   ],
   "metadata": {
    "collapsed": false,
    "pycharm": {
     "name": "#%%\n"
    }
   }
  },
  {
   "cell_type": "code",
   "execution_count": 60,
   "outputs": [
    {
     "data": {
      "text/plain": "      CodeClient  frequence        CA HT\n0              1        129   556.491111\n1              3        106  2454.157692\n2             12          0  2889.900000\n3             13          0  1135.780000\n4             22          0  2253.280000\n...          ...        ...          ...\n2765       14691          0  6371.350000\n2766       14706          0  1408.720000\n2767       14709          0  3829.410000\n2768       14727          0  1384.460000\n2769       14738          0   460.340000\n\n[2770 rows x 3 columns]",
      "text/html": "<div>\n<style scoped>\n    .dataframe tbody tr th:only-of-type {\n        vertical-align: middle;\n    }\n\n    .dataframe tbody tr th {\n        vertical-align: top;\n    }\n\n    .dataframe thead th {\n        text-align: right;\n    }\n</style>\n<table border=\"1\" class=\"dataframe\">\n  <thead>\n    <tr style=\"text-align: right;\">\n      <th></th>\n      <th>CodeClient</th>\n      <th>frequence</th>\n      <th>CA HT</th>\n    </tr>\n  </thead>\n  <tbody>\n    <tr>\n      <th>0</th>\n      <td>1</td>\n      <td>129</td>\n      <td>556.491111</td>\n    </tr>\n    <tr>\n      <th>1</th>\n      <td>3</td>\n      <td>106</td>\n      <td>2454.157692</td>\n    </tr>\n    <tr>\n      <th>2</th>\n      <td>12</td>\n      <td>0</td>\n      <td>2889.900000</td>\n    </tr>\n    <tr>\n      <th>3</th>\n      <td>13</td>\n      <td>0</td>\n      <td>1135.780000</td>\n    </tr>\n    <tr>\n      <th>4</th>\n      <td>22</td>\n      <td>0</td>\n      <td>2253.280000</td>\n    </tr>\n    <tr>\n      <th>...</th>\n      <td>...</td>\n      <td>...</td>\n      <td>...</td>\n    </tr>\n    <tr>\n      <th>2765</th>\n      <td>14691</td>\n      <td>0</td>\n      <td>6371.350000</td>\n    </tr>\n    <tr>\n      <th>2766</th>\n      <td>14706</td>\n      <td>0</td>\n      <td>1408.720000</td>\n    </tr>\n    <tr>\n      <th>2767</th>\n      <td>14709</td>\n      <td>0</td>\n      <td>3829.410000</td>\n    </tr>\n    <tr>\n      <th>2768</th>\n      <td>14727</td>\n      <td>0</td>\n      <td>1384.460000</td>\n    </tr>\n    <tr>\n      <th>2769</th>\n      <td>14738</td>\n      <td>0</td>\n      <td>460.340000</td>\n    </tr>\n  </tbody>\n</table>\n<p>2770 rows × 3 columns</p>\n</div>"
     },
     "execution_count": 60,
     "metadata": {},
     "output_type": "execute_result"
    }
   ],
   "source": [
    "range_result = pd.concat([result.groupby(\"CodeClient\")[\"frequence\"].mean().dt.days, result.groupby(\"CodeClient\")[\"CA HT\"].mean()], axis=1)\n",
    "\n",
    "range_result = range_result.reset_index()\n",
    "\n",
    "range_result"
   ],
   "metadata": {
    "collapsed": false,
    "pycharm": {
     "name": "#%%\n"
    }
   }
  },
  {
   "cell_type": "code",
   "execution_count": 61,
   "outputs": [],
   "source": [
    "range_result.loc[range_result[\"CA HT\"]>4000, \"CA HT\"] = 4000"
   ],
   "metadata": {
    "collapsed": false,
    "pycharm": {
     "name": "#%%\n"
    }
   }
  },
  {
   "cell_type": "code",
   "execution_count": 62,
   "outputs": [
    {
     "data": {
      "text/plain": "<Figure size 1440x1440 with 1 Axes>",
      "image/png": "[encoded data removed]"
     },
     "metadata": {
      "needs_background": "light"
     },
     "output_type": "display_data"
    }
   ],
   "source": [
    "x = range_result[\"frequence\"].tolist()\n",
    "y = range_result[\"CA HT\"].tolist()\n",
    "plt.figure(figsize=(20,20))\n",
    "plt.scatter(x, y)\n",
    "plt.show()"
   ],
   "metadata": {
    "collapsed": false,
    "pycharm": {
     "name": "#%%\n"
    }
   }
  },
  {
   "cell_type": "code",
   "execution_count": 63,
   "outputs": [],
   "source": [
    "filter_result = range_result.loc[range_result[\"frequence\"] != 0]"
   ],
   "metadata": {
    "collapsed": false,
    "pycharm": {
     "name": "#%%\n"
    }
   }
  },
  {
   "cell_type": "code",
   "execution_count": 64,
   "outputs": [
    {
     "data": {
      "text/plain": "<Figure size 1440x1440 with 1 Axes>",
      "image/png": "[encoded data removed]"
     },
     "metadata": {
      "needs_background": "light"
     },
     "output_type": "display_data"
    }
   ],
   "source": [
    "x = filter_result[\"frequence\"].tolist()\n",
    "y = filter_result[\"CA HT\"].tolist()\n",
    "plt.figure(figsize=(20,20))\n",
    "plt.scatter(x, y)\n",
    "plt.show()"
   ],
   "metadata": {
    "collapsed": false,
    "pycharm": {
     "name": "#%%\n"
    }
   }
  },
  {
   "cell_type": "code",
   "execution_count": 65,
   "outputs": [
    {
     "name": "stderr",
     "output_type": "stream",
     "text": [
      "<ipython-input-65-8e4908da4c33>:2: SettingWithCopyWarning: \n",
      "A value is trying to be set on a copy of a slice from a DataFrame.\n",
      "Try using .loc[row_indexer,col_indexer] = value instead\n",
      "\n",
      "See the caveats in the documentation: https://pandas.pydata.org/pandas-docs/stable/user_guide/indexing.html#returning-a-view-versus-a-copy\n",
      "  filter_result['cluster'] = kmeans.fit_predict(filter_result[['frequence', 'CA HT']])\n",
      "<ipython-input-65-8e4908da4c33>:8: SettingWithCopyWarning: \n",
      "A value is trying to be set on a copy of a slice from a DataFrame.\n",
      "Try using .loc[row_indexer,col_indexer] = value instead\n",
      "\n",
      "See the caveats in the documentation: https://pandas.pydata.org/pandas-docs/stable/user_guide/indexing.html#returning-a-view-versus-a-copy\n",
      "  filter_result['cen_x'] = filter_result.cluster.map({0:cen_x[0], 1:cen_x[1], 2:cen_x[2], 3:cen_x[3]})\n",
      "<ipython-input-65-8e4908da4c33>:9: SettingWithCopyWarning: \n",
      "A value is trying to be set on a copy of a slice from a DataFrame.\n",
      "Try using .loc[row_indexer,col_indexer] = value instead\n",
      "\n",
      "See the caveats in the documentation: https://pandas.pydata.org/pandas-docs/stable/user_guide/indexing.html#returning-a-view-versus-a-copy\n",
      "  filter_result['cen_y'] = filter_result.cluster.map({0:cen_y[0], 1:cen_y[1], 2:cen_y[2], 3:cen_y[3]})\n",
      "<ipython-input-65-8e4908da4c33>:12: SettingWithCopyWarning: \n",
      "A value is trying to be set on a copy of a slice from a DataFrame.\n",
      "Try using .loc[row_indexer,col_indexer] = value instead\n",
      "\n",
      "See the caveats in the documentation: https://pandas.pydata.org/pandas-docs/stable/user_guide/indexing.html#returning-a-view-versus-a-copy\n",
      "  filter_result['c'] = filter_result.cluster.map({0:colors[0], 1:colors[1], 2:colors[2], 3:colors[3]})\n"
     ]
    },
    {
     "data": {
      "text/plain": "<matplotlib.collections.PathCollection at 0x7fc9e8663940>"
     },
     "execution_count": 65,
     "metadata": {},
     "output_type": "execute_result"
    },
    {
     "data": {
      "text/plain": "<Figure size 432x288 with 1 Axes>",
      "image/png": "[encoded data removed]"
     },
     "metadata": {
      "needs_background": "light"
     },
     "output_type": "display_data"
    }
   ],
   "source": [
    "kmeans = KMeans(n_clusters=4, random_state=0)\n",
    "filter_result['cluster'] = kmeans.fit_predict(filter_result[['frequence', 'CA HT']])\n",
    "\n",
    "centroids = kmeans.cluster_centers_\n",
    "cen_x = [i[0] for i in centroids]\n",
    "cen_y = [i[1] for i in centroids]\n",
    "## add to df\n",
    "filter_result['cen_x'] = filter_result.cluster.map({0:cen_x[0], 1:cen_x[1], 2:cen_x[2], 3:cen_x[3]})\n",
    "filter_result['cen_y'] = filter_result.cluster.map({0:cen_y[0], 1:cen_y[1], 2:cen_y[2], 3:cen_y[3]})\n",
    "# define and map colors\n",
    "colors = ['#DF2020', '#81DF20', '#2095DF', \"#DFA920\"]\n",
    "filter_result['c'] = filter_result.cluster.map({0:colors[0], 1:colors[1], 2:colors[2], 3:colors[3]})\n",
    "plt.scatter(filter_result['frequence'], filter_result['CA HT'], c=filter_result.c, alpha = 0.6, s=10)"
   ],
   "metadata": {
    "collapsed": false,
    "pycharm": {
     "name": "#%%\n"
    }
   }
  },
  {
   "cell_type": "code",
   "execution_count": null,
   "outputs": [],
   "source": [],
   "metadata": {
    "collapsed": false,
    "pycharm": {
     "name": "#%%\n"
    }
   }
  },
  {
   "cell_type": "code",
   "execution_count": null,
   "outputs": [],
   "source": [],
   "metadata": {
    "collapsed": false,
    "pycharm": {
     "name": "#%%\n"
    }
   }
  },
  {
   "cell_type": "code",
   "execution_count": null,
   "outputs": [],
   "source": [],
   "metadata": {
    "collapsed": false,
    "pycharm": {
     "name": "#%%\n"
    }
   }
  }
 ],
 "metadata": {
  "kernelspec": {
   "display_name": "Python 3 (ipykernel)",
   "language": "python",
   "name": "python3"
  },
  "language_info": {
   "codemirror_mode": {
    "name": "ipython",
    "version": 3
   },
   "file_extension": ".py",
   "mimetype": "text/x-python",
   "name": "python",
   "nbconvert_exporter": "python",
   "pygments_lexer": "ipython3",
   "version": "3.9.2"
  }
 },
 "nbformat": 4,
 "nbformat_minor": 1
}