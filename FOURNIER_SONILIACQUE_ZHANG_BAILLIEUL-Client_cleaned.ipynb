{
 "cells": [
  {
   "cell_type": "markdown",
   "metadata": {
    "collapsed": true,
    "pycharm": {
     "name": "#%% md\n"
    }
   },
   "source": [
    "# Imports"
   ]
  },
  {
   "cell_type": "code",
   "execution_count": 48,
   "outputs": [],
   "source": [
    "import os\n",
    "\n",
    "import pandas as pd\n",
    "import seaborn as sns\n",
    "import numpy as np\n",
    "import matplotlib.pyplot as plt"
   ],
   "metadata": {
    "collapsed": false,
    "pycharm": {
     "name": "#%%\n"
    }
   }
  },
  {
   "cell_type": "markdown",
   "source": [
    "# Definition du chemin des data"
   ],
   "metadata": {
    "collapsed": false,
    "pycharm": {
     "name": "#%% md\n"
    }
   }
  },
  {
   "cell_type": "code",
   "execution_count": 49,
   "outputs": [],
   "source": [
    "path_data = './data/formated/'"
   ],
   "metadata": {
    "collapsed": false,
    "pycharm": {
     "name": "#%%\n"
    }
   }
  },
  {
   "cell_type": "code",
   "execution_count": 50,
   "outputs": [],
   "source": [
    "filename_clients = 'Client.csv'\n",
    "path_data_clients = os.path.join(path_data, filename_clients)"
   ],
   "metadata": {
    "collapsed": false,
    "pycharm": {
     "name": "#%%\n"
    }
   }
  },
  {
   "cell_type": "markdown",
   "source": [
    "# Creation du dataframe panda"
   ],
   "metadata": {
    "collapsed": false,
    "pycharm": {
     "name": "#%% md\n"
    }
   }
  },
  {
   "cell_type": "code",
   "execution_count": 51,
   "outputs": [],
   "source": [
    "df_clients = pd.read_csv(path_data_clients, sep=\";\")"
   ],
   "metadata": {
    "collapsed": false,
    "pycharm": {
     "name": "#%%\n"
    }
   }
  },
  {
   "cell_type": "code",
   "source": [
    "df_clients"
   ],
   "metadata": {
    "collapsed": false,
    "pycharm": {
     "name": "#%%\n"
    }
   },
   "execution_count": 52,
   "outputs": [
    {
     "data": {
      "text/plain": "      Code_Client Date_Creation  Secteur_Commercial Secteur_Activite  \\\n0           00001    04/10/2012                 1.0           DIVERS   \n1           00002    02/11/2011                40.0                N   \n2           00003    20/12/2012                 0.0           DIVERS   \n3           00005    02/11/2011                70.0              FAB   \n4           00009    02/11/2011                40.0                N   \n...           ...           ...                 ...              ...   \n10101       G1135    27/03/2017                91.0              NaN   \n10102       G1136    01/06/2017                91.0              NaN   \n10103       G1137    13/05/2020                91.0                N   \n10104       G1138    23/02/2021                 NaN              NaN   \n10105       G1139    08/06/2021                 NaN              NaN   \n\n      CliNivSupp1 CliNivSupp2  \n0             NaN         NaN  \n1           G1047       G0021  \n2             NaN         NaN  \n3             NaN         NaN  \n4           G1079       G0052  \n...           ...         ...  \n10101       G0070         NaN  \n10102       G0014         NaN  \n10103         NaN         NaN  \n10104       G0002         NaN  \n10105       G0071         NaN  \n\n[10106 rows x 6 columns]",
      "text/html": "<div>\n<style scoped>\n    .dataframe tbody tr th:only-of-type {\n        vertical-align: middle;\n    }\n\n    .dataframe tbody tr th {\n        vertical-align: top;\n    }\n\n    .dataframe thead th {\n        text-align: right;\n    }\n</style>\n<table border=\"1\" class=\"dataframe\">\n  <thead>\n    <tr style=\"text-align: right;\">\n      <th></th>\n      <th>Code_Client</th>\n      <th>Date_Creation</th>\n      <th>Secteur_Commercial</th>\n      <th>Secteur_Activite</th>\n      <th>CliNivSupp1</th>\n      <th>CliNivSupp2</th>\n    </tr>\n  </thead>\n  <tbody>\n    <tr>\n      <th>0</th>\n      <td>00001</td>\n      <td>04/10/2012</td>\n      <td>1.0</td>\n      <td>DIVERS</td>\n      <td>NaN</td>\n      <td>NaN</td>\n    </tr>\n    <tr>\n      <th>1</th>\n      <td>00002</td>\n      <td>02/11/2011</td>\n      <td>40.0</td>\n      <td>N</td>\n      <td>G1047</td>\n      <td>G0021</td>\n    </tr>\n    <tr>\n      <th>2</th>\n      <td>00003</td>\n      <td>20/12/2012</td>\n      <td>0.0</td>\n      <td>DIVERS</td>\n      <td>NaN</td>\n      <td>NaN</td>\n    </tr>\n    <tr>\n      <th>3</th>\n      <td>00005</td>\n      <td>02/11/2011</td>\n      <td>70.0</td>\n      <td>FAB</td>\n      <td>NaN</td>\n      <td>NaN</td>\n    </tr>\n    <tr>\n      <th>4</th>\n      <td>00009</td>\n      <td>02/11/2011</td>\n      <td>40.0</td>\n      <td>N</td>\n      <td>G1079</td>\n      <td>G0052</td>\n    </tr>\n    <tr>\n      <th>...</th>\n      <td>...</td>\n      <td>...</td>\n      <td>...</td>\n      <td>...</td>\n      <td>...</td>\n      <td>...</td>\n    </tr>\n    <tr>\n      <th>10101</th>\n      <td>G1135</td>\n      <td>27/03/2017</td>\n      <td>91.0</td>\n      <td>NaN</td>\n      <td>G0070</td>\n      <td>NaN</td>\n    </tr>\n    <tr>\n      <th>10102</th>\n      <td>G1136</td>\n      <td>01/06/2017</td>\n      <td>91.0</td>\n      <td>NaN</td>\n      <td>G0014</td>\n      <td>NaN</td>\n    </tr>\n    <tr>\n      <th>10103</th>\n      <td>G1137</td>\n      <td>13/05/2020</td>\n      <td>91.0</td>\n      <td>N</td>\n      <td>NaN</td>\n      <td>NaN</td>\n    </tr>\n    <tr>\n      <th>10104</th>\n      <td>G1138</td>\n      <td>23/02/2021</td>\n      <td>NaN</td>\n      <td>NaN</td>\n      <td>G0002</td>\n      <td>NaN</td>\n    </tr>\n    <tr>\n      <th>10105</th>\n      <td>G1139</td>\n      <td>08/06/2021</td>\n      <td>NaN</td>\n      <td>NaN</td>\n      <td>G0071</td>\n      <td>NaN</td>\n    </tr>\n  </tbody>\n</table>\n<p>10106 rows × 6 columns</p>\n</div>"
     },
     "execution_count": 52,
     "metadata": {},
     "output_type": "execute_result"
    }
   ]
  },
  {
   "cell_type": "code",
   "execution_count": 53,
   "outputs": [
    {
     "data": {
      "text/plain": "Code_Client            object\nDate_Creation          object\nSecteur_Commercial    float64\nSecteur_Activite       object\nCliNivSupp1            object\nCliNivSupp2            object\ndtype: object"
     },
     "execution_count": 53,
     "metadata": {},
     "output_type": "execute_result"
    }
   ],
   "source": [
    "df_clients.dtypes"
   ],
   "metadata": {
    "collapsed": false,
    "pycharm": {
     "name": "#%%\n"
    }
   }
  },
  {
   "cell_type": "markdown",
   "source": [
    "# Formattage des donnees"
   ],
   "metadata": {
    "collapsed": false,
    "pycharm": {
     "name": "#%% md\n"
    }
   }
  },
  {
   "cell_type": "markdown",
   "source": [
    "## Fichier Client"
   ],
   "metadata": {
    "collapsed": false,
    "pycharm": {
     "name": "#%% md\n"
    }
   }
  },
  {
   "cell_type": "markdown",
   "source": [
    "### Remplacer secteur activite null par la valeur 0"
   ],
   "metadata": {
    "collapsed": false,
    "pycharm": {
     "name": "#%% md\n"
    }
   }
  },
  {
   "cell_type": "code",
   "execution_count": 54,
   "outputs": [
    {
     "name": "stdout",
     "output_type": "stream",
     "text": [
      "419 lignes vides avant modification\n"
     ]
    }
   ],
   "source": [
    "nullable_secteur_activite = df_clients.loc[\n",
    "    df_clients[\"Secteur_Activite\"].isnull()\n",
    "]\n",
    "print(str(nullable_secteur_activite.shape[0]) + ' lignes vides avant modification')"
   ],
   "metadata": {
    "collapsed": false,
    "pycharm": {
     "name": "#%%\n"
    }
   }
  },
  {
   "cell_type": "code",
   "execution_count": 55,
   "outputs": [],
   "source": [
    "df_clients.Secteur_Activite.fillna(0, inplace=True)"
   ],
   "metadata": {
    "collapsed": false,
    "pycharm": {
     "name": "#%%\n"
    }
   }
  },
  {
   "cell_type": "code",
   "execution_count": 56,
   "outputs": [
    {
     "name": "stdout",
     "output_type": "stream",
     "text": [
      "0 lignes vides après modification\n"
     ]
    }
   ],
   "source": [
    "nullable_secteur_activite = df_clients.loc[\n",
    "    df_clients[\"Secteur_Activite\"].isnull()\n",
    "]\n",
    "print(str(nullable_secteur_activite.shape[0]) + ' lignes vides après modification')"
   ],
   "metadata": {
    "collapsed": false,
    "pycharm": {
     "name": "#%%\n"
    }
   }
  },
  {
   "cell_type": "markdown",
   "source": [
    "### Typer la colonne DateCreation en date"
   ],
   "metadata": {
    "collapsed": false,
    "pycharm": {
     "name": "#%% md\n"
    }
   }
  },
  {
   "cell_type": "code",
   "execution_count": 57,
   "outputs": [
    {
     "data": {
      "text/plain": "      Code_Client Date_Creation  Secteur_Commercial Secteur_Activite  \\\n0           00001    2012-04-10                 1.0           DIVERS   \n1           00002    2011-02-11                40.0                N   \n2           00003    2012-12-20                 0.0           DIVERS   \n3           00005    2011-02-11                70.0              FAB   \n4           00009    2011-02-11                40.0                N   \n...           ...           ...                 ...              ...   \n10101       G1135    2017-03-27                91.0                0   \n10102       G1136    2017-01-06                91.0                0   \n10103       G1137    2020-05-13                91.0                N   \n10104       G1138    2021-02-23                 NaN                0   \n10105       G1139    2021-08-06                 NaN                0   \n\n      CliNivSupp1 CliNivSupp2  \n0             NaN         NaN  \n1           G1047       G0021  \n2             NaN         NaN  \n3             NaN         NaN  \n4           G1079       G0052  \n...           ...         ...  \n10101       G0070         NaN  \n10102       G0014         NaN  \n10103         NaN         NaN  \n10104       G0002         NaN  \n10105       G0071         NaN  \n\n[10106 rows x 6 columns]",
      "text/html": "<div>\n<style scoped>\n    .dataframe tbody tr th:only-of-type {\n        vertical-align: middle;\n    }\n\n    .dataframe tbody tr th {\n        vertical-align: top;\n    }\n\n    .dataframe thead th {\n        text-align: right;\n    }\n</style>\n<table border=\"1\" class=\"dataframe\">\n  <thead>\n    <tr style=\"text-align: right;\">\n      <th></th>\n      <th>Code_Client</th>\n      <th>Date_Creation</th>\n      <th>Secteur_Commercial</th>\n      <th>Secteur_Activite</th>\n      <th>CliNivSupp1</th>\n      <th>CliNivSupp2</th>\n    </tr>\n  </thead>\n  <tbody>\n    <tr>\n      <th>0</th>\n      <td>00001</td>\n      <td>2012-04-10</td>\n      <td>1.0</td>\n      <td>DIVERS</td>\n      <td>NaN</td>\n      <td>NaN</td>\n    </tr>\n    <tr>\n      <th>1</th>\n      <td>00002</td>\n      <td>2011-02-11</td>\n      <td>40.0</td>\n      <td>N</td>\n      <td>G1047</td>\n      <td>G0021</td>\n    </tr>\n    <tr>\n      <th>2</th>\n      <td>00003</td>\n      <td>2012-12-20</td>\n      <td>0.0</td>\n      <td>DIVERS</td>\n      <td>NaN</td>\n      <td>NaN</td>\n    </tr>\n    <tr>\n      <th>3</th>\n      <td>00005</td>\n      <td>2011-02-11</td>\n      <td>70.0</td>\n      <td>FAB</td>\n      <td>NaN</td>\n      <td>NaN</td>\n    </tr>\n    <tr>\n      <th>4</th>\n      <td>00009</td>\n      <td>2011-02-11</td>\n      <td>40.0</td>\n      <td>N</td>\n      <td>G1079</td>\n      <td>G0052</td>\n    </tr>\n    <tr>\n      <th>...</th>\n      <td>...</td>\n      <td>...</td>\n      <td>...</td>\n      <td>...</td>\n      <td>...</td>\n      <td>...</td>\n    </tr>\n    <tr>\n      <th>10101</th>\n      <td>G1135</td>\n      <td>2017-03-27</td>\n      <td>91.0</td>\n      <td>0</td>\n      <td>G0070</td>\n      <td>NaN</td>\n    </tr>\n    <tr>\n      <th>10102</th>\n      <td>G1136</td>\n      <td>2017-01-06</td>\n      <td>91.0</td>\n      <td>0</td>\n      <td>G0014</td>\n      <td>NaN</td>\n    </tr>\n    <tr>\n      <th>10103</th>\n      <td>G1137</td>\n      <td>2020-05-13</td>\n      <td>91.0</td>\n      <td>N</td>\n      <td>NaN</td>\n      <td>NaN</td>\n    </tr>\n    <tr>\n      <th>10104</th>\n      <td>G1138</td>\n      <td>2021-02-23</td>\n      <td>NaN</td>\n      <td>0</td>\n      <td>G0002</td>\n      <td>NaN</td>\n    </tr>\n    <tr>\n      <th>10105</th>\n      <td>G1139</td>\n      <td>2021-08-06</td>\n      <td>NaN</td>\n      <td>0</td>\n      <td>G0071</td>\n      <td>NaN</td>\n    </tr>\n  </tbody>\n</table>\n<p>10106 rows × 6 columns</p>\n</div>"
     },
     "execution_count": 57,
     "metadata": {},
     "output_type": "execute_result"
    }
   ],
   "source": [
    "df_clients[\"Date_Creation\"] = df_clients.Date_Creation.astype(\"datetime64[ns]\")\n",
    "df_clients.dtypes\n",
    "df_clients"
   ],
   "metadata": {
    "collapsed": false,
    "pycharm": {
     "name": "#%%\n"
    }
   }
  },
  {
   "cell_type": "markdown",
   "source": [
    "### Secteur Commercial -> On part du principe que non renseigné = 0"
   ],
   "metadata": {
    "collapsed": false,
    "pycharm": {
     "name": "#%% md\n"
    }
   }
  },
  {
   "cell_type": "code",
   "execution_count": 58,
   "outputs": [
    {
     "name": "stdout",
     "output_type": "stream",
     "text": [
      "3 lignes vides avant modification\n"
     ]
    }
   ],
   "source": [
    "nullable_secteur_commercial = df_clients.loc[\n",
    "    df_clients[\"Secteur_Commercial\"].isnull()\n",
    "]\n",
    "print(str(nullable_secteur_commercial.shape[0]) + ' lignes vides avant modification')"
   ],
   "metadata": {
    "collapsed": false,
    "pycharm": {
     "name": "#%%\n"
    }
   }
  },
  {
   "cell_type": "code",
   "execution_count": 59,
   "outputs": [],
   "source": [
    "df_clients.Secteur_Commercial.fillna(0, inplace=True)"
   ],
   "metadata": {
    "collapsed": false,
    "pycharm": {
     "name": "#%%\n"
    }
   }
  },
  {
   "cell_type": "code",
   "execution_count": 60,
   "outputs": [
    {
     "name": "stdout",
     "output_type": "stream",
     "text": [
      "0 lignes vides après modification\n"
     ]
    }
   ],
   "source": [
    "nullable_secteur_commercial = df_clients.loc[\n",
    "    df_clients[\"Secteur_Commercial\"].isnull()\n",
    "]\n",
    "print(str(nullable_secteur_commercial.shape[0]) + ' lignes vides après modification')"
   ],
   "metadata": {
    "collapsed": false,
    "pycharm": {
     "name": "#%%\n"
    }
   }
  },
  {
   "cell_type": "markdown",
   "source": [
    "### Typer la colonne Secteur_Commercial en int64"
   ],
   "metadata": {
    "collapsed": false,
    "pycharm": {
     "name": "#%% md\n"
    }
   }
  },
  {
   "cell_type": "code",
   "execution_count": 61,
   "outputs": [
    {
     "data": {
      "text/plain": "      Code_Client Date_Creation  Secteur_Commercial Secteur_Activite  \\\n0           00001    2012-04-10                   1           DIVERS   \n1           00002    2011-02-11                  40                N   \n2           00003    2012-12-20                   0           DIVERS   \n3           00005    2011-02-11                  70              FAB   \n4           00009    2011-02-11                  40                N   \n...           ...           ...                 ...              ...   \n10101       G1135    2017-03-27                  91                0   \n10102       G1136    2017-01-06                  91                0   \n10103       G1137    2020-05-13                  91                N   \n10104       G1138    2021-02-23                   0                0   \n10105       G1139    2021-08-06                   0                0   \n\n      CliNivSupp1 CliNivSupp2  \n0             NaN         NaN  \n1           G1047       G0021  \n2             NaN         NaN  \n3             NaN         NaN  \n4           G1079       G0052  \n...           ...         ...  \n10101       G0070         NaN  \n10102       G0014         NaN  \n10103         NaN         NaN  \n10104       G0002         NaN  \n10105       G0071         NaN  \n\n[10106 rows x 6 columns]",
      "text/html": "<div>\n<style scoped>\n    .dataframe tbody tr th:only-of-type {\n        vertical-align: middle;\n    }\n\n    .dataframe tbody tr th {\n        vertical-align: top;\n    }\n\n    .dataframe thead th {\n        text-align: right;\n    }\n</style>\n<table border=\"1\" class=\"dataframe\">\n  <thead>\n    <tr style=\"text-align: right;\">\n      <th></th>\n      <th>Code_Client</th>\n      <th>Date_Creation</th>\n      <th>Secteur_Commercial</th>\n      <th>Secteur_Activite</th>\n      <th>CliNivSupp1</th>\n      <th>CliNivSupp2</th>\n    </tr>\n  </thead>\n  <tbody>\n    <tr>\n      <th>0</th>\n      <td>00001</td>\n      <td>2012-04-10</td>\n      <td>1</td>\n      <td>DIVERS</td>\n      <td>NaN</td>\n      <td>NaN</td>\n    </tr>\n    <tr>\n      <th>1</th>\n      <td>00002</td>\n      <td>2011-02-11</td>\n      <td>40</td>\n      <td>N</td>\n      <td>G1047</td>\n      <td>G0021</td>\n    </tr>\n    <tr>\n      <th>2</th>\n      <td>00003</td>\n      <td>2012-12-20</td>\n      <td>0</td>\n      <td>DIVERS</td>\n      <td>NaN</td>\n      <td>NaN</td>\n    </tr>\n    <tr>\n      <th>3</th>\n      <td>00005</td>\n      <td>2011-02-11</td>\n      <td>70</td>\n      <td>FAB</td>\n      <td>NaN</td>\n      <td>NaN</td>\n    </tr>\n    <tr>\n      <th>4</th>\n      <td>00009</td>\n      <td>2011-02-11</td>\n      <td>40</td>\n      <td>N</td>\n      <td>G1079</td>\n      <td>G0052</td>\n    </tr>\n    <tr>\n      <th>...</th>\n      <td>...</td>\n      <td>...</td>\n      <td>...</td>\n      <td>...</td>\n      <td>...</td>\n      <td>...</td>\n    </tr>\n    <tr>\n      <th>10101</th>\n      <td>G1135</td>\n      <td>2017-03-27</td>\n      <td>91</td>\n      <td>0</td>\n      <td>G0070</td>\n      <td>NaN</td>\n    </tr>\n    <tr>\n      <th>10102</th>\n      <td>G1136</td>\n      <td>2017-01-06</td>\n      <td>91</td>\n      <td>0</td>\n      <td>G0014</td>\n      <td>NaN</td>\n    </tr>\n    <tr>\n      <th>10103</th>\n      <td>G1137</td>\n      <td>2020-05-13</td>\n      <td>91</td>\n      <td>N</td>\n      <td>NaN</td>\n      <td>NaN</td>\n    </tr>\n    <tr>\n      <th>10104</th>\n      <td>G1138</td>\n      <td>2021-02-23</td>\n      <td>0</td>\n      <td>0</td>\n      <td>G0002</td>\n      <td>NaN</td>\n    </tr>\n    <tr>\n      <th>10105</th>\n      <td>G1139</td>\n      <td>2021-08-06</td>\n      <td>0</td>\n      <td>0</td>\n      <td>G0071</td>\n      <td>NaN</td>\n    </tr>\n  </tbody>\n</table>\n<p>10106 rows × 6 columns</p>\n</div>"
     },
     "execution_count": 61,
     "metadata": {},
     "output_type": "execute_result"
    }
   ],
   "source": [
    "df_clients[\"Secteur_Commercial\"] = df_clients.Secteur_Commercial.astype(\"int64\")\n",
    "df_clients.dtypes\n",
    "df_clients"
   ],
   "metadata": {
    "collapsed": false,
    "pycharm": {
     "name": "#%%\n"
    }
   }
  },
  {
   "cell_type": "markdown",
   "source": [
    "### Retirer colonne ClivNivSupp1 & ClivNivSupp2"
   ],
   "metadata": {
    "collapsed": false,
    "pycharm": {
     "name": "#%% md\n"
    }
   }
  },
  {
   "cell_type": "code",
   "execution_count": 62,
   "outputs": [],
   "source": [
    "to_drop = [\n",
    "    'CliNivSupp1',\n",
    "    'CliNivSupp2'\n",
    "]\n",
    "df_clients.drop(to_drop, inplace=True, axis=1)"
   ],
   "metadata": {
    "collapsed": false,
    "pycharm": {
     "name": "#%%\n"
    }
   }
  },
  {
   "cell_type": "code",
   "execution_count": 63,
   "outputs": [
    {
     "data": {
      "text/plain": "      Code_Client Date_Creation  Secteur_Commercial Secteur_Activite\n0           00001    2012-04-10                   1           DIVERS\n1           00002    2011-02-11                  40                N\n2           00003    2012-12-20                   0           DIVERS\n3           00005    2011-02-11                  70              FAB\n4           00009    2011-02-11                  40                N\n...           ...           ...                 ...              ...\n10101       G1135    2017-03-27                  91                0\n10102       G1136    2017-01-06                  91                0\n10103       G1137    2020-05-13                  91                N\n10104       G1138    2021-02-23                   0                0\n10105       G1139    2021-08-06                   0                0\n\n[10106 rows x 4 columns]",
      "text/html": "<div>\n<style scoped>\n    .dataframe tbody tr th:only-of-type {\n        vertical-align: middle;\n    }\n\n    .dataframe tbody tr th {\n        vertical-align: top;\n    }\n\n    .dataframe thead th {\n        text-align: right;\n    }\n</style>\n<table border=\"1\" class=\"dataframe\">\n  <thead>\n    <tr style=\"text-align: right;\">\n      <th></th>\n      <th>Code_Client</th>\n      <th>Date_Creation</th>\n      <th>Secteur_Commercial</th>\n      <th>Secteur_Activite</th>\n    </tr>\n  </thead>\n  <tbody>\n    <tr>\n      <th>0</th>\n      <td>00001</td>\n      <td>2012-04-10</td>\n      <td>1</td>\n      <td>DIVERS</td>\n    </tr>\n    <tr>\n      <th>1</th>\n      <td>00002</td>\n      <td>2011-02-11</td>\n      <td>40</td>\n      <td>N</td>\n    </tr>\n    <tr>\n      <th>2</th>\n      <td>00003</td>\n      <td>2012-12-20</td>\n      <td>0</td>\n      <td>DIVERS</td>\n    </tr>\n    <tr>\n      <th>3</th>\n      <td>00005</td>\n      <td>2011-02-11</td>\n      <td>70</td>\n      <td>FAB</td>\n    </tr>\n    <tr>\n      <th>4</th>\n      <td>00009</td>\n      <td>2011-02-11</td>\n      <td>40</td>\n      <td>N</td>\n    </tr>\n    <tr>\n      <th>...</th>\n      <td>...</td>\n      <td>...</td>\n      <td>...</td>\n      <td>...</td>\n    </tr>\n    <tr>\n      <th>10101</th>\n      <td>G1135</td>\n      <td>2017-03-27</td>\n      <td>91</td>\n      <td>0</td>\n    </tr>\n    <tr>\n      <th>10102</th>\n      <td>G1136</td>\n      <td>2017-01-06</td>\n      <td>91</td>\n      <td>0</td>\n    </tr>\n    <tr>\n      <th>10103</th>\n      <td>G1137</td>\n      <td>2020-05-13</td>\n      <td>91</td>\n      <td>N</td>\n    </tr>\n    <tr>\n      <th>10104</th>\n      <td>G1138</td>\n      <td>2021-02-23</td>\n      <td>0</td>\n      <td>0</td>\n    </tr>\n    <tr>\n      <th>10105</th>\n      <td>G1139</td>\n      <td>2021-08-06</td>\n      <td>0</td>\n      <td>0</td>\n    </tr>\n  </tbody>\n</table>\n<p>10106 rows × 4 columns</p>\n</div>"
     },
     "execution_count": 63,
     "metadata": {},
     "output_type": "execute_result"
    }
   ],
   "source": [
    "df_clients"
   ],
   "metadata": {
    "collapsed": false,
    "pycharm": {
     "name": "#%%\n"
    }
   }
  },
  {
   "cell_type": "markdown",
   "source": [
    "## Sauvegarde du dataframe dans un fichier"
   ],
   "metadata": {
    "collapsed": false,
    "pycharm": {
     "name": "#%% md\n"
    }
   }
  },
  {
   "cell_type": "code",
   "execution_count": 64,
   "outputs": [],
   "source": [
    "filename_data_clients_save = \"client_cleaned.csv\""
   ],
   "metadata": {
    "collapsed": false,
    "pycharm": {
     "name": "#%%\n"
    }
   }
  },
  {
   "cell_type": "code",
   "execution_count": 65,
   "outputs": [],
   "source": [
    "path_cleaned = \"./data/cleaned/\""
   ],
   "metadata": {
    "collapsed": false,
    "pycharm": {
     "name": "#%%\n"
    }
   }
  },
  {
   "cell_type": "code",
   "execution_count": 66,
   "outputs": [],
   "source": [
    "df_clients.to_csv(\n",
    "    os.path.join(path_cleaned, filename_data_clients_save),\n",
    "    sep=\";\",\n",
    "    index=False\n",
    ")"
   ],
   "metadata": {
    "collapsed": false,
    "pycharm": {
     "name": "#%%\n"
    }
   }
  },
  {
   "cell_type": "code",
   "execution_count": 66,
   "outputs": [],
   "source": [],
   "metadata": {
    "collapsed": false,
    "pycharm": {
     "name": "#%%\n"
    }
   }
  }
 ],
 "metadata": {
  "kernelspec": {
   "display_name": "Python 3",
   "language": "python",
   "name": "python3"
  },
  "language_info": {
   "codemirror_mode": {
    "name": "ipython",
    "version": 2
   },
   "file_extension": ".py",
   "mimetype": "text/x-python",
   "name": "python",
   "nbconvert_exporter": "python",
   "pygments_lexer": "ipython2",
   "version": "2.7.6"
  }
 },
 "nbformat": 4,
 "nbformat_minor": 0
}